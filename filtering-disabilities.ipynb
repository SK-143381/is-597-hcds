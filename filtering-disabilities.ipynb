{
 "cells": [
  {
   "cell_type": "code",
   "execution_count": 3,
   "id": "d9dc15e0",
   "metadata": {},
   "outputs": [
    {
     "name": "stdout",
     "output_type": "stream",
     "text": [
      "Number of rows with Disability_indicator as 1: 2876\n"
     ]
    }
   ],
   "source": [
    "import pandas as pd\n",
    "\n",
    "# Read the cleaned.csv file\n",
    "df = pd.read_csv('cleaned.csv')\n",
    "\n",
    "# Filter the DataFrame by Disability_indicator, keeping only values that are 1\n",
    "filtered_df = df[df['Disability_indicator'] == 1]\n",
    "\n",
    "# Calculate the number of rows in filtered_df\n",
    "num_rows = len(filtered_df)\n",
    "print(f\"Number of rows with Disability_indicator as 1: {num_rows}\")"
   ]
  },
  {
   "cell_type": "code",
   "execution_count": 4,
   "id": "6cef48b8",
   "metadata": {},
   "outputs": [
    {
     "name": "stdout",
     "output_type": "stream",
     "text": [
      "Number of rows after filtering: 2722\n"
     ]
    }
   ],
   "source": [
    "# Filter the DataFrame based on the conditions for Difficulty_walking, Difficulty_hearing, and Difficulty_seeing\n",
    "filtered_df = filtered_df[\n",
    "    (filtered_df['Difficulty_walking'].isin([2, 3, 4])) |\n",
    "    (filtered_df['Difficulty_hearing'].isin([2, 3, 4])) |\n",
    "    (filtered_df['Difficulty_seeing'].isin([2, 3, 4]))\n",
    "]\n",
    "\n",
    "# Count the number of rows after filtering\n",
    "num_filtered_rows = len(filtered_df)\n",
    "print(f\"Number of rows after filtering: {num_filtered_rows}\")\n",
    "\n",
    "# Select only the relevant columns, including 'pid'\n",
    "filtered_df = filtered_df[['pid', 'Disability_indicator', 'Difficulty_walking', 'Difficulty_hearing', 'Difficulty_seeing']]\n",
    "\n",
    "# Save the filtered DataFrame to a new CSV file\n",
    "filtered_df.to_csv('filtered_disability_data.csv', index=False)"
   ]
  },
  {
   "cell_type": "code",
   "execution_count": 5,
   "id": "0bbc3a6e",
   "metadata": {},
   "outputs": [],
   "source": [
    "import pandas as pd\n",
    "\n",
    "# Read the filtered_disability_data.csv file\n",
    "filtered_df = pd.read_csv('filtered_disability_data.csv')\n",
    "\n",
    "# Create a new attribute called 'issue'\n",
    "filtered_df['issue'] = ''\n",
    "\n",
    "# Define a function to determine the issue based on difficulty attributes\n",
    "def determine_issue(row):\n",
    "    issues = []\n",
    "    \n",
    "    # Check for difficulties in walking, hearing, and seeing\n",
    "    walking = row['Difficulty_walking']\n",
    "    hearing = row['Difficulty_hearing']\n",
    "    seeing = row['Difficulty_seeing']\n",
    "    \n",
    "    # Check if there are any values greater than 2 in the difficulty attributes\n",
    "    higher_difficulties = any(difficulty > 2 for difficulty in [walking, hearing, seeing])\n",
    "    \n",
    "    # Case 1: When 3 or 4 exists, append the respective issue\n",
    "    if walking in [3, 4]:\n",
    "        issues.append('mobility')\n",
    "    if hearing in [3, 4]:\n",
    "        issues.append('dhh')\n",
    "    if seeing in [3, 4]:\n",
    "        issues.append('blv')\n",
    "    \n",
    "    # Case 2: When no 3 or 4 exists, append any 2\n",
    "    if not higher_difficulties:\n",
    "        if walking == 2:\n",
    "            issues.append('mobility')\n",
    "        if hearing == 2:\n",
    "            issues.append('dhh')\n",
    "        if seeing == 2:\n",
    "            issues.append('blv')\n",
    "    \n",
    "    return ', '.join(issues)\n",
    "\n",
    "# Apply the function to each row\n",
    "filtered_df['issue'] = filtered_df.apply(determine_issue, axis=1)\n",
    "\n",
    "# Split the 'issue' column into multiple columns\n",
    "issues_split = filtered_df['issue'].str.split(', ', expand=True)\n",
    "\n",
    "# Rename the split columns as issue_1, issue_2, issue_3, etc.\n",
    "issues_split.columns = [f'issue_{i+1}' for i in range(issues_split.shape[1])]\n",
    "\n",
    "# Concatenate the new columns with the original dataframe\n",
    "filtered_df = pd.concat([filtered_df, issues_split], axis=1)\n",
    "\n",
    "# Save the DataFrame with the new 'issue' attribute to a new CSV file\n",
    "filtered_df.to_csv('filtered_disability_data_with_issues.csv', index=False)"
   ]
  }
 ],
 "metadata": {
  "kernelspec": {
   "display_name": "Python 3 (ipykernel)",
   "language": "python",
   "name": "python3"
  },
  "language_info": {
   "codemirror_mode": {
    "name": "ipython",
    "version": 3
   },
   "file_extension": ".py",
   "mimetype": "text/x-python",
   "name": "python",
   "nbconvert_exporter": "python",
   "pygments_lexer": "ipython3",
   "version": "3.12.2"
  }
 },
 "nbformat": 4,
 "nbformat_minor": 5
}
