{
 "cells": [
  {
   "cell_type": "code",
   "execution_count": 2,
   "metadata": {},
   "outputs": [
    {
     "name": "stdout",
     "output_type": "stream",
     "text": [
      "Total rows in original file: 295\n",
      "Unique rows: 252\n",
      "Rows removed: 43\n",
      "Unique entries saved to combined_all_data_no_duplicates.csv\n"
     ]
    }
   ],
   "source": [
    "import csv\n",
    "from collections import OrderedDict\n",
    "\n",
    "def remove_duplicates(input_file, output_file):\n",
    "    # Use OrderedDict to maintain the order of entries while removing duplicates\n",
    "    unique_entries = OrderedDict()\n",
    "    total_rows = 0\n",
    "\n",
    "    # Read the input CSV file\n",
    "    with open(input_file, 'r', newline='', encoding='utf-8') as csvfile:\n",
    "        reader = csv.DictReader(csvfile)\n",
    "        \n",
    "        # Iterate through each row in the CSV\n",
    "        for row in reader:\n",
    "            total_rows += 1\n",
    "            # Use the title as the key to check for duplicates\n",
    "            title = row['title']\n",
    "            \n",
    "            # If the title is not already in our unique_entries, add it\n",
    "            if title not in unique_entries:\n",
    "                unique_entries[title] = row\n",
    "\n",
    "    # Write the unique entries to the output CSV file\n",
    "    with open(output_file, 'w', newline='', encoding='utf-8') as csvfile:\n",
    "        # Assume the field names are the same as in the input file\n",
    "        fieldnames = unique_entries[next(iter(unique_entries))].keys()\n",
    "        writer = csv.DictWriter(csvfile, fieldnames=fieldnames)\n",
    "        \n",
    "        # Write the header\n",
    "        writer.writeheader()\n",
    "        \n",
    "        # Write the unique rows\n",
    "        for row in unique_entries.values():\n",
    "            writer.writerow(row)\n",
    "\n",
    "    # Calculate the number of removed rows\n",
    "    removed_rows = total_rows - len(unique_entries)\n",
    "\n",
    "    print(f\"Total rows in original file: {total_rows}\")\n",
    "    print(f\"Unique rows: {len(unique_entries)}\")\n",
    "    print(f\"Rows removed: {removed_rows}\")\n",
    "    print(f\"Unique entries saved to {output_file}\")\n",
    "\n",
    "# Usage\n",
    "input_file = 'combined_all_data.csv'\n",
    "output_file = 'combined_all_data_no_duplicates.csv'\n",
    "\n",
    "remove_duplicates(input_file, output_file)"
   ]
  }
 ],
 "metadata": {
  "kernelspec": {
   "display_name": "Python 3",
   "language": "python",
   "name": "python3"
  },
  "language_info": {
   "codemirror_mode": {
    "name": "ipython",
    "version": 3
   },
   "file_extension": ".py",
   "mimetype": "text/x-python",
   "name": "python",
   "nbconvert_exporter": "python",
   "pygments_lexer": "ipython3",
   "version": "3.12.2"
  }
 },
 "nbformat": 4,
 "nbformat_minor": 2
}
