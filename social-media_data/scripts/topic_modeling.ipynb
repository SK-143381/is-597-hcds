{
 "cells": [
  {
   "cell_type": "code",
   "execution_count": 2,
   "metadata": {},
   "outputs": [
    {
     "name": "stderr",
     "output_type": "stream",
     "text": [
      "[nltk_data] Downloading package words to\n",
      "[nltk_data]     /Users/eryclisrodrigues/nltk_data...\n",
      "[nltk_data]   Package words is already up-to-date!\n",
      "[nltk_data] Downloading package punkt to\n",
      "[nltk_data]     /Users/eryclisrodrigues/nltk_data...\n",
      "[nltk_data]   Package punkt is already up-to-date!\n"
     ]
    },
    {
     "data": {
      "text/plain": [
       "True"
      ]
     },
     "execution_count": 2,
     "metadata": {},
     "output_type": "execute_result"
    }
   ],
   "source": [
    "from langchain_community.document_loaders import PyPDFLoader, PyPDFDirectoryLoader\n",
    "from langchain_text_splitters import RecursiveCharacterTextSplitter\n",
    "from langchain.docstore.document import Document\n",
    "\n",
    "import os\n",
    "from pathlib import Path\n",
    "import pandas as pd\n",
    "import nltk\n",
    "from nltk.corpus import words\n",
    "import re\n",
    "from html import unescape\n",
    "\n",
    "import pycountry\n",
    "from sklearn.feature_extraction import text \n",
    "\n",
    "\n",
    "from bertopic import BERTopic\n",
    "from sentence_transformers import SentenceTransformer\n",
    "from umap import UMAP\n",
    "from hdbscan import HDBSCAN\n",
    "from sklearn.feature_extraction.text import CountVectorizer\n",
    "from bertopic.representation import KeyBERTInspired, MaximalMarginalRelevance, TextGeneration, OpenAI\n",
    "import openai\n",
    "\n",
    "import numpy as np\n",
    "\n",
    "# Download the words dataset from nltk\n",
    "nltk.download('words')\n",
    "nltk.download('punkt')\n",
    "\n"
   ]
  },
  {
   "cell_type": "code",
   "execution_count": 3,
   "metadata": {},
   "outputs": [],
   "source": [
    "\n",
    "df = pd.read_csv(\n",
    "    r\"/Users/eryclisrodrigues/Documents/Eryclis/PhD in Information Science/Courses/IS 597 - HCDS/PROJECT/is-597-hcds/social-media_data/output_sentiment_analysis/final_output_sentiment_RoBERTa_Vader.csv\",\n",
    "   )"
   ]
  },
  {
   "cell_type": "code",
   "execution_count": 4,
   "metadata": {},
   "outputs": [
    {
     "data": {
      "text/html": [
       "<div>\n",
       "<style scoped>\n",
       "    .dataframe tbody tr th:only-of-type {\n",
       "        vertical-align: middle;\n",
       "    }\n",
       "\n",
       "    .dataframe tbody tr th {\n",
       "        vertical-align: top;\n",
       "    }\n",
       "\n",
       "    .dataframe thead th {\n",
       "        text-align: right;\n",
       "    }\n",
       "</style>\n",
       "<table border=\"1\" class=\"dataframe\">\n",
       "  <thead>\n",
       "    <tr style=\"text-align: right;\">\n",
       "      <th></th>\n",
       "      <th>pid</th>\n",
       "      <th>type</th>\n",
       "      <th>code</th>\n",
       "      <th>title</th>\n",
       "      <th>score</th>\n",
       "      <th>subreddit</th>\n",
       "      <th>comments</th>\n",
       "      <th>cleaned_comments</th>\n",
       "      <th>vader_sentiment</th>\n",
       "      <th>vader_pos</th>\n",
       "      <th>vader_neu</th>\n",
       "      <th>vader_neg</th>\n",
       "      <th>vader_compound</th>\n",
       "      <th>roBERTa_sentiment_positive</th>\n",
       "      <th>roBERTa_sentiment_negative</th>\n",
       "      <th>roBERTa_sentiment_neutral</th>\n",
       "      <th>preponderant_sentiment</th>\n",
       "    </tr>\n",
       "  </thead>\n",
       "  <tbody>\n",
       "    <tr>\n",
       "      <th>0</th>\n",
       "      <td>p0001</td>\n",
       "      <td>popular</td>\n",
       "      <td>mh_wp</td>\n",
       "      <td>Apparently, finding interpreters is impossible.</td>\n",
       "      <td>88</td>\n",
       "      <td>deaf</td>\n",
       "      <td>This is absolutely unacceptable.  I am an inte...</td>\n",
       "      <td>absolutely unacceptable interpreter worked men...</td>\n",
       "      <td>negative</td>\n",
       "      <td>0.149</td>\n",
       "      <td>0.687</td>\n",
       "      <td>0.165</td>\n",
       "      <td>-0.3989</td>\n",
       "      <td>0.007028</td>\n",
       "      <td>0.921729</td>\n",
       "      <td>0.071243</td>\n",
       "      <td>negative</td>\n",
       "    </tr>\n",
       "    <tr>\n",
       "      <th>1</th>\n",
       "      <td>p0002</td>\n",
       "      <td>popular</td>\n",
       "      <td>mh_wp</td>\n",
       "      <td>I hate being deaf</td>\n",
       "      <td>82</td>\n",
       "      <td>deaf</td>\n",
       "      <td>The DMV? I would not have guessed that would b...</td>\n",
       "      <td>dmv would guessed would deaf friendly workplace</td>\n",
       "      <td>positive</td>\n",
       "      <td>0.348</td>\n",
       "      <td>0.652</td>\n",
       "      <td>0.000</td>\n",
       "      <td>0.4939</td>\n",
       "      <td>0.059166</td>\n",
       "      <td>0.601448</td>\n",
       "      <td>0.339386</td>\n",
       "      <td>negative</td>\n",
       "    </tr>\n",
       "    <tr>\n",
       "      <th>2</th>\n",
       "      <td>p0003</td>\n",
       "      <td>popular</td>\n",
       "      <td>mh_wp</td>\n",
       "      <td>rant about this community</td>\n",
       "      <td>62</td>\n",
       "      <td>deaf</td>\n",
       "      <td>I'm so sorry you received so much negative ene...</td>\n",
       "      <td>im sorry received much negative energy missed ...</td>\n",
       "      <td>positive</td>\n",
       "      <td>0.209</td>\n",
       "      <td>0.706</td>\n",
       "      <td>0.085</td>\n",
       "      <td>0.9956</td>\n",
       "      <td>0.362453</td>\n",
       "      <td>0.187739</td>\n",
       "      <td>0.449808</td>\n",
       "      <td>neutral</td>\n",
       "    </tr>\n",
       "    <tr>\n",
       "      <th>3</th>\n",
       "      <td>p0004</td>\n",
       "      <td>popular</td>\n",
       "      <td>mh_wp</td>\n",
       "      <td>Mental Health Issues In Deaf Community</td>\n",
       "      <td>63</td>\n",
       "      <td>deaf</td>\n",
       "      <td>I don't remember where I saw this so I can't c...</td>\n",
       "      <td>dont remember saw cant cite researching someth...</td>\n",
       "      <td>positive</td>\n",
       "      <td>0.193</td>\n",
       "      <td>0.641</td>\n",
       "      <td>0.166</td>\n",
       "      <td>0.8622</td>\n",
       "      <td>0.069262</td>\n",
       "      <td>0.667851</td>\n",
       "      <td>0.262886</td>\n",
       "      <td>negative</td>\n",
       "    </tr>\n",
       "    <tr>\n",
       "      <th>4</th>\n",
       "      <td>p0005</td>\n",
       "      <td>popular</td>\n",
       "      <td>mh_wp</td>\n",
       "      <td>Relationship advice: deaf husband/hearing wife...</td>\n",
       "      <td>57</td>\n",
       "      <td>deaf</td>\n",
       "      <td>I’m deaf, my husband is hearing. I’m glad you’...</td>\n",
       "      <td>im deaf husband hearing im glad youre proactiv...</td>\n",
       "      <td>positive</td>\n",
       "      <td>0.254</td>\n",
       "      <td>0.598</td>\n",
       "      <td>0.148</td>\n",
       "      <td>0.9301</td>\n",
       "      <td>0.333181</td>\n",
       "      <td>0.277495</td>\n",
       "      <td>0.389324</td>\n",
       "      <td>neutral</td>\n",
       "    </tr>\n",
       "    <tr>\n",
       "      <th>...</th>\n",
       "      <td>...</td>\n",
       "      <td>...</td>\n",
       "      <td>...</td>\n",
       "      <td>...</td>\n",
       "      <td>...</td>\n",
       "      <td>...</td>\n",
       "      <td>...</td>\n",
       "      <td>...</td>\n",
       "      <td>...</td>\n",
       "      <td>...</td>\n",
       "      <td>...</td>\n",
       "      <td>...</td>\n",
       "      <td>...</td>\n",
       "      <td>...</td>\n",
       "      <td>...</td>\n",
       "      <td>...</td>\n",
       "      <td>...</td>\n",
       "    </tr>\n",
       "    <tr>\n",
       "      <th>247</th>\n",
       "      <td>p0289</td>\n",
       "      <td>recent</td>\n",
       "      <td>mh_pa</td>\n",
       "      <td>Lack of seating</td>\n",
       "      <td>28</td>\n",
       "      <td>disability</td>\n",
       "      <td>Not that this is relevant or necessary informa...</td>\n",
       "      <td>relevant necessary information justify complai...</td>\n",
       "      <td>positive</td>\n",
       "      <td>0.139</td>\n",
       "      <td>0.802</td>\n",
       "      <td>0.059</td>\n",
       "      <td>0.4588</td>\n",
       "      <td>0.036293</td>\n",
       "      <td>0.613112</td>\n",
       "      <td>0.350595</td>\n",
       "      <td>negative</td>\n",
       "    </tr>\n",
       "    <tr>\n",
       "      <th>248</th>\n",
       "      <td>p0291</td>\n",
       "      <td>recent</td>\n",
       "      <td>mh_pa</td>\n",
       "      <td>‘Disabled’</td>\n",
       "      <td>45</td>\n",
       "      <td>disability</td>\n",
       "      <td>Ayyy I'm also 19 with several disabilities.\\n\\...</td>\n",
       "      <td>ayyy im also several disability mom genxer com...</td>\n",
       "      <td>negative</td>\n",
       "      <td>0.197</td>\n",
       "      <td>0.594</td>\n",
       "      <td>0.209</td>\n",
       "      <td>-0.3701</td>\n",
       "      <td>0.217780</td>\n",
       "      <td>0.387029</td>\n",
       "      <td>0.395192</td>\n",
       "      <td>neutral</td>\n",
       "    </tr>\n",
       "    <tr>\n",
       "      <th>249</th>\n",
       "      <td>p0293</td>\n",
       "      <td>recent</td>\n",
       "      <td>mh_pa</td>\n",
       "      <td>Looking for advice/ opinions on accessible mar...</td>\n",
       "      <td>2</td>\n",
       "      <td>disability</td>\n",
       "      <td>Most adaptive sports organizations began with ...</td>\n",
       "      <td>adaptive sport organization began someone like...</td>\n",
       "      <td>positive</td>\n",
       "      <td>0.315</td>\n",
       "      <td>0.685</td>\n",
       "      <td>0.000</td>\n",
       "      <td>0.9805</td>\n",
       "      <td>0.822026</td>\n",
       "      <td>0.004189</td>\n",
       "      <td>0.173784</td>\n",
       "      <td>positive</td>\n",
       "    </tr>\n",
       "    <tr>\n",
       "      <th>250</th>\n",
       "      <td>p0294</td>\n",
       "      <td>recent</td>\n",
       "      <td>mh_pa</td>\n",
       "      <td>Survival Jobs are not disability friendly.</td>\n",
       "      <td>192</td>\n",
       "      <td>disability</td>\n",
       "      <td>I feel this. I can’t stand for basically any p...</td>\n",
       "      <td>feel cant stand basically period time without ...</td>\n",
       "      <td>negative</td>\n",
       "      <td>0.113</td>\n",
       "      <td>0.684</td>\n",
       "      <td>0.202</td>\n",
       "      <td>-0.8651</td>\n",
       "      <td>0.016568</td>\n",
       "      <td>0.869631</td>\n",
       "      <td>0.113801</td>\n",
       "      <td>negative</td>\n",
       "    </tr>\n",
       "    <tr>\n",
       "      <th>251</th>\n",
       "      <td>p0295</td>\n",
       "      <td>recent</td>\n",
       "      <td>mh_pa</td>\n",
       "      <td>good desk chairs? muscle, spine, &amp; circulation...</td>\n",
       "      <td>1</td>\n",
       "      <td>disability</td>\n",
       "      <td>My HM chair has been an actual life changer. I...</td>\n",
       "      <td>hm chair actual life changer much less pain ne...</td>\n",
       "      <td>negative</td>\n",
       "      <td>0.043</td>\n",
       "      <td>0.710</td>\n",
       "      <td>0.248</td>\n",
       "      <td>-0.9187</td>\n",
       "      <td>0.180552</td>\n",
       "      <td>0.418829</td>\n",
       "      <td>0.400620</td>\n",
       "      <td>negative</td>\n",
       "    </tr>\n",
       "  </tbody>\n",
       "</table>\n",
       "<p>252 rows × 17 columns</p>\n",
       "</div>"
      ],
      "text/plain": [
       "       pid     type   code                                              title  \\\n",
       "0    p0001  popular  mh_wp    Apparently, finding interpreters is impossible.   \n",
       "1    p0002  popular  mh_wp                                  I hate being deaf   \n",
       "2    p0003  popular  mh_wp                          rant about this community   \n",
       "3    p0004  popular  mh_wp             Mental Health Issues In Deaf Community   \n",
       "4    p0005  popular  mh_wp  Relationship advice: deaf husband/hearing wife...   \n",
       "..     ...      ...    ...                                                ...   \n",
       "247  p0289   recent  mh_pa                                    Lack of seating   \n",
       "248  p0291   recent  mh_pa                                         ‘Disabled’   \n",
       "249  p0293   recent  mh_pa  Looking for advice/ opinions on accessible mar...   \n",
       "250  p0294   recent  mh_pa         Survival Jobs are not disability friendly.   \n",
       "251  p0295   recent  mh_pa  good desk chairs? muscle, spine, & circulation...   \n",
       "\n",
       "     score   subreddit                                           comments  \\\n",
       "0       88        deaf  This is absolutely unacceptable.  I am an inte...   \n",
       "1       82        deaf  The DMV? I would not have guessed that would b...   \n",
       "2       62        deaf  I'm so sorry you received so much negative ene...   \n",
       "3       63        deaf  I don't remember where I saw this so I can't c...   \n",
       "4       57        deaf  I’m deaf, my husband is hearing. I’m glad you’...   \n",
       "..     ...         ...                                                ...   \n",
       "247     28  disability  Not that this is relevant or necessary informa...   \n",
       "248     45  disability  Ayyy I'm also 19 with several disabilities.\\n\\...   \n",
       "249      2  disability  Most adaptive sports organizations began with ...   \n",
       "250    192  disability  I feel this. I can’t stand for basically any p...   \n",
       "251      1  disability  My HM chair has been an actual life changer. I...   \n",
       "\n",
       "                                      cleaned_comments vader_sentiment  \\\n",
       "0    absolutely unacceptable interpreter worked men...        negative   \n",
       "1      dmv would guessed would deaf friendly workplace        positive   \n",
       "2    im sorry received much negative energy missed ...        positive   \n",
       "3    dont remember saw cant cite researching someth...        positive   \n",
       "4    im deaf husband hearing im glad youre proactiv...        positive   \n",
       "..                                                 ...             ...   \n",
       "247  relevant necessary information justify complai...        positive   \n",
       "248  ayyy im also several disability mom genxer com...        negative   \n",
       "249  adaptive sport organization began someone like...        positive   \n",
       "250  feel cant stand basically period time without ...        negative   \n",
       "251  hm chair actual life changer much less pain ne...        negative   \n",
       "\n",
       "     vader_pos  vader_neu  vader_neg  vader_compound  \\\n",
       "0        0.149      0.687      0.165         -0.3989   \n",
       "1        0.348      0.652      0.000          0.4939   \n",
       "2        0.209      0.706      0.085          0.9956   \n",
       "3        0.193      0.641      0.166          0.8622   \n",
       "4        0.254      0.598      0.148          0.9301   \n",
       "..         ...        ...        ...             ...   \n",
       "247      0.139      0.802      0.059          0.4588   \n",
       "248      0.197      0.594      0.209         -0.3701   \n",
       "249      0.315      0.685      0.000          0.9805   \n",
       "250      0.113      0.684      0.202         -0.8651   \n",
       "251      0.043      0.710      0.248         -0.9187   \n",
       "\n",
       "     roBERTa_sentiment_positive  roBERTa_sentiment_negative  \\\n",
       "0                      0.007028                    0.921729   \n",
       "1                      0.059166                    0.601448   \n",
       "2                      0.362453                    0.187739   \n",
       "3                      0.069262                    0.667851   \n",
       "4                      0.333181                    0.277495   \n",
       "..                          ...                         ...   \n",
       "247                    0.036293                    0.613112   \n",
       "248                    0.217780                    0.387029   \n",
       "249                    0.822026                    0.004189   \n",
       "250                    0.016568                    0.869631   \n",
       "251                    0.180552                    0.418829   \n",
       "\n",
       "     roBERTa_sentiment_neutral preponderant_sentiment  \n",
       "0                     0.071243               negative  \n",
       "1                     0.339386               negative  \n",
       "2                     0.449808                neutral  \n",
       "3                     0.262886               negative  \n",
       "4                     0.389324                neutral  \n",
       "..                         ...                    ...  \n",
       "247                   0.350595               negative  \n",
       "248                   0.395192                neutral  \n",
       "249                   0.173784               positive  \n",
       "250                   0.113801               negative  \n",
       "251                   0.400620               negative  \n",
       "\n",
       "[252 rows x 17 columns]"
      ]
     },
     "execution_count": 4,
     "metadata": {},
     "output_type": "execute_result"
    }
   ],
   "source": [
    "df"
   ]
  },
  {
   "cell_type": "code",
   "execution_count": 5,
   "metadata": {},
   "outputs": [],
   "source": [
    "import re\n",
    "from html import unescape\n",
    "from nltk.corpus import words\n",
    "\n",
    "# Load the list of English words\n",
    "english_words = set(words.words())\n",
    "\n",
    "def clean_text(text):\n",
    "    # 1. Replace \\n with space\n",
    "    #text = text.replace('\\n', ' ')\n",
    "    \n",
    "    # 2. Remove extra spaces\n",
    "    #text = re.sub(r'\\s+', ' ', text)\n",
    "    \n",
    "    # 2. Convert text to lowercase\n",
    "    text = text.lower()\n",
    "    \n",
    "    # 3. Remove leading and trailing spaces\n",
    "    text = text.strip()\n",
    "    \n",
    "    # 4. Remove URLs\n",
    "    text = re.sub(r'http\\S+|www\\.\\S+|https\\S+', '', text, flags=re.MULTILINE)\n",
    "    \n",
    "    # 5. Decode HTML entities\n",
    "    text = unescape(text)\n",
    "    \n",
    "    # 6. Remove HTML tags\n",
    "    text = re.sub(r'<.*?>', '', text)\n",
    "    \n",
    "    # 7. Remove emails\n",
    "    text = re.sub(r'\\S+@\\S+', '', text)\n",
    "    \n",
    "    # 8. Remove page references (e.g., Page 1:)\n",
    "    text = re.sub(r'Page \\d+:', '', text, flags=re.IGNORECASE)\n",
    "    \n",
    "    # 9. Remove isolated digits (keeping punctuation)\n",
    "    text = re.sub(r'\\b\\d+\\b', '', text)\n",
    "    \n",
    "    # 10. Remove mentions (e.g., @username)\n",
    "    text = re.sub(r'@\\S+', '', text)\n",
    "    \n",
    "    # 11. Replace '&' with 'and'\n",
    "    text = text.replace('&', 'and')\n",
    "    \n",
    "    # 12. Remove special characters, keeping basic punctuation\n",
    "    #text = re.sub(r'[^a-zA-Z0-9.,!?\\'\\s]', '', text)\n",
    "    \n",
    "    # 13. Remove words not in the English vocabulary\n",
    "    #words_list = text.split()\n",
    "    #cleaned_words = [word for word in words_list if word.lower() in english_words or re.match(r'[.,!?\\'-]', word)]\n",
    "    #text = ' '.join(cleaned_words)\n",
    "    \n",
    "    return text\n",
    "    \n"
   ]
  },
  {
   "cell_type": "code",
   "execution_count": 15,
   "metadata": {},
   "outputs": [],
   "source": [
    "df_copy = df.copy()"
   ]
  },
  {
   "cell_type": "code",
   "execution_count": 16,
   "metadata": {},
   "outputs": [],
   "source": [
    "df_copy['comments'] = df_copy[\"comments\"].apply(clean_text)"
   ]
  },
  {
   "cell_type": "code",
   "execution_count": 17,
   "metadata": {},
   "outputs": [
    {
     "data": {
      "text/plain": [
       "\"this is absolutely unacceptable.  i am an interpreter, and i have worked in mental health settings in a supervisory capacity (not as an interpreter).  about % of our residents were deaf.  there was an interpreter at every junction of the residents’ mental health therapy and care, and the faculty and staff (including me, a supervisor) could sign.  a facility like the one i worked at is not the norm, but it certainly exists. where are you in the states? also, look into remote interpreting if there are genuinely no interpreters in your area (unlikely, and not optimal, i know).   yeah, technically a private facility can just say no.  but there are private places that will be accommodating, as well as publicly run options.\\ni'm truly sorry about what you're going through. it's bullshit. \\n\\nmy wife is a deaf therapist, and we live in a deaf mecca (rochester, ny) and she's very frustrated with the mental health system here. there is a serious lack of residential treatment facilities that can accommodate deaf patients. it's even worse for difficult patients, because they typically get kicked out of rtf's due to serious behavioral issues. and that basically means they have absolutely nowhere left to go.\\n\\nif it's that bad here, then it's likely much worse everywhere else. hearing people basically don't give a damn when it comes to mental health services for the deaf, and deaf therapists have difficulty trying to push this issue through the hearing-centric system. \\n\\nfunding for deaf mental health services also is a joke. everything is run on shoestring budget.\""
      ]
     },
     "execution_count": 17,
     "metadata": {},
     "output_type": "execute_result"
    }
   ],
   "source": [
    "df_copy['comments'][0]"
   ]
  },
  {
   "cell_type": "code",
   "execution_count": 18,
   "metadata": {},
   "outputs": [],
   "source": [
    "splitter = RecursiveCharacterTextSplitter(\n",
    "    chunk_size=1000,\n",
    "    chunk_overlap=150,\n",
    "    length_function=len,\n",
    "    is_separator_regex=False,\n",
    ")\n",
    "\n",
    "documents = [Document(page_content=text) for text in df_copy['comments']]\n",
    "\n",
    "split_texts = []\n",
    "for doc in documents:\n",
    "    split_texts.extend(splitter.split_text(doc.page_content))"
   ]
  },
  {
   "cell_type": "code",
   "execution_count": 22,
   "metadata": {},
   "outputs": [
    {
     "data": {
      "text/plain": [
       "799"
      ]
     },
     "execution_count": 22,
     "metadata": {},
     "output_type": "execute_result"
    }
   ],
   "source": [
    "len(split_texts)"
   ]
  },
  {
   "cell_type": "markdown",
   "metadata": {},
   "source": [
    "### Topic Modeling"
   ]
  },
  {
   "cell_type": "code",
   "execution_count": 23,
   "metadata": {},
   "outputs": [],
   "source": [
    "# Pre-calculate embeddings\n",
    "embedding_model = SentenceTransformer(\"all-mpnet-base-v2\")"
   ]
  },
  {
   "cell_type": "code",
   "execution_count": 24,
   "metadata": {},
   "outputs": [
    {
     "data": {
      "application/vnd.jupyter.widget-view+json": {
       "model_id": "f177241a5ce642f09c719021faa9ac44",
       "version_major": 2,
       "version_minor": 0
      },
      "text/plain": [
       "Batches:   0%|          | 0/25 [00:00<?, ?it/s]"
      ]
     },
     "metadata": {},
     "output_type": "display_data"
    }
   ],
   "source": [
    "embeddings = embedding_model.encode(split_texts, show_progress_bar=True)"
   ]
  },
  {
   "cell_type": "code",
   "execution_count": 25,
   "metadata": {},
   "outputs": [
    {
     "data": {
      "text/plain": [
       "799"
      ]
     },
     "execution_count": 25,
     "metadata": {},
     "output_type": "execute_result"
    }
   ],
   "source": [
    "len(embeddings)"
   ]
  },
  {
   "cell_type": "markdown",
   "metadata": {},
   "source": [
    "#### Dimensionality Reduction, Clustering and Vectorizer"
   ]
  },
  {
   "cell_type": "code",
   "execution_count": 76,
   "metadata": {},
   "outputs": [],
   "source": [
    "umap_model = UMAP(n_neighbors=5, n_components=5, min_dist=0.0, metric='cosine', random_state=42)\n",
    "hdbscan_model = HDBSCAN(min_cluster_size=10, metric='euclidean', cluster_selection_method='eom', prediction_data=True)\n",
    "vectorizer_model = CountVectorizer(min_df=2, ngram_range=(1, 3), stop_words='english')"
   ]
  },
  {
   "cell_type": "code",
   "execution_count": 55,
   "metadata": {},
   "outputs": [],
   "source": [
    "# Pre-reduce embeddings for visualization purposes\n",
    "reduced_embeddings = UMAP(n_neighbors=15, n_components=2, min_dist=0.0, metric='cosine', random_state=42).fit_transform(embeddings)"
   ]
  },
  {
   "cell_type": "code",
   "execution_count": 56,
   "metadata": {},
   "outputs": [
    {
     "data": {
      "text/plain": [
       "2"
      ]
     },
     "execution_count": 56,
     "metadata": {},
     "output_type": "execute_result"
    }
   ],
   "source": [
    "len(reduced_embeddings[0])"
   ]
  },
  {
   "cell_type": "markdown",
   "metadata": {},
   "source": [
    "#### Representation models"
   ]
  },
  {
   "cell_type": "code",
   "execution_count": 57,
   "metadata": {},
   "outputs": [],
   "source": [
    "import os\n",
    "from dotenv import load_dotenv\n",
    "from dotenv import load_dotenv\n",
    "import os\n",
    "\n",
    "# dotenv_path = os.path.join(os.getcwd(), '.env')\n",
    "# load_dotenv(dotenv_path)\n",
    "\n",
    "# api_key = os.getenv('OPENAI_API_KEY')\n",
    "\n",
    "# Load the .env file\n",
    "dotenv_path = '/Users/eryclisrodrigues/Documents/Eryclis/PhD in Information Science/Courses/IS 597 - HCDS/PROJECT/is-597-hcds/.env'\n",
    "load_dotenv(dotenv_path)\n",
    "\n",
    "# Access the API key\n",
    "api_key = os.getenv('OPENAI_API_KEY')\n",
    "\n"
   ]
  },
  {
   "cell_type": "code",
   "execution_count": 51,
   "metadata": {},
   "outputs": [],
   "source": [
    "openai.api_key = api_key\n"
   ]
  },
  {
   "cell_type": "code",
   "execution_count": 80,
   "metadata": {},
   "outputs": [],
   "source": [
    "\n",
    "# KeyBERT\n",
    "keybert_model = KeyBERTInspired()\n",
    "\n",
    "# MMR\n",
    "mmr_model = MaximalMarginalRelevance(diversity=0.3)\n",
    "\n",
    "# # GPT-3.5\n",
    "prompt = \"\"\"\n",
    "I have a topic that contains the following documents:\n",
    "[DOCUMENTS]\n",
    "The topic is described by the following keywords: [KEYWORDS]\n",
    "\n",
    "Based on the information above, extract a short but highly descriptive topic label of at most 5 words. Make sure it is in the following format:\n",
    "topic: <topic label>\n",
    "\"\"\"\n",
    "client = openai.OpenAI()\n",
    "openai_model = OpenAI(client, model=\"gpt-3.5-turbo\", exponential_backoff=True, chat=True, prompt=prompt)\n",
    "\n",
    "# All representation models\n",
    "representation_model = {\n",
    "    \"KeyBERT\": keybert_model,\n",
    "    \"OpenAI\": openai_model,  \n",
    "    \"MMR\": mmr_model\n",
    "}"
   ]
  },
  {
   "cell_type": "code",
   "execution_count": 81,
   "metadata": {},
   "outputs": [
    {
     "name": "stderr",
     "output_type": "stream",
     "text": [
      "2024-11-22 20:08:31,687 - BERTopic - Dimensionality - Fitting the dimensionality reduction algorithm\n",
      "2024-11-22 20:08:32,817 - BERTopic - Dimensionality - Completed ✓\n",
      "2024-11-22 20:08:32,818 - BERTopic - Cluster - Start clustering the reduced embeddings\n",
      "2024-11-22 20:08:32,830 - BERTopic - Cluster - Completed ✓\n",
      "2024-11-22 20:08:32,832 - BERTopic - Representation - Extracting topics from clusters using representation models.\n",
      "100%|██████████| 25/25 [00:16<00:00,  1.51it/s]\n",
      "2024-11-22 20:09:00,358 - BERTopic - Representation - Completed ✓\n"
     ]
    }
   ],
   "source": [
    "topic_model = BERTopic(\n",
    "\n",
    "  # Pipeline models\n",
    "  embedding_model=embedding_model,  # while we use pre-computed embeddings, internally BERTopic still needs this parameter\n",
    "  umap_model=umap_model,\n",
    "  hdbscan_model=hdbscan_model,\n",
    "  vectorizer_model=vectorizer_model,\n",
    "  representation_model=representation_model,\n",
    "\n",
    "  # Hyperparameters\n",
    "  top_n_words=10,\n",
    "  verbose=True\n",
    ")\n",
    "\n",
    "# Train model\n",
    "topics, probs = topic_model.fit_transform(split_texts, embeddings)"
   ]
  },
  {
   "cell_type": "code",
   "execution_count": 82,
   "metadata": {},
   "outputs": [
    {
     "data": {
      "text/html": [
       "<div>\n",
       "<style scoped>\n",
       "    .dataframe tbody tr th:only-of-type {\n",
       "        vertical-align: middle;\n",
       "    }\n",
       "\n",
       "    .dataframe tbody tr th {\n",
       "        vertical-align: top;\n",
       "    }\n",
       "\n",
       "    .dataframe thead th {\n",
       "        text-align: right;\n",
       "    }\n",
       "</style>\n",
       "<table border=\"1\" class=\"dataframe\">\n",
       "  <thead>\n",
       "    <tr style=\"text-align: right;\">\n",
       "      <th></th>\n",
       "      <th>Topic</th>\n",
       "      <th>Count</th>\n",
       "      <th>Name</th>\n",
       "      <th>Representation</th>\n",
       "      <th>KeyBERT</th>\n",
       "      <th>OpenAI</th>\n",
       "      <th>MMR</th>\n",
       "      <th>Representative_Docs</th>\n",
       "    </tr>\n",
       "  </thead>\n",
       "  <tbody>\n",
       "    <tr>\n",
       "      <th>0</th>\n",
       "      <td>-1</td>\n",
       "      <td>270</td>\n",
       "      <td>-1_health_just_like_mental</td>\n",
       "      <td>[health, just, like, mental, mental health, pe...</td>\n",
       "      <td>[disability, disabilities, disabled, mental he...</td>\n",
       "      <td>[Challenges of Living with Disabilities]</td>\n",
       "      <td>[health, just, like, mental, mental health, pe...</td>\n",
       "      <td>[yeah your reasons for being on disability is ...</td>\n",
       "    </tr>\n",
       "    <tr>\n",
       "      <th>1</th>\n",
       "      <td>0</td>\n",
       "      <td>44</td>\n",
       "      <td>0_deaf_hearing_asl_language</td>\n",
       "      <td>[deaf, hearing, asl, language, community, heal...</td>\n",
       "      <td>[deaf, hearing world, hearing people, hearing,...</td>\n",
       "      <td>[Deaf Mental Health Services Oppression]</td>\n",
       "      <td>[deaf, hearing, asl, language, community, heal...</td>\n",
       "      <td>[yes deaf community need more mental health th...</td>\n",
       "    </tr>\n",
       "    <tr>\n",
       "      <th>2</th>\n",
       "      <td>1</td>\n",
       "      <td>43</td>\n",
       "      <td>1_mental_health_mental health_disability</td>\n",
       "      <td>[mental, health, mental health, disability, me...</td>\n",
       "      <td>[disability mental health, disability mental, ...</td>\n",
       "      <td>[Mental Health Disability Validity]</td>\n",
       "      <td>[mental, health, mental health, disability, me...</td>\n",
       "      <td>[i personally don't think it's bad. i do under...</td>\n",
       "    </tr>\n",
       "    <tr>\n",
       "      <th>3</th>\n",
       "      <td>2</td>\n",
       "      <td>42</td>\n",
       "      <td>2_people_disabled_person_disabled people</td>\n",
       "      <td>[people, disabled, person, disabled people, ju...</td>\n",
       "      <td>[people disabilities, disabled mental health, ...</td>\n",
       "      <td>[Disability Advocacy and Communication]</td>\n",
       "      <td>[people, disabled, person, disabled people, ju...</td>\n",
       "      <td>[i don’t get offended at all if someone refers...</td>\n",
       "    </tr>\n",
       "    <tr>\n",
       "      <th>4</th>\n",
       "      <td>3</td>\n",
       "      <td>29</td>\n",
       "      <td>3_exercise_blind_gym_workout</td>\n",
       "      <td>[exercise, blind, gym, workout, accessible, bi...</td>\n",
       "      <td>[visually impaired, accessible, sighted, blind...</td>\n",
       "      <td>[Blind Friendly Exercise Activities]</td>\n",
       "      <td>[exercise, blind, gym, workout, accessible, bi...</td>\n",
       "      <td>[in the pool, i often do water jogging with on...</td>\n",
       "    </tr>\n",
       "    <tr>\n",
       "      <th>5</th>\n",
       "      <td>4</td>\n",
       "      <td>28</td>\n",
       "      <td>4_braille_use_computer_screen</td>\n",
       "      <td>[braille, use, computer, screen, wouldn, acces...</td>\n",
       "      <td>[braille, accessibility, screen readers, scree...</td>\n",
       "      <td>[Braille for Independent Work]</td>\n",
       "      <td>[braille, use, computer, screen, wouldn, acces...</td>\n",
       "      <td>[but you'd think if they weren't going to let ...</td>\n",
       "    </tr>\n",
       "    <tr>\n",
       "      <th>6</th>\n",
       "      <td>5</td>\n",
       "      <td>27</td>\n",
       "      <td>5_adhd_disability_impairment_autism</td>\n",
       "      <td>[adhd, disability, impairment, autism, differe...</td>\n",
       "      <td>[disabilities, disability different, disabilit...</td>\n",
       "      <td>[Neurodiversity and Workplace Inclusion]</td>\n",
       "      <td>[adhd, disability, impairment, autism, differe...</td>\n",
       "      <td>[i consider the terms 'condition', 'impairment...</td>\n",
       "    </tr>\n",
       "    <tr>\n",
       "      <th>7</th>\n",
       "      <td>6</td>\n",
       "      <td>26</td>\n",
       "      <td>6_ssdi_housing_ssi_disability</td>\n",
       "      <td>[ssdi, housing, ssi, disability, security, dis...</td>\n",
       "      <td>[disability, ssi ssdi, ssi, disabilities, ssdi...</td>\n",
       "      <td>[Social Security Disability Programs]</td>\n",
       "      <td>[ssdi, housing, ssi, disability, security, dis...</td>\n",
       "      <td>[i would call the ssa too, and find out if you...</td>\n",
       "    </tr>\n",
       "    <tr>\n",
       "      <th>8</th>\n",
       "      <td>7</td>\n",
       "      <td>25</td>\n",
       "      <td>7_sighted_blind_blindness_life</td>\n",
       "      <td>[sighted, blind, blindness, life, little, chil...</td>\n",
       "      <td>[blind people, blindness, blind, sighted, eyes...</td>\n",
       "      <td>[Navigating Life with Visual Impairment]</td>\n",
       "      <td>[sighted, blind, blindness, life, little, chil...</td>\n",
       "      <td>[what made me recover from the darkest times o...</td>\n",
       "    </tr>\n",
       "    <tr>\n",
       "      <th>9</th>\n",
       "      <td>8</td>\n",
       "      <td>23</td>\n",
       "      <td>8_wife_pete_years_miss</td>\n",
       "      <td>[wife, pete, years, miss, ve, think, things, d...</td>\n",
       "      <td>[ex wife, wife, therapy, marriage, advice, mar...</td>\n",
       "      <td>[Coping with Heartbreak and Loss]</td>\n",
       "      <td>[wife, pete, years, miss, ve, think, things, d...</td>\n",
       "      <td>[so... unfortunately, i don't have much advice...</td>\n",
       "    </tr>\n",
       "    <tr>\n",
       "      <th>10</th>\n",
       "      <td>9</td>\n",
       "      <td>21</td>\n",
       "      <td>9_people_like_just_disability</td>\n",
       "      <td>[people, like, just, disability, understand, p...</td>\n",
       "      <td>[invisible disabilities, disability, people di...</td>\n",
       "      <td>[Struggles of Living with Disabilities]</td>\n",
       "      <td>[people, like, just, disability, understand, p...</td>\n",
       "      <td>[if only that knew they wouldn't be saying tha...</td>\n",
       "    </tr>\n",
       "    <tr>\n",
       "      <th>11</th>\n",
       "      <td>10</td>\n",
       "      <td>21</td>\n",
       "      <td>10_hearing_cis_hearing aids_aids</td>\n",
       "      <td>[hearing, cis, hearing aids, aids, deaf, deafn...</td>\n",
       "      <td>[hearing loss, losing hearing, deafness, heari...</td>\n",
       "      <td>[Living with Hearing Loss]</td>\n",
       "      <td>[hearing, cis, hearing aids, aids, deaf, deafn...</td>\n",
       "      <td>[i’m not going to pretend being deaf isn’t a d...</td>\n",
       "    </tr>\n",
       "    <tr>\n",
       "      <th>12</th>\n",
       "      <td>11</td>\n",
       "      <td>20</td>\n",
       "      <td>11_help_therapist_like_health</td>\n",
       "      <td>[help, therapist, like, health, really, staff,...</td>\n",
       "      <td>[therapist, therapy, therapist years, medical ...</td>\n",
       "      <td>[Mental Health Treatment Challenges]</td>\n",
       "      <td>[help, therapist, like, health, really, staff,...</td>\n",
       "      <td>[trying to get help for prolonged abuse is hon...</td>\n",
       "    </tr>\n",
       "    <tr>\n",
       "      <th>13</th>\n",
       "      <td>12</td>\n",
       "      <td>20</td>\n",
       "      <td>12_pt_eds_pain_disorder</td>\n",
       "      <td>[pt, eds, pain, disorder, muscle, like, stuff,...</td>\n",
       "      <td>[hypotonia, squat, diagnosed, posture, spectru...</td>\n",
       "      <td>[Hypotonia and Hypermobile EDS]</td>\n",
       "      <td>[pt, eds, pain, disorder, muscle, like, stuff,...</td>\n",
       "      <td>[i'm willing to try pt again at some point (ho...</td>\n",
       "    </tr>\n",
       "    <tr>\n",
       "      <th>14</th>\n",
       "      <td>13</td>\n",
       "      <td>18</td>\n",
       "      <td>13_vision_eye_migraine_genetic</td>\n",
       "      <td>[vision, eye, migraine, genetic, son, doctors,...</td>\n",
       "      <td>[going blind, blind, vision, eye, diagnosis, s...</td>\n",
       "      <td>[Emotional Struggle with Vision Diagnosis]</td>\n",
       "      <td>[vision, eye, migraine, genetic, son, doctors,...</td>\n",
       "      <td>[usually it seems in the cases they have studi...</td>\n",
       "    </tr>\n",
       "    <tr>\n",
       "      <th>15</th>\n",
       "      <td>14</td>\n",
       "      <td>17</td>\n",
       "      <td>14_park_people_wheelchair_person</td>\n",
       "      <td>[park, people, wheelchair, person, mobility, d...</td>\n",
       "      <td>[disabilities, wheelchair, disability, rude, n...</td>\n",
       "      <td>[Mobility Challenges in Social Settings]</td>\n",
       "      <td>[park, people, wheelchair, person, mobility, d...</td>\n",
       "      <td>[this is the unfortunate reality of using mobi...</td>\n",
       "    </tr>\n",
       "    <tr>\n",
       "      <th>16</th>\n",
       "      <td>15</td>\n",
       "      <td>16</td>\n",
       "      <td>15_school_teachers_employee_graduate</td>\n",
       "      <td>[school, teachers, employee, graduate, behavio...</td>\n",
       "      <td>[abusive, abusing, school, teachers, behavior,...</td>\n",
       "      <td>[Workplace and School Abuse]</td>\n",
       "      <td>[school, teachers, employee, graduate, behavio...</td>\n",
       "      <td>[her behavior continued, despite all the teach...</td>\n",
       "    </tr>\n",
       "    <tr>\n",
       "      <th>17</th>\n",
       "      <td>16</td>\n",
       "      <td>16</td>\n",
       "      <td>16_people_just_hate_payments</td>\n",
       "      <td>[people, just, hate, payments, disability, liv...</td>\n",
       "      <td>[disability effects people, disabilities effec...</td>\n",
       "      <td>[Challenges of Living with Disabilities]</td>\n",
       "      <td>[people, just, hate, payments, disability, liv...</td>\n",
       "      <td>[i'm quite the opposite i can't stay with peop...</td>\n",
       "    </tr>\n",
       "    <tr>\n",
       "      <th>18</th>\n",
       "      <td>17</td>\n",
       "      <td>15</td>\n",
       "      <td>17_mental_health_mental health_mentally ill</td>\n",
       "      <td>[mental, health, mental health, mentally ill, ...</td>\n",
       "      <td>[mentally ill people, mentally ill, mental hea...</td>\n",
       "      <td>[Mental Health Crisis and Jails]</td>\n",
       "      <td>[mental, health, mental health, mentally ill, ...</td>\n",
       "      <td>[i mean, i don't like the guy, but this is out...</td>\n",
       "    </tr>\n",
       "    <tr>\n",
       "      <th>19</th>\n",
       "      <td>18</td>\n",
       "      <td>15</td>\n",
       "      <td>18_public_equipment_transit_transportation</td>\n",
       "      <td>[public, equipment, transit, transportation, p...</td>\n",
       "      <td>[public transportation, public transport, tran...</td>\n",
       "      <td>[Accessible Public Transportation Options]</td>\n",
       "      <td>[public, equipment, transit, transportation, p...</td>\n",
       "      <td>[i have rp and so does my cousin. i strictly l...</td>\n",
       "    </tr>\n",
       "    <tr>\n",
       "      <th>20</th>\n",
       "      <td>19</td>\n",
       "      <td>15</td>\n",
       "      <td>19_blind_india_vision_mobility</td>\n",
       "      <td>[blind, india, vision, mobility, blind people,...</td>\n",
       "      <td>[accessible blind, visually impaired, accessib...</td>\n",
       "      <td>[Vision and Mobility Assistance in India]</td>\n",
       "      <td>[blind, india, vision, mobility, blind people,...</td>\n",
       "      <td>[the content will still likely be visual, but ...</td>\n",
       "    </tr>\n",
       "    <tr>\n",
       "      <th>21</th>\n",
       "      <td>20</td>\n",
       "      <td>13</td>\n",
       "      <td>20_treatment_suicide_decide_depression</td>\n",
       "      <td>[treatment, suicide, decide, depression, menta...</td>\n",
       "      <td>[mental health seriously, mental health treatm...</td>\n",
       "      <td>[End-of-Life Autonomy and Mental Health]</td>\n",
       "      <td>[treatment, suicide, decide, depression, menta...</td>\n",
       "      <td>[you don't get to decide for another person if...</td>\n",
       "    </tr>\n",
       "    <tr>\n",
       "      <th>22</th>\n",
       "      <td>21</td>\n",
       "      <td>12</td>\n",
       "      <td>21_blind_using_screen_screen readers</td>\n",
       "      <td>[blind, using, screen, screen readers, readers...</td>\n",
       "      <td>[impaired blind, visually impaired blind, visu...</td>\n",
       "      <td>[Blind Life Skills Training]</td>\n",
       "      <td>[blind, using, screen, screen readers, readers...</td>\n",
       "      <td>[my guess would be that he is a bit resistant ...</td>\n",
       "    </tr>\n",
       "    <tr>\n",
       "      <th>23</th>\n",
       "      <td>22</td>\n",
       "      <td>12</td>\n",
       "      <td>22_building_hospital_access_reasonable</td>\n",
       "      <td>[building, hospital, access, reasonable, issue...</td>\n",
       "      <td>[support mental health, nhs, impairment, hospi...</td>\n",
       "      <td>[Mental Health Hospital Access Discrimination]</td>\n",
       "      <td>[building, hospital, access, reasonable, issue...</td>\n",
       "      <td>[i think the comparison to physical disabiliti...</td>\n",
       "    </tr>\n",
       "    <tr>\n",
       "      <th>24</th>\n",
       "      <td>23</td>\n",
       "      <td>11</td>\n",
       "      <td>23_home_shower_worker_social worker</td>\n",
       "      <td>[home, shower, worker, social worker, social, ...</td>\n",
       "      <td>[group home, family home, family, abuse, socia...</td>\n",
       "      <td>[Medical Foster Care Abuse Reporting]</td>\n",
       "      <td>[home, shower, worker, social worker, social, ...</td>\n",
       "      <td>[it has been working pretty well so far, thoug...</td>\n",
       "    </tr>\n",
       "  </tbody>\n",
       "</table>\n",
       "</div>"
      ],
      "text/plain": [
       "    Topic  Count                                         Name  \\\n",
       "0      -1    270                   -1_health_just_like_mental   \n",
       "1       0     44                  0_deaf_hearing_asl_language   \n",
       "2       1     43     1_mental_health_mental health_disability   \n",
       "3       2     42     2_people_disabled_person_disabled people   \n",
       "4       3     29                 3_exercise_blind_gym_workout   \n",
       "5       4     28                4_braille_use_computer_screen   \n",
       "6       5     27          5_adhd_disability_impairment_autism   \n",
       "7       6     26                6_ssdi_housing_ssi_disability   \n",
       "8       7     25               7_sighted_blind_blindness_life   \n",
       "9       8     23                       8_wife_pete_years_miss   \n",
       "10      9     21                9_people_like_just_disability   \n",
       "11     10     21             10_hearing_cis_hearing aids_aids   \n",
       "12     11     20                11_help_therapist_like_health   \n",
       "13     12     20                      12_pt_eds_pain_disorder   \n",
       "14     13     18               13_vision_eye_migraine_genetic   \n",
       "15     14     17             14_park_people_wheelchair_person   \n",
       "16     15     16         15_school_teachers_employee_graduate   \n",
       "17     16     16                 16_people_just_hate_payments   \n",
       "18     17     15  17_mental_health_mental health_mentally ill   \n",
       "19     18     15   18_public_equipment_transit_transportation   \n",
       "20     19     15               19_blind_india_vision_mobility   \n",
       "21     20     13       20_treatment_suicide_decide_depression   \n",
       "22     21     12         21_blind_using_screen_screen readers   \n",
       "23     22     12       22_building_hospital_access_reasonable   \n",
       "24     23     11          23_home_shower_worker_social worker   \n",
       "\n",
       "                                       Representation  \\\n",
       "0   [health, just, like, mental, mental health, pe...   \n",
       "1   [deaf, hearing, asl, language, community, heal...   \n",
       "2   [mental, health, mental health, disability, me...   \n",
       "3   [people, disabled, person, disabled people, ju...   \n",
       "4   [exercise, blind, gym, workout, accessible, bi...   \n",
       "5   [braille, use, computer, screen, wouldn, acces...   \n",
       "6   [adhd, disability, impairment, autism, differe...   \n",
       "7   [ssdi, housing, ssi, disability, security, dis...   \n",
       "8   [sighted, blind, blindness, life, little, chil...   \n",
       "9   [wife, pete, years, miss, ve, think, things, d...   \n",
       "10  [people, like, just, disability, understand, p...   \n",
       "11  [hearing, cis, hearing aids, aids, deaf, deafn...   \n",
       "12  [help, therapist, like, health, really, staff,...   \n",
       "13  [pt, eds, pain, disorder, muscle, like, stuff,...   \n",
       "14  [vision, eye, migraine, genetic, son, doctors,...   \n",
       "15  [park, people, wheelchair, person, mobility, d...   \n",
       "16  [school, teachers, employee, graduate, behavio...   \n",
       "17  [people, just, hate, payments, disability, liv...   \n",
       "18  [mental, health, mental health, mentally ill, ...   \n",
       "19  [public, equipment, transit, transportation, p...   \n",
       "20  [blind, india, vision, mobility, blind people,...   \n",
       "21  [treatment, suicide, decide, depression, menta...   \n",
       "22  [blind, using, screen, screen readers, readers...   \n",
       "23  [building, hospital, access, reasonable, issue...   \n",
       "24  [home, shower, worker, social worker, social, ...   \n",
       "\n",
       "                                              KeyBERT  \\\n",
       "0   [disability, disabilities, disabled, mental he...   \n",
       "1   [deaf, hearing world, hearing people, hearing,...   \n",
       "2   [disability mental health, disability mental, ...   \n",
       "3   [people disabilities, disabled mental health, ...   \n",
       "4   [visually impaired, accessible, sighted, blind...   \n",
       "5   [braille, accessibility, screen readers, scree...   \n",
       "6   [disabilities, disability different, disabilit...   \n",
       "7   [disability, ssi ssdi, ssi, disabilities, ssdi...   \n",
       "8   [blind people, blindness, blind, sighted, eyes...   \n",
       "9   [ex wife, wife, therapy, marriage, advice, mar...   \n",
       "10  [invisible disabilities, disability, people di...   \n",
       "11  [hearing loss, losing hearing, deafness, heari...   \n",
       "12  [therapist, therapy, therapist years, medical ...   \n",
       "13  [hypotonia, squat, diagnosed, posture, spectru...   \n",
       "14  [going blind, blind, vision, eye, diagnosis, s...   \n",
       "15  [disabilities, wheelchair, disability, rude, n...   \n",
       "16  [abusive, abusing, school, teachers, behavior,...   \n",
       "17  [disability effects people, disabilities effec...   \n",
       "18  [mentally ill people, mentally ill, mental hea...   \n",
       "19  [public transportation, public transport, tran...   \n",
       "20  [accessible blind, visually impaired, accessib...   \n",
       "21  [mental health seriously, mental health treatm...   \n",
       "22  [impaired blind, visually impaired blind, visu...   \n",
       "23  [support mental health, nhs, impairment, hospi...   \n",
       "24  [group home, family home, family, abuse, socia...   \n",
       "\n",
       "                                            OpenAI  \\\n",
       "0         [Challenges of Living with Disabilities]   \n",
       "1         [Deaf Mental Health Services Oppression]   \n",
       "2              [Mental Health Disability Validity]   \n",
       "3          [Disability Advocacy and Communication]   \n",
       "4             [Blind Friendly Exercise Activities]   \n",
       "5                   [Braille for Independent Work]   \n",
       "6         [Neurodiversity and Workplace Inclusion]   \n",
       "7            [Social Security Disability Programs]   \n",
       "8         [Navigating Life with Visual Impairment]   \n",
       "9                [Coping with Heartbreak and Loss]   \n",
       "10         [Struggles of Living with Disabilities]   \n",
       "11                      [Living with Hearing Loss]   \n",
       "12            [Mental Health Treatment Challenges]   \n",
       "13                 [Hypotonia and Hypermobile EDS]   \n",
       "14      [Emotional Struggle with Vision Diagnosis]   \n",
       "15        [Mobility Challenges in Social Settings]   \n",
       "16                    [Workplace and School Abuse]   \n",
       "17        [Challenges of Living with Disabilities]   \n",
       "18                [Mental Health Crisis and Jails]   \n",
       "19      [Accessible Public Transportation Options]   \n",
       "20       [Vision and Mobility Assistance in India]   \n",
       "21        [End-of-Life Autonomy and Mental Health]   \n",
       "22                    [Blind Life Skills Training]   \n",
       "23  [Mental Health Hospital Access Discrimination]   \n",
       "24           [Medical Foster Care Abuse Reporting]   \n",
       "\n",
       "                                                  MMR  \\\n",
       "0   [health, just, like, mental, mental health, pe...   \n",
       "1   [deaf, hearing, asl, language, community, heal...   \n",
       "2   [mental, health, mental health, disability, me...   \n",
       "3   [people, disabled, person, disabled people, ju...   \n",
       "4   [exercise, blind, gym, workout, accessible, bi...   \n",
       "5   [braille, use, computer, screen, wouldn, acces...   \n",
       "6   [adhd, disability, impairment, autism, differe...   \n",
       "7   [ssdi, housing, ssi, disability, security, dis...   \n",
       "8   [sighted, blind, blindness, life, little, chil...   \n",
       "9   [wife, pete, years, miss, ve, think, things, d...   \n",
       "10  [people, like, just, disability, understand, p...   \n",
       "11  [hearing, cis, hearing aids, aids, deaf, deafn...   \n",
       "12  [help, therapist, like, health, really, staff,...   \n",
       "13  [pt, eds, pain, disorder, muscle, like, stuff,...   \n",
       "14  [vision, eye, migraine, genetic, son, doctors,...   \n",
       "15  [park, people, wheelchair, person, mobility, d...   \n",
       "16  [school, teachers, employee, graduate, behavio...   \n",
       "17  [people, just, hate, payments, disability, liv...   \n",
       "18  [mental, health, mental health, mentally ill, ...   \n",
       "19  [public, equipment, transit, transportation, p...   \n",
       "20  [blind, india, vision, mobility, blind people,...   \n",
       "21  [treatment, suicide, decide, depression, menta...   \n",
       "22  [blind, using, screen, screen readers, readers...   \n",
       "23  [building, hospital, access, reasonable, issue...   \n",
       "24  [home, shower, worker, social worker, social, ...   \n",
       "\n",
       "                                  Representative_Docs  \n",
       "0   [yeah your reasons for being on disability is ...  \n",
       "1   [yes deaf community need more mental health th...  \n",
       "2   [i personally don't think it's bad. i do under...  \n",
       "3   [i don’t get offended at all if someone refers...  \n",
       "4   [in the pool, i often do water jogging with on...  \n",
       "5   [but you'd think if they weren't going to let ...  \n",
       "6   [i consider the terms 'condition', 'impairment...  \n",
       "7   [i would call the ssa too, and find out if you...  \n",
       "8   [what made me recover from the darkest times o...  \n",
       "9   [so... unfortunately, i don't have much advice...  \n",
       "10  [if only that knew they wouldn't be saying tha...  \n",
       "11  [i’m not going to pretend being deaf isn’t a d...  \n",
       "12  [trying to get help for prolonged abuse is hon...  \n",
       "13  [i'm willing to try pt again at some point (ho...  \n",
       "14  [usually it seems in the cases they have studi...  \n",
       "15  [this is the unfortunate reality of using mobi...  \n",
       "16  [her behavior continued, despite all the teach...  \n",
       "17  [i'm quite the opposite i can't stay with peop...  \n",
       "18  [i mean, i don't like the guy, but this is out...  \n",
       "19  [i have rp and so does my cousin. i strictly l...  \n",
       "20  [the content will still likely be visual, but ...  \n",
       "21  [you don't get to decide for another person if...  \n",
       "22  [my guess would be that he is a bit resistant ...  \n",
       "23  [i think the comparison to physical disabiliti...  \n",
       "24  [it has been working pretty well so far, thoug...  "
      ]
     },
     "execution_count": 82,
     "metadata": {},
     "output_type": "execute_result"
    }
   ],
   "source": [
    "# Show topics\n",
    "freq = topic_model.get_topic_info(); freq"
   ]
  },
  {
   "cell_type": "code",
   "execution_count": 83,
   "metadata": {},
   "outputs": [
    {
     "data": {
      "application/vnd.plotly.v1+json": {
       "config": {
        "plotlyServerURL": "https://plot.ly"
       },
       "data": [
        {
         "marker": {
          "color": "#D55E00"
         },
         "orientation": "h",
         "type": "bar",
         "x": [
          0.02890796948126929,
          0.03142305521688514,
          0.04060661427528065,
          0.04240122545615706,
          0.09118393370042313
         ],
         "xaxis": "x",
         "y": [
          "community  ",
          "language  ",
          "asl  ",
          "hearing  ",
          "deaf  "
         ],
         "yaxis": "y"
        },
        {
         "marker": {
          "color": "#0072B2"
         },
         "orientation": "h",
         "type": "bar",
         "x": [
          0.023346746289755305,
          0.025987013069658584,
          0.03675724440397691,
          0.0367634919538033,
          0.04463115354838692
         ],
         "xaxis": "x2",
         "y": [
          "mental health issues  ",
          "disability  ",
          "mental health  ",
          "health  ",
          "mental  "
         ],
         "yaxis": "y2"
        },
        {
         "marker": {
          "color": "#CC79A7"
         },
         "orientation": "h",
         "type": "bar",
         "x": [
          0.02496273180334446,
          0.029669487776136882,
          0.03270633218862769,
          0.050413018531940613,
          0.057389139945130896
         ],
         "xaxis": "x3",
         "y": [
          "just  ",
          "disabled people  ",
          "person  ",
          "disabled  ",
          "people  "
         ],
         "yaxis": "y3"
        },
        {
         "marker": {
          "color": "#E69F00"
         },
         "orientation": "h",
         "type": "bar",
         "x": [
          0.02491880400931281,
          0.025221272607558153,
          0.02707379657046151,
          0.032725925093907565,
          0.03601597578173012
         ],
         "xaxis": "x4",
         "y": [
          "accessible  ",
          "workout  ",
          "gym  ",
          "blind  ",
          "exercise  "
         ],
         "yaxis": "y4"
        },
        {
         "marker": {
          "color": "#56B4E9"
         },
         "orientation": "h",
         "type": "bar",
         "x": [
          0.026437220961306913,
          0.03493801931832257,
          0.0444452945133244,
          0.05131490511725345,
          0.06667049393659646
         ],
         "xaxis": "x5",
         "y": [
          "wouldn  ",
          "screen  ",
          "computer  ",
          "use  ",
          "braille  "
         ],
         "yaxis": "y5"
        },
        {
         "marker": {
          "color": "#009E73"
         },
         "orientation": "h",
         "type": "bar",
         "x": [
          0.026831982351347785,
          0.028961827709712423,
          0.029393659658872508,
          0.04894864552600649,
          0.06417083930758585
         ],
         "xaxis": "x6",
         "y": [
          "different  ",
          "autism  ",
          "impairment  ",
          "disability  ",
          "adhd  "
         ],
         "yaxis": "y6"
        },
        {
         "marker": {
          "color": "#F0E442"
         },
         "orientation": "h",
         "type": "bar",
         "x": [
          0.02892958061377463,
          0.02909289264102514,
          0.03716143409528042,
          0.03810766191022274,
          0.03919067832131659
         ],
         "xaxis": "x7",
         "y": [
          "security  ",
          "disability  ",
          "ssi  ",
          "housing  ",
          "ssdi  "
         ],
         "yaxis": "y7"
        },
        {
         "marker": {
          "color": "#D55E00"
         },
         "orientation": "h",
         "type": "bar",
         "x": [
          0.02453191084957286,
          0.025524762711174143,
          0.027339071144089316,
          0.03223788882386609,
          0.041439782363817165
         ],
         "xaxis": "x8",
         "y": [
          "little  ",
          "life  ",
          "blindness  ",
          "blind  ",
          "sighted  "
         ],
         "yaxis": "y8"
        },
        {
         "marker": {
          "color": "#0072B2"
         },
         "orientation": "h",
         "type": "bar",
         "x": [
          0.022566902559561425,
          0.023926835723226753,
          0.0289543443842869,
          0.029610568571718978,
          0.043305080417255774
         ],
         "xaxis": "x9",
         "y": [
          "ve  ",
          "miss  ",
          "years  ",
          "pete  ",
          "wife  "
         ],
         "yaxis": "y9"
        },
        {
         "marker": {
          "color": "#CC79A7"
         },
         "orientation": "h",
         "type": "bar",
         "x": [
          0.02685510130298678,
          0.028146377298252062,
          0.029276145019363535,
          0.03915925486238153,
          0.04724618755556105
         ],
         "xaxis": "x10",
         "y": [
          "understand  ",
          "disability  ",
          "just  ",
          "like  ",
          "people  "
         ],
         "yaxis": "y10"
        },
        {
         "marker": {
          "color": "#E69F00"
         },
         "orientation": "h",
         "type": "bar",
         "x": [
          0.02744606110717055,
          0.035343545413635206,
          0.04181333570107194,
          0.04181333570107194,
          0.07677518402908089
         ],
         "xaxis": "x11",
         "y": [
          "deaf  ",
          "aids  ",
          "hearing aids  ",
          "cis  ",
          "hearing  "
         ],
         "yaxis": "y11"
        },
        {
         "marker": {
          "color": "#56B4E9"
         },
         "orientation": "h",
         "type": "bar",
         "x": [
          0.020678707946916484,
          0.021023852599703866,
          0.023497247023198442,
          0.02714616537109243,
          0.0289025863260241
         ],
         "xaxis": "x12",
         "y": [
          "really  ",
          "health  ",
          "like  ",
          "therapist  ",
          "help  "
         ],
         "yaxis": "y12"
        },
        {
         "marker": {
          "color": "#009E73"
         },
         "orientation": "h",
         "type": "bar",
         "x": [
          0.03276064028318712,
          0.032779836530222144,
          0.03824811169945624,
          0.050052088656020476,
          0.06728095960823197
         ],
         "xaxis": "x13",
         "y": [
          "muscle  ",
          "disorder  ",
          "pain  ",
          "eds  ",
          "pt  "
         ],
         "yaxis": "y13"
        },
        {
         "marker": {
          "color": "#F0E442"
         },
         "orientation": "h",
         "type": "bar",
         "x": [
          0.03274722244795959,
          0.03331528451776028,
          0.03462652560052089,
          0.04157752999136171,
          0.05931510325889936
         ],
         "xaxis": "x14",
         "y": [
          "son  ",
          "genetic  ",
          "migraine  ",
          "eye  ",
          "vision  "
         ],
         "yaxis": "y14"
        },
        {
         "marker": {
          "color": "#D55E00"
         },
         "orientation": "h",
         "type": "bar",
         "x": [
          0.025758065069982773,
          0.028961607638473382,
          0.029788334430196555,
          0.03289739177214399,
          0.03317996161265434
         ],
         "xaxis": "x15",
         "y": [
          "mobility  ",
          "person  ",
          "wheelchair  ",
          "people  ",
          "park  "
         ],
         "yaxis": "y15"
        },
        {
         "marker": {
          "color": "#0072B2"
         },
         "orientation": "h",
         "type": "bar",
         "x": [
          0.026953273188091383,
          0.027363637913140625,
          0.037200031029921234,
          0.038309093078396875,
          0.051082973035464066
         ],
         "xaxis": "x16",
         "y": [
          "behavior  ",
          "graduate  ",
          "employee  ",
          "teachers  ",
          "school  "
         ],
         "yaxis": "y16"
        },
        {
         "marker": {
          "color": "#CC79A7"
         },
         "orientation": "h",
         "type": "bar",
         "x": [
          0.022414751375698917,
          0.023043071791450858,
          0.02802483009007578,
          0.02943744609385039,
          0.03641143134780482
         ],
         "xaxis": "x17",
         "y": [
          "disability  ",
          "payments  ",
          "hate  ",
          "just  ",
          "people  "
         ],
         "yaxis": "y17"
        },
        {
         "marker": {
          "color": "#E69F00"
         },
         "orientation": "h",
         "type": "bar",
         "x": [
          0.038767549083860015,
          0.04124771870626642,
          0.04605420451680386,
          0.047650378190646235,
          0.04892969449517312
         ],
         "xaxis": "x18",
         "y": [
          "mentally  ",
          "mentally ill  ",
          "mental health  ",
          "health  ",
          "mental  "
         ],
         "yaxis": "y18"
        },
        {
         "marker": {
          "color": "#56B4E9"
         },
         "orientation": "h",
         "type": "bar",
         "x": [
          0.041590988311607166,
          0.0435745812227811,
          0.04444971211283947,
          0.044739903091019356,
          0.06622020675996602
         ],
         "xaxis": "x19",
         "y": [
          "public transportation  ",
          "transportation  ",
          "transit  ",
          "equipment  ",
          "public  "
         ],
         "yaxis": "y19"
        },
        {
         "marker": {
          "color": "#009E73"
         },
         "orientation": "h",
         "type": "bar",
         "x": [
          0.03212991725729833,
          0.033761243780423,
          0.040486460283623744,
          0.05042108113760059,
          0.0703777021507139
         ],
         "xaxis": "x20",
         "y": [
          "blind people  ",
          "mobility  ",
          "vision  ",
          "india  ",
          "blind  "
         ],
         "yaxis": "y20"
        },
        {
         "marker": {
          "color": "#F0E442"
         },
         "orientation": "h",
         "type": "bar",
         "x": [
          0.03947029172235662,
          0.040168103874530646,
          0.04018843877061912,
          0.04940704510329357,
          0.05727549919641455
         ],
         "xaxis": "x21",
         "y": [
          "mental health  ",
          "depression  ",
          "decide  ",
          "suicide  ",
          "treatment  "
         ],
         "yaxis": "y21"
        },
        {
         "marker": {
          "color": "#D55E00"
         },
         "orientation": "h",
         "type": "bar",
         "x": [
          0.04181550106902475,
          0.04181550106902475,
          0.05458498813876827,
          0.0575423786915109,
          0.08975706940960612
         ],
         "xaxis": "x22",
         "y": [
          "readers  ",
          "screen readers  ",
          "screen  ",
          "using  ",
          "blind  "
         ],
         "yaxis": "y22"
        },
        {
         "marker": {
          "color": "#0072B2"
         },
         "orientation": "h",
         "type": "bar",
         "x": [
          0.04769852104107431,
          0.05061196171781457,
          0.06067346885964488,
          0.06212529238091627,
          0.07761416741277741
         ],
         "xaxis": "x23",
         "y": [
          "issue  ",
          "reasonable  ",
          "access  ",
          "hospital  ",
          "building  "
         ],
         "yaxis": "y23"
        },
        {
         "marker": {
          "color": "#CC79A7"
         },
         "orientation": "h",
         "type": "bar",
         "x": [
          0.03700159087458553,
          0.040856235917478285,
          0.04104053477998979,
          0.04570101223030581,
          0.057558128200813026
         ],
         "xaxis": "x24",
         "y": [
          "social  ",
          "social worker  ",
          "worker  ",
          "shower  ",
          "home  "
         ],
         "yaxis": "y24"
        }
       ],
       "layout": {
        "annotations": [
         {
          "font": {
           "size": 16
          },
          "showarrow": false,
          "text": "Topic 0",
          "x": 0.0875,
          "xanchor": "center",
          "xref": "paper",
          "y": 1,
          "yanchor": "bottom",
          "yref": "paper"
         },
         {
          "font": {
           "size": 16
          },
          "showarrow": false,
          "text": "Topic 1",
          "x": 0.36250000000000004,
          "xanchor": "center",
          "xref": "paper",
          "y": 1,
          "yanchor": "bottom",
          "yref": "paper"
         },
         {
          "font": {
           "size": 16
          },
          "showarrow": false,
          "text": "Topic 2",
          "x": 0.6375000000000001,
          "xanchor": "center",
          "xref": "paper",
          "y": 1,
          "yanchor": "bottom",
          "yref": "paper"
         },
         {
          "font": {
           "size": 16
          },
          "showarrow": false,
          "text": "Topic 3",
          "x": 0.9125,
          "xanchor": "center",
          "xref": "paper",
          "y": 1,
          "yanchor": "bottom",
          "yref": "paper"
         },
         {
          "font": {
           "size": 16
          },
          "showarrow": false,
          "text": "Topic 4",
          "x": 0.0875,
          "xanchor": "center",
          "xref": "paper",
          "y": 0.8222222222222223,
          "yanchor": "bottom",
          "yref": "paper"
         },
         {
          "font": {
           "size": 16
          },
          "showarrow": false,
          "text": "Topic 5",
          "x": 0.36250000000000004,
          "xanchor": "center",
          "xref": "paper",
          "y": 0.8222222222222223,
          "yanchor": "bottom",
          "yref": "paper"
         },
         {
          "font": {
           "size": 16
          },
          "showarrow": false,
          "text": "Topic 6",
          "x": 0.6375000000000001,
          "xanchor": "center",
          "xref": "paper",
          "y": 0.8222222222222223,
          "yanchor": "bottom",
          "yref": "paper"
         },
         {
          "font": {
           "size": 16
          },
          "showarrow": false,
          "text": "Topic 7",
          "x": 0.9125,
          "xanchor": "center",
          "xref": "paper",
          "y": 0.8222222222222223,
          "yanchor": "bottom",
          "yref": "paper"
         },
         {
          "font": {
           "size": 16
          },
          "showarrow": false,
          "text": "Topic 8",
          "x": 0.0875,
          "xanchor": "center",
          "xref": "paper",
          "y": 0.6444444444444446,
          "yanchor": "bottom",
          "yref": "paper"
         },
         {
          "font": {
           "size": 16
          },
          "showarrow": false,
          "text": "Topic 9",
          "x": 0.36250000000000004,
          "xanchor": "center",
          "xref": "paper",
          "y": 0.6444444444444446,
          "yanchor": "bottom",
          "yref": "paper"
         },
         {
          "font": {
           "size": 16
          },
          "showarrow": false,
          "text": "Topic 10",
          "x": 0.6375000000000001,
          "xanchor": "center",
          "xref": "paper",
          "y": 0.6444444444444446,
          "yanchor": "bottom",
          "yref": "paper"
         },
         {
          "font": {
           "size": 16
          },
          "showarrow": false,
          "text": "Topic 11",
          "x": 0.9125,
          "xanchor": "center",
          "xref": "paper",
          "y": 0.6444444444444446,
          "yanchor": "bottom",
          "yref": "paper"
         },
         {
          "font": {
           "size": 16
          },
          "showarrow": false,
          "text": "Topic 12",
          "x": 0.0875,
          "xanchor": "center",
          "xref": "paper",
          "y": 0.4666666666666667,
          "yanchor": "bottom",
          "yref": "paper"
         },
         {
          "font": {
           "size": 16
          },
          "showarrow": false,
          "text": "Topic 13",
          "x": 0.36250000000000004,
          "xanchor": "center",
          "xref": "paper",
          "y": 0.4666666666666667,
          "yanchor": "bottom",
          "yref": "paper"
         },
         {
          "font": {
           "size": 16
          },
          "showarrow": false,
          "text": "Topic 14",
          "x": 0.6375000000000001,
          "xanchor": "center",
          "xref": "paper",
          "y": 0.4666666666666667,
          "yanchor": "bottom",
          "yref": "paper"
         },
         {
          "font": {
           "size": 16
          },
          "showarrow": false,
          "text": "Topic 15",
          "x": 0.9125,
          "xanchor": "center",
          "xref": "paper",
          "y": 0.4666666666666667,
          "yanchor": "bottom",
          "yref": "paper"
         },
         {
          "font": {
           "size": 16
          },
          "showarrow": false,
          "text": "Topic 16",
          "x": 0.0875,
          "xanchor": "center",
          "xref": "paper",
          "y": 0.2888888888888889,
          "yanchor": "bottom",
          "yref": "paper"
         },
         {
          "font": {
           "size": 16
          },
          "showarrow": false,
          "text": "Topic 17",
          "x": 0.36250000000000004,
          "xanchor": "center",
          "xref": "paper",
          "y": 0.2888888888888889,
          "yanchor": "bottom",
          "yref": "paper"
         },
         {
          "font": {
           "size": 16
          },
          "showarrow": false,
          "text": "Topic 18",
          "x": 0.6375000000000001,
          "xanchor": "center",
          "xref": "paper",
          "y": 0.2888888888888889,
          "yanchor": "bottom",
          "yref": "paper"
         },
         {
          "font": {
           "size": 16
          },
          "showarrow": false,
          "text": "Topic 19",
          "x": 0.9125,
          "xanchor": "center",
          "xref": "paper",
          "y": 0.2888888888888889,
          "yanchor": "bottom",
          "yref": "paper"
         },
         {
          "font": {
           "size": 16
          },
          "showarrow": false,
          "text": "Topic 20",
          "x": 0.0875,
          "xanchor": "center",
          "xref": "paper",
          "y": 0.11111111111111112,
          "yanchor": "bottom",
          "yref": "paper"
         },
         {
          "font": {
           "size": 16
          },
          "showarrow": false,
          "text": "Topic 21",
          "x": 0.36250000000000004,
          "xanchor": "center",
          "xref": "paper",
          "y": 0.11111111111111112,
          "yanchor": "bottom",
          "yref": "paper"
         },
         {
          "font": {
           "size": 16
          },
          "showarrow": false,
          "text": "Topic 22",
          "x": 0.6375000000000001,
          "xanchor": "center",
          "xref": "paper",
          "y": 0.11111111111111112,
          "yanchor": "bottom",
          "yref": "paper"
         },
         {
          "font": {
           "size": 16
          },
          "showarrow": false,
          "text": "Topic 23",
          "x": 0.9125,
          "xanchor": "center",
          "xref": "paper",
          "y": 0.11111111111111112,
          "yanchor": "bottom",
          "yref": "paper"
         }
        ],
        "height": 1500,
        "hoverlabel": {
         "bgcolor": "white",
         "font": {
          "family": "Rockwell",
          "size": 16
         }
        },
        "showlegend": false,
        "template": {
         "data": {
          "bar": [
           {
            "error_x": {
             "color": "#2a3f5f"
            },
            "error_y": {
             "color": "#2a3f5f"
            },
            "marker": {
             "line": {
              "color": "white",
              "width": 0.5
             },
             "pattern": {
              "fillmode": "overlay",
              "size": 10,
              "solidity": 0.2
             }
            },
            "type": "bar"
           }
          ],
          "barpolar": [
           {
            "marker": {
             "line": {
              "color": "white",
              "width": 0.5
             },
             "pattern": {
              "fillmode": "overlay",
              "size": 10,
              "solidity": 0.2
             }
            },
            "type": "barpolar"
           }
          ],
          "carpet": [
           {
            "aaxis": {
             "endlinecolor": "#2a3f5f",
             "gridcolor": "#C8D4E3",
             "linecolor": "#C8D4E3",
             "minorgridcolor": "#C8D4E3",
             "startlinecolor": "#2a3f5f"
            },
            "baxis": {
             "endlinecolor": "#2a3f5f",
             "gridcolor": "#C8D4E3",
             "linecolor": "#C8D4E3",
             "minorgridcolor": "#C8D4E3",
             "startlinecolor": "#2a3f5f"
            },
            "type": "carpet"
           }
          ],
          "choropleth": [
           {
            "colorbar": {
             "outlinewidth": 0,
             "ticks": ""
            },
            "type": "choropleth"
           }
          ],
          "contour": [
           {
            "colorbar": {
             "outlinewidth": 0,
             "ticks": ""
            },
            "colorscale": [
             [
              0,
              "#0d0887"
             ],
             [
              0.1111111111111111,
              "#46039f"
             ],
             [
              0.2222222222222222,
              "#7201a8"
             ],
             [
              0.3333333333333333,
              "#9c179e"
             ],
             [
              0.4444444444444444,
              "#bd3786"
             ],
             [
              0.5555555555555556,
              "#d8576b"
             ],
             [
              0.6666666666666666,
              "#ed7953"
             ],
             [
              0.7777777777777778,
              "#fb9f3a"
             ],
             [
              0.8888888888888888,
              "#fdca26"
             ],
             [
              1,
              "#f0f921"
             ]
            ],
            "type": "contour"
           }
          ],
          "contourcarpet": [
           {
            "colorbar": {
             "outlinewidth": 0,
             "ticks": ""
            },
            "type": "contourcarpet"
           }
          ],
          "heatmap": [
           {
            "colorbar": {
             "outlinewidth": 0,
             "ticks": ""
            },
            "colorscale": [
             [
              0,
              "#0d0887"
             ],
             [
              0.1111111111111111,
              "#46039f"
             ],
             [
              0.2222222222222222,
              "#7201a8"
             ],
             [
              0.3333333333333333,
              "#9c179e"
             ],
             [
              0.4444444444444444,
              "#bd3786"
             ],
             [
              0.5555555555555556,
              "#d8576b"
             ],
             [
              0.6666666666666666,
              "#ed7953"
             ],
             [
              0.7777777777777778,
              "#fb9f3a"
             ],
             [
              0.8888888888888888,
              "#fdca26"
             ],
             [
              1,
              "#f0f921"
             ]
            ],
            "type": "heatmap"
           }
          ],
          "heatmapgl": [
           {
            "colorbar": {
             "outlinewidth": 0,
             "ticks": ""
            },
            "colorscale": [
             [
              0,
              "#0d0887"
             ],
             [
              0.1111111111111111,
              "#46039f"
             ],
             [
              0.2222222222222222,
              "#7201a8"
             ],
             [
              0.3333333333333333,
              "#9c179e"
             ],
             [
              0.4444444444444444,
              "#bd3786"
             ],
             [
              0.5555555555555556,
              "#d8576b"
             ],
             [
              0.6666666666666666,
              "#ed7953"
             ],
             [
              0.7777777777777778,
              "#fb9f3a"
             ],
             [
              0.8888888888888888,
              "#fdca26"
             ],
             [
              1,
              "#f0f921"
             ]
            ],
            "type": "heatmapgl"
           }
          ],
          "histogram": [
           {
            "marker": {
             "pattern": {
              "fillmode": "overlay",
              "size": 10,
              "solidity": 0.2
             }
            },
            "type": "histogram"
           }
          ],
          "histogram2d": [
           {
            "colorbar": {
             "outlinewidth": 0,
             "ticks": ""
            },
            "colorscale": [
             [
              0,
              "#0d0887"
             ],
             [
              0.1111111111111111,
              "#46039f"
             ],
             [
              0.2222222222222222,
              "#7201a8"
             ],
             [
              0.3333333333333333,
              "#9c179e"
             ],
             [
              0.4444444444444444,
              "#bd3786"
             ],
             [
              0.5555555555555556,
              "#d8576b"
             ],
             [
              0.6666666666666666,
              "#ed7953"
             ],
             [
              0.7777777777777778,
              "#fb9f3a"
             ],
             [
              0.8888888888888888,
              "#fdca26"
             ],
             [
              1,
              "#f0f921"
             ]
            ],
            "type": "histogram2d"
           }
          ],
          "histogram2dcontour": [
           {
            "colorbar": {
             "outlinewidth": 0,
             "ticks": ""
            },
            "colorscale": [
             [
              0,
              "#0d0887"
             ],
             [
              0.1111111111111111,
              "#46039f"
             ],
             [
              0.2222222222222222,
              "#7201a8"
             ],
             [
              0.3333333333333333,
              "#9c179e"
             ],
             [
              0.4444444444444444,
              "#bd3786"
             ],
             [
              0.5555555555555556,
              "#d8576b"
             ],
             [
              0.6666666666666666,
              "#ed7953"
             ],
             [
              0.7777777777777778,
              "#fb9f3a"
             ],
             [
              0.8888888888888888,
              "#fdca26"
             ],
             [
              1,
              "#f0f921"
             ]
            ],
            "type": "histogram2dcontour"
           }
          ],
          "mesh3d": [
           {
            "colorbar": {
             "outlinewidth": 0,
             "ticks": ""
            },
            "type": "mesh3d"
           }
          ],
          "parcoords": [
           {
            "line": {
             "colorbar": {
              "outlinewidth": 0,
              "ticks": ""
             }
            },
            "type": "parcoords"
           }
          ],
          "pie": [
           {
            "automargin": true,
            "type": "pie"
           }
          ],
          "scatter": [
           {
            "fillpattern": {
             "fillmode": "overlay",
             "size": 10,
             "solidity": 0.2
            },
            "type": "scatter"
           }
          ],
          "scatter3d": [
           {
            "line": {
             "colorbar": {
              "outlinewidth": 0,
              "ticks": ""
             }
            },
            "marker": {
             "colorbar": {
              "outlinewidth": 0,
              "ticks": ""
             }
            },
            "type": "scatter3d"
           }
          ],
          "scattercarpet": [
           {
            "marker": {
             "colorbar": {
              "outlinewidth": 0,
              "ticks": ""
             }
            },
            "type": "scattercarpet"
           }
          ],
          "scattergeo": [
           {
            "marker": {
             "colorbar": {
              "outlinewidth": 0,
              "ticks": ""
             }
            },
            "type": "scattergeo"
           }
          ],
          "scattergl": [
           {
            "marker": {
             "colorbar": {
              "outlinewidth": 0,
              "ticks": ""
             }
            },
            "type": "scattergl"
           }
          ],
          "scattermapbox": [
           {
            "marker": {
             "colorbar": {
              "outlinewidth": 0,
              "ticks": ""
             }
            },
            "type": "scattermapbox"
           }
          ],
          "scatterpolar": [
           {
            "marker": {
             "colorbar": {
              "outlinewidth": 0,
              "ticks": ""
             }
            },
            "type": "scatterpolar"
           }
          ],
          "scatterpolargl": [
           {
            "marker": {
             "colorbar": {
              "outlinewidth": 0,
              "ticks": ""
             }
            },
            "type": "scatterpolargl"
           }
          ],
          "scatterternary": [
           {
            "marker": {
             "colorbar": {
              "outlinewidth": 0,
              "ticks": ""
             }
            },
            "type": "scatterternary"
           }
          ],
          "surface": [
           {
            "colorbar": {
             "outlinewidth": 0,
             "ticks": ""
            },
            "colorscale": [
             [
              0,
              "#0d0887"
             ],
             [
              0.1111111111111111,
              "#46039f"
             ],
             [
              0.2222222222222222,
              "#7201a8"
             ],
             [
              0.3333333333333333,
              "#9c179e"
             ],
             [
              0.4444444444444444,
              "#bd3786"
             ],
             [
              0.5555555555555556,
              "#d8576b"
             ],
             [
              0.6666666666666666,
              "#ed7953"
             ],
             [
              0.7777777777777778,
              "#fb9f3a"
             ],
             [
              0.8888888888888888,
              "#fdca26"
             ],
             [
              1,
              "#f0f921"
             ]
            ],
            "type": "surface"
           }
          ],
          "table": [
           {
            "cells": {
             "fill": {
              "color": "#EBF0F8"
             },
             "line": {
              "color": "white"
             }
            },
            "header": {
             "fill": {
              "color": "#C8D4E3"
             },
             "line": {
              "color": "white"
             }
            },
            "type": "table"
           }
          ]
         },
         "layout": {
          "annotationdefaults": {
           "arrowcolor": "#2a3f5f",
           "arrowhead": 0,
           "arrowwidth": 1
          },
          "autotypenumbers": "strict",
          "coloraxis": {
           "colorbar": {
            "outlinewidth": 0,
            "ticks": ""
           }
          },
          "colorscale": {
           "diverging": [
            [
             0,
             "#8e0152"
            ],
            [
             0.1,
             "#c51b7d"
            ],
            [
             0.2,
             "#de77ae"
            ],
            [
             0.3,
             "#f1b6da"
            ],
            [
             0.4,
             "#fde0ef"
            ],
            [
             0.5,
             "#f7f7f7"
            ],
            [
             0.6,
             "#e6f5d0"
            ],
            [
             0.7,
             "#b8e186"
            ],
            [
             0.8,
             "#7fbc41"
            ],
            [
             0.9,
             "#4d9221"
            ],
            [
             1,
             "#276419"
            ]
           ],
           "sequential": [
            [
             0,
             "#0d0887"
            ],
            [
             0.1111111111111111,
             "#46039f"
            ],
            [
             0.2222222222222222,
             "#7201a8"
            ],
            [
             0.3333333333333333,
             "#9c179e"
            ],
            [
             0.4444444444444444,
             "#bd3786"
            ],
            [
             0.5555555555555556,
             "#d8576b"
            ],
            [
             0.6666666666666666,
             "#ed7953"
            ],
            [
             0.7777777777777778,
             "#fb9f3a"
            ],
            [
             0.8888888888888888,
             "#fdca26"
            ],
            [
             1,
             "#f0f921"
            ]
           ],
           "sequentialminus": [
            [
             0,
             "#0d0887"
            ],
            [
             0.1111111111111111,
             "#46039f"
            ],
            [
             0.2222222222222222,
             "#7201a8"
            ],
            [
             0.3333333333333333,
             "#9c179e"
            ],
            [
             0.4444444444444444,
             "#bd3786"
            ],
            [
             0.5555555555555556,
             "#d8576b"
            ],
            [
             0.6666666666666666,
             "#ed7953"
            ],
            [
             0.7777777777777778,
             "#fb9f3a"
            ],
            [
             0.8888888888888888,
             "#fdca26"
            ],
            [
             1,
             "#f0f921"
            ]
           ]
          },
          "colorway": [
           "#636efa",
           "#EF553B",
           "#00cc96",
           "#ab63fa",
           "#FFA15A",
           "#19d3f3",
           "#FF6692",
           "#B6E880",
           "#FF97FF",
           "#FECB52"
          ],
          "font": {
           "color": "#2a3f5f"
          },
          "geo": {
           "bgcolor": "white",
           "lakecolor": "white",
           "landcolor": "white",
           "showlakes": true,
           "showland": true,
           "subunitcolor": "#C8D4E3"
          },
          "hoverlabel": {
           "align": "left"
          },
          "hovermode": "closest",
          "mapbox": {
           "style": "light"
          },
          "paper_bgcolor": "white",
          "plot_bgcolor": "white",
          "polar": {
           "angularaxis": {
            "gridcolor": "#EBF0F8",
            "linecolor": "#EBF0F8",
            "ticks": ""
           },
           "bgcolor": "white",
           "radialaxis": {
            "gridcolor": "#EBF0F8",
            "linecolor": "#EBF0F8",
            "ticks": ""
           }
          },
          "scene": {
           "xaxis": {
            "backgroundcolor": "white",
            "gridcolor": "#DFE8F3",
            "gridwidth": 2,
            "linecolor": "#EBF0F8",
            "showbackground": true,
            "ticks": "",
            "zerolinecolor": "#EBF0F8"
           },
           "yaxis": {
            "backgroundcolor": "white",
            "gridcolor": "#DFE8F3",
            "gridwidth": 2,
            "linecolor": "#EBF0F8",
            "showbackground": true,
            "ticks": "",
            "zerolinecolor": "#EBF0F8"
           },
           "zaxis": {
            "backgroundcolor": "white",
            "gridcolor": "#DFE8F3",
            "gridwidth": 2,
            "linecolor": "#EBF0F8",
            "showbackground": true,
            "ticks": "",
            "zerolinecolor": "#EBF0F8"
           }
          },
          "shapedefaults": {
           "line": {
            "color": "#2a3f5f"
           }
          },
          "ternary": {
           "aaxis": {
            "gridcolor": "#DFE8F3",
            "linecolor": "#A2B1C6",
            "ticks": ""
           },
           "baxis": {
            "gridcolor": "#DFE8F3",
            "linecolor": "#A2B1C6",
            "ticks": ""
           },
           "bgcolor": "white",
           "caxis": {
            "gridcolor": "#DFE8F3",
            "linecolor": "#A2B1C6",
            "ticks": ""
           }
          },
          "title": {
           "x": 0.05
          },
          "xaxis": {
           "automargin": true,
           "gridcolor": "#EBF0F8",
           "linecolor": "#EBF0F8",
           "ticks": "",
           "title": {
            "standoff": 15
           },
           "zerolinecolor": "#EBF0F8",
           "zerolinewidth": 2
          },
          "yaxis": {
           "automargin": true,
           "gridcolor": "#EBF0F8",
           "linecolor": "#EBF0F8",
           "ticks": "",
           "title": {
            "standoff": 15
           },
           "zerolinecolor": "#EBF0F8",
           "zerolinewidth": 2
          }
         }
        },
        "title": {
         "font": {
          "color": "Black",
          "size": 22
         },
         "text": "Topic Word Scores",
         "x": 0.5,
         "xanchor": "center",
         "yanchor": "top"
        },
        "width": 1000,
        "xaxis": {
         "anchor": "y",
         "domain": [
          0,
          0.175
         ],
         "showgrid": true
        },
        "xaxis10": {
         "anchor": "y10",
         "domain": [
          0.275,
          0.45
         ],
         "showgrid": true
        },
        "xaxis11": {
         "anchor": "y11",
         "domain": [
          0.55,
          0.7250000000000001
         ],
         "showgrid": true
        },
        "xaxis12": {
         "anchor": "y12",
         "domain": [
          0.825,
          1
         ],
         "showgrid": true
        },
        "xaxis13": {
         "anchor": "y13",
         "domain": [
          0,
          0.175
         ],
         "showgrid": true
        },
        "xaxis14": {
         "anchor": "y14",
         "domain": [
          0.275,
          0.45
         ],
         "showgrid": true
        },
        "xaxis15": {
         "anchor": "y15",
         "domain": [
          0.55,
          0.7250000000000001
         ],
         "showgrid": true
        },
        "xaxis16": {
         "anchor": "y16",
         "domain": [
          0.825,
          1
         ],
         "showgrid": true
        },
        "xaxis17": {
         "anchor": "y17",
         "domain": [
          0,
          0.175
         ],
         "showgrid": true
        },
        "xaxis18": {
         "anchor": "y18",
         "domain": [
          0.275,
          0.45
         ],
         "showgrid": true
        },
        "xaxis19": {
         "anchor": "y19",
         "domain": [
          0.55,
          0.7250000000000001
         ],
         "showgrid": true
        },
        "xaxis2": {
         "anchor": "y2",
         "domain": [
          0.275,
          0.45
         ],
         "showgrid": true
        },
        "xaxis20": {
         "anchor": "y20",
         "domain": [
          0.825,
          1
         ],
         "showgrid": true
        },
        "xaxis21": {
         "anchor": "y21",
         "domain": [
          0,
          0.175
         ],
         "showgrid": true
        },
        "xaxis22": {
         "anchor": "y22",
         "domain": [
          0.275,
          0.45
         ],
         "showgrid": true
        },
        "xaxis23": {
         "anchor": "y23",
         "domain": [
          0.55,
          0.7250000000000001
         ],
         "showgrid": true
        },
        "xaxis24": {
         "anchor": "y24",
         "domain": [
          0.825,
          1
         ],
         "showgrid": true
        },
        "xaxis3": {
         "anchor": "y3",
         "domain": [
          0.55,
          0.7250000000000001
         ],
         "showgrid": true
        },
        "xaxis4": {
         "anchor": "y4",
         "domain": [
          0.825,
          1
         ],
         "showgrid": true
        },
        "xaxis5": {
         "anchor": "y5",
         "domain": [
          0,
          0.175
         ],
         "showgrid": true
        },
        "xaxis6": {
         "anchor": "y6",
         "domain": [
          0.275,
          0.45
         ],
         "showgrid": true
        },
        "xaxis7": {
         "anchor": "y7",
         "domain": [
          0.55,
          0.7250000000000001
         ],
         "showgrid": true
        },
        "xaxis8": {
         "anchor": "y8",
         "domain": [
          0.825,
          1
         ],
         "showgrid": true
        },
        "xaxis9": {
         "anchor": "y9",
         "domain": [
          0,
          0.175
         ],
         "showgrid": true
        },
        "yaxis": {
         "anchor": "x",
         "domain": [
          0.8888888888888888,
          1
         ],
         "showgrid": true
        },
        "yaxis10": {
         "anchor": "x10",
         "domain": [
          0.5333333333333334,
          0.6444444444444446
         ],
         "showgrid": true
        },
        "yaxis11": {
         "anchor": "x11",
         "domain": [
          0.5333333333333334,
          0.6444444444444446
         ],
         "showgrid": true
        },
        "yaxis12": {
         "anchor": "x12",
         "domain": [
          0.5333333333333334,
          0.6444444444444446
         ],
         "showgrid": true
        },
        "yaxis13": {
         "anchor": "x13",
         "domain": [
          0.35555555555555557,
          0.4666666666666667
         ],
         "showgrid": true
        },
        "yaxis14": {
         "anchor": "x14",
         "domain": [
          0.35555555555555557,
          0.4666666666666667
         ],
         "showgrid": true
        },
        "yaxis15": {
         "anchor": "x15",
         "domain": [
          0.35555555555555557,
          0.4666666666666667
         ],
         "showgrid": true
        },
        "yaxis16": {
         "anchor": "x16",
         "domain": [
          0.35555555555555557,
          0.4666666666666667
         ],
         "showgrid": true
        },
        "yaxis17": {
         "anchor": "x17",
         "domain": [
          0.17777777777777778,
          0.2888888888888889
         ],
         "showgrid": true
        },
        "yaxis18": {
         "anchor": "x18",
         "domain": [
          0.17777777777777778,
          0.2888888888888889
         ],
         "showgrid": true
        },
        "yaxis19": {
         "anchor": "x19",
         "domain": [
          0.17777777777777778,
          0.2888888888888889
         ],
         "showgrid": true
        },
        "yaxis2": {
         "anchor": "x2",
         "domain": [
          0.8888888888888888,
          1
         ],
         "showgrid": true
        },
        "yaxis20": {
         "anchor": "x20",
         "domain": [
          0.17777777777777778,
          0.2888888888888889
         ],
         "showgrid": true
        },
        "yaxis21": {
         "anchor": "x21",
         "domain": [
          0,
          0.11111111111111112
         ],
         "showgrid": true
        },
        "yaxis22": {
         "anchor": "x22",
         "domain": [
          0,
          0.11111111111111112
         ],
         "showgrid": true
        },
        "yaxis23": {
         "anchor": "x23",
         "domain": [
          0,
          0.11111111111111112
         ],
         "showgrid": true
        },
        "yaxis24": {
         "anchor": "x24",
         "domain": [
          0,
          0.11111111111111112
         ],
         "showgrid": true
        },
        "yaxis3": {
         "anchor": "x3",
         "domain": [
          0.8888888888888888,
          1
         ],
         "showgrid": true
        },
        "yaxis4": {
         "anchor": "x4",
         "domain": [
          0.8888888888888888,
          1
         ],
         "showgrid": true
        },
        "yaxis5": {
         "anchor": "x5",
         "domain": [
          0.7111111111111111,
          0.8222222222222223
         ],
         "showgrid": true
        },
        "yaxis6": {
         "anchor": "x6",
         "domain": [
          0.7111111111111111,
          0.8222222222222223
         ],
         "showgrid": true
        },
        "yaxis7": {
         "anchor": "x7",
         "domain": [
          0.7111111111111111,
          0.8222222222222223
         ],
         "showgrid": true
        },
        "yaxis8": {
         "anchor": "x8",
         "domain": [
          0.7111111111111111,
          0.8222222222222223
         ],
         "showgrid": true
        },
        "yaxis9": {
         "anchor": "x9",
         "domain": [
          0.5333333333333334,
          0.6444444444444446
         ],
         "showgrid": true
        }
       }
      }
     },
     "metadata": {},
     "output_type": "display_data"
    }
   ],
   "source": [
    "topic_model.visualize_barchart(top_n_topics=31)"
   ]
  },
  {
   "cell_type": "code",
   "execution_count": 84,
   "metadata": {},
   "outputs": [
    {
     "data": {
      "text/plain": [
       "0           [Challenges of Living with Disabilities]\n",
       "1           [Deaf Mental Health Services Oppression]\n",
       "2                [Mental Health Disability Validity]\n",
       "3            [Disability Advocacy and Communication]\n",
       "4               [Blind Friendly Exercise Activities]\n",
       "5                     [Braille for Independent Work]\n",
       "6           [Neurodiversity and Workplace Inclusion]\n",
       "7              [Social Security Disability Programs]\n",
       "8           [Navigating Life with Visual Impairment]\n",
       "9                  [Coping with Heartbreak and Loss]\n",
       "10           [Struggles of Living with Disabilities]\n",
       "11                        [Living with Hearing Loss]\n",
       "12              [Mental Health Treatment Challenges]\n",
       "13                   [Hypotonia and Hypermobile EDS]\n",
       "14        [Emotional Struggle with Vision Diagnosis]\n",
       "15          [Mobility Challenges in Social Settings]\n",
       "16                      [Workplace and School Abuse]\n",
       "17          [Challenges of Living with Disabilities]\n",
       "18                  [Mental Health Crisis and Jails]\n",
       "19        [Accessible Public Transportation Options]\n",
       "20         [Vision and Mobility Assistance in India]\n",
       "21          [End-of-Life Autonomy and Mental Health]\n",
       "22                      [Blind Life Skills Training]\n",
       "23    [Mental Health Hospital Access Discrimination]\n",
       "24             [Medical Foster Care Abuse Reporting]\n",
       "Name: OpenAI, dtype: object"
      ]
     },
     "execution_count": 84,
     "metadata": {},
     "output_type": "execute_result"
    }
   ],
   "source": [
    "freq['OpenAI']"
   ]
  },
  {
   "cell_type": "code",
   "execution_count": 85,
   "metadata": {},
   "outputs": [
    {
     "data": {
      "text/plain": [
       "{-1: '-1_health_just_like_mental',\n",
       " 0: '0_deaf_hearing_asl_language',\n",
       " 1: '1_mental_health_mental health_disability',\n",
       " 2: '2_people_disabled_person_disabled people',\n",
       " 3: '3_exercise_blind_gym_workout',\n",
       " 4: '4_braille_use_computer_screen',\n",
       " 5: '5_adhd_disability_impairment_autism',\n",
       " 6: '6_ssdi_housing_ssi_disability',\n",
       " 7: '7_sighted_blind_blindness_life',\n",
       " 8: '8_wife_pete_years_miss',\n",
       " 9: '9_people_like_just_disability',\n",
       " 10: '10_hearing_cis_hearing aids_aids',\n",
       " 11: '11_help_therapist_like_health',\n",
       " 12: '12_pt_eds_pain_disorder',\n",
       " 13: '13_vision_eye_migraine_genetic',\n",
       " 14: '14_park_people_wheelchair_person',\n",
       " 15: '15_school_teachers_employee_graduate',\n",
       " 16: '16_people_just_hate_payments',\n",
       " 17: '17_mental_health_mental health_mentally ill',\n",
       " 18: '18_public_equipment_transit_transportation',\n",
       " 19: '19_blind_india_vision_mobility',\n",
       " 20: '20_treatment_suicide_decide_depression',\n",
       " 21: '21_blind_using_screen_screen readers',\n",
       " 22: '22_building_hospital_access_reasonable',\n",
       " 23: '23_home_shower_worker_social worker'}"
      ]
     },
     "execution_count": 85,
     "metadata": {},
     "output_type": "execute_result"
    }
   ],
   "source": [
    "topic_model.topic_labels_"
   ]
  },
  {
   "cell_type": "code",
   "execution_count": 94,
   "metadata": {},
   "outputs": [
    {
     "data": {
      "application/vnd.plotly.v1+json": {
       "config": {
        "plotlyServerURL": "https://plot.ly"
       },
       "data": [
        {
         "hoverinfo": "text",
         "hovertext": [
          "i think they should be treating your losses as sudden hearing loss, an emergency. for your reference my dosage is prednisolone 5mg : 60mg for  days, 40mg for  days, 20mg for . they've no idea how it works,  it either brings down inflammation or it switches off the immune system in case your body is attacking itself.  either way, it seems to work and i won't risk it without it. i take it the moment my hearing drops off.",
          "i never got the chance to tell pete how much his words, \"embrace the suck,\" had become a life support for me, especially during those dark times. i miss him deeply. his voice still comes to me in my darkest moments—when i’m heartbroken, depressed, disappointed, feeling worthless, or hurt by someone. i completely \"embrace the suck.\" i live it, letting it fully affect my emotional state. i allow myself to feel the pain completely until it’s gone. i even set deadlines to cut the crap if it lingers too long, but i always give the pain a place to exist.",
          "specialist, and my pharmacist. the psych and pain doctors, i've been seeing for years now; they know i have not been abusing either medication, nor other medications in breach of my opiod use contract. they know my entire health record, and how each medication improves my life. they know that potential interactions at the prescribed dosages are not occurring, and have both given me plenty of information each year as required on things to watch out for, such as seizures, respiratory distress, and seratonin syndrome. the only new factor here is the pharmacy, since walmart recently decided not to fill the pain doctor's medications, as they seem to believe he is prescribing way more than he ought, in spite of the fact that both major medical networks out here have begun requiring primaries and specialists to farm out chronic pain management to pain specialists specifically, so literally every pain management doctor is suddenly doing bigger numbers overall, even if the percentage of",
          "i was in a program for clinical mental health counseling. good luck on the job search and agreed on the online program difficulties.",
          "it's a stupid saying. the best \"revenge\" is to work on yourself and your mental health to where you no longer feel the need for revenge. therapy (with a good therapist) is a great place to do this.\n\nwe've all been wronged. the people that have wronged us have also been wronged by someone. your bosses, friends, and exes have been wronged. they've wronged you. you've wronged them. and that's ok! it's a part of being human. we all make mistakes!\n\nit's so important to remember that when people wrong us it's because of their own issues and traumas that have led them to act or react badly. when we ourselves wrong people it's because of our own issues and traumas that lead us to act or react badly. each and every one of us can always learn and do better! and that's normal and healthy.",
          "it’s setting boundaries. you can’t play with with me til you don’t hurt me. plenty of people go no contact. therapists sometimes recommend it. it’s mainly to safeguard your mental health not to change the other person. this father is doing damage to his child by trying to get them not to pay attention to their disability. not to do self care, not to take care of themselves. that harms op. should they have someone in their life that is actively stressing them out and trying to push themselves to exhaustion and possible physical harm? hell no! keep that out of your life. set boundaries for that person bit them in a box where they can’t harm you. if it was a boyfriend or girlfriend i would say breakup. but if it’s family you can go no contact.",
          "i totally understand your perspective, i have had my fair share of surguries that didn't work too! \n\ni think the most important thing to remember is that sight (while very useful and awesome) is not needed to live my life to the fullest. i can be positive and recognize that yeah, i am missing out on stuff. yeah people do take me less seriously, and i do get discriminated against in the workplace. but there are things that make life worth it anyway. \n\ntoxic positivity is definitely a problem in the disabled community. it diminishes our ability to get help because we are suddenly superhumans or inspiration porn. i'm definitely not toxicly positive. \n\nbut i have learned to love again, love my s/o, my hobbies and my life. it took a long time. and i'm still learning, but i'm alive. and i am stubborn as hell. and i'm gonna live a damn good life regardless 🤣\n\n\ni wish you the best, you are lovef, you matter. ❤",
          "sorry i don’t have more practical advice, but i hope this helps. my mum and i have had issues of course, but they aren’t because she’s disabled.\nthank you! i know i try my best to show that to both my baby and my stepson. i have a really close relationship with my stepson despite him being a sports kid and me not being able to very limited sports things with him: i needed that reminder",
          "i was on ssdi for my anorexia as an adult in my 20s for medical/physical reasons. not mental health. got approved almost instantly. \n\nnow im  and no longer recovering-- have a seed of  years now-- and on ssdi for completely different reasons (albeit probably caused in part by my ed, but i no longer tell medical providers about my ed and don't have a treatment team any longer).\neating disorders are mental illnesses and they can lead to physical illnesses but i would not equate having anorexia to having multiple sclerosis. feels like comparing apples to oranges in my opinion.\nbut i wouldn’t be so concerned what others consider a disability as in a lot of ways that’s subjective, what might be disabling for me might not really bother you.",
          "to tell us she was embarrassed of his mental illness it was my grandma who told us as she noticed my anxiety and could understand me and explained grandad, i asked about my grandad to my mum for my own curiosity of having a mental illness and she just shut me out and pretended i wasn’t mentally ill either she denied it to her self making me feel unloved, i haven’t seen my family for  years because of my mental health for my own health i had leave so my husband and his family are my family and fully accept me. i use to wish every day to be different to be normal understood but that doesn’t exist. so many of us are struggling with our demons and pain but we survive ✊",
          "> rural living can be challenging for anyone, but from my experience it’s just not feasible for anyone who is blind/low vision.",
          "besides it doesn't sound like this person is safe in your workplace if they amputated a digit. that's a huge safeguarding issue if somebody working there is not able to understand that risk. god forbid they hurt somebody else to that extent. kicking an already injured leg is bad enough.\nit is not ableist to expect a disabled employee to adhere to the same standards of conduct and courtesy as a non-disabled employee.    the goal of the ada and other non-discrimination laws is to level the playing field and treat disabled employees equally, not give preferential treatment to disabled employees.   yes, a disabled employee is entitled to reasonable accommodations, but the key word here is \"reasonable\".",
          "my experience is rather limited, as i intended to start therapy again right before pandemic hit, and my experience are from the times i was severely depressed, so it didn't really cover a lot of my life.\n\nbut... what i can say is that i have noticed that not only professionals aren't aware (or understand) the deaf cultura, they also aren't aware of how much society can be ableist and how that can compound with other mental health issues and identities, as well, not understanding how capitalism is extremely oppressive and problematic for disabled people (not only deaf/deaf/hoh), or even how society can teach us a lot of subtle messages in ways that a non disabled person doesn't even realize. and of course, they tend to not be aware of any disability history.",
          "oftentimes, we have preconceived notions of what life and relationships and our futures should be but it's like that ol' addage:  if you wanna make god laugh -- make plans for the future.     \n\n\nyou've both got the journey of life before you  --  there is no right or wrong answer.",
          "if i wanted a guide dog, i would have a guide dog. as i explained in my initial post, i don't always want to be traveling with the dog. there are days when i barely remember to take my house keys and all the other important stuff. if i can barely focus on myself and where i need to go, how can i also focus on keeping anyone else safe? people approaching me is something else i don't handle, hense not wanting a dog guide. if i'm going somewhere, i want to get from point a to point b with was few distractions as possible.\nof course, your oandm skills have to be good to have a dog guide. i believe that my skills are sufficient enough and provide me enough independence that i don't require a dog. as i stated in a previous comment, there would be times more often than not where i would be doing the dogs work for them, making the job of the dog almost redundant.",
          "any of this sound familiar? i would like nothing more than for things to work out for you and wish you luck. i really do. but it's a crapshoot and two emotionally or mentally broken people rarely stay together in the end. the truth is the percentage is high that it will fail, but i would rather be honest with you than blow smoke up your ass or try and convince you that everything is unicorns and rainbows.\nhonestly, none of that sounds familiar. we don't take it out on each other, we don't fight or use drugs to cope, we don't hurt each other. we also are a gay couple who doesn't want kids. so we aren't abusing or neglecting any kids. \n\nit's all connected, disability, financial, mental health. because of disability and mental health, he's been having to take more time off work. now my physical and mental health is getting so bad i have to take time off work. our mental health is getting even worse due to financial stress and our failing bodies,",
          "also check out [the science of cbd topicals: organic grit cbd salve for deep pain relief]( [cbd and arthritis: easing joint pain and improving mobility](",
          "but my chronic pain and joint injuries are not disabilities because of society. they’re miserable because i’m in pain and i can’t sleep or function when they’re acting up. yeah they’re way worse because societal factors have frequently made them worse by forcing me to use my limbs and increase my pain anyway, but i’ve been working to cure them for years.",
          "i used to run track in middle school and high school. fairly fast but not the best.  second 400m, could never break the  second barrier sadly. after high school i went into the military because my parents were already paying for my brothers’ college. i didn’t want to be another financial burden and the military was a solution. few years of service later, i developed knee problems. my fastest two mile in high school was :, not stellar but above average for the most part. after those years of service, knees just worn out, cannot even do  minute two miles. and that’s just depends on if i even last the two miles.",
          "on the other hand, i’m a doctor and even when well resourced and w good support systems, some people’s mental health issues are crushing. i really don’t know how i would feel about signing off on something like this.\nit will be interesting come march, how doctors make their decision and all. does canada have a lot mental hospitals? or are there waiting lists for that too?\n\ni had a stay in one here in the us and i'll be damned if i ever put myself through that again, it was like prison. i would be scared this new maid for mental health would be a trick and i'd be locked up again.\nand throw other mentally ill people who want to live but struggle financially under the bus? the system is so broken. no.",
          "this kind of communication can be a challenge, even for people in the best state of mind. for people who are experiencing mental health problems, it can be really challenging to feel triggered and not become reactively defensive. some people may be able to practice skills that make it a bit easier to manage their triggers in a more productive way, and some have less capacity for it. for those who have some capacity to do so, these skills can help diminish triggers from turning into unmanageable emotional cascades.\n\n- is it helpful for a therapist (or anyone) to tell a client (or anyone) to shut up.\n\nno. maybe only in the very rarest circumstances where silence is needed for safety and the two people have a very trusting relationship already.\n\n- is it helpful to tell someone you disagree with that they are “out of their lane?”",
          "this always hurts me knowing my mom will never understand me no matter how much she says she does.. she had the audacity to tell me she has experience with mental health and knows a lot of people who do too.. like?? that doesn't change her ignorance..\n\ni'm just tired",
          "if you have anemia that causes any sort of dizziness that’s gonna go under the fall risk category. if you’re inpatient in a hospital and have a known chronic illness with any mobility issues they’ll probably put you as a fall risk. \nwhat’s oi stand for\ni was a nurse for + years. % is a fall risk. old, under , medications, mobility devices, medical conditions, history of falls, etc👌🏽\nall patients have “ the right to fall and sue”. we have a right to cover our butts legally, everyone is clumsy and has blame in their fall.\nthat makes sense! in my case this was from a neurosurgeon consult and a referral for a full-body bone scan, but that might become relevant when i have a surgery at the end of this month that might affect my mobility during recovery\ni didn't bring up mobility aids (which i use every once in a while) at the appointment where this was noted down (the photo is from my records), just the fact i fainted and fell",
          "society is victim to capitalist propaganda. we've been conditioned to equate human value with ability to work. with making money. if you aren't doing those things, people perceive you as a deadweight, a mooch, a leach, a parasite, etc. but there's a huge difference between sitting around doing nothing because you simply don't want to work or contribute and not working because of a legitimate reason. i honestly think people get jealous. that they want a break from their daily grind, and that's why they're so eager to accuse disabled people of not trying hard enough or \"faking\" it. oh, the irony, right? jealous of this??? they truly don't know how much we suffer if they feel jealous of us. their feelings are so misdirected though. what they should be doing is getting mad at their employers for exploiting them and unionizing the workplace if possible. they wouldn't feel so jealous if they actually had decent work hours, decent vacation times, pto, paid sick days, and actually good",
          "my mental health isn't stellar either so i know no one is perfect. i have clinical depression, adhd, autism, and now ptsd. i've also come to the conclusion that my conditions probably make me more vulnerable to predators and it's important to learn how to protect myself from them. \n \nafter what i've been through, i'm not sure if i'm being ableist. i'd like to think that i'm not, i'm just protecting myself. i guess it's a blurry line into ableism for me.",
          "it’s not necessarily anyone’s fault or “problem” you might just need additional emotional support around it which is really important. and they might need an explanation cause they sound oblivious and are likely unaware of the harm it’s causing.\n\neven just something simple like “hey i’m glad i’m able to help with perspective and information but when i talk about specifics like this i’m usually looking for emotional support instead of comparison and sometimes the immediate jump to how you feel about it can be hurtful when i need support.”",
          "universities have very high entry requirements and no workplace will take me if i'm self taught.",
          "as far as i’m concerned, if esas were trained to the same high standards of service dogs, i wouldn’t care about them. i don’t even really care if someone takes their well-trained pet with them. as long as the dog isn’t making a mess or being disruptive, it doesn’t bother me, whether they’re doing a specific job, or not. \n\nhowever, as long as there’s no training standard for emotional support animals, and people use it as an excuse to try and take their badly behaved pet with them, the whole thing is going to be a problem to guide dog handlers.",
          "and, it's completely normal to grieve for what you thought was your future. i think we all go through that at some point when we come to terms with our disabilities.\ni’m schizotypal too. \n\ni never finished college due to my mental health and i have an office job. i’ve been handling workers comp claims in insurance for  years now.  \n\nthere are other office jobs out there that don’t require a degree. i started at the bottom as a tech and worked my way up to the position i’m in now. \n\ni would not be able to work if it wasn’t for my accommodations and utilizing fmla. but it’s a job and my health benefits are good.",
          "i do a variety of social/partner dance styles and have dabbled in some solo dances like ballet. for the partner dancing, i love the physical movements in time to the music, but also finding new ways to respond to the music and the movements of my partner. there’s a give-and-take to the inertia and the movements that gives a visceral satisfaction. i also improved my physical fitness significantly when i started dancing regularly.",
          "i am not saying that it is impossible. it depends on the disabilities the couple has and their severities. you obviously love and care for your partner, that doesn't mean it's healthy. the original info you gave sounded of desperation, this now sounds more like it's all financial, rather than disability related.\n\ni suggested couples therapy in my previous response. are either or both of you getting therapy individually for your mental health / physical issues? on medications? have family or friends that can help?\n\ni actively participated in growing up with both of my parents dealing with mental issues struggle through love, hatred, abuse, marriage and divorce, depression, grief, manipulation, neglect, bargaining, drug use, alcoholism, resentment, anxiety, animosity and progressively deteriorating health for nearly  years before cutting almost all contact with them both. they were soulmates and life partners too.",
          "so to answer your question, it’s not too much of him to crave human connection. however, there is a reason why in society we have several roles that are separate. your wife can’t be your mother, your workmate can’t be your psychiatrist outside of working hours, you can’t be romantic with your children. we try all we can to encourage him and take opportunities that are available to him so that he can live a fulfilling life, but he denies. he wants to rely on us playing all the roles in his life. i can’t do this, and i am not the only one.",
          "i don’t know if it was as much as « not fun anymore » as it might have been completely overwhelming to her. my recent ex-husband knew i was disabled and was a bastion of support for me. but when i had a nervous breakdown and was diagnosed with dissociative identity disorder, it became completely overwhelming for him. he tried to support me and we tried to make it work but ultimately it degraded his mental health (and mine). it hurt both of us but thankfully we were able to stay friends. caregiving is extremely draining work which is why people get paid to do it.",
          "ever since a toddler i have picked my fingers and still do, so for  years i have picked them till they bleed and afterwards i get embarrassed and shamed. this is from a trauma as a baby that caused a permanent bruise mass on my upper lip from being held incorrectly and bashing my lip on my dad tooth, after this my mum said i started picking my fingers, being shy nervous and not wanting to go to school because felt sick. she said she took me to doctors and the doctor prescribed medication for heartburn and indigestion to settle tummy, and put plasters on fingers!! she just thought i was shy and nervous and not mentally traumatised by the accident so don’t know in / how help with these symptoms in the uk were diagnosed. it took  years to get an anxiety diagnosis and another  to say it’s agoraphobia and a disability. as you do research of other symptoms of anxiety because not sure if it’s normal behaviour or due to anxiety i’m so confused with results. i’m a shamed of my past because of",
          "therapists love getting this information early on.\n\n\nyou could write a list to hand over during the appointment, send an e-mail in advance, give a powerpoint presentation, make a diagram.\n\n\nthe first session will start with your therapist going over their terms of service, and making sure you understand their duty of care/mandatory reporter responsibilities, and consent to be their client.\n\n\nthen they'll ask why you're seeing them, and that's when you give the rundown of all the stuff going on with you.\n\n\nit might help you to prepare a timeline in advance that you can refer to. (when various conditions/symptoms became obvious to you, when you received diagnoses, key periods of abuse or traumatic events, etc.)\n\n\ni honestly don't know what role your therapist could play in \"helping with my disability and struggles with the medical system\". what do you mean by that?",
          "i would say this is a very good opportunity to talk to your friends, see if anyone is interested in teaching. further, a quick dancing lesson from a professional can help allot provided they understand your requirement correctly.\n\nno tech product can come closer to that feeling of dancing with someone, enjoying the moment, the human touch.\n\ni did think about gpt 4o, but it is yet to be in consumer's hands, and i wouldn't suggest doing any physical activity with that thing just yet, getting injured is a high probability. look up gpt 4o on google if you don't know what it is. it was announced on may 13th .",
          "that's really cool. i'm glad you enjoyed the experience so much. i prefer reading books and stuff to dealing college campuses though. lol. i think although going the psychology special interest route might be a particularly challenging path, i'd say it becomes invaluable. versus learning communication skills without having as much foundational understanding of why it's effective on most people.",
          "sorry if it's too personal, but were you diagnosed with a mental health condition and then also diagnosed with cfs?",
          "some ideas, and really, these help all tas, not just the deaf/hoh ones…\n\n-for any emergency information and procedures, especially for students with specific medical needs, type them up on one sheet, the largest font that will fit, laminate it onto red paper, and post it by the phone or the door. \n\n-it is helpful if you introduce her to people and fill them in on what they do and privately share who is good to work with and who is… not very supportive. \n\n-ask if she has a preference for communicating information. i once had a ta who preferred to have a checklist of things to do each day. it was annoying and tedious to write it out, but it really did help the day go much smoother. \n\n-find out what she likes and her skills. is she a good artist? ask her to make a bulletin board. does she like to get outside for exercise and you need someone to walk a kid around to calm them down? give her that task.",
          "around that time, pete had just gone through a tough divorce from his newlywed wife, which also led to a separation from his baby daughter. i was looking for a new place to live, so i moved in with him. those were dark days for pete as he coped with the loss and loneliness. he was a trip, i tell you. he even figured out how to loop the dvd player, so \"fight club\" played / in our living room. at one point, he kissed his hand, poured lye on it, and gave himself a real chemical burn—just like in the movie.\n\nwhile living with pete, i was also developing a serious relationship with a young woman who was studying at uc santa cruz. the long distance made things difficult at times, and when the relationship hit hurdles, i didn’t always handle the grief and rejection well. but pete was always there for me. he validated my pain, empathized with me, and pushed me to turn my suffering into motivation for creativity.",
          "i'm blind in my left eye, been that way since birth, and usually when i go out in public, i wear an eye patch and people usually don't really bring it up or say anything about it. so in regards to that, based off my own experiences, it shouldn't really be an issue. though if like me, you end up using a white cane to help with \"seeing\" on your blind side and the lack of depth perception, expect people to be super awkward and weird about it and just always assume you have less sight than you actually do and people seem to always notice the cane and never notice the eye patch, at least in my experience. but if using a white cane helps you, don't let how others react to the cane discourage you, though i do realize that's significantly easier said than done. and if others are super weird and awkward about you using a white cane, getting a cane that's customized to be colors you like/to fit your aesthetic will help a lot in making other people less awkward and weird about it and in improving",
          "i think this is a very hard road ahead for all of you, but he needs to get out of that spiral before it’s too late. please get him talking to other b/vi people and/or mental health professionals. i am happy to talk to any of you in dms if it will help, but what i really think would help most is real life contact, not a random weirdo on reddit. (this is also a guess, but i’m guessing that if he was inclined to look for support from reddit he would already be here.)\nthank you. your response was very thorough and your assumptions were accurate. i think we do need to bring the focus back to mental health, community and therapy. my step mom is very passive and avoidant when it comes to hard conversations - so i know the  responsibility for dealing with this will be placed on my shoulders. he thinks he is beyond therapy. have i mentioned i am a therapist? lol. i do not attempt to do work on my family, way too exhausting.",
          "and even if you end up getting a really cool job that you really enjoy and you have piles of money it will still be okay if sometimes you wonder how things would have been if you were able to graduate now and get that office job. and to maybe feel a bit sad that you didn't get the chance to find out. it should be something you dwell on or that takes over your life. but it's okay to think about it sometimes.",
          "disabilities, if there was such a thing as a pill that i could take to end my life i would have taken it back then and would still take it right now. that said these days i try to make the best of the hand that life dealt me, and am eagerly yet patiently waiting for my natural or accidental death, or an opportunity to safely exit life.",
          "i can’t be an assistant, a motherly figure, a buddy, a psychiatrist, a chef, a comedian, expert for official affairs, the person who cleans you or gives you a respirator while also being an entertainer, nobody can be all that at once. i saw too many colleague’s quit this occupation due to burnout. boundaries can start to blur when you are so close to someone all day every day, but we really gotta be careful that this doesn’t happen. the social aspect and the mental health aspect as well as the physical / psychological aid, those are tasks that need to be spread and shared among people. all clients except for him understand that. i want him to not dread being with himself for a bit and to find something for himself that makes him happy. my clients can’t be my friends. happened to me once and when he died i was broken for months. we are friendly, but i could quit this job tomorrow or he could get fewer hours of pca next year. i might be replaced by someone who isn’t as chatty and he",
          "it's called different things because it manifests in different ways, but basically yes - it can be hard to feel like you identify with a group that you've had so little contact with.  you've been mostly muddling by through making yourself fit in with your hearing peers because that was your source of social interaction etc.  now that you're getting older that's not quite working and your social worker's noticed something in your interactions.",
          "as far as technology, i use larger computer screens at work and increase font sizes. i set the brightness and contrast so i can see better. i always make sure rooms i’m in regularly and can control have bright enough lighting since i have issues with seeing in the dark. i’ve mostly given up driving unless absolutely necessary, especially at night. what you need may be different, but there are settings and computer themes you can use to help better with your challenges.\n\ni use blue light filters on my phone to remove blue light, especially at night, to avoid eye strain. voice to text is a lifesaver at times. \n\nfor eye health, i see my eye doctors for routine checks at least yearly to make sure the rest of my eye health is still good, since my mom found out she had glaucoma around my age. i also make sure to wear sunglasses when i’m outside for uv protection.",
          "a few things that might help- you seem to be pretty certain this friend actually does have pain and isn't simply malingering. remind yourself that they may be clinging to your symptoms so hard, because their own common dxs that they have been given so far might not adequately explain the volume and type of pain they perceive. there might be more going on for them the they are able to get dx'd at the moment. there may be mental health complications that are making the physical issues they experience significantly more difficult to navigate.",
          "\"that happens with tinnitus\"?! does it? i've never heard of that!  \ni'm assuming we're both in the uk so the ent dr prescribed initially.  i must've got referred to the hospital with sudden 'idiopathic' hearing loss and literally the only treatment they have is steroids. (i have a dead left ear and mod/severe loss in the good ear so when that pops off its total silence).\n\nas it's so hard to get an appt in an ent emergency (i've gone through aande at one point)  i got the ent to write to the gp with the prescription so i can just obtain it when it happens and give myself the dose. they can also administer injections straight into the cochlear but i've never had that as i really don't fancy it. all ent drs assume you can just stroll in and get your appt which is never the case.",
          "if a mental health provider or other medical provider involved in your care writes you a letter stating you medically need the dog as part of your treatment plan, that esa dog is protected the same way a service dog is, at least in the us. look up fha laws on assistance animals. those cover sd, sdit, and esas.",
          "my mum has gotten progressively more disabled as my life has gone on. one of my first memories is getting her cane for her so she could get out of bed. i still love her and wouldn’t trade her for anything, and while i sometimes wish that we could’ve done more physical activities together, i never really thought about it until other people pointed it out. i have grieved with her as her health gets worse, but i’m also very grateful that as i’ve developed my own health issues in the last few years that i’ve had someone in my corner who really gets it. no one understands me like my mum *because* she is a disabled parent. she’s also instilled so much compassion in me, and even before i got sick i was much more aware of accessibility needs and ableism than others my age. i’m so blessed to be able to say that her disability has made me a better person. your child will likely grieve some of the differences in their childhood when they get older, but that will not be the defining characteristic",
          "neurodiversity is interesting because in a way it is a separate movement but it is alongside disability rights just with the addition of all mental health not just disabilities. aspie supremacists try and claim the neurodiversity movement for themselves occasionally but i oppose this strongly because solidarity is more important than *being right all the time.* if we have disagreements or different perspectives, we discuss them cleanly and productivity, we should never ever fight another comrade who believes in solidarity.",
          "granted, it's not really fair to expect every autistic person to devote years of their life to studying human psychology to mesh better with society. so i feel like i've gone around in a circle to some extent where the original intent was to essentially get really good at masking (even in private out of internalized ableism), and now i understand enough about psychology to know that level of masking is detrimental to my mental health and so i do it less.\n\ni'm still trying to strike that balance between being safe and being myself because while ex: rocking back and forth when stressed hurts absolutely no one, it absolutely does draw a lot of unwanted and potentially even dangerous attention.\nyou’d hope so, but unfortunately mental health professionals aren’t always as ethical as we’d expect them to be",
          "i’m not single but i am working full time and doing grad school with all my disabilities. it’s super fucking hard sometimes. i’m on a decent med regimen now so my mental health is great! which makes me more able to do things. but my physical health is terrible right now\nyeh i feel like that is the real problem no one can fix. \n\nbest i can do is doing constant work to remind myself not to be driven to burn out because of the guilt and shame our capitalist, class obsessed society relentlessly shoves down our mouths. \n\njust that constant mental battle alone takes up even more time and energy that i don't have and losing the battle most days is a terrible weight on my mental health.",
          "this report and many others points out the need for expanded access to mental health and substance use disorder services, but disabled folks in the us are busy fighting tooth and nail to keep what paltry services we already receive.",
          "i also have some disabling medical conditions. i don’t even tell them when it’s affecting me as i’d never shit up.",
          "if possible. they wouldn't feel so jealous if they actually had decent work hours, decent vacation times, pto, paid sick days, and actually good benefits.",
          "the loneliness and the high value you put on being with people in real life really stands out from what you wrote. it would be uncomfortable at first, but maybe you can find some achievable goals on the path toward including more people in your life. this sort of thing doesn’t pay off right away, but you have time to include more people in your life, maybe through travel or relocation. maybe you can afford to have a house in town and one in the country. you could alternate lifestyles. there is a lot more occupationsl therapy and mobility training in town centers if that’s an issue. i love the app “voicevista” for exploring new places. it even tells me when there’s a drinking fountain nearby, and identifies a lot of the buildings and parks that i’m passing.\n\ni’d say a goal in my life is to do enough things that i have crazy stories to tell afterward. i have social anxiety, but sometimes this goal is enough to get me out of the house.",
          "-it's 9am and the adderall is finally kicking in. time to accomplish something of value. i work straight through lunch, i'm not even hungry due to the side effects, keep working. the only limiting factor is how long it takes to respond to my voicemails and emails.\n-recall that i had some minor tasks to complete, have to run downstairs to grab the note that lists them that i left behind. i have - hours to complete. finish quick, go home at 3pm.\n-run back to work because i forgot my phone or something important that i put in a drawer early in the day (once or twice a week).",
          "like i said, you're dealing with a huge amount of concerns and fears.  you're a teen, you're dealing with decreasing sight, and those are two scary things imo.  has your school already opened a conversation of ways to accommodate your situation?  they will be concerned about students who have been left to fend for themselves the way you kind of are describing, they will be concerned if you are injured on their property and it's later revealed they dropped the ball and did not intervene with proven resources to help you.",
          "it's about them and ultimately has very little to do with you. the reason they choose to identify as disabled isn't something you are entitled to or can change - even if they are genuinely malingering - but you can change how you respond to it, and in no way are you required to participate in the disability olympics. that takes way too much energy!\nsomething to keep in mind is doing the appointments themselves and not keeping up with the homework might just be all they’re capable of doing. especially if they’re neurodivergent consistency issues is probably a part of them being disabled. it definitely is for me and i had to quit pt because of the amount of shame/guilt and annoyance i got from the therapist for that exact issue. it really sucks cause i definitely need the therapy.",
          "i'm sorry you experienced all of that from your mother. \n\nnot personally. my mother sided with doctors who said chronic illness stuff was just mental health.",
          "you're in the same type of situation. you expected something to happen in your future. you expected to graduate and get an office job that you would be good at. you weren't able to graduate and weren't able to get an office job. and to make things sting even more you had to watch other people celebrating. \n\nthat sucks. that really sucks. and yeah it's absolutely normal and okay to be mourning like you lost something. you never actually had it, but you thought you would. \n\n\n i'm really sorry you're going through that. that you have these medical and mental health issues. that they're causing problems. that you lost out on something that could have been really good for you. i hope you can find a new future that's still good. and that you'll be able to enjoy your future enough that you don't miss the one you thought you were going to have. but until then it's totally okay to feel bad about all of this.",
          "perfect example -- i'm a good cook, but i can't stand in the kitchen long enough to cook and do dishes (between the hot water and the standing, it drives my pots crazy). i cook and manage the food budget for me and my two roomies, and they clean up. \n\nanother example, my boyfriend is a brilliant mathematician and chemist, and he is physically very strong; i am neither. however, he really struggles with executive functioning (we suspect, and are in the diagnostic process, for autism). he was also raised in a *less then supportive* environment and so he is terrified of doing anything that qualifies as \"adulting\". so i help him with job searches and setting up doctors' appointments (and sometimes with writing essays), while he does the laundry and helps me with my homework. and we can both cook, so we often bicker about who is stuck with the dishes :p",
          ">meanwhile, therapy should be a high priority with all these negative judgment and assumptions you're harboring.\n\nshe might need free and online therapy as she is stuck in her room without income.",
          "i also want to compliment your voice, it's very calm and nice to listen to! \n\ni am working in the mental health field and studying to become a therapist at the moment.  i really believe that in this time of loneliness having someone to talk to and openly, comfortably speaking about what's going on in your mind can go a very long way. but sometimes you just don't have such a person in your life at the current time, maybe you moved to a new city and barely know anyone. or you started college and lost connection to most of your highschool friends.it can be hard to find that one person that you can open up to.",
          "to a message like this? if i say: \"yes, that's right\", i tell her a giant lie (something i hate doing). however, if i'm honest and i say: \"not exactly, of course my disability has taken a serious toll on me\", she'll ghost me right away.",
          "if they have a forensic history, you need to be able to read body language and facial expressions to stop certain situations before they start.  \n\n\nat the end of the day the clients wellbeing is paramount.  i can understand your frustration but this is one area where i can see not employing someone who is blind is justifiable.\ni'm in california about to start my masters in mental health counseling, but i wanted to reach out and see how things turned out for you. i know it's been a couple of years.\ni would like to know more about your experience as a therapist who is blind. i noticed that you posted about it a few years ago. i am about to begin my master's degree in mental health counseling and would appreciate any advice or support you can offer.\nmy guess is cost.  when i worked in mental health any extra costs were tightly controlled.\n\nsay you have  trip per day with a client, could be drs, shopping, etc....\n\n£ each way is £.",
          "i’ve seen many people who wholeheartedly suffer from neurodevelopmental disorders like autism. i’ve also seen people who wholeheartedly suffer due to mental health disorders like ocd, anxiety, depression. i believe there is standard for such things as “suffering.” if that makes sense.",
          "hey, my visual impairment is the same as yours (no vision + /) and i’ve completed graduate school and am a licensed mental health worker (which by the way i had no trouble getting a job with my graduate degree as i wanted to outpatient office based therapy).  before i went to grad school after undergrad i went through the state (oregon at the time) rehabilitation services.  i got a job through them, and here’s the big one, a great scholarship that helped pay for grad school. and while it wasn’t all sunshine and roses working with them it is definitely worth looking into.  best of luck! and feel free to reach out if you have any questions about the mental health field that i might be able to help with :)\nim so sorry. this sounds incredibly frustrating and disheartening. have you considered applying to one of the online mental health services like talkspace?\nwhen i was sighted i worked in mental health, specifically forensics.  psych hospitals and residential facilities in the community.",
          "youtuber molly burke, who is blind, has [complained about the same thing in a video]( — drivers driving away as soon as they spot her guide dog. obviously they should be following the ada, as it is discrimination, period. her response in the moment was to either sit in the car before they could leave and refuse to move, or have her mom get in the car while she literally hides and then she and her dog would get in the car after her mom was inside the car. guide dogs are a mobility aide and should be treated as such.",
          "it might be retaliation of being controlled but it is because i had not been allowed to learn by own experiences so after research of why i have these behaviours because i was shamed of my actions afterwards and would pick my fingers for hours and have dark thoughts to get relief from all the pain and fear and worries and frustration i was sort of relieved it is to do with the trauma i suffered as a child, i never told anyone this before not even a councillor because of worrying about what people would think which i have since the traumatic experience. but now that mental health is becoming more known i have been told it’s  years wait for a full psychiatric evaluation, or pay private of £. i have had  cbt sessions and not helped just made me more frustrated as was just told do these things but i try and get frustrated 😣. i lost friends because i never know how to be one i struggle with peoples emotions and can’t express emotions as from having to attend my grand parents funerals i",
          "idk what their exact issues are but a lot of things have to be self diagnosed in order to get a formal disagnosis as access to practitioners is difficult and sometimes impossible. if i hadn’t self diagnosed my autism i probably never would’ve gotten an official appointment.\n\nidk if that helps the emotions or not but i hope it at least helps with some perspective.\n\nyou also might just be providing actual information they don’t know how to get otherwise so they see it as really helpful and are saying it partially as a “hey thanks i didn’t know about this. it feels familiar”\n\ni think talking with them is an important step cause it sounds like they’re not aware at all. and maybe talking with a therapist as well if you haven’t already. i can understand it being annoying and downright distressing so taking care of your own mental health is important also.",
          "i'm so sorry you received so much negative energy.  i missed your first post, so i'm not up to speed. \n\nit sounds like you need immediate help in the workplace.  a ci isn't going to be immediate help.  but cart can be!!!\n\ni had a similar experience in college and i dropped out because of it.  years later, i decided to take a chance and the school disability office introduced me to cart. it changed my life.  i honestly never world have made it through college (let alone been on the dean's list or getting a graduate degree)  if it hasn't been for this.",
          "i’ve made it my mission to educate myself on mental health. to learn tools to help and share my knowledge.",
          "to pain specialists specifically, so literally every pain management doctor is suddenly doing bigger numbers overall, even if the percentage of prescriptions of varying types does not change for that doctor. so, i think it's thanks to this new place, who gave me quite a lecture over the phone i'm sure i sounded riveted by, that these consultations will be happening. i'll need to make sure the new place has my complete medical history as well.",
          "i agree.  with that said there are a few exercises i was curious about given i can't see videos and demonstrations.  if you were to explain to someone blind what is or how to do the skull crusher exercise how would you describe it?  thanks in advance, hear this exercise is great.\nfor allthe people that talked about the fact that weight lifting is not recommanded for people with a glaucoma :\n\n  \nfirst of all yes, you should always ask your ophtalmologist before starting any new program/sport",
          "because i never know how to be one i struggle with peoples emotions and can’t express emotions as from having to attend my grand parents funerals i felt nothing i actually smiled and had to force to cry to show people i did care i was embarrassed of my actions i think the medication has stopped this more than use to. people thought i was nasty, rude self centred selfish person and would be avoid and not included or invited always choosen last in pe like the movies, my parents said it’s who i was like!!! they still don’t understand and never helped me so not seen them  years, can anyone help with explaining why i am like this? and any help with dealing with own experiences would be very appreciated. thank you for listening 🥰",
          "it is not easy to even have doctors think about it. they say you are not required to try every possible treatment, that what they want you to do and will not start it untill you do (my experience).  almost  years with mental health trauma related. over  physical, born with neurological. every year a new issue arises, not i have one covid to add, and haven't had a day without painful migraines for months (almost constant migrane going on since ).\nthe mental health angle makes it so complex. it sounds like there’s a good way to approach this. i’m just worried canada is rushing it for reasons i’m not clear on.\nthe issue here is that the current proposition does not have a long complicated process. maid for mental health reasons is currently only legal in the netherlands where mental healthcare and healthcare in general gets far more support/funding than in canada and has far more of a process than is being proposed.",
          "your feelings are definitely valid either way also like your feelings are telling you important stuff and it’s important to listen to them fully and figure out what they’re trying to tell you even if you don’t talk directly about it to your friend.l about the specifics.\nwhile i agree that disability isn't a competition (i think we can all agree that would be one crappy comp), it sounds to me as if they might have just one mental health disorder. one super-specific one. i won't mention it here, because i'm not a phd of psychology, but it sounds as though this person should get checked out for their mental health for this exact reason.",
          "i think that everyone learns differently and you just have to find the ways that work for you. you putting in the work is what matters and so long as you pass a certain grade isn't forever and won't hold you back in life--especially in college you'll find that some professors are easy graders, most are fair and follow the rubric, and some teachers are just impossible with their grading and expectations. you will get out of your degree what you put into it and the skills of how you do that are more important than what grade you get. what i'm trying to say is don't beat yourself up too much and try not to overstress. try for great grades certainly but at the end of the day be kind to yourself.",
          "has she had any kind of skills training? she's going to need orientation and mobility, braille, assistive technology, and other life skills training to be able to function independently.  \n\nif you're in the us, you need to contact your state's department of vocational rehabilitation to see about getting her enrolled in training. there are some immersive training programs that blindfold all participants, and get people functioning without sight pretty quickly. \n\nblind people can be parents - i know a blind woman who has raised  kids, including one with autism. she does everything that any mother does, except drive. i also know a couple of blind women who raised children as single parents. it's hard - parenting in general is hard, and parenting with a disability is even harder - but it certainly can be done, and done well. if she doesn't have independent living skills though, she's not ready to be a parent. she needs to be able to take care of herself first.",
          "honestly i would say seeking out other blind and visually impaired people is way better than therapy from a pretty much guaranteed to be sighted therapist with no real idea what you're going through. and if you've already experienced abuse from the mental health sector, it's not worth rolling the dice on dealing with that again. i personally won't ever be going back to any therapy after the abuse that led to medically induced brain damage. \n\nfinding other blind folks to talk with, even just online, is so helpful. if you can get in touch with anyone from the national federation of the blind or read some of their literature on the power of blind people and our communities, i highly recommend it. there's lots of folks to talk to on the our blind discord server as well.\nfind your state's disability advocate/employment aid and discuss your mental health needs with them.",
          "it takes some work to get the licenses but orientation and mobility specialist if you don't mind working with people in a sometimes stressful situation.\nmight be able to do sports coaching if you like sport.",
          "with the vaccines the loss hit more or less  days after the jab each time so there was a question mark over it till i saw the pattern. the vaccines were designed to fire up the immune system so i think mine got overfired but m not alone, there are many reports on the net of this happening, even down to the  days later. prior to vacvines  it seems to occur when i get a virus, but not always. next time it happens they want me to go up to ent as its happening to get an audiogram/ blood test etc but honestly i feel so awful when it does i'm reaching for the steroids straight away.",
          "ugh that's unfortunate to read. i would have expected ntid to have mental health resources specifically geared towards supporting their students. thank you for the comment, and suggestion i will definitely check it out!\nit's more that the mental health resources suck campus wide, not just for ntid. lot of mediocre to bad counselors from the experience of my group.",
          "since i wasn't diagnosed with adhd or heds until i was /, i spent a lot of my early 20s trying anxiety treatment after anxiety treatment, not knowing why it never made me feel much better. the moment i was treated for my adhd i was able to get my ged and graduate from university in two years. now that i know i have heds, i can better understand my limitations and work around them while also doing what i can to make sure i don't get worse(tho this is still pretty new for me)\n\nthere is a story in greek mythology about odysseus needing to sail his crew past some sirens. knowing their weakness to the creatures, he had himself and his men tie themselves to the boat as they drifted past, rather than just assuming, through force if will, they would resist them. thanks to their preparation, they survived the encounter.",
          ">i come from a dysfunctional family to boot. i've escaped my cult after decades of abuse and cut my family and friends all off and had to start over with no one.\n\nthe op can't easily do this. she has zero income and mobility issues. so is stuck in her room and will probably be with her family and zero real-life friends unless something changes. she is also in asia if that helps anyone.\n\n>i use a friendship app to swipe for friends\n\nyou should post a link to the app that you use so the op can also use it. 😊\n\n>i am in hobby groups because i have tons of hobbies to keep me company so i'm not depending solely on other humans to keep me entertained.\n\ni assume that you are either looking for ideas or help with your hobbies in these groups. that or you are helping others. having something to keep your mind busy.\n\n>meanwhile, therapy should be a high priority with all these negative judgment and assumptions you're harboring.",
          "thank you for sharing your question.\nso i am completely blind, the only types of dancing i enjoy are tap dancing or like clog dancing. my suggestion to you is what if you found described video versions of old musicals and watched those to get an idea of that dancing style since you used to watch musicals live with your mom? \n\ni know i will never fully understand dancing, i do like the metaphor of music for your eyes. my sister studied dance when she was young so had to sit through a few recitals with no idea what was going on. \n\nbut then again there are several things which i will never understand. i rarely get enjoyment over sports, i will never see paintings, and i only know some about the art of dance. but i once went to a production of the nutcracker suite ballet just to listen to the music while my friends enjoyed the dance and music, and did not feel like i only got half the experience.",
          "life didn't take me the way i expected and while things are likely harder i've still been able to find a few really good people to have around me and i'm getting by. my future looked rubbish when i just looked at the practical stuff like being independent and working but i forgot that there's so much more to being human than working my backside off for someone else. plus there's people in my life who i can just sit next to. the simple act of being in their presence improves their quality of life just because they like being with me, sounds a bit mad when you think about it like that. they might do practical things for me but that makes them feel good about themselves and they get to have a bit of a giggle at my sense of humour while we are at it - i'm by no means a comedian but do like finding the funny side to stuff.",
          "while some of what you've described does come down to a lack of blindness skills, i think the bigger issue is anxiety and a lack of confidence in her own abilities, so maybe that's the place to start. she knows how to use the machine to pay for things, but gets anxious and asks you to do it. she gets upset and anxious if you ignore her requests for help. she has an app for reading labels, but asks you to do it instead. all of these things are tasks she has demonstrated the capability to do, so it's not really about skill. you can teach her over and over and over again, but if her lack of knowledge isn't the problem, you're getting nowhere and becoming more and more frustrated in the process.",
          "of course we can tell our providers that we are disabled! a mental health therapist is not necessarily going to be aware of the physical health conditions. in my experience, it has only been therapists who are in a clinic in the same hospital system as my physical health doctors who have access to my diagnoses and medications. every other therapist, i have had to tell them about my diagnoses and medications. even when the therapist is with the hospital system, i generally need to spell out what my diagnoses mean because even most medical providers are not familiar with what i have and even then, they are not familiar with what i experience day-to-day unless i tell them.",
          "like live alone but that doesn't make me fully independent \n\nbecause i still can't keep a stable job and have friends and function \n\nonly time i leave my house is to shop and check mail which is difficult \n\nbut i live alone don't really have support \n\nsince i look so normal and functional unfortunately \n\nplus people think because i'm a black man i'm immune to being disabled or having a disability \n\njust kinda hard because my disabilities is just as valid as anyone else that is in the community \n\nit effects me daily \n\nit's detrimental on my economic status \n\nit's hard to just text and talk on the phone \n\neven right now i'm getting a headache \n\nbut it's a lot of agoraphobic people that live alone that's my disability \n\ntry to explain to ignorant people that are ableist like you dealt with \n\ni'm quite the opposite i can't stay with people i would have a panic attack unfortunately \n\nit's hard to just check in a hospital for a crisis",
          "a fucking nursing home. because i can't fucking take care of myself.\n\ni'm assuming the pain of being disabled will get worse the more i leave the house. i'm not trying to be angry but i'm allowing it too. i know life isn't fair. i'm thankful for the journey of life these days.\n\ni'm just dumbfounded.",
          "i do find ableism abhorrent though and those who display it are to be avoided.\ni don't think that's ableist at all. i think it's just a lot of awareness about the limitations your own disability creates- you know what you can and cannot offer. i have physical disabilities due to chronic pain disorders, so i could never be in a shane and hannah burcaw kind of relationship. it's not that i wouldn't want to date someone with sma, but i would be physically unable to provide care to them. i think you're saying something similar- it's not that you wouldn't want to date someone with a mental health condition, but you can't offer the support someone with similar symptoms to you would need. that's totally valid.\ni also don't think it's fair to get into a relationship while knowing you're struggling with your mental health as it's a lot for the other person. i've been on the receiving end of it twice and it's horrid to be shut out because of that",
          "yeah of course the best way is having a white cane. they have short ones that are not for actual orientation and mobility called identity canes that are smaller and will help let people know that you can't see. i'm in the same boat as you and i don't look blind either. sometimes i close my eyes and keep them closed which always makes people wonder why would he do that and then they noticed my white cane and they don't ask anymore questions about the obvious situation. i've tried wearing dark sunglasses but i live in a hot place so my face is always getting sweaty and who likes that? i use a long white cane which is pretty big and hard to miss especially in crowds as the handle sticks up above my shoulder and people behind me can see that i have the white cane so they don't try to push past me when i'm in line or walking in a group. there are options to get free white canes but i guess it depends where you live. good luck",
          "then i was a single mom on disability with just our son, until the day i had a psychotic break alone with him and as a result, i lost custody of him for  years. i missed all of his middle school. so yeah - people may have their challenges with work, but we face our own challenges - and sometimes they’re life-shattering. i eventually got custody back of my son when i remarried his father, a whole other story in itself, but partially which occurred because i was afraid no one else would ever marry me or love me again.",
          "i can work with or around what i need to i've been doing that my entire life\n\n\nwhy should i stop now\n\n\ni'm not going to become excited even though my mom wants me to is that also being childish and refusing to change cuz she thinks my life would be better if i could see\n\n\nsend how many people are upset by the mere concept of forcing someone to have their disabilities erased even in fiction for some reason i doubt that\n\n\nso how about we stop shoving mental health aside like it doesn't matter and treat it like it's just as valid as the any physical disability",
          "i'm in the uk and in a similar position with my mental health. just because some twisted scheme doesn't give you the label of disability doesn't mean you're not disabled by your condition. you deserve help so you can better meet your basic needs while working. i'm really sorry this doesn't seem to be available to you.\ni relate to this a lot! even within the disabled community i am not disabled enough. i have a lot of mental health conditions and am chronically ill. i have a service dog to help me and thanks to him i can work again. but i constantly feel overwhelmed and like i’m doing too much but i don’t have another option. i need money to get the healthcare i need. and to get that money i need to work. it doesn’t matter how dizzy or depressed or weak or exhausted i feel. i have no other option. i am not disabled enough for help, but i’m not able enough to do well. so i’m just stuck",
          "around the time of my health diagnosis and the trauma i was also being emotionally abused by my narcissistic sil. i cannot describe how much she destroyed me. bit by bit. death by a million papercuts. she did it so covertly that my partner didn’t even believe me until he saw it. obviously he was so upset he didn’t see it in time and it had been going on for years. we are now also no contact with his family, but that’s a very long story.\n\nmy mind has blanked out some parts of this time period but i just remember coming home from work (i worked with my sil) and just crumbling in the corner of the kitchen and just wanting to not exist anymore. i couldn’t understand why someone wanted to hurt me and hate me so much when i’d done everything i could to include her in our lives and the kids lives.\n\ni also remember falling through my mums front door crying the day of the thing that happened but again bits are lost. \n\nsix years late, i’m still trying to put myself together.",
          "ayyy i'm also  with several disabilities.\n\nmy mom is a gen-xer and she had to come to terms with me being disabled at the same time she realized her herself had been disabled all her life too with three conditions i also have and she never really realized it (like many folks with autism, ehlers-danlos and narcolepsy, we both kinda thought it was normal until i started having severe sleep issues and pain). \n\nin a way, i think i struggle more with my own limitations that my mom struggles with them. i try so so hard to do things i know i can't. and she is always the first to remind me that no one can do everything, my limitations are just harder set and more visible than others'. but instead of busting my balls to do things that hurt me, i should spend my time getting really good at the shit i do well and then trade off my skills for the things i can't do.",
          "times are hugely tough right now. my income hasn’t gone up, but the bills have. just this month the mortgage has jumped up by nearly a third. electricity, heating and food are also on the rise. none of it is blind related, but all of it impacts how much disposable income we have, and that is blindy – because the money we use on taxis and the extra costs of blindness has become squeezed. i guess we just have to remain careful and cautious, pick our way through the difficulties as best we can. but not lose sight of the fact that seeing is by no means necessary to live a happy, productive life in  in this country, and that is something i am very grateful for.",
          "it makes sense to me!. look when i was in the military there were people with physical disabilities and people with mental health issues. those who had neither just classified us as \"broken\" . harsh i know. we were singled out looked down upon and treated with condescension and contempt. i kinda see the rest of the world still treating us the same way.  i know it's a cynical point of view, but i feel we're in it together until things change. our voices can amplify each other's",
          "but you also need to block the negativity and seek out positivity.",
          "please help him get access to mental health therapy if he's not in one already/support groups. these changes can take a toll on one's mental health.",
          "i wish you both all the best in navigating this, and no matter what happens, please do take some time for yourself. you deserve it!\ni have to agree. i'm not blind or considered visually impaired (joined the sub as have some vision loss that can't be corrected) so i can't speak from that perspective but have worked in mental health and with people with varying levels of vision. i have to agree that this sounds like a confidence or mental health thing. it sounds like she's feeling vulnerable or insecure so is asking for help with things she's capable of as a way of getting the reassurance she feels she needs to feel more safe and secure.\n\nonce you've started helping someone in this way it can feel tricky to reset the boundaries but if it can be done in a way that demonstrates kindness and compassion i think that would be really helpful in promoting her confidence and create a healthier relationship for them both.",
          "i find from my experience on disability. with mental health being one of my disabilities , all any of my docs do is push meds . i’m on my 4th antidepressant :(\nduring covid times, i devised a online platform concept where people can get counseling and holistic care for their mental health issues. i am not aware ( have not researched online) if such a platform exists even today, but its something i feel will address the issue of scalability in providing mental healthcare .  \ncan you please explain more what you exactly mean by a 'disability informed' approach ? it is not clear from your post.\nfor years the mental health services place i was in would change my therapist every -6months each one it took me a long time to get established with near when i suddenly hear they are changing me and it’s made it really hard to find anyone who understands.",
          "it is possible darling, you have to switch your mindset. \n\nplease do not ever consider suicide. please. life is precious even with a disability. you don’t stay in a point of crisis. being suicidal is being in crisis, and nobody stays in that crisis phase forever. \n\nconsider getting mental health support, i promise you it’s worth it. \n\nsending love and hugs ❤️\nthank you for this harsh truth. i’ve felt such a pressure (even from other disabled folks!) who’s all so positive embrace it! live your best life! love yourself! etc. it makes me mad and it’s so forced. i can’t lie to myself. \n\nand it’s normal. i mean, i don’t want to hate myself, i don’t wanna d1e from ed, i don’t wanna suffer that much. but i dont have to be positive and fully accepting of myself. and it’s normal. maybe i will learn it, maybe it’s a life-long process… who knows.",
          "the infantilization of the disabled is a real phenomenon. an interesting (but sad) side effect of that is the fact that it puts most sexual relationships off limits, too. i have never had any real luck with females, mostly because of a culture and social pressure that tells them they can \"do so much better\" than a person in my \"situation\". (i've been told that to my face, repeatedly.)\n\n\ni'd like to have a life partner too, but i've come to the conclusion that some people can do relationships, while others cannot or will not. i know myself well enough that the repeated rejection (which nowadays is much more pointed and attack-oriented than  years ago) is not good for my mental health.\n\ni've given up on looking for a partner because repeated rejection took a negative toll on my mental health. i'm a lot better now.\n\nit is sad because i'm smart, good looking and have a professional job that affords me the ability to have nice things, but none of that really matters on the whole.",
          "yeah your reasons for being on disability is valid \n\njust made me also think about my personal experience with people like that \n\nlike it makes me very sad that some people don't understand \n\nhow much non visible as well as visible disabilities effects people \n\nwell for me i have severe panic disorder and generalized anxiety disorder \n\nand bipolar disorder and unspecified ptsd, and recently got diagnosed with a mild intellectual disability \n\njust get tired of the abled body making disability like the olympics \n\nlike people have to compete with each other to see if they disabilities are severe enough for disability \n\nwhich true definition of disability is something that effects your daily life or function \n\nwhich this does \n\nwhich i have agoraphobia i'm the opposite i can't be around people \n\ni can't even go to the hospital without having a panic attack \n\nlike live alone but that doesn't make me fully independent \n\nbecause i still can't keep a stable job and have friends and function",
          "it isn’t a disability app, though. it’s an accommodation through her workplace. ugh",
          "the dept of mental health in illinois has a case management service - this site has more information.  \n\n\n\ni would suggesting contacting the act team for your brother’s region and asking them for help.",
          "btw, i’m not a guide dog handler myself. i would like to get one in the future but don’t currently have a lifestyle where i would make good use of a dog.\nno, i don’t want one that goes with me everywhere. a service dog that did travel with me on certain occasions would be a benefit, however that’s not something i want every day. i understand the repercussions of having a poorly trained e s a. that is why i want to go down the avenue of a service animal for mental health support rather than a dog guide.\nperhaps emotional support is not the word i'm looking for. there are dogs for mental health, and do bare in mind that laws in different places aren't the same as the us.",
          "i live in massachusetts in a suburb of boston. there's decent public transportation and boston is a pretty walkable city. many of the suburbs have commuter rails and busses, and all public transportation is free for the blind. i also get subsidized $/day in uber or lyft rides, if i need it. this is all through the massachusetts commission for the blind. i am very recently legally blind so i haven't actually utilized some of the benefits yet. i just got an electric bike and that's been really helpful. the only setback is that it's a hcol area.\ni also have rp, and grew up in a very rural area. i feel for your cousin, after growing up i immediately moved to areas that are walkable and have public transportation/are more urban, and have a much higher quality of life. rural living can be challenging for anyone, but from my experience it’s just not feasible for anyone who is blind/low vision.",
          "shoes, i love the music, the atmosphere, the perfectly timed, precise movements, the history, and i love being a part of it all. dance is a very poignant, sensory experience for me, and it's a big part of who i am as a person. i love dance! sorry for my dancer rant! i'll stop now. i hope this is helpful.",
          "you may also want to look into your states vocational rehabilitation programs. we have a program here where you live on campus while you do vocational school and voc rehab can help you find a program like that if you think you can handle the training.",
          "when it comes to group conversation, i will guarantee to be left out because i just cannot keep up with the conversation and constantly looking at different person's faces. it really sucks and people have made fun of me for not keeping up or looking stupid when i have no clue what they're talking about. it had a big negative impact to my sense of self-worth. i just feel useless and feel like shit waking up every day knowing that i would probably get made fun of or people ignoring/give up after i keep saying \"what\". i don't know, maybe i am just soft or i just get emotional very easily lol.",
          "one of the styles i love is called contra dancing. it’s a traditional dance form that requires sets of partners arranged in a line. they then perform a dance choreographed by a caller. the dancers perform the dance sequence in each set before progressing on to the next set to repeat the same choreography. one of the reasons that i particularly enjoy this style is what i think of as the puzzle factor. each dance could be described as a new set of sequences that get you from one end of the room to the other, but there’s a lot of creativity that can be involved in how you get there. there’s also a lot of social fun to be had along the way; community, togetherness, laughing at our mistakes, enjoying friendship.\n\nfor ballet, i fell in love with the minute efforts that go in to mastering a dance sequence. like any art form, it requires a great deal of practice and concentration. i found a completely new understanding of how my body worked through learning to make it do new things.",
          "thank you for your feedback and thoughtful response! it meant a lot to have someone respond. you bring up a good point in recognizing the long term. \n\ni guess i feel a juxtaposition for my preference to work pretty independently (without a huge dependence on captions) with a desire to work on more complex assignments that seem to only be available in a teamwork setting. it seems like it would be best to go after opportunities that do not challenge me to interact with people in a way that i either can't or don't have the patience for right now even if it cost me opportunities that are not the right fit.  \n\ni've had the ci checked, there isn't really anything they can do. :(",
          "but my chronic pain and joint injuries are not disabilities because of society. they’re miserable because i’m in pain and i can’t sleep or function when they’re acting up. yeah they’re way worse because societal factors have frequently made them worse by forcing me to use my limbs and increase my pain anyway, but i’ve been working to cure them for years.",
          "i'm  years old and currently unemployed. lost my job earlier this year and been looking for work, unsuccessfully.\n\nso far, the only visual rehab center in town has yet to see fit to provide me any sort of training. almost feels like no one there is taking me seriously. i haven't seen any counselors, either.\n\nif it was just my dad i was living with, i think things would be much better. my mom, on the other hand, is a handful. she is always over extending herself to help me out unnecessarily and gets offended if i say something. i wish i could live on my own, but no income right now and still waiting on ssdi to make a decision.\n\ni'm hoping going to college this fall will help out my mental health. being stuck at home more than i'm used to really sucks.",
          "for roughly  months i've now been hanging out on various dating apps, trying to find a new partner. but it's fucking hard man. i hate how literally every single woman on every dating app wants a guy who is \"optimistic\", \"positive\", \"cheerful\", \"fun\" etc.. i'm so sick of reading crap like: \"i love my life and you should, too!\" and \"live, love, laugh!\" - obviously written by able-bodied women who don't have any major problems in their lifes. you're basically not allowed to have any baggage. if you do, you're immediately sieved out. but how can't i have baggage when i've gone through some truly traumatizing experiences thanks to my disability? just today a girl on a dating app texted me: \"it sounds like you take life lightly and don't worry about the things you went through, is that right? cuz i like people like that.\" how does one even respond to a message like this? if i say: \"yes, that's right\", i tell her a giant lie (something i hate doing). however, if i'm honest and i say: \"not",
          "op isn't talking about applying for disability benefits - i assume your comment is aimed at folks who are applying for government disability benefits like ssi/ssdi since you mention \"that this has been going on for at least a year.\" op is just seeing a therapist to cope with a traumatic experience regarding their mobility aid and thus very much should be in a position to talk about the need for that mobility aid.",
          "i've had the ci checked, there isn't really anything they can do. :( \n\nto be honest, i think i was looking for a few people to say \"yeah, captioning (while helpful) doesn't put me on even footing with hearing people within leadership roles\" to help feel better about my choice to not take on the that kind of challenge. i don't think it worked, but maybe that is good thing, that means that some people here really did find the right fit of accommodations to thrive in their workplaces and my expectations are either too high and/or i haven't found the right fit. \n\nthank you for writing!",
          "here’s the core of the issue: your mom is allowed to have feelings and be frustrated at the situation. what she should not do is make her feelings about the situation about you.\n\nyou did not choose cancer. you did not choose complications from chemo. you did not choose disability. you did not choose mental health disorders. the only choice you made was to get life-saving treatment, and when you get down to the core of it, your mother is so glad you are alive. she is just tired and worn. and so are you.",
          "this is not a disability issue, it is a behavior issue. she is physically violent, and verbally abusive - this is not okay anywhere, and certainly not in a workplace. by supporting this behavior the owner is contributing to the creation of a dangerous and toxic workplace. it is a harassment suit waiting to happen. the owner is failing the entire workforce. \n\ndisability is not a free pass to being an asshole. honestly, stories like this are damaging to the whole community as they are used to justify not hiring folks who have disability but would meaningfully contribute if allowed reasonable accommodations.\ni feel like this person shouldn't be allowed to drive? or be at a workplace? since she deliberately puts people at risk and hurts them in these situations?",
          "does your job or insurance offer counseling, employee assistance program, or mental health services? i would reach out to them for assistance.\ni don't mean to disregard your desires here. but if staying there is causing so many issues, i would rather walk away with my mental health intact, than to suffer just to \"win\". stress and other impacts can lead to lifelong issues.\n\ni've had two cases go through the eeoc, and both times the final determination was that no discrimination happened (even though there was lots of documentation). i don't know the specifics of your situation, but i know i held on for much longer than i should have. if i could go back, i would have walked away much earlier. i'm in a much better place now.\n\nquitting will be your decision that they have no control over.",
          "if you have a disability that prevents you from adequate assisting/facilitating the clients needs, that isn't fair on them.\n\nif their mental health issues can cause them to lash out or act unpredictably, especially if they have poor impulse control when frustrated, it can put them at risk as well as yourself.  if you're alone with a client and they get violent, quite frankly you're fucked  if you're blind.\n\nif they have a forensic history, you need to be able to read body language and facial expressions to stop certain situations before they start.",
          "i have been a ballet dancer for quite a few years now. when i began dancing, there was an initial period where i did find the concepts of dance movements to be a bit abstract and hard to comprehend as an observer because of my visual impairment. however, the more i danced, the more i was able to appreciate the physical aspects of dance and all of its subtle nuances because i had an easier time relating to it from personal experience that i had gained as a dancer. dance is a form of communication for me. it's about expressing who i am and how i am feeling emotionally, mentally, and physically. it also improves my physical and mental state of being. i love how it feels! when i started dancing, much of my training was very hands-on, and my teachers did have to show me how to place my body into positions. verbal descriptions helped me as well, especially because ballet is so structured and has set terminology for each and every step and direction of the head, shoulders and body. ballet",
          "seek help and improve yourself at your own pace.\ndefinitely consider a cbd salve for targeted pain relief.\n\na [salve]( is a great choice because it lets you apply relief directly to where it hurts, unlike oils or gummies.\n\ntake a look at the cbd salve from organicgrit.com. it’s made with natural ingredients like bee wax and peppermint, avoiding harsh chemicals and nsaids.\nall their products are verified by third-party labs, specifically sc lab in denver, colorado.\n\nalso check out [the science of cbd topicals: organic grit cbd salve for deep pain relief]( [cbd and arthritis: easing joint pain and improving mobility](\n\n\na [salve]( is a great choice because it lets you apply relief directly to where it hurts, unlike oils or gummies.\n\ntake a look at the cbd salve from organicgrit.com. it’s made with natural ingredients like bee wax and peppermint, avoiding harsh chemicals and nsaids.\nall their products are verified by third-party labs, specifically sc lab in denver, colorado.",
          "neurodiversity is interesting because in a way it is a separate movement but it is alongside disability rights just with the addition of all mental health not just disabilities. aspie supremacists try and claim the neurodiversity movement for themselves occasionally but i oppose this strongly because solidarity is more important than *being right all the time.* if we have disagreements or different perspectives, we discuss them cleanly and productivity, we should never ever fight another comrade who believes in solidarity.",
          "not that this is relevant or necessary information to justify my complaint, but yes, i have multiple mobility aids, and regardless, my disability is inconsistent and tumultuous.\ni shall thank you to not make presumptions about my disabilities health and mobility aids. as i said in another comment, not that you need to know or is relevant to what i stated, my condition is inconsistent and i have multiple mobility aids.",
          "yeah, the aspie supremacists are quite cringe. nothing is wrong with feeling empowered by your disability, the problem comes when you try and take it to the point of claiming that autism is a superpower.",
          "what you may want to consider, is being self reflective in a way that is kind toward yourself but also recognizes if there are ways you may have contributed to the breakdown of communication. if you feel able without getting easily triggered back into a defensive posture, apologizing for your part can sometimes loosen others up to apologize for theirs. it still may not, but practicing that skill can still be helpful for you regardless of what the other person does, **if** it doesn’t send you into a defensive spiral if they don’t respond the way you hope (which they are unlikely to do %, but % is really good.) you have to judge where you are with your own mental health and capacity. if you don’t feel able to approach the person, it can help to write it down, even if you don’t end up giving it to them, as long as you are kind to yourself in the process.",
          "narratives about the false idea that therapy is available or helpful in some form for everyone, puts the onus back on the compromised individual, when what we really need are societal solutions that make life easier for people with severely compromising disabilities, so that we can live with dignity and humanity.",
          "at the end of the day, everyone is just trying to do their best in this life. it's healthy to reflect on what people did wrong and what you yourself did wrong and learn from that, but why get revenge at all, when you can wish people the best and focus on being the best you can be?",
          "you got this! honestly i was the same way. i used to be at the top of my class and then my mental health took a sharp decline and i was never the same again. i'm still grateful i can learn though, it just takes longer than other people sometimes",
          "there’s a very pervasive culture these days of self-diagnosed “codependency” and confusion about “support vs enabling.” too many abled people are being taught in therapy and self-help groups/forums to withdraw from relationships where people need support due to disability, under the false premise that someone who doesn’t get therapy for their challenges is being enabled. they are taught to go “no contact” because withdrawal of friend/family support allows the targeted person to reach “rock bottom” where they must seek out help. this is a false and dangerous example of when “therapy” is harmful, and actually becomes a form of abuse/neglect toward the most vulnerable. not everyone can “think” their way out of their physical and mental health challenges by talking to someone or doing a workbook. sometimes it’s not negative self-perspective that is the problem, but one of a lack of ability and adequate support.",
          "i use this approach when someone hurts me or when i’m full of self-hate for messing up. i let myself feel just how awful the situation is and connect with the source of that pain. this way, i understand how deeply it affects me, and it becomes a motivation to avoid that pain in the future. if someone repeatedly hurts me, i eventually reach a point where i never want to experience that pain again, leading me to set boundaries and remove that person from my life. if it’s something i’ve done to myself, the memory of the suffering helps me decide not to make the same mistake again.",
          "i was diagnosed with neurosyphilis after some mental health issues. it was treated with a few weeks of iv antibiotics but i have a lot of residual brain damage like balance problems, problems with loud noises, mania/depression, and paranoia.\ni have fibromyalgia and dyxpraxia on top of mental health issues.\nmy disabilities are mental health, psychiatric and developmental (autism) + a physical disability that’s mostly improved but how it is now is likely permanent damage\n\nsome of my symptoms aren’t diagnosed yet but are disabling. but i consider those separate from the list above due to the lack of diagnosis\n\nmy most notable are: \n\nofficially diagnosed: persistent depressive disorder,  anxiety disorders, cptsd, migraines \n\nsymptoms with no diagnosis: hallucinations (smell, touch, verbal, noise and visual), panic attacks, mild confusion, mind fog, memory issues",
          "your post screams depression to me. \n\ni have been in your position,  i attempted suicide due to the chronic pain i had endured for  years. i couldn’t take it anymore. \n\nhowever i was able to get to a place of radical acceptance. it takes time and you need to be in a place whereby you are mentally strong. \n\ndefo consider changing or starting anti-depression meds. once mine were changed, i felt so much better and gradually the depression began to lift. \n\ni accept now that my body doesn’t work like other people, and it never will and i’m ok with that. \n\nit has taken  years to reach radical acceptance but i no longer think about or pine for my life before this disability. \n\ni moderate what i do and listen to my body. i’ll never go ice skating or skiing again but i still participate in hobbies i love, like collecting gemstones and playing the flute. \n\nit is possible darling, you have to switch your mindset.",
          "**build a functioning mental healthcare system, expand access to mental healthcare and then we can have this expanding maid to mental illness discussion. with heavy safeguards in place - right now there are none.**\ni’m a physician and trying to learn more about this kind of thing. the mental health issue piece is not palatable for me at all and as you say - groups will be marginalized. checking out that website.\n\nin broader terms…is there an “ideal” maid model?  i had an end stage huntington’s patient writhing on a bed as he attempted to hang himself with his sheet and bite off his tongue…there was nothing i wanted to do more than help him with what he was trying to do in a less painful way.",
          "i know it's difficult in the moment especially the first time it happens. people like that, there is as much wrong with them as the rest of us. mental health system fails people as much as physical disabilities health system ultimately fails people. \n\ndoesn't make it right, you can be disabled and still be an asshole. they are not mutually exclusive. \n\nin cases like that, i just try to get away from them. don't leave it for someone else to be put in a position of \"wanting to go look for some and come back in legal trouble of their own\". because that doesn't help you, and it really doesn't help whoever goes out looking.",
          "or the easier way, stop being friends. you aren't in a good headspace to handle them, and they just want a sounding board for all their perceived ailments. it's unhealthy for both of you, and since they're obviously more needful of your time than you are of theirs, you have to be the one to cut the cord.\nthat’s happened to me too.  i’ve had multiple mental health professionals fire me as their patient because they said i was too difficult to work with.  it honestly really triggered my ptsd.  when i think about it, i try to tell myself that the real problem wasn’t that i’m too difficult, but that they clearly didn’t have the experience/expertise/education on my specific conditions to properly help me.  when a mental health professional says something like that what it really means is that they’re not good enough at their job to treat you, not that you are a bad person or a failure somehow",
          "so, i got denied once, almost died and then got it approved by an alj the day before i was supposed to have a hearing with her. i have a bunch of physical and mental issues. but i am obsessed and terrified daily that i will lose ssdi because i am close friends with two people who did lose it. and those people seem sick enough that they should still qualify (one has incurable cancer, is an abk double amputee and was on ssdi, and the other has severe mental health issues and has been hospitalized hundreds of times throughout her life, but was kicked off ssi just because she applied for college. she's still trying to get it back)",
          "i’m sorry you’re struggling. i am too.\ni’m  and recently lost a significant amount of vision due to a illness… my mental health is not good at all currently it happened six months ago and i’m still reeling from it. my life has been completely flipped upside down. i don’t know what to do there’s no resources where i live. i can’t drive anymore. i can’t do anything that i wanted to do or had planned to do with my life because of this and honestly every day i wish that i never woke up… the only thing keeping me together is my family i guess… but everyone’s getting sick of me complaining and being depressed i’m sure i don’t even know what to do. i really hate it here… a piece of me is still holding out hope that something will change, but another part of me is like i need to be realistic and except this is the life i live… i dk how much longer i’m gonna be here, but i’m gonna hold on until i can’t any longer.",
          "fun fact: one time this happen and my boyfriend (at the time) was screwing my mother in my car in the parking lot of the hospital… geeee i wonder how i got all those mental health issues. 🤔 (yes thats meant to be funny bc idk how tf else to handle all this trauma but obviously thats not all that caused it)",
          "as an example, in texas, it's known as texas workforce. my aide/advocate helped me get recommended into the austin center's waiting list. there have been some disappointments with loss of communication and missed messages regarding oandm and tech, but that's been on me.",
          "i'm desperate to find a way for both of us to get the care we need and stay together, as well as be able to afford things like rent and groceries. \n\nas for your questions, we are doing our best. i have a therapy appointment next week (but i've been struggling to get that set up due to my therapist not having availability, so i'm about a month behind),  i've got a doctor's appointment to go over the migraine i've been having in  weeks, and an mri next month. my medication list is  pages long if you count non pill related things like needles, glucomoleter, inhaler, etc.  healthcare is just sometimes sporadic and takes a while. he's got therapy next week, and i'm trying to urge him to see a doctor for his leg. we're doing thr best we can.",
          "i was lucky enough to find a great mental health counselor that helped me reinforce using my tools to cope wit vision loss, have you ever tried it?",
          "hello! and welcome. i feel your pain. also  but i got diagnosed at . keep some hope. science is progressing to unfathomable levels. sci fi cant even cover it. \n\nas for mental health. grab a psychiatrist asap.",
          "recovery time is a great time for you all to practice some sign language if you don't already know it. make sure she sticks to her physical therapy. encourage her to journal, draw, sketch if she's artistic. get into that new routine. try and find a local deaf teen club so she can be around others who understand what it's like to have hearing loss.",
          "it's not an overnight process by any means. but it's definitely a doable process. what that doable process looks like for you... that's what you're needing to learn, now.",
          "are unfortunately times when i still struggle as  a visually  impaired dancer, however. creating a mental map of the environment and  navigating it in a patterned, planned fashion without getting disoriented can be a challenge at times. i don't care though. i still dance. to conclude, dance is often a rather visual art form, so i can certainly see how a non-dancer, or even someone who is just new to dance might have a harder time relating to it. although dance can be quite visual in nature, if you choose a style of dance based upon who you are as a person and really immerse yourself in its history, movements, steps, evolution, music, and its different styles, you can learn to appreciate it in your own way. for example, i love the sound of pointe shoes as ballet dancers move across the stage or studio floor, i love the smell of the pointe shoes, i love the music, the atmosphere, the perfectly timed, precise movements, the history, and i love being a part of it all. dance is a very",
          "if you (or anyone) wants to dm me, i have a bunch of stuff on applying for disabiliy and how to have your best chance of being approved right away.\n\ni also have something on how to ask for accommodations properly...\n\nin addition to a post on finding eds/pots drs that are good.\n\non the ptsd/mental health, you might want to google ketamine and depression or ptsd.  its legit fda approved, and seems to work well.\n\nso, dm me if you want any of those three things.\n\nyou are in about my worst nightmare rn. im so sorry! 🌷❤️",
          "i live in a snf, i've been here since the beginning of september. the food is around % awful. most of it seems to be canned or frozen, over salted, under seasoned, or just tastes gross. the soup is usually the campbell's condensed kind and a few times it was barely thinned out. i think the eggs are powdered and they are almost always wet. i don't know how else to describe them, but it's just gross. i keep having to order from grubhub because i cannot stomach what they give me. the nurses and cna's are nice to me, but i feel like one of the ladies in social services doesn't like me because i can speak up for myself and what's going on.  she ignored me for weeks when i wanted to change rooms. the other patients though, a lot of them do not belong in a nursing facility, but either in a memory care facility or a mental health facility. some are verbally abusive to the staff. they yell, scream, and curse at them. they will shout out their demands over and over instead of hitting their call",
          "i always say \"it's not the disability olympics\".  it seems like for whatever reason your friend feels the need to compare your situation and symptoms to theirs every time you bring something up, and i get why that makes you uncomfortable, and pushes you further into being uncomfortable with them labeling common dx that would not typically be considered disabling by the medical community as disabling to them. it probably feels like they are coopting that identity for themselves, when you've just barely gotten used to it for you.",
          "recently, at an event, i ran into a friend's sister who is a psychologist, and one word lead to another, i mentioned that i have never felt as the main character of my own story, due to how i grew up, lack of representation, lack of understanding, as well how society teaches us that we aren't worth of affection, love, but instead, disaffection, disgust and so on, and the face of realization she had was a massive one, and even said something along the lines of \"that is so mind-blowing, i'm surprised that in no moment of my education or even afterwards, i never once stopped to think that treating patients that are disabled or deaf/deaf/hoh is as complex as treating that are black, queer/lgbt+, women and so on.\" she wasn't aware of how deep the issues can run in the disabled community.\ni'd suggest polling around ntid if you can, the mental health resources at the university sucked in more ways than one so you may get some good answers there.",
          "i can totally understand how this reactionary ideology came about as a reaction to the demonization of autism by groups like autism $peaks, but it is basically fighting fire with fire.\n\nsaying \"autism isn't a disability\", is often said by people who forget entire segments of the autistic community that are definitely disabled by having autism. it's cool you're aspie and all but that doesn't mean there aren't people with higher support needs than you. that's basically what i would say to them.\n\nit's also worth noting that aspie supremacy is also anti-disability pride, because aspie supremacy and declaring them to be not disabled is an attempt to distance themselves from the concept of disability. and that is something i simply refuse to accept. aspie supremacists can do whatever they want... over there... while the rest of us maintain disability solidarity and the idea that we need unity to stand together.",
          "obviously they'd have to weigh up if ok for you to take them if you're on any other medications but i don't see why not. rather tolerate horrible steroids for a few days than lose a bit more hearing permanently. \n\noof on the mould! i'm not a fan of audiologists in the main from previous experience. i have open fit but even i know with severe  hearing loss you need a closed mould. it sounds like you haven't been helped at all.  i didn't get a hearing aid till my 30s and according to my notes should've had one from  years old for my good ear - wasn't told. its hard to aclimatise later on when you've just got on with it.",
          "having a disability when they don’t gives them the idea you have the advantages or a passage to a easy life and being centre of attention when you are disabled for real it’s like their jealous of us so pretend to be so can get the attention!!!! if they just knew the real pain and heart ache that comes with it, but the so called advantages and attention they think it is isn’t too us they just use our disability for own agains, back when the asylums where opened it was different my granddad was in one for his schizophrenia when he was  after being in the army guarding scotland castle, he started to show signs so was put into one and the stories aren’t nice. i knew my granddad as a kind happy person.  us kids my siblings was shielded from his past by my mum so wasn’t till we were much older did we find out, although mum was not the one to tell us she was embarrassed of his mental illness it was my grandma who told us as she noticed my anxiety and could understand me and explained",
          "most importantly though, i have found with people like this, it's important to validate their experience repeatedly and obviously: i tell them that yeah, that really sucks and must be difficult, that i can't understand their particular pain/symptom because mine is different, but that that doesn't really matter because pain is pain symptoms are symptoms, one type isn't worse or better than the other because any kind of pain or symptoms make life hard to navigate. that i can't compare my pain to theirs because that's apples to oranges but that i empathize that they struggle with pain, and all types of pain suck. it takes time (months often), but usually the person stops competing their symptoms against mine, instead simply discussing what they actually struggle with, and asking what i do.",
          "symptoms with no diagnosis: hallucinations (smell, touch, verbal, noise and visual), panic attacks, mild confusion, mind fog, memory issues\n\nit used to be so much worse and it could easily get that bad again :(\ni also have cvid, fibromyalgia, seizures, and a multitude of mental health issues. i've passed my bad genes onto my kids which i can't help but feel guilty about. my dr is currently testing me for lupus which i really hope i don't have. i really don't need another diagnosis right now lol.\nabsolutely. and the ways and reasons for why our disabilities are so difficult aren’t the same either! for someone like me, my disability is a challenge because of itself. supports and mental health advances can be helpful, but there’s a certain degree of “shitty” that’s always gonna be there, so i’d personally much rather not have this disability. disabilities that are associated with things like chronic pain are likely often a similar case; the difficulty is self-sustaining.",
          "there's likely also the \"well i was born with this, *you* developed it!\" resentment which is so utterly ironic because on the physical side you have older people telling you that \"you haven't earned your pain, you're too young/didn't work a hard enough job/have kids/whatever justification\" on top of genetic conditions. \n\nand most importantly: intersectionality! lgbtq+, racial minorities, mental health, physical health, and abuse victims often check multiple boxes. we all are parallels of each other and all have similar struggles. and we have to band together because this is just another way to keep us divided and unable to fight for our rights.",
          "pip because i can’t travel alone in public transport or using sat nav in a car without help i have to have someone with me or just a simple journey to shop without support because of my anxiety i can’t leaving the home alone as having a panic attack and being around people alone causes my anxiety to cause me disoriented this is caused from my work causing this from accusing me from being on holiday when off for mental health.",
          "this is why the whole anti suicide propaganda and therapy being shoved down our throats straight pisses me off. \n\nthat argument always assume it has everything to do with self esteem and solely with mental health. what about those who are disabled and will constantly suffer every single day, regardless of the supports they receive? this argument completely ignores the reality of anybody suffering from things that simply put, cannot be cured.",
          "we also can have educations and careers. i'm  semesters away from completing my masters in computer science, and i work as an accessibility test engineer. blind teachers also exist, and not just in schools for the blind. (although teachers are quitting right and left at present.) \n\nher world definitely doesn't have to shrink down to youtube videos, but she's going to have to do the work to learn new skills. \n\nyou should be aware that a lot of people who are losing sight show resistance to learning those skills at first. they tend to go through the stages of grief - denial, anger, depression, etc. so if she fights you at first on mobility training, braille, etc. - that doesn't say anything about her as a person. it's a very common response.\ni’m sorry, but as someone who plays video games, saying many are blind accessible is not true.\n\nif you’re saying many might be accessible if you’re visually impaired, i wouldn’t know, but completely blind, no.",
          "i just finished a space opera trilogy (the final architecture) by adrian tchaikovsky, where one of the main characters is doesn’t have the standard compliment of limbs and uses a few different mobility devices to compensate. she’s portrayed quite well imo, not just for sympathy and not as a supercrip either. there are spots where she’s genuinely in trouble that an able person would not be.",
          "i also have mental health conditions and constantly question myself. if other people with bipolar and generalized anxiety are out there thriving, it must be because i'm a phony and have to try harder.\n\ni don't know how to get rid of these feelings but i relate 🫂",
          "**summary**\r  \n*what is already known about this topic?*\r  \n\radults with disabilities experience higher levels of mental health conditions and substance use than do adults without disabilities.\r  \n\r  \n*what is added by this report?*\r  \n\rduring february–march , .% of surveyed u.s. adults with disabilities reported adverse mental health symptoms or substance use; past-month substance use was higher than that among adults without disabilities (.% versus .%, respectively). among adults with a diagnosis of mental health or substance use conditions, adults with disabilities more frequently (% versus %) reported pandemic-related difficulty accessing related care and medications.\r  \n\r  \n*what are the implications for public health practice?*\r  \n\rduring public health emergencies, including the covid- pandemic, enhanced mental health and substance use screening among adults with disabilities and improved access to related health care services are critical.",
          "-wake up, take my adderall, clean myself.\n-spend too much time in the shower thinking about all the things i need to do before coming to my senses and moving on to getting dressed.\n-spend a full  minutes staring at my bottle of stimulants, which i've set upside down as an indicator that i did take them, to try to recall if i took them or forgot to flip the bottle right side up the night before.\n-repeat the phrase \"wallet, phone, keys, and vape\" while patting down my jacket.\n-turn my attention to the pot of coffee i forgot i made, fill my thermos.\n-jacket on, walk to the door; freeze.\n-turn around, grab my lunch from the fridge, back to the door; freeze.\n-repeat the phrase \"wallet, phone, keys, and vape\" while patting down my jacket.\n-turn around, track down my keys... and my debit card that i just remembered i took out of my wallet last night to impulse buy something that caught my interest.",
          "oh, wow, i am so sorry that you are struggling with mental health right now, and i am so sorry your family thinks so little of you and your abilities. \n\nyou said you lived in the uk for four years before? i’m not sure what passport you hold because some are stronger than others, but were you on a student visa? i only ask because sometimes when it comes to trying to get to “indefinite to remain” or “permanent resident” type visas, the time accrued under a student visa doesn’t count toward your “time in” if that makes sense.\n\nobviously i am not super knowledgeable on this matter. i do agree with u/bradley22 that going for a month and trying to talk to someone there would be a great place to start.",
          "i'll keep this brief for now because i dobut it's the answer your looking for but:    \ni've been married for ten years and an unemployed due not only to my blindness but other physical and mental health issues.    \nyet, we love one another so much that we've become insuperable over the years.  she works a fulltime job and i keep the house.  during the height of the u.s.  quarantine she worked at home for two months.  we had our ups and downs but when she was called back to work it was depressing for both of us -- overall,  we enjoyed the time we got to spend together at home.",
          "your child will likely grieve some of the differences in their childhood when they get older, but that will not be the defining characteristic of their life or their relationship with you. raise them to be kind, compassionate, and resilient. raise them to know it’s ok to rest even if the masses insist on the hustle and grind culture. raise them to adapt and have fun with your disability (nothing like decorating a mobility aid to make it flashy haha).",
          "many short- and long-term disabilities have an exclusion period for pre-existing conditions.   you may want to double check your policy for any exclusions.   if you had a previous mental health diagnosis, they may be treating your current diagnosis as pre-existing, even though it's a result of recent trauma.\n\ni am so very sorry for what you've been going through.  \n\nyour doctor may need to submit additional records to show that your current need for leave is related to the trauma of losing your home and pet, not part of a preexisting diagnosis.  \n\nalso, check to see if your employer has an type of employee assistance programs that may help you out financially.   also, the red cross often has emergency assistance programs for people who lose their homes to fire.",
          "tru to the truest. \n\ni came out of teenage hood disabled with no diagnosis due to my family just deciding obviously i was 'lazy'. it didn't matter that i was unable to get up for 20hrs a day from  onwards.\n\ni'm still fighting for help from the system and it in itself is exhausting. my job is exhausting. consistently explaining to my workplace that 'no i cannot take on more work' is just too much.\n i'm under paid in my field which is probably the only reason they haven't fired me over this.",
          "i highly recommend getting into therapy if you aren’t already. talking about things coming up as you learn to cope and adjust can help. finding online communities of people dealing with similar conditions also helped me. look for groups that are helpful, constructive, and mostly positive. venting is helpful and sometimes informative for others, but i’ve seen a lot of chronic pain groups devolve into competitive pity parties, “life is terrible” posts, and overwhelmingly depressing environments. if i notice anything like that, i move on for my own mental health.",
          "i think that the most frustrating aspect for mw js when people try to frame mental illnesses like \"what if you had a disability nobody could see!? people never say this ableist stuff to people with physical disabilities!!\" and i'm sitting here with my invisible illnesses like 😬",
          "she did help me find a local support group of visually impaired folk to talk about troubles and generally bitch when things like power outages happen or the mute domino's driver tries to wave a piza in my face so i'll take it...\nyeah- there are certainly lots of great blind/visually impaired folks in the community, and also, there are lots of great therapists. i have low vision and a sighted therapist and we spend probably % of our time over the last several years discussing vision-related stuff. i’ve also experienced plenty of issues with medical providers over the years and have my share of trust issues, but blanket statement bad mental health care isn’t a cause or a result. op, if therapy is a good fit for your needs, good therapists exist.",
          "i can navigate (mostly) by sight in most situations by sight, but i do use a white cane in large crowds and in situations like when there might be a lot of stairs or terrain changes.  she could use one as what's called an id cane which is not for navigation per se, but rather to communicate to others she is visually impaired.  \n\nfinally, she should definitely seek mental health counseling.  with all she's been through, she probably needs it.  it took me a little over a year to fully process my vision loss and i'm still learning what the new normal is.  the things we do often we relearn quickly, but there's things pop up all the time and i'm like \"i can't do this the same way as i used to.\"  it takes time to adjust.  good luck and best wishes to for your mom.",
          "i know it's not something you want to hear, but i can understand where they are coming from, when they require a driving licence.\n\nyour job as mental health support, is to assist the clients with activities they cannot do and assist them in daily living activities.  especially if you are working -.\n\n>every place i have applied to requires a driver's license to transport clients to medical appointments, community outings, etc.\n\nit's a big part of the job.  just because it's a residential facility doesn't mean they are stuck inside all day.  you could be taking them to shop for new clothes, a walk in the park, or any other number of activities that require travel.\n\nif you have a disability that prevents you from adequate assisting/facilitating the clients needs, that isn't fair on them.",
          "he won’t prescribe me anything either. he said to try and use mobility aids and see if that helps. i wish doctors could experience what it is like to have md and see if they could do their job without pain killers. would they even be able to keep up with their job with md?probably not!",
          "i do a bit of running independently with a white cane and high-mileage roller ball tip. i also am getting back into practicing soccer with a bell-ball. exercise does help with the dark haze of depression that i”m always fighting off. it doesn’t quite lift it enough for me to want to try hard at work though. maybe i just need another job for that.\nkeep your options open for oses. having both windows and mac machines, or a dual-boot mac is a good choice. some time ago my work machine was a dual-boot macbook since i was developing for windows and for mac at the same job.\n\nfor writing, consider using a dictation app and then having the recording converted to text. i'm sighted, but i use speech to text regularly, especially when i'm walking or driving a familiar route.",
          "as for the people saying it is dangerous to do lifts due to spikes in iop. i think there is definitely merit. i think the best way to keep yourself safer in that context is to never over-strain yourself (close your eyes tightly because it is too hard), always maintain your breathing, and of course never do handstands. that is the one thing that i really wish i could do is handstands, because the handstand pushups and presses are so cool.\nyes, weight lifting can cause iop spikes. aerobic exercise is more recommended for glaucoma/ocular hypertension.\nthen the problem of going to a gym is finding someone that will go through the trouble of explaining new workouts well. idk why but most people seem very shy and awkward doing that lol.",
          "this is a tough one. i've got paranoia in large part because people do watch me when i'm out, they like seeing a blind person doing the thing. i think a big part of managing it is just knowing that you're prone to this kind of thinking and doing what you can within reason to be safe when you go out. most people are not going to hurt you even if they are watching you, and it can be to your advantage that people are watching because if something does start to happen there are more witnesses to it. keeping an eye on your mental health for the day is important too. i have days where i know i may not be able to go to some places because i'm just too keyed up. i do a lot of planning ahead too, but that's a general blind life thing; you kinda have to know where you're going and how you're going to get around at that place and then get home.",
          "hey a bit outside of topic, what’s the benefit of someone with mental health related issues living in a disability residence. i’m curious and want to educate myself a bit more",
          "suicide survivor. i'm ever grateful i was given treatment and not help in killing myself. i would have gladly chosen death at the bottom of my mental abyss, but instead i was given help and support i had never had before. i wasn't making logical decisions when i was in crisis. just grasping at emotional straws.\ni think the reason it’s different is that mental health conditions often make people feel like it’s hopeless. also there’s still stigma around mental health and it’s poorly supported.\ni’m conflicted on this. the class/income disparity issue is a massive issue. kind of how rich are “eccentric” but the poor are “crazy.”",
          "sorry, i have nothing bright to add. just that i strongly relate and i feel your pain.\nthank you. i appreciate your perspective, but disagree that “something is better than nothing” when it comes to therapy. there are plenty of bad therapists, and self-help is sometimes either detrimental or not possible for everyone with certain conditions for various reasons. if you re-read the original post, you’ll see that people are talking specifically about having had therapy, and it not being effective. i’m glad that your abilities allow you to get effective help when you’re desperate, but i think it’s important for people to know that not everyone has that ability, and therapy has limitations and even down-sides.",
          "i just want you to know you can go back to college. i have severe mental illness, have had over  psych hospitalizations in  years, dropped out of college at the beginning of the hospitalizations, lived in group homes for the mentally ill for several years until i stabilized, and went back to college after  years and took low credit semesters for  more years and just graduated in december. i'm also physically disabled and use a walker or wheelchair and a service dog. it's hard work and now i only need to be hospitalized for my mental health every 6months to a year apart and am going to grad school in the fall. i still do therapy twice a week and see my psychiatrist about once a month. but it is possible if you want it.",
          "symptoms of anxiety because not sure if it’s normal behaviour or due to anxiety i’m so confused with results. i’m a shamed of my past because of the things i did as a teenager like unprotected intercourse with different men, dangerous driving, moody, frustrated, always arguing with parents self destructive actions, failed relationships, could stay in job, struggled with every day life every single thing is so difficult for me, at school couldn’t concentrate so had low grades, always takes me longer to learn things . my parents were very protective of me because of bullying from my lip appearance so i had always had all my battles and problems for me so i never developed that action and still struggle with this to day as someone else has always done that for me which is my husband now. until i was  that’s when these started to happen i thought it might be retaliation of being controlled but it is because i had not been allowed to learn by own experiences so after research of why i have",
          "friendly, but i could quit this job tomorrow or he could get fewer hours of pca next year. i might be replaced by someone who isn’t as chatty and he becomes lost and depressed. or someone who is so friendly, it’s borderline grooming. god forbid any of our clients crave so much closeness they end up being taken advantage of.",
          "cart is basically someone typing out every single word that is being said during trainings. and the best part is that you don't have to worry about taking notes! the whole transcript is emailed to you afterwards.  this allows you to focus solely on listening instead of taking notes but if you miss hearing a word, you just look at the computer screen, and you are all caught up.  your brain can focus on what it is leaning rather than focus on understanding words.  \n\nthis is considered a reasonable accommodation under the ada in america.  your company's cannot argue about trade secrets or anything to refuse providing this. \n\nthis may be something you use your whole life or out may be something to help bridge the gap between now and when you have adapted to your ci (which can take months and exhausts you).",
          "i have these little like hearing aid socks almost? they cover the mics so the sound is still clear but the mics are protected from sweat, my mom got them for me in the 's when i was a child in dance and sports and now its a habit\n\n​\n\n\ni've done both: i have made a habit of taking new ha off when doing sweaty things. but i have also left them on once older and i was feeling lazy, and it really took a lot of sweaty stuff to make any kind of real difference. (most of the time i took them off b/c my exercise involved tumbling -- martial arts etc -- which was more of a problem!)\n\nhigh humidity areas give me more problems. thinking about it, it may be that i'm largely ok with sweaty workouts b/c i live in southern california, and the same sort of thing wouldn't fly in say knoxville where it apparently is never less than % humidity...",
          "like you, i also didn't graduate high school due to mental health, and i went on disability assistance right at . i didn't get a job until . \n\nunfortunately, stress is only going to make everything worse, which i know in the position you are in now feels impossible to stop. my best recommendation is to really focus all you can on your health. look for every option, insist you need it and don't wait until you feel at your worst before taking action. the sooner you can start treatment for all of these things, the better your outcome will be.",
          "just so you know, telling people to exercise more and lose weight is standard practice for doctors. i'm sorry that it was so harmful in your case.. sounds like you may have something serious.\n\ni do think this kind of comment will vary from doctor to doctor. was the mri helpful at all?\n\ni also may have had a stroke around - but never had the mri to check. still have symptoms over a decade later, which never improved. i was able to get on ssdi, but *only* because i have mental health issues as well. unfortunately, their requirements for a physical disability are  extraordinarily high, and most people are rejected.",
          "pain is there for a reason. sometimes it is helpful to pay attention to it, sometimes it is not. personally, i *need* to work on paying attention to my pain, because it keeps me safe. i've ignored fairly significant injuries because pain is normal for me. i'd love to live without it, but it's not an attitude problem that i can't.",
          "edit - reddit is being annoying with formatting😡",
          "ive worked so hard to get government support so im not living with my mom and when i told someone they still asked me when i was getting a job, like im just freeloading and avoiding it. im just so tired of being looked down on by people who are supposed to see me as a human.",
          "i can't speak to \"gifted\" as that category isn't used in my country, but i would highly recommend adaptive sport for improvement of mental health following physical disability. i wasn't a child when i became physically disabled, but i was midway through my msc, and sport is essentially what kept me together when i was having to navigate a new reality post-impairment during a stressful time. \n\nmay be worth researching and seeing if there are any para/adaptive sport groups that she could join.",
          "others have given some great suggestions about making sure she's connected with any blindness services she might need, like a training center or an oandm instructor. while that's happening, think about some small but significant things you both could do to change things in the household. the first step is to sit down and talk about things, at a point when you're both in a good headspace. she needs to know that you truly do love her, but things can't continue this way. she needs to know you believe in her, maybe more than she believes in herself right now. she may become upset or defensive, which in no way means you have done something wrong and should drop it.",
          "up bedbound one day. i've already been getting more housebound as this has worsened. my ability to do day to day stuff has been deteriorating, and it's been so frustrating and scary. i don't want to have this chronic illness or all of these mental health issues. i want to be healthy and able-bodied too. :'(",
          "first of all yes, you should always ask your ophtalmologist before starting any new program/sport\n\n  \ni did that with two differents doctors and both told me that the small increase in the iop due to the weight lifting/exersise wasn't something dangerous, that you can lift weight  without any issue but you should just try to avoid exersises where  you are on your head, so basically just the handstand push up in our case\nweight lifting alone could get boring, i speak from my experience. the best, in my opinion is to lift then use it in an active sport or marshal art. every week you’ll feel stronger and more capable. for me, i lift  or  times a week and train bjj twice a week. and do blind hockey on a biweekly basis on the weekends. i speak from my experience,  everyone is different.\nhey, i also have glaucoma and am quite into fitness.",
          "some of these things will be beyond your ability to address. while it's great that you're there for emotional support, calming her down and soothing her anxiety all the time is a different thing entirely. working through this with a mental health professional will help her to get to the root of what's going on in her life and empower her to make changes. it won't be easy, but it will be so worth it. a therapist or other professional can talk through the things she's struggling with emotionally, plus they can determine if there's an imbalance that meds could help with. if nothing else, it can really help to have an outside perspective, because things have been this way for so long that it's difficult for her to even imagine how they could be different.",
          "and i second what's been said elsewhere here. going blind sucks hardcore, being blind isn't so bad once you get used to it. i think you may be eligible now for services like medicaid and social security income and if you can get on any of those you may have better help finding some mental health coverage.\nit don’t have practical advice about your mental health question, except to say that i’ve found brief counseling sessions very helpful. with the state of our health care system, i think anyone seeking medical treatment would benefit from counseling support. maybe look into a teledoc as a first step, if you have access.",
          "it's tough. we've all be taught a bunch of ableism garbage that we need to unlearn. but everyone is at a different stage of unlearning.\nsort of?\n\nin my experience the overwhelming majority of people with physical disabilities are extremely chill and supportive. i mean, mental illness is five times more common in people with physical disabilities, so that dude with the cane probably understands psychiatric conditions pretty intimately, man. in my experience if you tell someone who's stuck at home due to shitty mobility options or whatever that you are also stuck at home due to agoraphobia, their reaction is, nine times out of ten, \"it sucks, right?\" and not \"actually i'm stuck at home for real while you're just stuck at home for pretend\" or whatever. like it happens but it's extremely rare.",
          "ugh, its a parent too? been there done that... my father was certain that there was nothing wrong with me except that i was fat (i was 150lbs at '\"). he changed my diet and my exercise routine so strictly that my pots and eds and narcolepsy all got so much worse. i also now struggle with my eating habits because of that time in my life. funny thing is he just had his first bout with covid (i know, its insane esp considering he only got vaxxed once) but now he is showing symptoms of long covid and covid-resultant pots and he refuses to go to a doctor or anything and he's just giving up. in a drunken ramble, he admitted to my mom (his ex-wife) that he thinks he may have cancer... it sucks big time. \n\nim sorry, i know firsthand how hard it is to have a parent do that shit to you.",
          "good luck. it's hard being a teenager and hard learning how to approach situations where the other person is not respecting your needs.",
          "\"hey i'm going to throw you a birthday party with your favourite cake and get you that video game you wanted as a present\". you get excited. you look forward to that future. you might even try to find some nice clothes or something. \n\n\"oh happy birthday. yeah i decided not to throw you a party or anything like i said i would\". you're sad. you miss the future you were looking forward to. you are mourning your lost party. \n\n\"by the way could you come serve cake at my kid's birthday party?\" salt in the wound. a big reminder of the party you were expecting and didn't get. \n\nthat's a completely possible scenario. it would be totally normal and natural to feel those types of feelings. maybe you'd also be angry that the person got your hopes up then didn't do it. or like an idiot for believing them in the first place. or some other negative emotions about it.",
          "oh he sounds delightful! not! 🙄 some people are just so inconsiderate. to some extent it doesn't matter how minor the behaviour is if it's frequent enough then it can still have a huge impact on someone's mental health. hopefully we can have a nice peaceful future!",
          "i went through something similar very recently with another family member who needed that kind of help, and it was not fun. this is going to suck. but from my own experience with these feelings and from what you’re describing, this is probably something that he needs you to do for him.",
          "it’s just so bad you have to feel like that, that you need to prove yourself of having a disability people cant see, wheelchair users don’t choose to be in a wheelchair because they want to be, they choose to be in a wheelchair because they need to be for support or safety when getting around. but if you aren’t permanently in a wheelchair your also get classed as not being disabled or lying because you can either walk or get up, being made to feel you are more understood in a wheelchair than not being in one just proves the ignorance and stupidity of people who are self centred of disabilities of any sort. people who do fake disabilities because they feel they need it for sympathy or likes or ego boost are the ones to cause the problems of people not understanding mental health and disability and when they are real. why do people think that having a disability when they don’t gives them the idea you have the advantages or a passage to a easy life and being centre of attention when you",
          "yeah, the aspie supremacists are quite cringe. nothing is wrong with feeling empowered by your disability, the problem comes when you try and take it to the point of claiming that autism is a superpower.",
          "- no idea about bilirubin and the only time i think i've had high liver enzymes is when i was in the hospital for an overdose on tylenol, so probably not relevant lmao",
          "life-saving treatments can have unintended side effects. but when the choice is life or death, i can’t imagine your mother would have wanted you to choose differently than you did. try to cling to that, and know that your mother was in a moment of weakness. she was tired, and she probably feels immensely guilty. if she could, i guarantee she would swap places with you. take all the pain away so you could love a normal life. but she can’t. and i’m sure it’s painful to see her child suffer every day, and then layer the reality of the situation on top, and everyone’s going to crack under that pressure. \n\ntake some deep breaths. hug your mom. tell each other you love each other. and then let the healing begin.",
          "like i felt like i was a burden and unaliving myself at. that time \n\nbecause i didn't want to be a burden \n\ni hate being a burden on people \n\nthat's why i'm scared to get in relationships with women \n\nbecause my disability is something i'm trying to figure out \n\nbut i didn't ask for this\n\nfeel like eugenicists want me dead \n\nnot trying to trigger anyone \n\njust your ex situation sounds like my situation \n\nbut you have to do what's best for your mental health \n\ni didn't take it personal.\n\neven though it was family members \n\nthat i couldn't reach out to \n\ndisabilities in my life is just hard \n\njust people don't realize saying learned helplessness \n\nthey don't realize it's not too much help as you think \n\nand plus it's a very huge waiting list \n\nsometimes years long\n\njust getting help is not immediate\n\njust not enough resources \n\nespecially for a person like me that couldn't keep a stable job \n\nwhich i felt bad i couldn't",
          "especially because ballet is so structured and has set terminology for each and every step and direction of the head, shoulders and body. ballet even has terminology for the quality of movements (in other words, how a movement is supposed to be performed in order to convey a certain quality or artistic element). because ballet is so structured and is based upon foundations that you work up to more advanced movements and steps from, it's easier to comprehend how a step should be performed when you have a basic idea of how your body should move in space based on the style of dance you are doing. as i progressed through my training to more advanced levels, i could listen to my teacher give an exercise combination and be able to perform it without having to be shown because i knew how to move my body and i knew which direction to move. there are unfortunately times when i still struggle as  a visually  impaired dancer, however. creating a mental map of the environment and  navigating it",
          "life is already fuckin' hard enough. fighting your limitations is the human experience to a point, but not to where you put yourself in harm's way. and honestly, i'm doing pretty damn good, in a lot of ways because of the paths my disabilities have led me down; i've learned about medicine to help myself when i'm sick, now i'm studying for the mcat. i study music because i could never do sports, and it's brought so many great people into my life. find a balance and people who are willing to trade skillsets with you. that is so much more important than trying to push past \"false limitations\" that ableists think we put on ourselves (and yeah, i hate to say it, but its definitely a form of passive/internalized ableism).",
          "this is just like having a disability. we have limitations and can't just walk right into situations that non disabled people can. we can, however, get to the same outcome as everyone else. we just have to do some work beforehand. this requires us to acknowledge our limits so that we can prepare for them. odysseus was no less of a hero for acknowledging their weakness and finding a way around, and the same goes for us disabled people. \n\ni'm saying all this because you are young and have a lot of time to plan your strategy around what challenges you may have. it might feel like you're falling behind, but in reality, lots of people have needed to wait and prepare before jumping into their adult life. and even more rush in and end up needing to learn the same lessons later in life. it took me until my late 20s and i'm super happy now! sure, i still live with the issues i did before, but i now have the tools to manage them.",
          "good luck to you ❣️\nmy mom is the only family i’m connected to, i’m estranged from my dad (who raised me), my sisters, and his entire side of the family for various reasons. there was a period of time where i was no contact with my mom but for the past year and a half we’ve been trying to rebuild our relationship. i feel like i can’t get her to work on all of the issues at once (queerness, gender, class, disability) so i’m taking it one step at a time. i have boundaries for my mental health’s sake, but it is hard to know when to continue holding on to a relationship if it’s holding me back from doing things that are positive for me.\n\ni’m definitely going to bring this up in therapy, would love to find someone who is well versed in navigating this experience but right now i’m still “shopping” around for therapists so we’ll see.",
          "you aren’t though just so you know. for me a lot of my disabilities are not seen like my mental health bipolar,cptsd, severe anxiety, and adhd. the other are health related like my hashimotos, heart conditions,ibs, severe asthma, essential temors, and much more. so, on days when i feel a little bit better it’s hard for me to feel not like i’m faking or it’s just not so bad even though i’m still trying to figure out another health condition i might have.",
          "- is it helpful to tell someone you disagree with that they are “out of their lane?”\n\nusually not. not if you are interested in having a mutually beneficial exchange of ideas. if you just want to push someone away in defense, it can go either way. the other person may either back off, or they may respond by escalating the situation further. it’s a gamble.\n\n \n\n- who was wrong...were you out of line...were they out of line, etc?\n\nthat’s really impossible to judge based on only hearing one side of the story. i’m cautious to jump on the “they are the a-hole” bandwagon, because i don’t think it will really be helpful to you in moving forward with what’s next.",
          "i do too, but i moved to san diego because the rain in portland made me depressed and suicidal for half the year. my family is in georgia, but being a gay man i absolutely refuse to live in the south again. there are other options that are sunny, but they don’t have the beach. legally you are allowed to pull your mask down to communicate with a hoh or deaf person, but it just isn’t happening at my workplace, at least for me, i’m not sure about customers as i generally work the bar. you’re right this is a very divided issue and i’m not really advocating for no masks anywhere. i just can’t stomach the idea of working for $ an hour or less. fortunately there is an end date to this, as someone told me in this thread. so that is a very big relief.",
          "wow, sounds like you're an amazing and thoughtful friend and it's evident you really care about her well-being. with that said, you're exhausted because you're taking on the work of two people, and that's not fair or sustainable. good for you for recognizing that things need to change so that you can maintain your friendship while making sure that one person isn't carrying the load for all the practical/logistics side of things.",
          "are there deaf schools in your area? she'll be able to play sports just fine once she recover.\ni am also an athlete and i am passionate about my sport. i've gone through a torn knee; it is a devastating injury and it was hard on me. one thing i want to point out with a cochlear implant, you can't have mris. i have an implant but i got really lucky i had a great knee specialist who was able to correctly figure out what i tore based on what happened. only thing we didn't know was how bad the damage was and what needed to be done until he actually got in my knee on surgery day. anyways. a torn knee can be hard on an athlete and it's unfortunate that your daughter had all those other things happening to her at the same time. she has gone through a lot in her short life and probably is processing everything.",
          "just not enough resources \n\nespecially for a person like me that couldn't keep a stable job \n\nwhich i felt bad i couldn't \n\nbut people wasn't in my body they couldn't see how i was feeling \n\nnot trying to trigger anyone\nat the end of the day, it isn't your responsibility.  they need to make an effort to either get a job or file for ss disability, section , food stamps, medicaid, and find housing.  you didn't indicate what the disability is.  are you actually caregiving, like feeding, bathing, etc, or just financial?  you're not family.  even if you were, it's not worth sacrificing your mental health for this.  it sounds like you have your own family in the home as well.  so they're dealing with this as well?\n\nit's very easy for someone with \"learned helplessness\" to give up and just rely on someone else.  my va therapist introduced me to that term.  it sounds like your ex is experiencing this.",
          "well, this is a tough one. i really wish that they had retirement style communities for younger people with disabilities.",
          "a local mom and pop grocery in my area got slapped with a significant fine for allowing an id employee to operate a meat slicing machine in their deli.   the employee was injured - the work comp doctor reported it to the state as an occupational safety violation - and the state occupational safety board agreed.\nand why does she come back every time? \n\nshe needs proper help and not a workplace.",
          "sorry, this topic hits too close to home for me so i kind of vented.\nthe article i added above discusses this. by and large maid patients have been privileged people seeking the same control of death that they had in life but those suffering from severe mental health problems are often impoverished and have histories and existing realities that include complex trauma. like…we’re passing seemingly careless maid legislation before fixing social housing problems and having a decent mental healthcare system. like…maybe trusting patients and giving them an opportunity for autonomy will prevent people from doing it themselves which will give them access to mental health care. but i’m scared this will be abused.\ni feel you on this and if i ever don't have any family members in my life anymore (as in they get old and die).  i too have a brain injury and have chronic pain.  maid is my backup option but i think i probably qualify for having a mental health issue too.",
          "i feel like you just described my life haha",
          "i feel you on the privileges thing, sighted people are way more privileged than they will ever realize or admit and a lot of people just suck and are ableist peices of shit. the number of people that can't drive for shit and don't know the right of way laws from their own ass makes my blood boil knowing that i know how to drive and can't yet these fuckers can and don't know how putting other peoples lives in danger because they don't give a fuck about anyone but themselves just pisses me off so much---anyways! before i keep ranting lol.",
          "btw, it sounds like you have an amazing support network at home, that's awesome :)\nthanks. i'll bookmark this and definitely look into it some more. like i said, i know i'll get it taken care of, i just have a lot of obstacles.",
          "as someone on the other side, thank you.\n\ni had dated my boyfriend for  months when he suddenly had a stroke.\nit's now  years later and he's doing so well, i'm so proud of how far he's come. \n\nhe's in a wheelchair at times, and has aphasia and right side paralysis.\n\nhe's lost soo many friends, it's been heartbreaking.\n\nit's been so hard on him and..it's been so hard on me. often i feel ignored by others and my struggles and pain are ignored because he had the stroke.\n\nthe impact this has on the loving partner is often ignored and you just have to suck it up. \n\nand if this happens over and over again and the partner does not look after their own mental health you can end up with compassion fatigue and that really is a relationship killer!",
          "like live alone but that doesn't make me fully independent \n\nbecause i still can't keep a stable job and have friends and function \n\nonly time i leave my house is to shop and check mail which is difficult \n\nbut i live alone don't really have support \n\nsince i look so normal and functional unfortunately \n\nplus people think because i'm a black man i'm immune to being disabled or having a disability \n\njust kinda hard because my disabilities is just as valid as anyone else that is in the community \n\nit effects me daily \n\nit's detrimental on my economic status \n\nit's hard to just text and talk on the phone \n\neven right now i'm getting a headache \n\nbut it's a lot of agoraphobic people that live alone that's my disability \n\ntry to explain to ignorant people that are ableist like you dealt with \n\ni'm quite the opposite i can't stay with people i would have a panic attack unfortunately \n\nit's hard to just check in a hospital for a crisis",
          "the masks are such a struggle. have you looked into any of the clear masks? my workplace recently ordered some for me! we just started back in person (we were previously virtual, which came with its own challenges) and it has been tough. i’m planning to give each of my clients clear masks to wear while i am working with them.",
          "yeah your reasons for being on disability is valid \n\njust made me also think about my personal experience with people like that \n\nlike it makes me very sad that some people don't understand \n\nhow much non visible as well as visible disabilities effects people \n\nwell for me i have severe panic disorder and generalized anxiety disorder \n\nand bipolar disorder and unspecified ptsd, and recently got diagnosed with a mild intellectual disability \n\njust get tired of the abled body making disability like the olympics \n\nlike people have to compete with each other to see if they disabilities are severe enough for disability \n\nwhich true definition of disability is something that effects your daily life or function \n\nwhich this does \n\nwhich i have agoraphobia i'm the opposite i can't be around people \n\ni can't even go to the hospital without having a panic attack \n\nlike live alone but that doesn't make me fully independent \n\nbecause i still can't keep a stable job and have friends and function",
          "just for clarification, is there a difference between excluding disabled and mentally ill from your consideration for dating or dating pool just because they are disabled versus knowing your needs and capabilities and that you can't manage certain challenges that come with certain conditions one has (like you won't consider being with someone who has bipolar disorder or schizophrenia because you'll feel unsafe with their instability, and you know you will have a better quality of life and have your needs met, it's what is best for you given your circumstances, and you connect better with someone who has minor mental health conditions or none at all also this is very important to you because most of your life, you didn't have the freedom to do what is best for you)?\ni don't want to date someone who doesn't have coping mechanisms for their disability/mental health conditions and i don't think it's fair to do the same to others",
          "literally everyone answered that question with \"well you'd be like most mental health professionals then...\" or \"yeah that'd be fine why would that bother us\" but that didn't seem to make a difference... schoolchildren indeed, it seems.",
          "uhm, wow; i'm not sure where to start. you're a senior in high school, correct? where are your parent(s) / guardian(s) in all this? i'm not sure how things work where you live but do you have an iep and a vision teacher (when i was growing up i had a teacher that came in and had a class where i learned braille, oandm, how to do things independently, etc). it sounds like you could use some adult help advocating for you with the school administration and your teacher. by all means you should also advocate for yourself but having other people in your corner is a good thing and you shouldn't be ashamed to ask people that care about you to get involved for you. some teachers / people just suck and hopefully you get through her class and never have to have her teach you again.",
          "this is a very interesting post and im sure there's a lot more people who also go through this. i can only speak for myself though, and unfortunately i've been in both situations when i felt the impediments  was due to my blindness and others when they were due to the causes. \n\ni have aniridia, a rare eye condition that has consequences such as ulcerations, cataracts and glaucoma as well.  for now i only have cataracts and a corneal scar on my right eye.   a few years ago  i started getting a lot of ulcerations and it was very painful . i had to leave in the middle of class a lot because i couldn't bare the classroom lights or screens, and just any sort of sensory stimulation made it somehow worse.  i spent a while at home until i finally recovered and stopped having pain, but it was a a major set back in studies and affected my mental health. so, i know what that's like to a certain extent.",
          "home health aides are often grossly under compensated and many folks work way long weeks, providing crucial services, and because some degree of emotional bond almost always forms, it’s frequently difficult for caregivers to let themselves be  unavailable.\nthat makes a lot of sense. i can’t imagine it would be easy to have a caretaker say ‘no’ last minute to something like transportation. thank you for sharing!\ni’ve heard stories from a lot of people that the  assumption that disabled people who use mobility aids need help when none has been asked and it sounds deeply, deeply frustrating and awful. in your experience, does this also extend to people asking if you need help? what are things you wished ambulatory people knew?",
          "perfect!!! my class has been studying/watching tony montanero (a famous mime who was taught by one of the greats, don't remember which) and working on lacoq's gondola exercise (where you mime rowing a gondola as a repetitive and neutral motion). happy to avoid actual sign language signs! thank you so much for your answer. <",
          "many professionals are like \"oh yeah, but that doesn't really have any relation to...\", being extremely dismissive, as if we can just turn off our disability in our daily life and not be affected by it or as if our disability is just a minor detail that can't be connected to everything or anything at all.\n\ni remember when i started looking for psychologist, one of my criteria was understanding how my hoh identity can tangle with other identities (such as being queer and non binary, as well asexual) and struggles and possible mental health diagnosis. for example, i have a couple of suspicions that i might be on the spectrum, however, when doing some tests, a lot of it feels familiar, but i don't know if those experience and feelings can be % due to my hearing loss (and all the consequences plus a lot of how society treat me) or if it's a mixed bag and so on. (not sure if that made sense, let me know and i'll try to find a better way to explain, as english isn't my native language).",
          "i can totally understand how this reactionary ideology came about as a reaction to the demonization of autism by groups like autism $peaks, but it is basically fighting fire with fire.\n\nsaying \"autism isn't a disability\", is often said by people who forget entire segments of the autistic community that are definitely disabled by having autism. it's cool you're aspie and all but that doesn't mean there aren't people with higher support needs than you. that's basically what i would say to them.\n\nit's also worth noting that aspie supremacy is also anti-disability pride, because aspie supremacy and declaring them to be not disabled is an attempt to distance themselves from the concept of disability. and that is something i simply refuse to accept. aspie supremacists can do whatever they want... over there... while the rest of us maintain disability solidarity and the idea that we need unity to stand together.",
          "i'm right with you in victoria. everyone is 'learning to live with covid' and i have so many questions with no answers. do i just stay inside indefinitely? do i never see friends again? do i not go get my teeth fixed this year like i planned? is it safe to attend cardiologist appointments now? how do i get the medicine i need without going on public transport and risking getting covid? \n\nit's all so depressing and disabled people are not being offered any extra support. the mental health system is also so overwhelmed i have no options for crisis mental health care.",
          "this is your mom's responsibility to handle. explain it as calmly as you can, don't call your sister names, have a solution ready. maybe sister can play in a different room with a door closed. maybe she can limit her gaming time to when you're at work/school/with friends. maybe she can relieve that frustration some other way, like outdoor sports.\n\nshe is going to have to learn to regulate her volume and anger sometime, so other people don't get upset. she is going to have to learn that she can't just ignore other people's feelings and physical pain, if she wants to have any friends or a job in the future.  but it's not your job to teach her those things, it's your mom's. so:\n\n. mom, i'm concerned about sister, she seems very angry and easily frustrated\n. her frustration is causing me pain and i'm afraid it will affect my hearing\n. i've tried talking to her about this but she doesn't seem to understand\n. can we have a family meeting to discuss how to resolve this?",
          "i’m not. i mask. every single day. i deal with it all the time just underneath the surface.",
          "how structured are your classes?  if they are structured very well, you could have a powerpoint type presentation on a screen, showing the pose from different angles than the participants would see you and some text describing it.\n\nif it's heavily unstructured, then you have some issues to tackle.  you could make an index of all the different positions you are likely to do and have someone click through and show the above as you transition from one pose to another.\n\n> are there any good voice to text devices i could have available?\n\nthere are  kinds:\n\n * ones with humans involved that tend to cost a lot, but do a great job\n * ai driven ones that are cheap/free and tend to do a better than nothing job.",
          "this all sounds like a form of depression that is very familiar to me, and if a few things were different in my case i could definitely imagine myself getting into the same kind of state. there is a brutal downward spiral effect that just sucked every ounce of willpower and determination out of me on so many days, and whenever it went on for more a day it would get rapidly worse. if things had gone a little differently for me, i could see those days turning into weeks and then months. it is entirely possible that your dad needs mental health professionals helping him at this point, because it just can get that bad. you all might need to get together for a little intervention to get him to seek this help. my prediction would be that he won’t do it independently at this point and will probably be very resistant to the idea. hopefully you can all come together and show him that you are truly with him and want him to have help.",
          "the edge of the path is. in myself i don't really care as long as i can still go out when i need to. it's the worrying about other people that's getting to me at this stage.",
          "and then this past year, i got into a motorcycle accident. leg was twisted and i was confined to a wheelchair during my initial healing process. nothing broken, but my tendon was really bad. my knee for that leg is now maltracking and i am stuck with my cane. if i walk without a cane, my leg makes very **very audible popping and cracking noises.** and don’t get me started on the distance i can walk.\n\ni can run, but after a minute of running i basically have to sit. and my running is a shadow of what it used to be. compared to where i used to be, it has been a slow descent through depression. \n\nmy advice is to get therapy to help navigate your feelings. my coping mechanisms is the gym. i can still go to the gym and machine workouts and do pull ups and dips and other things that don’t involve heavy lifting with my legs. but i suppose what i’m trying to say is you shouldn’t narrow your headspace just because it feels like the world is closing in.",
          "i see that and acknowledge that. thing is, we are with him -12h every day and in order to do our job professionally some sort of boundaries need to be in place. \n\nwe are to be friendly and understanding with our clients but we are not to replace a social circle, friends, family. the reasons for that are the possibility of burnout on our end, or depression if a client passes away. on the other hand, when a client is emotionally dependent on us and too attached there is danger of abuse, i have heard of cases like this in health care, when caretakers take advantage of someone.",
          "encourage them, tell them that the psychologist would love to hear about all the diagnoses they've gotten, how they're taking care of themselves with them, and how much of a struggle it is to find out that yet another new ailment they've never heard of has been \"found\" to be affecting them. trust those of us who have been to a real psych doc, there's no way your friend will get out of that room without the diagnosis of this one particular mental health issue. \n\nafter that, for them, it will be far harder to convince any doctor that something else new is happening with their health, unless the doctor comes to that conclusion themselves. and you will finally have the peace of mind in knowing that your friend is actually disabled, so i guess you \"win\"?",
          "do you mean emotional support animal as in one that goes with you everywhere?\n\npets can definitely be good for mental health and emotions, whether that’s a dog, cat, or anything else. and i’m definitely not going to hate on someone who has a pet for the benefit of their mental health. \n\nthe problem with emotional support animals is that there are no training standards. someone can buy a vest online, and slap it on their ill-behaved pet, and take them places. and i’m talking dog that barks or lunges at other people, dog that poops inside, or dog that is otherwise disruptive. \n\nunderstandably, business owners don’t want a dog in their establishment who is going to poop on the floor or jump up on other customers. and they may, not knowing the difference, assume guide dogs and other service dogs are equivalent, and refuse them service (even when they legally can’t). thus, the poorly trained esa makes it more difficult for trained service dog teams.",
          "i always get shunned for smiling or having fun or being relaxed when say about my mental health, my parents or friends didn’t understand my pain or disability, smiling was my disguise 🥸 so they thought i was ok so didn’t worry about me. as soon as you start showing some symptoms it’s like your lying 🤥 or they over mother cuddle you like i am about to die. they don’t know what to do so i just mask it to avoid that with close friends and family, so can understand completely about being asked if need help all the time and how suffocating it can be as you sometimes feel like voiding places but why should we, but i also get the opposite when out and about because if i have an anxiety attack because of the place and situation it’s like i’m contagious because people don’t understand what’s happening and that it’s a disability. people either leave or stare or whisper so makes me even more anxious so just avoid going out altogether because this causes anxiety just thinking about having to go",
          "i left my job because i had a manager who would not accommodate my mental health i have serve anxiety so i asked for different hours and a place to go to calm down but they didn’t said i go in to office but people come and go then they feel obliged to ask if i’m ok and burst out crying they run away so i started going to my car and calling help lines and mangers didn’t like it. i got signed off and i wasn’t told i need to have a meeting if off for month so i missed a call and got accused of being on holiday and faking my anxiety, i now suffer with agoraphobia and scared to leave home as fear people think i’m faking and should be working. i just quit i miss working but our health is more important so i choose health. you can go back when you are better and ask her to make these arrangements to on your return.",
          "from what i’ve seen most of these “can i use a mobility aid?” questions are people who are experiencing enough pain/difficulty weight the aid that they aren’t able to engage in activities they want. that is exactly what mobility aids are for, to enable people to do the activities they wouldn’t be able to do otherwise (or would feel significant pain/discomfort). \n\nthere is a difference between being “disabled” and having a “disability” though which some people don’t seem to realise. “disabled” as a legal definition refers specifically to people who struggle to carry out daily living or mobility activities without equipment.",
          "my weekends are taken up by religious pursuits and spectator sports on television.\n\nrelationships for disabled people truly are \"the last taboo\".",
          "til those masks exist. we wear masks, gloves, and face shields all day at work, but luckily my coworkers have picked up on the fact that using gestures quadruples the rate at which i process wtf they said. unfortunately my hearing aids struggle in the busier parts of the day because the animals i work with are very very loud at times. normally lip reading fills in the gaps for me when it comes to similar sounding words.",
          "-finally, out the door unless i see my reflection in the window as if to remind me my hair is way too messy for the office. grab a hat, then fix it during break later.\n-walk to work, enjoy the fresh air of freedom for  minutes.\n-reach the door to my workplace, have a small moment of dread while frantically feeling for my security tag. feel relief if found or like you your whole day is ruined if not.\n-reach my cubical, no one but me there and the lights are off; silent, peaceful, and the best part of my shift.\n-begin my work routine (which i've written with a timed itinerary and pinned to my wall).\n-realize how far behind i am when coworkers file in. notice our daily webcam teams meeting is in  minutes.",
          "once you've really got an open conversation going, you could start by making an agreement together on something small that you'll work on. an example might be her makeup. let's say you've taught her, or she's learned from a tutorial, how to put on her lipstick. you could agree together that if she'd like you to do her makeup that day, she'll do the lipstick. if she's not feeling comfortable or confident enough when the time comes, you could be gently encouraging and supportive without actually stepping in to do all the makeup that day like you always have done before. if it turns out she doesn't wear any that day, no one is harmed and it's not the end of the world, but an important boundary has been established.",
          "if you don’t already have udid get one it’s important.  \nnow the job part,  \ni am fortunate enough to have a family business, but after dropping out of college i learned web development and started freelancing i didn’t make substantial income but it was better than not making anything, since i want to have good financial future i started inventing at very young age as well.  \ni am not sure how much this reply helped you but hope you feel better feel free to message me cheers.",
          "-realize how far behind i am when coworkers file in. notice our daily webcam teams meeting is in  minutes.\n-work during the meeting to catch up, retain about half the information. meeting ran long, factory floor walkthrough with dept. heads starts in  minutes and i have to use the restroom. go as quickly as possible without seeming frantic. say an awkward \"good morning\" to any coworkers i happen to see on the way.\n-i have  minute, shove my messy hair into a hairnet and pack it down to look decent. head downstairs, check to see if my fly is open along the way.\n-walkthrough runs a bit long, but that's fine until my supervisor needs to ask me a few questions. he's about a minute from his next meeting and still chatting with me like a psychopath. my blood pressure goes up on his behalf, but i joy down a few notes of the minor tasks he's given me.",
          "yes absolutely. i've had my pain treated like an emotional problem before. it's even worse if people already think of you as emotional (i feel like women get this a lot more, but also people with certain disabilities and mental health problems and probably many others).\n\nonce i injured my ankle (which was entirely caused by my disability), but unlucky for me, i was already labelled as anxious and difficult. so they didn't treat it, but gave me an emotions traffic light card, and sat me on a chair in the corner. for the whole day, with no way of getting up or asking for help. thankfully, i'm not in that place anymore, but i worry about the people who are. i'm still emailing people about that.",
          "without the pain,  which would be most of my life, the impediments i've comed across have been caused by the blindness itself.  it's a real shame because glaucoma is such a shitty thing , but i still think there should be a way around it. i know people with glaucoma who manage to do pretty normal activities, they just have to find the way adapt it to their needs.  perhaps you can't jog but you can do some exercise on a fixed bike, or just gp for long walks . sure, it isn't as thrilling, but its better than nothing. \n\nfamily and doctors have a tendency to over protect because they probably want to avoid risking it . sometimes its simply up to us to overcome that barrier if we truly believe we have the capability. .",
          "i know your pain, my dad is the same way. no matter how many surgeries i have had, no matter how many specialists i have seen, he still accuses me of faking it. he could never get over the \"shame\" of me not being a sportsball champ when i was . \n\nbut the funny thing is it is all him projecting. he is the king of making medical excuses. he has claimed to have many maladies and conditions so he can get out of doing things he detests. he claimed he had \"da shits\" once so he could avoid taking mom to a doctor's appointment. he claimed he caught it off a child. the child was lactose intolerant. yes, he claimed he caught being lactose intolerant. it was just a lie. he is so used to lying he assumes everyone else does it as well. so i would be screamed at all the time. he would assume i was just putting on an act.\nuse it, if he starts yelling, oh well. tell him to get over it because you need to use this aid and it is not his life.",
          "substitute severe anxiety for me, which leads to depression because of inaction. i feel so seen. i toiled and hated it for  years. i can't seem to do it anymore. i've never heard that term bedrotting, but i feel like this is what i'm doing. my bed is my safety zone. i'm so poor, but i live with a friend who understands. i try to do gigwork, but i feel so scared to go \"out there.\" it's avoidance of discomfort to the point of great fear. i failed again yesterday. this is probably one of the worst developed countries to have mental health issues in. this is a pull-up- your-bootstraps kinda country. hard work!! make money!! don't be \"lazy!!\" do whatever it takes to get ahead and be successful or die!! i hate being like this. i have lots of help and meds, but there is no magic bullet to fix my mind. i am put off by the oversimulation of the work day, business hours, the rat race, hustle and bustle, etc. something happened to me over time. this society seems to have very little tolerance",
          "it broke my heart to hear how dismissed she had been most of her life when she ever did bring it up with a doctor.\n\ni hope you get the answers and validation and care that you deserve. you sound like you need some piece of mind and care and i hope i can give a little of that to you right now 🤗\n\nit seems like you have really tried to build a good life for yourself regardless of the difficulties but it seems less about lack of vision and more about the stress from the unknown and lack of care from the people who are supposed to care about these things.\n\ni wish you the best and i hope you are more gentle with yourself. it’s really not your fault and yet seems like you’ve been shamed enough by doctors to almost feel as though it is.",
          "sometimes, none of that works and i just straight up refuse to discuss my health with the person any more. if they bring it up, i say thanks for asking but i'd rather not discuss it right now and would prefer to discuss only happy topics. then i immediately change the subject (its very helpful to have anyone else you hang out with also on this plan if you go this route- my husband knows the people who fall in this category and backs me up). if they bring up their own health, i also politely say, i'm sorry you are dealing with that--and then immediately change the subject. they eventually figure out the topic is off the table.",
          "the ai driven ones change all the time, and some do better than others, you need to try various ones to see which will do the best in your particular situation. they are not % accurate. most of the time, given good voice input, they are reasonably accurate, but they tend to lose out on anything complicated or out of the \"normal\". they also almost never get nuance correctly.  for your application, that might not matter, but you need to try the different ones and see which seems to work best for your situation in your classes. to help it succeed, wear a microphone and use that as the input.",
          "i think that's the reason i do value my free time. because i have a full time job just being sick and in pain from my disabilities, so the few hours i do have that i've managed to wrest from the hands of depression and anxiety and adhd are *mine* and i deserve to have a chance to just exist and be happy, since i haven't had that chance for the past nearly  years.\nthat’s just shitty parenting. my child has some of the same mental health problems that i have. he is medicated and has been in therapy since  or . \n\nwhen your kid needs help, you get them help. hard stop. to not do so is negligent.",
          null
         ],
         "marker": {
          "color": "#CFD8DC",
          "opacity": 0.5,
          "size": 5
         },
         "mode": "markers+text",
         "name": "other",
         "showlegend": false,
         "type": "scattergl",
         "x": [
          7.461792,
          11.024117,
          12.913478,
          11.545038,
          10.290264,
          11.089571,
          11.338636,
          10.349842,
          12.254524,
          10.726175,
          8.136092,
          13.164816,
          8.822783,
          10.354035,
          12.767167,
          10.269197,
          11.228651,
          11.503213,
          8.177626,
          13.864491,
          12.773874,
          10.784625,
          12.408673,
          12.245792,
          11.490629,
          10.819001,
          11.200477,
          12.788801,
          10.925078,
          7.1921363,
          10.195769,
          10.431859,
          10.39939,
          11.028344,
          12.9506,
          7.314097,
          11.485536,
          11.027661,
          8.462388,
          11.040144,
          9.900484,
          10.470633,
          10.764941,
          11.92315,
          12.787791,
          9.602127,
          7.774508,
          10.902031,
          7.4357066,
          12.77371,
          10.351718,
          11.880698,
          11.283347,
          11.765611,
          12.589839,
          11.701715,
          12.65276,
          10.644824,
          12.426873,
          8.352925,
          11.028847,
          10.807014,
          10.690544,
          10.986771,
          9.686178,
          10.8459635,
          11.254243,
          8.787727,
          11.407175,
          8.730045,
          8.80566,
          11.173574,
          10.846725,
          12.043487,
          11.679139,
          12.98256,
          7.7048397,
          11.412091,
          13.865189,
          10.857301,
          10.41878,
          8.155814,
          8.756278,
          11.551721,
          7.436602,
          13.16704,
          11.085206,
          10.544306,
          7.1708636,
          10.780705,
          7.9098134,
          12.885548,
          11.700186,
          11.921624,
          11.489506,
          10.234065,
          12.032069,
          11.935968,
          12.176857,
          10.928243,
          11.1300955,
          8.123404,
          11.675552,
          11.191321,
          10.368077,
          9.632381,
          12.937888,
          11.423568,
          11.096642,
          11.712699,
          12.681956,
          13.182308,
          12.773952,
          8.122126,
          7.155184,
          11.564881,
          10.94118,
          7.1710815,
          9.030054,
          11.514489,
          11.882785,
          11.198203,
          10.245327,
          8.938713,
          10.859201,
          13.127482,
          12.404684,
          12.7184725,
          7.164865,
          11.253147,
          11.881081,
          10.266984,
          11.907359,
          10.608256,
          11.530577,
          10.404511,
          10.431968,
          11.153454,
          10.96289,
          11.33979,
          11.1420355,
          13.824023,
          11.338909,
          12.733356,
          12.335786,
          10.553526,
          10.980007,
          10.211266,
          11.468238,
          8.712273,
          11.557633,
          8.370906,
          11.351805,
          7.159244,
          12.237694,
          13.33963,
          10.851845,
          10.247382,
          11.863566,
          7.4902763,
          11.490226,
          10.836335,
          11.334805,
          11.687447,
          11.805799,
          11.639939,
          8.119153,
          10.137124,
          11.753518,
          12.524275,
          12.431655,
          11.976991,
          9.952434,
          10.244546,
          12.321526,
          12.052532,
          11.087593,
          11.875333,
          8.819695,
          7.957037,
          12.452535,
          11.4475,
          7.5245705,
          7.7129683,
          10.857524,
          12.522037,
          11.707992,
          11.591152,
          11.614218,
          11.076721,
          12.792162,
          8.54116,
          7.648401,
          11.731372,
          12.296483,
          11.374401,
          11.692675,
          12.192044,
          8.403017,
          9.556653,
          12.099725,
          7.6835704,
          9.730951,
          8.76913,
          11.123325,
          10.709722,
          9.873572,
          10.515101,
          13.020462,
          10.429557,
          11.485239,
          11.885483,
          12.379104,
          10.938468,
          11.695318,
          7.182039,
          11.631108,
          10.677271,
          10.5550585,
          11.43227,
          11.829005,
          9.468742,
          9.7215605,
          8.294201,
          12.342586,
          9.418763,
          13.159136,
          13.7989855,
          12.341535,
          8.7454405,
          11.449917,
          10.462754,
          11.736694,
          9.332747,
          11.704405,
          11.202616,
          9.991707,
          8.34749,
          8.334225,
          10.261919,
          8.468408,
          9.970404,
          11.893491,
          12.026317,
          9.677605,
          9.457605,
          8.233559,
          10.414737,
          10.76749,
          10.705388,
          12.867244,
          10.841777,
          12.790949,
          11.2806835,
          12.091041,
          10.202305,
          11.041263,
          8.556161,
          12.442831,
          9.757442,
          11.216502,
          12.530286,
          11.419564,
          7.7001457,
          10.699104,
          11.905649,
          8.819063,
          10.86622,
          8.297339,
          11.918049,
          10.781441
         ],
         "y": [
          9.435166,
          5.3051615,
          6.299973,
          4.6780186,
          4.833478,
          6.984968,
          6.039928,
          6.8529572,
          5.781908,
          6.1504483,
          6.126465,
          7.7959504,
          9.549429,
          5.400619,
          4.900212,
          5.733611,
          6.64792,
          6.784533,
          7.183208,
          5.7399,
          7.0843725,
          6.2597775,
          6.3758044,
          7.6020226,
          8.19408,
          6.776993,
          4.800109,
          4.899944,
          4.9259467,
          7.5544014,
          5.772604,
          6.421508,
          6.550494,
          6.1734624,
          5.982292,
          7.608047,
          4.7213173,
          6.257486,
          9.138085,
          5.3093014,
          7.8972716,
          6.206016,
          4.975636,
          7.022485,
          7.10331,
          9.174561,
          6.080275,
          6.8188252,
          9.397789,
          4.9081755,
          7.016187,
          9.8805685,
          7.624584,
          6.5484285,
          5.5129004,
          7.2377996,
          7.3459535,
          5.650949,
          7.028455,
          5.5448637,
          7.4769373,
          6.2259073,
          5.0523167,
          7.167086,
          6.0275745,
          5.672856,
          7.8245535,
          5.4590654,
          6.880157,
          5.4440413,
          5.9981046,
          6.088513,
          6.88876,
          7.1211815,
          5.6066756,
          6.1816406,
          6.558642,
          6.666578,
          5.7534614,
          6.9211154,
          4.7549977,
          5.822309,
          5.3609524,
          4.5784154,
          9.376,
          5.752272,
          9.942787,
          5.831992,
          7.5288153,
          5.124625,
          5.784841,
          5.9867883,
          7.169488,
          7.0900784,
          8.2699175,
          7.8885045,
          6.753368,
          6.4584255,
          5.7047663,
          5.879254,
          7.08109,
          5.4577975,
          8.910439,
          5.7930336,
          6.23501,
          6.0082903,
          5.9568605,
          6.1113405,
          7.9041405,
          6.8245234,
          7.7424216,
          5.7887583,
          4.9037986,
          6.0866976,
          7.5291595,
          4.590963,
          7.510509,
          7.4989233,
          8.86694,
          6.8258944,
          4.8699965,
          7.896956,
          7.779822,
          8.984201,
          6.272746,
          7.762261,
          5.6000314,
          6.8212624,
          7.535192,
          6.613579,
          9.875362,
          7.7653503,
          9.88581,
          6.1530356,
          7.815796,
          4.931796,
          4.760434,
          7.254789,
          5.4521875,
          6.3975472,
          6.0373325,
          5.664482,
          7.928202,
          7.06917,
          5.633137,
          5.4732995,
          5.8947363,
          8.762966,
          5.332812,
          5.2358804,
          5.9754243,
          8.982744,
          5.1688423,
          7.527759,
          5.1809077,
          5.1627154,
          6.9135895,
          8.767427,
          9.847512,
          9.442392,
          7.7138786,
          6.7779856,
          6.900296,
          8.921941,
          6.5957413,
          7.696928,
          5.7651086,
          7.429981,
          6.2079105,
          5.5038347,
          6.98514,
          5.5399003,
          5.8154025,
          7.0753183,
          4.939634,
          7.0436997,
          6.4188614,
          8.0471945,
          5.3265624,
          5.9437094,
          5.447895,
          6.4609814,
          6.231163,
          6.59793,
          7.888247,
          5.308386,
          6.8375177,
          6.0849724,
          4.7708383,
          6.1689286,
          7.144434,
          8.688563,
          9.470353,
          4.887681,
          5.905833,
          6.7702427,
          8.045746,
          7.388542,
          8.71321,
          5.8809505,
          6.2214055,
          6.625701,
          6.097048,
          5.4762044,
          7.9362164,
          6.6237297,
          6.086069,
          5.0719523,
          7.5603747,
          6.2582655,
          7.760309,
          9.87315,
          6.4131126,
          6.0181236,
          6.5308084,
          7.5230436,
          7.295082,
          4.994454,
          6.1360126,
          7.292564,
          8.134307,
          8.50392,
          6.0927453,
          8.820736,
          4.9179487,
          6.893415,
          7.7777605,
          5.644216,
          6.935322,
          5.977683,
          5.5010242,
          6.743613,
          7.120199,
          8.509,
          6.8204093,
          8.034557,
          5.0720015,
          5.5321693,
          5.5603294,
          7.7119985,
          8.446551,
          8.989562,
          9.886091,
          6.276736,
          6.1000648,
          8.48461,
          8.335906,
          6.2511864,
          5.2655115,
          5.6248674,
          7.1820717,
          6.851396,
          4.881625,
          7.372343,
          5.733363,
          7.841067,
          7.80508,
          8.493458,
          6.989955,
          6.0569406,
          4.7936344,
          7.03224,
          6.812769,
          6.464261,
          6.634817,
          6.3829265,
          4.880833,
          6.8164864,
          8.424947,
          6.656413,
          6.699789
         ]
        },
        {
         "hoverinfo": "text",
         "hovertext": [
          "i work for a call relay center and strongly agree with u/surdophobe 's comment. the appropriate call type for you op, is hco through the trs (text-based relay service) not asl with a videophone through vrs. hco is designed to be used by any people who are able to hear over the phone but for whatever reason are unable to speak. some common examples of people who use this service are autistic individuals and people with selective mutism but a mental health situation resulting in inability to speak would certainly qualify as well. i have the contact number and email for the relay service and i will dm you with those details.\ni would recommend you use a tty or text relay service as these are used by both ddhh people and those with speech difficulties or who are non/semi verbal (i fit both categories and it works well for me, especially since i'm not fluent in my country's sign language and english is easier to communicate with).",
          "now, i have been practicing asl and i am currently doing asl ta thing for a class. i honestly did feel a little better in terms of self-esteem when communicating with deaf people using asl. i didn't keep saying \"what\" over and over again, didn't make fun of, and i did feel a little bit useful when i can contribute to a conversation. i don't mean to advertise asl, i just find it somewhat helpful to me regarding my personal self-esteem imo (i don't feel useless every day).",
          "lots of opinions. lots of points and counterpoints. i'll give you a scattershot of a few;\n\npro deaf=disabled\n\n - it shows a form of internalised ablism and attempt to disassociate, making disabled people \"those folk over there\".\n - as per the medical model (even 'nicer' versions) disabled people lack an ability to do a thing that is statistically normal and normalised. \n - as per the social model, society still clearly disables deaf people.\n - most points against deaf=disabled can be critiqued with \"isn't that true for all disabilities?\"\n\nanti deaf=disabled",
          "it really is. a lot of people don’t realize how much work it takes just to seem “normal” in the hearing world without an interpreter or communication accessibility.\n\nthis situation happens nearly every time i go out: hearing person starts talking, i quickly interrupt and let them know that i’m deaf and can read their lips. they either start yelling at me because they think louder means comprehension (when it just messes up lip movement and makes it even harder to read them), or they give me a pity party: “i’m so sorry…”\n\ni deal with it by basically staying within my circle of family and friends that i can communicate with via sign. i’ve turned down a lot of invites to go clubbing, parties, any social event if there will be more than two or three hearing people due to how exhausting it gets to follow the conversation.",
          "i'm not sure i would want to ask my employer to switch to those if they are much more expensive, considering i'm getting along fine (maybe with a few repetitions), although it might be nice to have a box in my locker just in case. but you should definitely push, you have a right to be able to hear your doctors, and it's ridiculous to try to do any mental health test if the person can't fully hear you!\ni can’t recall if i ever had a sign on my door that i was deaf—i remember asking for one when i was on the medical unit during one of my mental health crises because i was so angry about the cognition test being inaccessible. i will ask my pcp if that’s possible. unfortunately they don’t use color coded bracelets, but that would help. especially if it can flag the system to remind people to seek me out in waiting rooms.\n\ni ran into the issue of not knowing when it was my turn...at the ssd office, and nearly missing out.",
          "this is absolutely unacceptable.  i am an interpreter, and i have worked in mental health settings in a supervisory capacity (not as an interpreter).  about % of our residents were deaf.  there was an interpreter at every junction of the residents’ mental health therapy and care, and the faculty and staff (including me, a supervisor) could sign.  a facility like the one i worked at is not the norm, but it certainly exists. where are you in the states? also, look into remote interpreting if there are genuinely no interpreters in your area (unlikely, and not optimal, i know).   yeah, technically a private facility can just say no.  but there are private places that will be accommodating, as well as publicly run options.\ni'm truly sorry about what you're going through. it's bullshit.",
          "i wish i knew more about the intent behind the slideshow, but have you considered having your friend make the presentation for you?  maybe it's a school requirement and you can't, but it seems like the information would be better actually coming from a deaf individual than someone trying to speak on behalf of the community.  i don't doubt your intentions, but i don't know the extent of your knowledge and understanding.  presenting yourself like an expert is something to be wary of.",
          "if you're near queens, ny, you should call the lexington center. they have mental health specialists that serve the deaf community. good luck to you both!\nhey!\n\n\n\nthis is the nj website for deaf/hoh. if you scroll down there is a line for mental health. \n\n\neven if that's not perfect, they can point you to good services.",
          "i’m deaf, my husband is hearing. i’m glad you’re being proactive learning asl. the largest struggle for me was having to adapt all my life in a hearing world. my parents were told not to teach me asl because i wouldn’t be successful. well this led to years of isolation. family gatherings i play on my phone as well because people tend to get awkward when i ask them to repeat themselves. they also like to tease i responded incorrectly from mishearing info or i am just plain exhausted trying to keep up in groups or background noise. i’m fine playing on my phone, i find it relaxing, i also need it to decompress. for some reason there’s always someone that finds it rude but hey, my mental health and being is more important than a little social gathering.",
          "if this hasn’t happened already, i would suggest training for everyone on language deprivation and its effects on mental and physical health in the deaf community. our local deaf mental health  institution contacts me and others in my circle several times a year asking for advice in working with their clients who have “low language competence”. i would also suggest having asl fluent staff (preferably deaf) who specialize in working with clients who are language deprived.",
          "i agree with your usage of the german word behinderung, \"being obstacled (sic)\". however, you are directing it in the wrong direction. hearing people are the one suffering from behinderung, that is, via creating policies, procedures, laws, medical models, and many other environmental harms that causes normal deaf children to become literally cognitively and/or psychologically disabled from linguistic deprivation and/or educational deprivations. \n\ndon't believe me? here is a simple snapshot of a disabling world hearing people created against the deaf people: \n\ngoogle scholar - [deaf mental health language deprivation]( \n\nit is the hearing populations failure to understand the world in a proper way that causes no harm that makes them disabled and we need to assist them with their disability. one way is by creating threads like this to address it, especially addressing misconceptions such as yours. \n\nexample:",
          "hi! i am in my early 30s and a mental health counseling grad student. i would be open to video chatting if we have some interests or things to talk about in common :) \n\nalso, there are still some active asl zoom chats out there. the nice thing about zoom is that you can join asl chats hosted by ppl in other states.",
          "yes deaf community need more mental health therpaist, first of all if you dont know sign language start taking classes you will need to be fluent in sign language first before you can provide your service to deaf community otherwise the therpay processing wouldnt be effective. it would be more effective if you are fluent in sign language. not just sign language you need to be also very familiar and understand deaf culture too\nnot in the us but yes we took my daughter to a play therapist who knew bsl. i think everyone should have proper access to mental health services.",
          "i’m just lurking because i made a new deaf friend, but this is a question i can really answer!\n\ni think the issue is more that you haven’t found a study method that works for you rather than apps. i hardly use audio exercises myself, and since you can’t hear well, you’ll likely only need to focus on writing and grammar skills. i recommend genki. it has audio exercises, but they’re optional. \n\nmost importantly, you need to find an exercise that you enjoy. playing matching games, reading comics, writing posts online. i like those methods. i follow many japanese people on twitter and it keeps me sharp! what interests you? find a way to get that content in japanese.",
          "> because of my mental health issues and/or medications, i seriously struggle with focus and memory. my wife helps me remember things and i rely on her to remember almost everything because i forget so much. if i don't write it down, it literally didn't happen.\n\ni completely identify with that!  i've started asking my doctors if they're ok with me recording our appointments.  not every provider is ok with it, which is why i always ask.  i've been recording my therapy sessions for years.  it's great because i don't have that anxiety around making sure i'm taking good notes or remembering every little thing that's said.  i think i've gone back and listened to... maybe % of the sessions?  but for those sessions, it's *very* helpful to have the recordings.",
          "-\"deficient or incompetent (usually preceded by an adverb or noun):\nmorally impaired; sports-impaired.)\"\n\n\n\nthis gives us the idea that we all should be hearing. this is hugely detrimental because that assumes we all had hearing and lost it. that is not true. this gives an inherent assumption that not having full hearing is \"less than\". i understand that by default, there are limitations for us because of our hearing, because of the entire framework of society is based on hearing people!\n\n\nare we \"less than\" people that are automatically normal in society just because they can hear because it was built for them?\n\n\nironically, i can't watch the philosophical video because its not captioned! thats because majority of viewers are hearing and would not have a problem watching, and i am irregular. is that my fault?\n\n\ni think not.\n\n(edit: formatting)",
          "sorry for the long rant. i just really liked this topic and wished they can be more open-minded and take mental health seriously (in general) especially to the deaf community (not saying deaf community is perfect, they have some flaws as well). \ni don't remember where i saw this so i can't cite it.  while researching for something i came across a study where it basically said that deaf community population is very similiar to other disadvantaged minorities in term of statistics regarding mental health issues, drug issues, domestic violence, unemployment rates, education rates, and so on\n\nit's a result of oppression the community experiences just like hearing minorities.\ni work in the mental health industry and made a post about the poor treatment of our deaf clients at my agency a few weeks ago\n[disappointment at work](",
          "it's even better for medical appointments because i can focus on what the doctors are saying rather than worrying about trying to remember it all for later.  again, i never do it without asking the doctor first and making sure everyone is ok with me recording them.  i explain that i have cognitive issues and auditory processing disorder - my therapist suggested i explain is an accommodation for my disability.  most doctors are fine with it. some are not.  i even had one doctor refuse to let me record the appointment, but then at the very end of the appointment he recorded a summary of his diagnosis and recommendations, which was better than nothing.",
          "yeah, see, that to me, is the greater problem. you need a great internet connection. is there any way to access better internet? \n it would be impossible for me to survive without the internet. with the internet, it doesn't matter if i'm deaf, and it doesn't matter if the other party is hearing and speaks. google live captioning is a game changer and has transformed my life. i cannot tell you enough how wonderful it's been for me, also a long time consumer of mental health services. through google love captioning i'm able to participate in tele-health and group therapy as well as a hearing prison, and better than i could irl and f2f, this includes twelve step groups, as well.",
          "psychology and psychiatry and just therapy and mental health in general is the most linguistic experience a person can ever have, probably. and many of the patients have been victims of a society that does not recognize or promote their language in its natural form, something the rest of the world doesn't have to worry about. most therapists, for example, have never encountered someone who can't readily converse with their own parent or sibling or colleague, for example. the average practitioner doesn't know the first thing about this community. it's not their fault, it's just the way it is. but i'm glad to see when people want to learn more. the doctors i have recommended use american sign language, used in the united states and most parts of canada. i am not familiar with such practitioners in other countries. however, i'm sure they exist.",
          "if you want to work in mental health in the deaf community, i cannot recommend dr. neil glickman and dr. sanjay gulati highly enough. dr. glickman is a psychologist and is hearing but has signed for decades. still, he uses a deaf interpreter (cdi) when necessary, and he is experienced enough to know when he needs one. the same goes for dr. gulati, except that he is a psychiatrist and he is deaf himself. he has made it his life's mission to get language deprivation syndrome added to the diagnostic and statistical manual. i hope he can, it needs to be there. search these names and read these articles and watch these videos, and it will give you an idea of what's going on. there are others as well. one name will lead to another, they often work together. i will tell you that this is a unique subfield, and it can get very complex. this is because psychology and psychiatry and just therapy and mental health in general is the most linguistic experience a person can ever have, probably. and",
          "my wife is a deaf therapist, and we live in a deaf mecca (rochester, ny) and she's very frustrated with the mental health system here. there is a serious lack of residential treatment facilities that can accommodate deaf patients. it's even worse for difficult patients, because they typically get kicked out of rtf's due to serious behavioral issues. and that basically means they have absolutely nowhere left to go.\n\nif it's that bad here, then it's likely much worse everywhere else. hearing people basically don't give a damn when it comes to mental health services for the deaf, and deaf therapists have difficulty trying to push this issue through the hearing-centric system. \n\nfunding for deaf mental health services also is a joke. everything is run on shoestring budget.",
          ". if hearing people get bored because of no sounds while driving, then they have been taught poorly on how to drive properly and how to keep themselves properly simulated via environmentally appropriate coping skills that doesn't rely on sounds. that's not the deaf people's fault but solely on the shoulders of the hearing world. even asl interpreters (mostly codas) agrees with this perspective, thus adding weights that even a hearing person can correct the problems by using deaf visual solutions. \n. \"bigger screens\" = more problems? it actually led to less problems because the screen is big enough to quickly glance at it to grab more information before looking back on the road. the smaller screens were causing a lot of problems, hence the change to bigger screens. do your research first before making strange claims.",
          "i think that this is a great choice! access to mental health resources and services is a definite issue in the deaf community. i would be happy to participate in this project.",
          "this immediately makes me, a deaf person feel like i need to be \"fixed\" for a society that is not structured for people like me. i believe this is what one of the points that op's co-worker was trying to drive home, but their approach was (seemingly) aggressive and harassing. \n\n\nmoving on to the term \"hearing impaired\". we all know what hearing is. i am more focused on \"impaired\". impaired is defined as... \n\n-\"weakened, diminished, or damaged: to rebuild an impaired bridge.\"\n\n-\"functioning poorly or inadequately: consumption of alcohol results in an impaired driver.\"\n\n-\"deficient or incompetent (usually preceded by an adverb or noun):\nmorally impaired; sports-impaired.)\"",
          "yes i do understand that's how it is all over the world. there is absolutely no tendency to include all deaf people under one umbrella here. if anything, i see a lot of deaf (i play deaf sports so i know a lot of deaf people) vehemently against has and cis because somehow they are threatened by them. a deaf friend once told me he did not 'let' his wife go for has because... anyway that's how it is here and i feel uncomfortable about people advocating on whether one should get cis or not, unless they are ents.\n\non the livelihood part - the government does a lot actually. we have so many schemes that let's someone take loans for bare minimum interest to set up their own businesses. we don't have anything for housing though.\n\nmental health in general is not taken seriously here :) we all just wing it or get married and have babies. so i don't think the government does anything for it.",
          "i'm happy to say that my complaining to hr had some success, and while it's still being debated, my hr rep has demanded better consideration for our deaf clients from both the company director and our ethics director!  i hope to continue to see advancement! \ni definitely know my mental health issues are because of hearies and dysconcious audists.",
          "to accept. and having a good support system is helpful because a good support system is the type to learn sign language with you or find other ways to still communicate with you as you lose hearing, they don’t allow you to just get completely left out. having a good support system means having people that may not understand but that you can vent to, and connecting to your local deaf community can give you both of those things. having a good support system means having one that believes you when you say you didn’t hear them and makes adjustments to help you. i think it may be easy for some to say that a good support system does nothing because they’ve never had a bad one and don’t know how much that would have worsened their situation. it’s more common than not for families to not even attempt to learn sign language for their deaf family member. it’s also super common for deaf kids to have been told they were faking and not received any accommodation as a result. people who have",
          "well then.\n\nto start off, who decides whether a person is \"normal\" or not? \n\n\n\nthis link goes to a more philosophical discussion (uncaptioned, but i read the listening notes). \n\n\"statistically, normal is the average or median of a set of data.  in a normative sense, norms are the standards by which our behavior is measured, such as morality and reason. \"\n\n\nhere we can see how normal can be systematic and structural within a society, and how \"normal\" here differs from \"normal\" in australia. normal in america is not having healthcare, and normal in australia is having universal healthcare, for example. \n\ndeafness as a whole is not the norm. therefore, irregular or not normal! however, is that our fault? there are usually  paths of \"treating\" deafness, because of its inherent irregularity within society. medical or cultural. this article divvies it up as \"pathological\" or \"cultural\".",
          "i would definitely encourage you to learn about deaf culture and asl. i took a few classes in high school and it was amazing how relaxing it is to not have to strain to hear things. i found out that my college has foreign language tables where you can practice different languages, and recently they started an asl table, so i've been trying to relearn asl so that i can join in. \n\ni wish you all the best!",
          "anti deaf=disabled\n\n - disabled (as per the social model) is about whether your community or society disables. while broader society does disable deaf people, the community around deaf people does not. once given access to community, language and communication - there is no disabling factor. there are also many global templates of what deaf intetrated societies look like.\n - its a trait variation that carries ability, sure, but so is ability/aptitude to do various sports or needing glasses and niether of those are considered disabilities. it can (and should be) completely normalised, or given its own cultural space, and therein be not a disability but just something that some people have like haircolour.\n\npersonally - i think you either have to accept deaf as part of disability or use it to critique the ideology of disability completely (with the aim of bringing other disability groups along with us into whatever comes after). doing just \"i'm deaf not disabled\" is a half-job.",
          "i don't remember where i saw this so i can't cite it.  while researching for something i came across a study where it basically said that deaf community population is very similiar to other disadvantaged minorities in term of statistics regarding mental health issues, drug issues, domestic violence, unemployment rates, education rates, and so on\n\nit's a result of oppression the community experiences just like hearing minorities.\nwow, you pretty much summed up how i felt back in hs and early years of college. as i got older, i began to realize that ci doesn't really help me as much as i expected (idk if that makes sense?).",
          "those are simply food for thoughts. i can easily serve a whole meal course full of scholar information but i don't want to do the dirty work for lazy people, regardless on if they're deaf or hearing.",
          "asl classes are definitely a good move, not only will he learn a new way to communicate but he will also meet fellow deaf/hoh people. one thing that tends to worsen mental health in late-deafened people is isolation, so getting out of the house and interacting with people on a regular basis can make a difference.\ni started losing my hearing in high school and i am now  with severe hearing loss in my right ear and profound hearing loss in my left ear, coming to terms with having to live life without one of your senses is a big adjustement but it's nothing that can't be overcome with patience and support, and as it seems your husband is lucky enough to have a supportive spouse.\nas far as other resources are concerned, i would recommend downloading livetranscribe apps and maybe lingvano (which is duolingo but for asl) in order to start with signing before he starts studying the language in depth during his classes.\n\ngood luck to both of you.",
          "maybe talk with deaf wellness center.  it's in rochester and they have deaf therapists and resources for mental health for deaf people.",
          "definitely talk to your deaf services agency.  in my state,  we have a particular mental health group that is contracted for all deaf mental health services in the state.  but you may not see that of you just search for asl therapists.  \n\nif you go the vri route,  you'll need to ask about licensing in your state and if insurance will cover it.",
          "it's very important that people recognize that deaf culture **is** exactly that... a culture with values, ideas, and behaviors that differ from hearing culture.  that's especially critical to realize when a health professional might be drawing conclusions about a person's state of wellbeing from the way that they present themselves or behave.  honestly, it's a huge subject to try to broach.  not a simple or straightforward undertaking at all.\n\n[neil glickman]( is kind of *\"the name\"* in deaf mental healthcare.  i'd suggest reading as much of his stuff as you can.",
          "i don't know if this is available in the us (i think it's available in some places?), but over here you can register to text emergency services which could also be helpful when there is a crisis and you cannot talk or find it difficult. after the quick registration, you can text them from your phone.\n\nthere's also a text crisis service called shout here which is the same as a mental health crisis helpline but in text messages and it works fine for me. maybe there's a similar thing in the us.\n\nthese services are not exclusive to ddhh people afaik, i've never used vrs due to my lack of efficiency in my country's sign language. they are useful to have and free.",
          "signed by stories on youtube has videos of deaf people sharing their mental health experiences. would recommend checking it out to gain some perspective",
          "that said, i would suggest adding a section on best practice for communicating through an interpreter, especially in situations where the information being exchanged is sensitive in nature.  it might seem obvious but you'd be surprised how many people will only look at an interpreter and not the deaf individual, or who will speak directly *to* the interpreter rather than the actual client.  in situations where concerns about confidentiality and really heavy or emotional topics are a consideration, it's important that the interpreter not be walking in totally blind, or that the health professional not assume that they are in a position to make decisions on the behalf of the client.  things like that.",
          "learning asl after so long feels so unnatural, it’s difficult. using asl, the sentence structure is different form verbal so i find that challenging as well. it’s also discouraging going in person. it ends up feeling like an all day event just to learn a bit of asl. however, when i took asl online, at my own pace. i enjoyed learning. gallaudet offers free courses online. see if he will start there. then i highly recommend taking the the asl and deaf studies certification. again, the online and convenience of it i think will help.\nedit: some typos",
          "one thing i’ll add that i didn’t see mentioned is making sure your patient can see the interpreter during exercises. so if you have an idea of what things you might be doing with her based on her medical record, make sure there’s enough space and positioning for the interpreter. if it’s going to be something awkward because she is on the floor or something, perhaps work out a signal if there is some verbal feedback you need to give. pt is hard work for patients so she may be more focused on the exercises and may need moments to pause to communicate or for you to offer guidance.",
          "please provide any verified legal evidence of this claim. because i lived in a two  party consent state and had an attorney tell me the opposite while i was in a workplace discrimination situation. the advice i gave is the advice my attorney gave to me if i ever had a meeting with my superiors or hr.",
          "the dmv? i would not have guessed that would be a deaf friendly workplace.."
         ],
         "marker": {
          "opacity": 0.5,
          "size": 5
         },
         "mode": "markers+text",
         "name": "0_deaf_hearing_asl",
         "text": [
          "",
          "",
          "",
          "",
          "",
          "",
          "",
          "",
          "",
          "",
          "",
          "",
          "",
          "",
          "",
          "",
          "",
          "",
          "",
          "",
          "",
          "",
          "",
          "",
          "",
          "",
          "",
          "",
          "",
          "",
          "",
          "",
          "",
          "",
          "",
          "",
          "",
          "",
          "",
          "",
          "",
          "",
          "",
          ""
         ],
         "textfont": {
          "size": 12
         },
         "type": "scattergl",
         "x": [
          8.471599,
          8.413399,
          8.774262,
          8.524432,
          8.734438,
          8.547079,
          8.3819685,
          8.295699,
          8.152198,
          8.544442,
          8.820034,
          8.24985,
          8.465376,
          8.161713,
          8.466998,
          8.809436,
          8.864953,
          8.46609,
          8.342389,
          8.526895,
          8.480814,
          8.641142,
          8.784197,
          8.476471,
          8.79915,
          8.805629,
          8.8637085,
          8.459293,
          8.771475,
          8.185407,
          8.7419615,
          8.826516,
          8.381474,
          8.1855,
          8.336615,
          8.375983,
          8.66596,
          8.477172,
          8.387989,
          8.560764,
          8.272048,
          8.536361,
          11.002543,
          8.849107
         ],
         "y": [
          9.4973,
          9.624588,
          9.820295,
          9.6444645,
          9.352263,
          9.465683,
          9.418582,
          9.554191,
          9.490436,
          9.412658,
          9.884051,
          9.451855,
          9.545411,
          9.405771,
          9.110021,
          9.836838,
          9.585588,
          9.129511,
          9.433818,
          9.484884,
          9.532752,
          9.586922,
          9.837235,
          9.439216,
          9.822784,
          9.808335,
          9.438564,
          9.651652,
          9.815563,
          9.308946,
          9.783971,
          9.846799,
          9.033832,
          9.33326,
          9.510161,
          9.467481,
          9.715205,
          9.533164,
          9.433114,
          9.235864,
          9.372929,
          9.148372,
          8.451354,
          9.490729
         ]
        },
        {
         "hoverinfo": "text",
         "hovertext": [
          "with severe ptsd i really struggle with the forced positivity from people who have less pervasive mental health issues. i'm glad your stuff can be solved with a cbt app and some exercise, but we're beyond that here bro\nugh, nothing like having someone tell you that you can't wallow feeling sorry for yourself.    yes, another person with a disability. \n\nlike, listen jackass, i literally became disabled overnight at  years old.  my old life and career are over.    both my brother and father died in long, drawn-out illnesses right before and after.   my dad literally died  months after becoming disabled.     it takes some f***ing time to process.  three years later, i still wake up shocked.  it's hard navigating a new life coupled with grief.   \n\ni'm bipolar and work hard to maintain my mental health.  \n\n   anyone who can say something like that can fuck right off.     \n\nsorry.   hits me right in the feels.",
          "i would really suggest nami then if you're already connected with health care professionals and it sounds like you're smart enough to not just take any drug they hand you. i truely hope the wellbutrin works for you. it worked well for me but i had some side effects, but i did remember it helped a lot!\n\nthat's the thing though. you might not realize you're as depressed as you really are. once you start feeling better you're life will start improving little by little. eventually you might feel like you want to take the world by storm. if you start feeling this way please please run it by your treatment team before you make life changing decisions. i did stuff like moving to towns where i didn't know anyone trying to reset my life. do not recommend doing that!",
          "i have my disability hearing early february and all my disabilities are mental health too. same as yours with ocd thrown in too. i sometimes struggle with the validation of it all but then i go read my journals from when i was working and see what a dangerous place i was in and i feel more valid and like i’m doing the right thing. i’m  and filed in september of  so i’m excited to have my hearing soon but also terrified of being denied. i will still consider myself disabled if i get denied though because i know myself (i think) and hopefully this will help me keep boundaries for myself so i’ll help myself not go too far.\ni'm physically disabled and have c-ptsd. mental health disabilities are totally valid.  the c-ptsd often disables me more than my physical disabilities.",
          "oh totally - i use a chair, am losing my hearing, but the mental health issues, especially si are by far the worst bit. hope you find some peace.\nyou look so lovely! love your dress, it suits you perfectly!",
          "yup that would be the beautifully prepared case i mentioned (well documented)... i've been hospitalised a few times and sent to the er even more, but my admittance is not consistent even though i've landed in the er for that or other reasons at least once a year. my documentation is all over since i'm not applying for mental health reasons alone and have seen more doctors than i can count. i also don't have the ability to compile everything myself, even though i do participate as much as i can, so my case, which i foolishly started before getting a lawyer and only got one once the appeal phase started, is over  years in. been waiting on a court appeal date for more than half of that because my lawyer requested *closed captions* when i expressed issues with using my voice on video calls.",
          "my next step is to schedule a hearing with a judge and this involves way more effort than i've already put in so far, so i'm debating whether or not i even have it in me to keep fighting.\r  \n\r  \ni wish that our world was different and the people in charge actually cared about people with mental illnesses. everyone deserves safe housing and healthy food regardless of whether or not we are capable of working.",
          "i also want to agree with the whole entire process in general.  i needed to have my armhs worker help me with the paperwork and calling the lawyer and everything else. i can barely make decisions, phone calls, or carry out daily tasks sometimes. and they expect us to be capable of organizing a lifetime's worth of information and paperwork, especially when paperwork is nearly impossible with people with mental health issues. it is mentally draining for anyone to think. it is even more mentally draining for someone with mental health issues to think. it's also mentally draining for someone with mental health issues to do tasks even with somebody helping them. like you said, we struggle to gather the medical evidence because of our disability. and the way the system is set up, there's nothing we can do about it.",
          "it's so flawed \n\ninvisible disabilities doesn't work like that unfortunately \n\ni'm deserving of disability as much as anyone that has a disability \n\nsorry for the rant op\nabsolutely. i'm tired of the nonsense that mental health disabilities are less disabling or acceptable than physical.\nis it typically easier to get on disability via mental health or physical ?",
          "i wish i had an answer. \n\ni’m based in the uk and live with schizophrenia and unmedicated (with other mental health issues), ra and a whole load of other chronic illnesses. i still can’t get to grips with the fact that i have these illnesses for the rest of my life and struggle all the time. people around me think i’m doing fine when actual fact i’m not. \n\nsolidarity.",
          "and thank you for helping me feel validated and less like a fraud. i’m on disability for multiple mental health reasons and sometimes o feel like my family, friends, and doctors look down on me for it but my therapist has been helping me combat that. mental health issues can be debilitating and dangerous, i’m glad it’s a valid reason for disability even if it’s a hard battle to be approved.\ni’m on disability for mental health reasons (panic disorder with agoraphobia). i just wanted to thank you for posting this. mental health struggles are no less valid or debilitating. it makes me feel a bit less depressed to know that others (like yourself) understand.\nright! like, i'm disabled for mental health reasons (ive been on it since i was ) and its not like i just get a little sad and anxious sometimes. i have severe breakdowns when im under any sort of stress to the point that i could not work a full time job, even though i really wish i could!",
          "i had to quit working  years ago due to autistic burnout and i didn't even know i was autistic until last year. i had already been going to therapy for  years before that. therapy was a joke, and still is, but i've been forcing myself to go because otherwise i would not get approved. the guy who diagnosed me said that i could probably handle work if i would get on medication. i am against medication for a couple of reasons which i don't need to go into, because the entire point here is that the system is so messed up that the only acceptable way that they will support our need to survive is if we alter our brain chemistry and risk getting side effects. and even then, we are just putting a band-aid over a gaping wound and going on like there's nothing wrong. they will not look at the core cause of mental health issues, which are made worse by the system itself.",
          "i definitely will!  i know there may be no outcome here or for the personal doctors, but i will go publicly out with this and start something to help others feel heard.  i shouldn't be punished for needing physical healthcare because of a mental health disability.  no one should.  i understand concern for attention seeking behavior, but it shouldn't make doctors mock patients.",
          "i have ltd through my employer on the basis of mental health. the constant medication changes and having the insurance company monitor my every shit is getting to be too much.\n\n>>it’s like every “you can do it” cheerleader over the course of my life convinced me that i just need to try harder.\n\ni feel this one! sometimes i think this is all my fault because i'm not trying hard enough.\n\nalthough ltd can be a relief, the hoops they make you jump through is like a full time job.",
          "i have a mental condition and i realize it (and the medication) can make a person tired, but sometimes i can hardly function. my mother was also diagnosed with cfs, but i never took it seriously until now.\nyup, i've gone two months a few times without showering and doing quite well if i can make it once a week. i have schizophrenia and the negative symptoms can look a lot like severe depression and are worsened by meds. avolition, alogia and anhedonia are big ones. my life isn't something to be envied when i live in poverty and can't manage to clean myself or my house and rarely even get any enjoyment from video games or my old hobbies and don't have the concentration for a movie. for years i had musical anhedonia. of all the ailments i've had mental illness is the worst and the cruelest, i don't know why people actually take it less seriously. mental health is health.",
          "oh totally - i use a chair, am losing my hearing, but the mental health issues, especially si are by far the worst bit. hope you find some peace.\nyou look so lovely! love your dress, it suits you perfectly!",
          "i have been on disability for my mental heath issues since i was . its hard having an invisible disability and i do get judged a lot but regardless of a govt stamp, you are valid. i wish the world wasnt so fucking hell bent on demonizing all things mental health still. i struggle with identity a lot, tbh and its hard to “look like everyone else” and not feel or be able to function like “everyone else” around it all. but its valid, and deserving of support like any other disability.",
          "i'm rather physically able - i can ride a bike, rather intelligent - went to uni, but as soon as they hear i have a severe mental health condition things change. they stop listening to what i have to say, they talk to me like i'm a child and it is so frustrating. if i go to drs with physical health problems they blame it on my mental health even if it's not something that can be caused by a mental health condition. it's ridiculous.",
          "i personally don't think it's bad. i do understand that it can be hard admitting that tho. have struggled with that a lot myself. i've been dealing with multiple mental health issues since childhood, and after quite a few failed attempts at working, i wound up on disability as an adult. i wasn't happy with it, but i eventually accepted it. since i have what's considered to be an invisible disability, it hasn't been easy navigating society. after a mild bout of covid three years ago, we discovered that i have a chronic illness on top of all the mental health issues, and i've had it since my teens. tbh, this diagnosis came as no surprise. still, it's been a struggle to accept this. and the chronic illness has been worsening the last several years. it's invisible for the most part now (meaning i don't use any mobility aids), but i may wind up bedbound one day. i've already been getting more housebound as this has worsened. my ability to do day to day stuff has been deteriorating, and",
          "i'm sorry. i have read time and time again on here that for mental health disorders, it is very, very difficult to get approved and you generally must apply at least 2x before being approved.",
          "if i had money for treatment that would be great.  right now my disability probably doesn't pay for me to live in a comfortable quiet housing to not cause my symptoms to go up.  it really sucks.\nthis is my fear as well. most people with severe mental health problems are being failed by the system and now the system is trying to give them an out.\ni’ve been wondering about bias. the one above seems pretty balanced, though. i know ‘we’re not ready’ is often a tactic for people trying to stop things altogether but the optics of rushing this out when mental healthcare isn’t great is pretty bad.\nsound word for word what i have and promised my parents. unfortunately i also have other disabilities as well. currently in the process of applying for it. my.docters are not on board. over a year later and they are still having me talk with \"advocates\" who try to find resources and help. all the advocates have been able to do is give me information for things that do not apply for me....",
          "it’s kinda like, well be grateful you don’t have to stress about bills or rent. that doesn’t make me feel any less depressed. in fact, i envy that’s what able bodied people have to worry about. not that their health is declining or they are losing mobility year after year. \n\ni think i just need to sort out my thoughts and feelings on my own and not come to her. i hope eventually i can get to a point where my disability doesn’t bother me as much but it will take a long time.\nmy doctor had told the same thing. md doesn’t cause pain. in a sense, it is true. it doesn’t cause pain directly but it does causes other muscles to compensate for the weak ones and that what causes the pain. yet if we didn’t have md we would not be in pain at all. so the way i see it is md does cause pain no matter how you look at it.",
          "it's so flawed \n\ninvisible disabilities doesn't work like that unfortunately \n\ni'm deserving of disability as much as anyone that has a disability \n\nsorry for the rant op\nabsolutely. i'm tired of the nonsense that mental health disabilities are less disabling or acceptable than physical.\nis it typically easier to get on disability via mental health or physical ?",
          "sorry – i've clearly begun to rant. or rather, been ranting for awhile. i guess all i'm saying is have a stockpile of information you're ready to use, up to and including if it means pushing the proverbial nuclear launch button. practice good belligerence on your part though by staying informed on your condition, your treatment, your symptoms, and the resolutions you want out of medicine and society, and you'll probably ultimately be left alone insofar as people raising much fuss over your disability.",
          "i've been on and off medication for mental health issues since i was , so i absolutely understand how you feel, at least to an extent one can. the other day i cried for  minutes because we got the wrong ice cream at the grocery store, which is not an appropriate reaction to ice cream. please know you have the sympathy and emotional support of this internet stranger.",
          "oh, i know all about the struggle to find good mental healthcare. and, i think we all always feel that way. keep your head up, you got this!",
          "prudential was pretty clear that they don't see psych disorders as permanent disabilities when i went thru the process with them. thank goodness that my psych diagnosis didn't enter my claim. i'm sorry to see that things haven't changed.",
          "we can't change our physical or mental illness, accept it and let that burden go. we can change how we react to our situation by learning ways to cope: meditation, yoga, hobbies, spending time with friends and family, medication, exercise, eating well, therapy ect. you just have to find what works for you.\n\n like you i craft, it's my therapy and can even be a meditation of sorts. focus on what you can do and let go of what you can't do. you're , you're perfect just the way you are right now. who you can be still has endless possibilities. \n\nlastly i highly recommend considering cognitive therapy if it's possible, because it's your thoughts that are draining you and causing your mental health to decline. \n\nif you ever want to talk feel free to message me.",
          "i try to tell myself “who cares what others think” but it’s so hurtful to be judged by my mental illness and lack of ability to take care of myself. i can’t do my adl’s and i just wish they would have sympathy. when i get bad and reach out for help, i get lectured and yelled at by people who are supposed to love and care about me. \nmental illness is illness and i will never stop advocating for us. no matter how many people judge/dislike me. everyone deserves access to have a roof over their heads, everyone deserves accessible mental health care. it’s not our fault, we did not choose this.",
          "if you want to talk you can talk to me too! i have all the same diagnoses as you, plus some physical ones. im  and have been on disability since i turned , but i got on it for mental health, not my physical disabilities. i feel like we have a lot in common, i dont do anything social except talk to my roommate when she is home and until the last week, i havent left the apartment since november except for some doctor appointments. ive been hospitalized a lot for being suicidal and i know it's hard to make the decision to get help. im glad you did. <",
          "also, i was off work for  years and received payment first from my job for  months and then from my insurance. i was also able to travel and do any activity that would be helpful for my mental health. so no, i couldn't be outside because then i'm not really sick bs. being happy and being on the beach is obviously no sign of mental stability. that sounds very absurd what you claim even when it is the us.\nit's not worth it because the ltd calls for mental health is only one year of coverage.\nmy ltd was denied when i was working in banking. i was told that there’s no way to prove a mental health disability, and that literally, it was all in my head.",
          "if reddit is toxic toward your mental health, delete your account..!! 💯",
          "in general people don't understand how severe mental illness works. you can get bursts of happiness and still be depressed. also, most people smile in photos in modern times because it's socially expected. mental health tends to fluctuate over time. mental illness can cause cognitive and executive function deficits.\nwe understand that it's not a permanent disability that the pay for, but there is a clause which they will compensate for mental health.\nthat's interesting. the absolute best thing i ever did for my mental health was getting off social media. no fb, ig, etc.  i decided my real friends deserved actual phone calls and text messages.  i also eventually got off every psych med too. which made me feel human again.  but, we all have different needs.",
          "and thank you for helping me feel validated and less like a fraud. i’m on disability for multiple mental health reasons and sometimes o feel like my family, friends, and doctors look down on me for it but my therapist has been helping me combat that. mental health issues can be debilitating and dangerous, i’m glad it’s a valid reason for disability even if it’s a hard battle to be approved.\ni’m on disability for mental health reasons (panic disorder with agoraphobia). i just wanted to thank you for posting this. mental health struggles are no less valid or debilitating. it makes me feel a bit less depressed to know that others (like yourself) understand.\nright! like, i'm disabled for mental health reasons (ive been on it since i was ) and its not like i just get a little sad and anxious sometimes. i have severe breakdowns when im under any sort of stress to the point that i could not work a full time job, even though i really wish i could!",
          "i don't know what country you're in, but i could have written this myself. i'm in the us. just  days ago i got denied for a second time. i have autism spectrum disorder, generalized anxiety disorder, and major depressive disorder.",
          "reading this breaks my heart though , i’m praying that you’re in mental health care on a regular basis and that you have encouraging and supportive people around you. focus on healing your mind so your body may follow.\nyeah, but applications for those things require way more than actually having a disability, you have to prove that it's disabling to the level that you cannot cater for a lot of things. some mental illnesses can be classified as such, but most are not. nonetheless, many discussions are addressing mental illnesses as disabilities.",
          "i have multiple mental health issues ranging from ptsd, anxiety, depression, and severe insomnia. i have sensitive asthma to the point where i’ve been in the hospital for it multiple times or had to go the er. most of all i’m type  diabetic and the amount of people who tell me thats a fake disability never ceases to amaze me. idk any other auto immune disease thats not curable and you’re forced to spend $+ to survive monthly. like i don’t have insulin then i’d just die. of course no one cares here in america as long as ur paying big pharma. having your blood sugar too high feels like shit having it to low feels like shit. i’ve puked out my brains for hours and days at a time due to low and high blood sugars. i’ve gone to the hospital more times then i can count bc the insurance refusing to cover my medical supplies causing me to go into dka. fun fact: one time this happen and my boyfriend (at the time) was screwing my mother in my car in the parking lot of the hospital… geeee i wonder",
          "i try to not care when others say things like this to me. but it’s so hard. where i grew up many people didn’t believe in mental illness (bible belt of america).i feel terrible when i am unable to do anything i feel like i’m supposed to constantly be doing things but i can’t.",
          "i’ve been being gaslit for years over physical symptoms that are just getting worse and worse. even though i’ve actually had a psychiatrist *and* a psychologist confirm that they’re not ‘in my head’, i continue to be gaslit and shrugged off. now, am i to the point that i wish i’d just collapse with some major symptom so they **have** to stop gaslighting me? you bet your ass. do i actually *want* my symptoms to get that bad? obviously not. i’m just so desperate and tired of being brushed aside because someone slapped a diagnosis on me that the medical community thinks means i’m a ‘troublemaker’.\n\nbut this is all to do with how doctors treat me while having both. i’ve never had another disabled person invalidate me.\nit's also been the same for me. i have both, but primarily physical disabilities (chronic illnesses) that precede my mental health issues.",
          "when i got approved for disability i felt so validated and seen. i thought i’d be trying to get approved for years fighting because i have mental illness. i have bpd, mdd, adhd, nssib, ednos, gad, cptsd ibs and “marijuana abuse”. people think i’m lazy but my body is in constant pain, i take  daily medications, have side effects, extremely poor memory, can’t focus on anything i dissociate all of the time, just took a shower yesterday in i don’t know how long and i’ve lost 20lb in  months. i want to do things but i can’t, why do people think we want this? it is miserable. i wish i could just do things, i’ve lost my life to mental illness. i’ve missed spring and summer because i can’t make myself do anything. i wish i could enjoy my life but that’s never happened. i wish i could’ve gone to the beach this summer, smell the flowers in spring, i wanted to swim and go on hikes. i want to be outside for autumn but instead i wake up crying and have the energy for nothing, i sleep because it",
          "my advice would be to temper your expectations. i was openly scoffed at by the judge overseeing my hearing (and this was after my social security advocate told me that this judge was empathetic towards mental health cases). i wish you well.",
          "are you seeing a mental health professional for ppd? they can submit support as well. otherwise make sure you submit the information from the ob's office in writing. if they deny the claim, request a claim file, consult a lawyer in ca, and appeal on a timely basis.",
          "i wanted to swim and go on hikes. i want to be outside for autumn but instead i wake up crying and have the energy for nothing, i sleep because it keeps me safe from myself. i’ve lost my only friend because they don’t understand and would compare their physical illness to my mental illness.",
          "it was kind of an awful program, all things considered, but when the people treating you for mental health issues blame you for all of it it's hard to fight against that ::p i'm sure i am one among many with these type of experiences. but sure isn't handy for my disability case. i've already had to wait so long i'm out of money next month but, this might mean there'll be no backpay to repay all of that which is... yeah. thank you for humouring me complaining about all of this haha"
         ],
         "marker": {
          "opacity": 0.5,
          "size": 5
         },
         "mode": "markers+text",
         "name": "1_mental_health_mental health",
         "text": [
          "",
          "",
          "",
          "",
          "",
          "",
          "",
          "",
          "",
          "",
          "",
          "",
          "",
          "",
          "",
          "",
          "",
          "",
          "",
          "",
          "",
          "",
          "",
          "",
          "",
          "",
          "",
          "",
          "",
          "",
          "",
          "",
          "",
          "",
          "",
          "",
          "",
          "",
          "",
          "",
          "",
          "",
          ""
         ],
         "textfont": {
          "size": 12
         },
         "type": "scattergl",
         "x": [
          11.485856,
          11.653266,
          12.583154,
          11.837281,
          12.632287,
          12.478676,
          12.640059,
          12.407765,
          12.091662,
          12.053516,
          12.504668,
          12.317756,
          12.225071,
          11.904166,
          11.877392,
          12.247941,
          12.751098,
          11.956364,
          12.562346,
          12.485722,
          11.482132,
          12.426046,
          12.362476,
          11.638187,
          11.74467,
          12.547022,
          11.566541,
          11.96453,
          11.585796,
          12.15038,
          11.754215,
          11.995875,
          12.042431,
          12.463559,
          12.207719,
          12.346197,
          11.738322,
          12.599469,
          12.118619,
          12.62563,
          12.702687,
          11.7933855,
          12.5494
         ],
         "y": [
          6.047743,
          5.511333,
          5.8935766,
          5.894553,
          5.9184194,
          5.938473,
          5.8751354,
          6.1767893,
          6.201857,
          5.9832115,
          5.8675804,
          6.0108676,
          5.7290516,
          6.263288,
          5.9790154,
          5.8982067,
          6.402965,
          6.263418,
          5.9167533,
          5.978914,
          6.503445,
          6.197708,
          6.2733855,
          5.9185934,
          6.0046253,
          5.84731,
          5.9128604,
          6.218179,
          5.9419785,
          5.6848226,
          6.0283313,
          6.239798,
          5.900733,
          5.9041142,
          5.81267,
          6.310655,
          6.0704055,
          6.425987,
          6.030653,
          5.8974495,
          5.7728224,
          5.8331056,
          5.9445305
         ]
        },
        {
         "hoverinfo": "text",
         "hovertext": [
          "that really sucks, i'm really sorry that's been your experience :( for me, it's been the exact reverse. i am physically disabled (with mental health issues as well but the physical disabilities are much more disabling for me) and i had to leave my school's disability advocacy group because it was full of people with mental disabilities who were ableist towards me with my physical disability -- to list just one example, telling me not to \"complain\" about the distance between my dorm and the dining hall because their dorm was further, when they can walk perfectly fine and i'm the one who skips meals because i physically cannot make it to the dining hall and whose mobility is so bad that i've recently been prescribed a custom wheelchair. i am telling you this not to be like \"um you're wrong actually people with physical disabilities get discriminated against people with mental disabilities 🤓\", not at all. just to say that unfortunately, any kind of disabled person can be ableist. we",
          "\"in my opinion, my company relies on a third-party service to manage ada accommodations and fmla requests due to past legal issues. as a result, they require a certified letter from a doctor outlining the necessary workplace accommodations before extending a job offer to ensure compliance with ada regulations.\"\nif you're saying that reading or watching a movie is a great activity to unwind, are you discriminating against blind people? \n\nif you're talking about your childhood experiences if you were not disabled back then, is it discriminatory against people who were born with a disability? \n\nwe can't include all people all the time in our speech. of course, if the context was a disability being discussed, then the comment was indeed not very smart.",
          "unfortunately, we have a culture of competitive victimhood online, which inspires people to latch onto any identity based excuse for their behavior or choices and then wield that identity against any critique, valid or not. that seems to be what this initial tweet was reacting to.",
          "tbh it feels different in the mental health field because of how incredibly stigmatized it is and the fact that people will use diagnostic labels for mental illnesses as jokes. \nit does feel more dignified to say “person with sud” than “drug addict”. \n\nmaybe people needing to be reminded that we’re human is just a sad reality. i just don’t know how much the way i talk about myself can change a person who is so quick to dismiss my personhood. it genuinely seems like that’s something a person would have to do some soul searching about in order to figure out why they’re doing that. \n\ni don’t really care what way people refer to me, if theyre using pfl that’s probably what they were taught to use and have been saying for years, i’m just throwing a wrench in there and making things more confusing. i’m bipolar and i don’t think u would notice if someone referred to me as a bipolar person or a person who has bipolar disorder.",
          "able-bodied mentally disabled people have a lot more in common with physically disabled people than they may think, but a lot of them still accuse us of being neurotypical when we push back against their ableism toward us. it’s very frustrating. showing solidarity would be a lot more helpful to the both of us in the long run, but othering and attacking us isn’t productive at all.\nhonestly? i'd bet on internalized able-ism. i was guilty of it for a lot of years as a kid. my sibling was higher support needs than i, and i was got so angry he couldn't just lie or mask like i did. like \"don't you want to be *normal?*\" \"just lie it's not that hard!\" \"come on and just stop doing that!\" which i've apologized profusely for and adapted for.",
          "i prefer to say that i'm disabled, or just that i require a mobility aid. although i don't like it when people call my cane \"a stick\".\n\nin both cases, it makes me feel like there's a negative connotation, like i'm being looked down upon for my needs. it makes me worry for when i will eventually need to start using a wheelchair.\nyes i hate it when others use it. i use it in reclamation and as a part of disability pride but every time someone says “cripple the economy” or “oh they’re crippled” or “crippling anxiety” i actually get so pissed and annoyed and sad and angry about how little people understand the history of the word and the violence associated with it. in my opinion, it should only be used by people with mobility disabilities and only as an act of positive reclamation, never should it be used to connotative something bad",
          "i've used it a handful of times for myself, but i decided that i didn't like the way it sounded or felt. it made me really uncomfortable. just like the f slur used towards queer people, like myself. \n\ni prefer to say that i'm disabled, or just that i require a mobility aid. although i don't like it when people call my cane \"a stick\".",
          "but than again, that's most the mental health field; people acting like their subjective evaluations of the human condition are scientific laws, rather than just another opinion.\nwindow of tolerance? it’s the only mental health window i can think of lol",
          "i also personally kind of get the ick from person-first because although well-meaning, ) if anyone needs reminding that disabled people are people, they're the problem, and ) it feels like wanting to separate the two out comes from the assumption that disability is intrinsically negative/shameful, like people want to detach you from a stigmatized term instead of destigmatizing the term. maybe this is just me projecting because my extended family very much treated my embracing of my disability as like, me somehow insulting myself or putting myself down or underestimating my own potential/self-sabotaging?? \"you can do anything you want to if you put your mind to it!\", except no, learning that i have limits, and why i have those limits, and hiw to work around/withing those limits has been more freeing than trying to dissociate myself from disability ever has been. \"disabled\" is a neutral modifier to me and in my experience most of the able-bodied people uncomfortable with me using it or",
          "with that said, i'm schizophrenic and have run into a lot of disabled people, both physically and cognitively disabled, who only understand that in terms of stereotypes, like the idea that missing a dose makes a schizophrenic dangerous, or that our behaviour in states of psychosis is our \"true selves\" coming out. **i blame the poor public education around mental health** and what psychiatric conditions can really do to people in extreme cases for that, not disabled people as a demographic that should be held to some kind of exceptional standard just because they're disabled, if that makes sense.",
          "it can be helpful emotionally to get involved in disability advocacy and counteract these negative ideologies. online, it’s all about language use and framing. you can learn to spot negative language and replace it with positive by focusing on positive values. george lakoff is a linguist and cognitive scientist who explains how the human brain uses metaphors to frame the world. in his book [don’t think of an elephant]( he explains how the right creates and spreads the harmful disinformation you experience on social media. he also teaches how to combat it, by reframing. focus on the values of empathy and compassion. actively correct people by using different words.",
          "i’m disabled and i’m sure i’ve said inappropriate things to other disabled people, it’s just part of being human.. sometimes we put our foot in our mouths! and i’m sure i’ve parked my wheelchair in people’s way in shops, or had my walker in a spot that has annoyed someone - but taking up space in the world means occasionally being in the space someone else wants to enter too. \nyou’re human, treat yourself with the same gentleness and compassion you would others, and instead of living with the fear of being ableist try and put that energy into what you could do to assist disabled people (including mental health advocacy) 💜",
          "feminists say “the personal is political.” the converse is true as well—the political becomes personal. people absorb this propaganda and start to believe it themselves. even people who consider themselves “liberal” will treat disabled people like shit. i am estranged from two of my siblings for this reason. outwardly they are all about supporting liberal causes, such as helping refugees, but they will call me “lazy” and “crazy.”",
          "you need to block these people. right now the world is experiencing a rise in extreme rightwing ideologies, particularly the f one. these ideologies emphasize physical strength and condemn weakness. it is a form of brainwashing. one us presidential candidate told his nephew to let his disabled son die; as former president, he packed his administration with eugenicists. \n\nlots of people have internalized these beliefs bc of the constant onslaught on social media by bots and disinformation; other people attend prosperity gospel churches where the same message is hammered in. their god prefers the uberman; mental health issues are caused by demons. the cult of ayn rand glorifies selfishness and greed, and calvinist theology reinforces it.",
          "- is it ok for people with disabilities to use humor that we direct at ourselves or in a mutually agreed upon way among each other?\n\nagain, i want to get away from judgements about “ok” or “not ok.” it is a thing some people with disabilities do, and some people don’t. some people will feel offense— all, some, or none of the time. some people will feel relief, connection, etc—all, some, or none of the time. this is just the way it is. then question then becomes, what is a helpful way to facilitate a conversation among people with different feelings, perspectives, and abilities?\n\n- is it ok for a person who does not have a disability to feel offended by jokes made by people with disabilities about their disabilities?\n\njust as with anybody else, feelings are feelings. see above.\n\n- is it ok for a person to tell you how *you should* feel about a joke you make about yourself?",
          "as i said, if the comment was meant as an ignorant advice to tell people that their disability could be fixed with some sport, yes, it is blatant ableism and highly disrespectful. but if it's just a \"sport is good for health\" in general, it's just the truth.\n\nyeah, most days i can't do sports. and there are some days when i could, but i'm too scared to engage in physical activity. i can't run anymore, i can't walk for over 500m without having shaky legs and pain. but adapted exercise is objectively good and it's not ableism at all to say so, if you're not criticizing the person or diminishing their struggles.\n\ndon't mix up shitty doctors who dismiss your symptoms by saying \"just exercise™\" and good doctors who say that some exercise depending on your ability will only be helpful. there is a reason why hospitals have physical therapists. are physical therapists ableist?",
          "however for me specifically, when i’m talking about myself, using language to help remind people they’re speaking to a human feels weird because like they’re either able to see it or not and i’m not going to be of that much assistance.",
          "we should rather denounce ableism that has actual ramifications. workplace ableism, institutional ableism, doctors who don't trust their patients, etc. here, in the worst case scenario, it's just a random redditor being ignorant.",
          "(i am both physically disabled and neurodivergent.) i found the opposite to be true actually. there are a lot of folks with mental illness who refuse to identify as disabled. they like to seperate mental illness from disability because they still have internalized ableism. there often conversations and advocacy around \"mental health\" but they *never* identify or view themselves as disabled.",
          "they don't get to decide that though. i'm all for calling out folks being too easily offended but even logically this is a service provider. they're not supposed to be going out of their way to try and offend people, they should be trying to make people comfortable there as a business (even if it weren't the right thing to do and doubly so for a mental health place!). those same people can vote with their feet, it's just good business sense to not be actively trying to piss them off. they don't even have to understand the why if their minds aren't capable, they were told not to use the term unless the individual uses it to refer to themselves so they should just listen. people irritate me man. *grammar or attempts at such",
          "im disabled with mental health issues. i am absolutely allowed to joke about my disability as are you. the audacity of some “professionals” is hilarious- she should accept being upset, we have to a million times in our lives. especially since she was way out of line. the moment i left group if have contacted someone to file a complaint. joking about a disability is not equal to putting yourself down and that person sounds ill fitted for their job tbh\ni don’t like to frame things in an aita way. i think it is a hindrance for resolving the actual issues at hand, and pushes people into their corners rather than restoring or developing a sense of understanding.\n\nthere seem to be a few issues here: \n\n- is it ok for people with disabilities to use humor that we direct at ourselves or in a mutually agreed upon way among each other?",
          "certainly doesn't encourage openness; one of the most important parts of any mental health discussion.",
          "discriminated against people with mental disabilities 🤓\", not at all. just to say that unfortunately, any kind of disabled person can be ableist. we always tell abled people that disabled people are not a monolith, and it's true. it really sucks that sometimes disabled people beat down on other disabled people who aren't like them. we really need to stick together and advocate for each other because it only helps everyone in the long run!",
          "ever has been. \"disabled\" is a neutral modifier to me and in my experience most of the able-bodied people uncomfortable with me using it or pushing person-first are struggling with some ableist mentality even if it's not intentional/realized.",
          "sometimes these kinds of challenges can be an opportunity to develop other skills that are helpful besides humor (when it goes well.) the more tools one has, the less conflicts one tends to get into that create problems in relationships. conflicts can be more easily resolved and nobody has to be the a-hole. we can all just be human.\nhonestly, it sounds like your therapists are having a power trip (both of them). \n\nthis reminds me of feminists that put down other women for their choices; this is why i detest third-wave feminism. \n\nthey claim to be about \"self-empowerment\" and \"choices\", but then if a woman wants to stay home, wear dresses, and bake pies and cookies, she's \"disempowering the rest of woman-kind!\" (because she won't wear pants and work outside the home). \n\nit's actually not dissimilar to what cults do.",
          "personally, i like “neurospicy”. i use disabled, gimp, neurodivergent, all of it (adhd, antisocial personality disorder, possible audhd, among many other physical and mental health disorders). \n\nbut, being cajun and having a penchant for spicy things, i like it.\ni am physically disabled but also have mental health conditions as well (including adhd). i don't mind neurospicy, but everyone is entitled to their own thoughts and opinions. that being said disability and disabled absolutely aren't bad words!",
          "the boundary you are trying to set between mental/physical is a bit hard as well, depression can impair your physical abilities, but it is pretty much on a cognitive level. eds can make you physically weak/sick, but it is also pretty much about treating your mental condition. in my opinion, all mental disabilities can affect your physical health because we are not disconnected. in the same way, physical disabilities can impair your mental health.",
          "the more you use it, the better you’ll be for the future. you know what, get mobility training, and tell them what he’s saying in front of him, and see what happens then because they won’t take shit from him.",
          "disability is not a dirty word. but society conditions us to believe it is. so yes, it's very normal to have trouble attaching that label to yourself. everyone becomes disabled eventually, whether it's at age  or . i didn't feel comfortable calling myself disabled for a year or two after being diagnosed and needing to use mobility aids full-time, even though i'm sure others would have thought of myself as disabled long before then. you're at the beginning of your own journey, and there's a long path ahead. ultimately it's up to you when on that path you feel comfortable giving yourself a label.",
          "i don’t get offended at all if someone refers to me as a disabled person or as disabled, but it bothers me to hear other people referred to that way. i’ve head so often people referred to as “the wheel chair person” or something like “he is adhd” or a number of other ways. regardless i work to always speak in a way that is kind to everyone.\nperson first language is heavily used in the mental health field. it is important to remind people that all people deserve to be seen and treated as people, not only as the disability they have. i spent  years in the mental health field -  of those years as a behavioral specialist. you would likely be surprised how often people need to be reminded that. that said i use it across the board, unless someone has expressed they would like me to say something different.\nit makes sense to use it at first until someone says hey i prefer this, given that there really isn’t one exact answer as to which one is the correct phrasing.",
          "after being in a relationship with someone with severe mental illness who physically abused me and my pets, i have a hard line now when it comes to mental illness. but only those with cluster b personality disorders who show they have a propensity for abuse.",
          "although, if you want to see bad opinions galore, mention body integrity identity disorder. [this is the only chill take i've ever seen on it personally]( ([follow-up video]( but it's not hard to find old posts of people dunking on \"trans-abled\" people and by extension \"crazy people\" without any empathy or understanding of the psychiatric condition.\ni have mental (bipolar ii, anxiety) and physical (degenerative disc disease, fibromyalgia) and have never been treated differently by people with physical disabilities. \n\nthe people who have treated me the worst were perfectly able bodied, and seemingly mentally stable who were freaked out by mental health disorders and made my life a hell.\nas someone who's posts could be taken this way sometimes i think some clarification is needed. while i can only speak for myself and the opinions i have offered, it's not a case of diminishing or bashing mental health as an inferior or lesser form of disability.",
          "for myself personally, i prefer identity-first over person-first. i'm audhd, have the fun \"twice exceptional\" thing of gifted but also learning-disabled, have eds, dysautonomia, probably some mast cell issues, have had mental health struggles to a disabling extent before, some weird neurological issues of unknown origin, sort of all hitting me in different ways at various points in my life. i didn't really identify myself as being disabled until my late teens/early 20s but even at that point it was so clear to me that this shift in how i navigate the world has profound impacts on the way i think and approach problems in ways that can't be separated out from \"me as a person\". to attempt to distance myself (or for other people to distance me) from my disability is to pick and choose the parts of me worth \"humanizing\", or at least that's how it feels to me.",
          "linguistically i also just dislike person-first because it feels weird. i'm not a \"person with queerness\", etc. all that said, i can also understand why certain people/groups tend to prefer person-first and i'll always use what people prefer. in my own academic work on disability where i'm often describing all disability writ large, i usually alternate/use both, recognizing that there's people on both sides of the fence. my own personal feelings/preferences don't make other people's feelings or preferences wrong. it's a very personal choice.\ni believe that it is more widely and kindly accepted to use person first. i should say that my opinion on that may come from the fact that i worked as a behavioral specialist for  years before having to leave due to sfn and what ended up being an entire group of other related diseases. mental health industry definitely pushes for a person to be what we see first, and therefore speak of first as well.",
          "i think it’s also worth mentioning that, contrary to (seemingly) popular belief, a majority of physically disabled people aren’t neurotypical. many of us have developmental disorders (e.g. autism or adhd), and it’s also very common to develop mental illnesses such as depression, anxiety, ptsd, etc. as a result of our experiences as physically disabled people (many of us experience abuse from family or our partners, get bullied by our peers, or have medical trauma). hell, sometimes we even start out with mental health conditions that end up causing or contributing to our physical health problems! (psychological trauma is thought to play a part in some health conditions, such as fibromyalgia, autoimmune diseases, etc.)",
          "i hate you had to go through with that. just tired of ignorant ableist people sometimes",
          ") obviously there's a spectrum of disability, and there can be concerns about including those who have \"less severe\" conditions as disabled. my response to that is that that's always been the case, and that that rhetoric is often used to reinforce systems of ableism. (for example, mental health disorders, other invisible disabilities being included as disabilities) labelling yourself as disabled is such a personal thing based on your own experiences with the world around you, and i think denying someone that is really counterproductive to promoting a less ableist society. \n\n(also, i think the world is so ableist and the term \"disabled\" carries so much stigma, that if there really are any \"\"non disabled\"\" people using the term when they shouldn't, they'll be quickly weeded out)",
          "but i’m sure the distinction matters significantly to a lot of people and it’s more delicate to use person first in a psych setting. especially for newly diagnosed individuals. \n\n\nin the context of how one chooses to refer to themselves i feel uncomfortable with the idea that someone dehumanizing me would be changed by my verbiage. most of the time it’s a non issue but i have been corrected on the way i refer to myself before and that was especially irritating because it felt like it was placing the onus on me to convince people i’m human. \nit’s not a simple issue and it does depend a lot on how stigmatized it is, i just don’t feel like making communication clunkier, already so hard to get my thoughts across at all that extra level of complexity is just too much and there’s so much social stuff wound up in just the phrasing of something. too much. they can just go ahead and dehumanize me.",
          "i hate you had to go through with that. just tired of ignorant ableist people sometimes",
          "it's actually not dissimilar to what cults do. \n\nstep ), pick an issue that correlates to a certain demographic that doesn't have a universal answer (in this case, is it acceptable to laugh at your disabilities? a = yes, b = no) \n\nstep ), claim that, if such and such *does* a, they'll be disenfranchising the people that chose b (while conveniently ignoring the disenfranchisement of those that chose a)\n\nstep ), collect your paycheck at the end of the day for disenfranchising half of the very group you're claiming to help (because you know better than the people that are actually part of that demographic)\n\nit's mob mentality. they're talking about \"carrot\" like she's not even there; like her thoughts and feelings on her own condition are \"less relevant\" than what the therapist thinks about it.",
          "exactly. with how varied people’s opinions are, and how many more important issues we have, fussing about terminology just detracts from the real issues. they want to talk about communication with disabled people? learn to take us seriously when we have problems or concerns. confront your own biases about disabled people and other marginalized groups. train medical professionals to communicate with d/deaf and hoh people, cognitively impaired or language impaired people, people in the middle of mental health crises, etc etc. i don’t know, even just work on presenting pain scales in a more accurate way for people with chronic pain! so many things i can think of that would be much more impactful and important, and yet it always comes back to able-bodied people fumbling around the word “disability”.",
          "- is it ok for a person to tell you how *you should* feel about a joke you make about yourself?\n\na person telling you how you “should” feel about something doesn’t change the way you “do” feel about it. it usually has the opposite impact and makes you defensive of your feelings or perspective, causing you to cling onto them even harder.\n\n- is it helpful to talk about one’s unease with jokes somebody makes about themself?\n\nit depends on how one goes about it and how the other person receives it. sometimes it can be helpful, and sometimes it will become unproductive. if both people (or the group) have an intention of listening and hearing each other out without judgement and allowing room for everyone to “be,” than it can be a workshop for developing understanding, even if people still disagree at the end of the converation."
         ],
         "marker": {
          "opacity": 0.5,
          "size": 5
         },
         "mode": "markers+text",
         "name": "2_people_disabled_person",
         "text": [
          "",
          "",
          "",
          "",
          "",
          "",
          "",
          "",
          "",
          "",
          "",
          "",
          "",
          "",
          "",
          "",
          "",
          "",
          "",
          "",
          "",
          "",
          "",
          "",
          "",
          "",
          "",
          "",
          "",
          "",
          "",
          "",
          "",
          "",
          "",
          "",
          "",
          "",
          "",
          "",
          "",
          ""
         ],
         "textfont": {
          "size": 12
         },
         "type": "scattergl",
         "x": [
          11.604043,
          11.42777,
          11.719486,
          11.1719675,
          11.626952,
          11.083384,
          11.062705,
          11.86633,
          11.16983,
          11.440624,
          11.784183,
          11.398424,
          11.762216,
          11.814679,
          11.3924055,
          11.502375,
          10.850909,
          11.703936,
          11.359574,
          11.475258,
          11.405398,
          11.910832,
          11.639261,
          11.288446,
          11.10332,
          11.184622,
          11.261688,
          9.151321,
          11.2857685,
          11.152854,
          11.512419,
          11.595189,
          11.142195,
          11.160815,
          11.285373,
          11.717035,
          11.369939,
          11.15743,
          11.727053,
          11.7238035,
          11.283355,
          11.33204
         ],
         "y": [
          8.44715,
          8.592459,
          8.643854,
          9.019112,
          8.536426,
          9.072576,
          9.036496,
          8.328212,
          9.058159,
          8.719088,
          8.481991,
          8.320655,
          8.472068,
          8.455478,
          8.499053,
          8.520343,
          8.710046,
          8.520109,
          8.836762,
          8.7376585,
          8.499025,
          8.276781,
          8.732552,
          9.035014,
          7.424986,
          9.341237,
          8.758449,
          8.249083,
          8.827938,
          9.099626,
          8.258259,
          8.4928875,
          9.101802,
          9.073397,
          8.602781,
          8.080502,
          9.152386,
          9.043374,
          8.075161,
          8.40987,
          9.137151,
          8.387612
         ]
        },
        {
         "hoverinfo": "text",
         "hovertext": [
          "in the pool, i often do water jogging with one of those floaty belts that people use in water aerobics. you can get a pretty good workout without moving forward all that quickly. that gives people time to get out of my way. (i don’t do this in lanes, but in the open swim area. if i get an empty lane all to myself, i’ll mix this with regular swimming.)\n\ni’ve been riding a tandem bike, and it’s alright. i also go paddleboarding, but almost always with a sighted person. \n\ni have lived in one place where there was a group that offered sighted guides for exercise for blind people. i don’t live in the right part of australia, but there are a few places with organisations dedicated to helping blind people do sport.\n\nmaybe start by looking up if there is swishboard or goalball in your area.\ni do have some vision.",
          "i try to walk and do my physical therapy exercises but i’m pretty cooped up and sedentary myself.\ni mostly work out at home with a nintendo switch game called ring fit adventure, which i started using before i went blind. it is a fantastic fitness game with a wide range of workout options, and i loved it until my vision loss started.\n\nhowever, its visual accessibility is on par with your average video game produced in , so… not great. i can still do it because i learned all the moves with normal vision, but i have a lot of problems with obstacles that i can’t see anymore, and it gets harder and harder as my vision loss continues to progress slowly.\n\ni have been thinking about getting a stationary bike and listening to audiobooks while i cycle.\nprimarily weight lifting and walking. i dearly miss cycling (tandem is not an equivalent).",
          "at this point, i think i’m just going to have to settle of paying a premium for a private trainer. they’ll help me adjust my workout plans and make sure i’m targeting the right areas since i do require a specific plann. also, it ensures that i’m safe as i’m walking with someone one on one the entire time. it’s a bit expensive, but i was expecting it to be way more!",
          "i have no idea about your physical condition, but have you considered trying sports?\n \nit's the best thing i did for myself.  improved my body and met many people (disabled and not). \n\nso you could do some research if you are interested in sports and i'm sure you'll find something!\nsounds perfect to me! also, because you said about heart issues, there is a sport for only \"heavy\" disabilities that is called boccia.  so this is something totally safe for you. you could check that as well! wish you the best of luck!",
          "with pets you also don't have to worry as much if you're still processing some emotions. for example, if you rushed into another relationship with a human partner but still hadn't processed the emotions from your previous partner, you're bound to cause some confusion and hurt feelings for both of you, but this doesn't apply to pets as long as you love and care for them.\n\ntake some time, find a cat you really click with, and enjoy your new companion.\n\nedit: and yes, pets most definitely help with mental health.",
          "any conventions in canada or usa? i have a passport 🥺 love furries\ni would legit attach some of these to my mobility aid or backpack. i love this so much!",
          "maybe start by looking up if there is swishboard or goalball in your area.\ni do have some vision.\n\ni like to ice skate, and i used to go once a week until i broke my arm last year (i'm. a little scared to go again haha). a couple of months ago, i got a tricycle, and it's been really great. there's a bike path along the beach near my house. i got it because you need to go fast on a bike to stay balanced - too fast for me to be able to see. so the trike is really nice because i'm balanced and i can go as fast or slow as i need to. it's so much more fun than walking  i'm thinking of making a vest to let others know i have low vision, since i can't have my cane out obviously haha \n\nbefore i got it, i was also looking into getting a tandem bike. they have places where you can rent them for an our or so! my dad took me to this park in the city, and he rode in the front, steering us, and the only thing i had to worry about was pedalling. it was pretty fun, but those bikes are expensive...",
          "feel free to reach out if you ever want a buddy your age. i know, at least where i live, disabled folks our age are hard to come by, and that can be pretty isolating.\nno problem, i only recently found out that it’s an official organization instead of just a general name for any disability focused sport",
          "depends what sport really. perkins learning has some good resources. i mainly play football (soccer) and goalball so if you'd like anything more specific let me know :)\nhi there! totally blind tennis player here with a long history of international sport. happy to chat :)",
          "most adaptive sports organizations began with someone just like you, wanting to something but not knowing where to start.\n\nyou should start by contacting people who are already in the adaptive martial arts community. most are pretty helpful and eager to help grow the field. \n\nsterling chase of [dymyon martial arts]( is super friendly, and could help answer your questions about starting and running a program. national governing bodies in the sport, such as [usa judo]( [usa taekwondo]( and [us jiu-jitsu federation]( have resources to help you get started. \n\nsearching \"adaptive [martial arts discipline]\" may also yield existing programs in your area to explore. once you're set up, [abilitiesexpo ]( can help you as a venue for demonstrations and networking with local rehabilitation center employees.",
          "some /questions:\n\n. how would you try to make it affordable? disabled people are disproportionately low-income.\n\n. would promotional materials acknowledge that certain types of exercise can be harmful for certain disabled people? like the harms it could do for me/cfs.\n\n. what covid- precautions would be in place for one-on-ones? could there just be an online version for those of us doing work outs alone in our room?\n\n. what steps would you to make sure that online components are fully accessible?\n\n. would information about this program also be available in plain language?\ni’m glad you’re thinking of the disability community. there’s not enough out there. there are a few, amg fitness comes to mind\n\nkeep in mind, a business like this will also appeal to elderly folks wanting to stay active.",
          "if you'd like to be more active without a gym membership i highly recommend hybrid calisthenics. he has a website and a youtube channel. on the site there are very easy variations of every exercise that are comparable to physical therapy. if you can't do a pushup for example there is a guideline for working up to a single pushup with wall pushups, then inclined pushups, etc. no equipment strictly necessary and there are suggestions for low cost set ups if you do want some equipment.",
          "i tried lifting weights for a while too, but i found it kind of boring. it is nice to get into, but it eventually gets boring when you realize the only thing you can do is put on more weights. maybe that floats your boat, but i personally didn't find it fulfilling enough.\n\n  \ni started calisthenics though, and i have found so much more motivation to do my workouts. it feels so much more satisfying to learn how to do a skill like l-sit from the ground, toes to bar, pistol squat and pseudo planche pushup. those are just kind of beginner moves, i want to progress into the even more cool ones. you do need a bar though, preferably one for pullups/hanging.",
          "if you know a concert is coming up you want ada seating at, call the box office the morning of the sales and get ready to buy. they will ask if you have mobility or another disability, like deaf/interpreter or cart services, or legally blind, etc, and give you some seating options. \nmake sure you have your accessible parking tag as well, from your doctor",
          "exercise with a disability can be so mundane and frustrating. i have a gym membership but i do the lightest weights on every machine and even that’s hard. are you able to save up to buy resistance bands? they are a much cheaper alternative than weights and honestly more suitable for people with disabilities imo. i also struggle with motivating to workout myself. it can be so demoralizing doing barley any exercise and just being exhausted and knowing you won’t get much stronger. but i try to tell myself it’s better to move your body a little rather than not all. it will further progress our weaknesses being stagnant. i hope you find some good workouts that work for you!",
          "there are also some organizations that do blind events, like my relative who did blind golfing and glind skiing. i myself don’t have the money to go do a specialized trip like this for blind people, but this sort of adventure does exist out there for us.",
          "in the end though remember that it's okay to not be where you were before and to not push yourself past your limits to perform to abeled standards. moving your body is good! but if you can never get to a full pushup or pull up ( i couldn't), doing the easier variations is still worth it to keep your joints healthy. anything at all is better than nothing. if you're to the point where walking up the stairs or even sitting up from a chair is exercise, that is okay. \n\nalso second what the other commenter said about resistance bands! i was using the smaller ones and with some youtube walkthroughs you can get a really great workout in a tiny bedroom. good luck!",
          "your sports, working out etc doesn't need to be taken away from you. i'm in a wheelchair and keep plenty fit for a 45yr old. i do marathon distances for fun, go out for  mile 'rolls' a few times a week. i do okay. we know how good exercise is for mental health. \n\na disability doesn't necessarily mean 'the end'. \n\ni totally understand how you're feeling, my disability started with pain when walking before i ended up losing a leg and ending up in a chair, i felt like my life had been torn from me and honestly i spent a few years in a dark place (not all due to my failing legs), but honestly my life right now is the best it's been. ever.\n\nnote: i am in no way saying that because you have pain in your leg, that you'll end up in a wheelchair. so please don't read what i've said and panic.",
          "once a month i go to the hospital for an ect treatment. it takes an hour to get there in good weather. usually i'm at the hospital for about  hours. the treatment itself is short, but it takes a while to get checked in, hooked up for anesthesia, and recover afterwards.",
          "i've both a home gym and gym membership down the road, but primarily workout at home. absolutely *love* weight lifting.\nas someone else mentioned there are lots of camps and organized things for kids, at least there are here in michigan, i'd be happy to recommend some specific ones if you happen to here.  \n\ni am visually impaired and my duaghter is blind but we are very active reguardless.    we both run, bike, swim, ski (downhill and cross country), kayak and lots more.  we use a combination of different strategies to make things work for us, its all totally possible.   if anyone wants to talk about specific activities i'd be happy to talk.",
          "i dont know if those options are suitable for you, though. there are blind sports, and maybe there are groups in your area! my favourite is goalball. not sure how exercise-y it is, but i thought i'd put it out there haha.\n\nit can be so hard to find a way to exercise that's accessible as a blind/visually impaired person and fun... good luck, i hope you find something you enjoy!\noutside - i enjoy walking when someone is able to accompany me and lend an arm. \n\ninside - i enjoy yoga and pilates using videos from youtube that are descriptive (some instructors are better verbally than others). i also love trampolining, i purchased a bellicon for in my home (i think that is how you spell it) it has a bar on the front, also you can pay a subscription for videos that i do intermittently. it is amazing how many exercises/stretches you can do just using a trampoline also, it is very versatile. occasionally i enjoy a skipping rope in the sunshine too.",
          "i play tennis once a week, swim when i can, walk the dogs, and that’s about it really. i have no desire to be overly buff and nobody to buddy with at a gym anyway, so i just have to take things as they are. i average about , steps a day, although on a quiet workday that’ll be , and during a cycling session it might hit , or something. i also tend to pace about a lot to think or when i’m on a phone call or meeting where i don’t need to type; i’ve done at least a mile just going round and round my garden.\nthere’s usually tons of camps for blind kids in the summer. i wish tgere were more for adults haha.",
          "pets often help with mental health as long as caring for them is not an excessive burden such as financial, time, personality mismatch, et cetera.  cats are my favorite.\nmy animals give me purpose in life, so i'd certainly say they improve mental health!  \n\nit is currently kitten season - that time of year when shelters are overflowing with kittens. you could volunteer to help socialize new kittens at the shelters if you're unsure about adopting.\ni'm very sorry for your loss and can definitely sympathize that grief can last a very long time.\n\nin general, the advice i've heard is that yes, assuming finances and other circumstances permit, you should get another pet. it doesn't have to replace your previous cat whom you can still continue to love and remember fondly, but it'll be a new companion and pets help humans cope with life in a bewildering variety of ways.",
          "i was dedicated to the gym last summer, and i may have been seeing improvement in the context of the gym (i wasn't really keeping track but all i can say now is that after a long break i'm having a much harder time getting started again than i did the first time i started), but specifically what i meant about the \"getting better\" part is less gym performance and more not seeing improvement in being able to do my part-time job or \"ordinary\" life things requiring physical effort (including having good posture and being able to sit at my desk), so i can't really say for sure if i haven't been able to build muscle\n\nas for other stuff:",
          "specifically for workouts / training there is an app called revision fitness that was developed specifically for blind users.  it's great.  the person who started is a blind paralympic athlete so he know his stuff.\nour local blind club is looking to get a swishboard. it’s sort of a mix between ping-pong and air hockey, and there is a blinder in the middle so that sighted people can play with blind people without having to wear a blindfold.\n\nif you live in a big place, you might look into goalball. it’s an indoor soccer-like game made for blind people and all the sighted ones wear blindfolds.\n\n  \ni go on long walks every day, and when the path is empty, i run for portions using my white cane. i also have to do a lot of stretch band exercises for a surgery rehab.",
          "also, if you haven't seen apple fitness+, they do some asl at the beginning of the class, and have captions. it might give you some inspiration, and teach you some asl you can use in your classes.\nthis is exactly why i've never been able to enjoy or get into yoga. i can't hear the instructor, can't wear my hearing aids, and can't follow along. it has just felt like an exercise in frustration every single time. like - i've left every single class just feeling depressed and irritated. \n\nmaybe if i were already experienced or had more of a baseline of yoga knowledge it wouldn't be so tough, but for me, there are just other forms of exercise i enjoy more, so those are what i do. \n\nfor me personally i think it would require very small class sizes ( or  max) with more time for : attention and instruction. but i don't know if that's financially viable.",
          "you sound like me! i love tubes and my cats do too! there are many different kinds and lengths and they can fold up for when you need more room. they’re fun to lay down next to and use the cat wands around allowing the cats to “hunt” from inside or behind the tubes. it makes playtime more engaging since i can’t run around with them.\n\nother than that of course a laser for when they want to run fast but i have to stay in bed. \n\ncat trees are great for them to get their climbing in. \n\ni also sometimes walk them around the block in a stroller so i can use the stroller for support when i walk for exercise. \n\nhave fun!",
          "i used to go on very long – as in - miles long – guide dog walks. i’d just start off somewhere, drop a waypoint in my gps app and walk. we’d often get lost, but that was the idea.\r\n\r\nsadly the dog got older and i got a lung disease. it got to the point where bending down to pick something up from the ground caused me to need to sit for a while, which was dreadful.\r\nnow i use an exercise bike; i either make a playlist of songs for a set timed workout, or my book player can pause between chapters, so i look at the timings of those and tend to go time over distance. sometimes i will use my fitbit when cycling to compete with my family, particularly if my daughter’s doing some other sort of sporting activity.",
          "if you’re saying many might be accessible if you’re visually impaired, i wouldn’t know, but completely blind, no.\n\nthere are some that are accessible, on the ps5 there’s the last of us series,  god of war, although that isn’t fully accessible, mortal kombat , and one or two more,  i’ve missed.  the xbox  i think it is? the latest one? has forza motorsports.  there are some games on steam that are accessible, but the unfortunate reality is tons of games aren’t accessible to us.\n\npersonally, if you’re gonna go for a games console, i’d go for a ps5, it has the best screen reader in my opinion, although i haven’t tried an xbox but there seems to be a couple more games on the ps5 anyway."
         ],
         "marker": {
          "opacity": 0.5,
          "size": 5
         },
         "mode": "markers+text",
         "name": "3_exercise_blind_gym",
         "text": [
          "",
          "",
          "",
          "",
          "",
          "",
          "",
          "",
          "",
          "",
          "",
          "",
          "",
          "",
          "",
          "",
          "",
          "",
          "",
          "",
          "",
          "",
          "",
          "",
          "",
          "",
          "",
          "",
          ""
         ],
         "textfont": {
          "size": 12
         },
         "type": "scattergl",
         "x": [
          7.693428,
          7.6667767,
          7.890376,
          8.132264,
          12.662151,
          8.144262,
          7.7449174,
          8.074947,
          7.669219,
          7.7395353,
          7.813977,
          7.8846436,
          7.873639,
          8.056343,
          7.8734336,
          7.877966,
          7.8978276,
          8.204572,
          7.775937,
          7.8270454,
          7.711495,
          7.772517,
          12.650413,
          7.9307885,
          7.8198037,
          7.695083,
          7.803244,
          7.79232,
          7.6109476
         ],
         "y": [
          6.6909733,
          6.613044,
          7.097585,
          7.091116,
          4.91428,
          8.41858,
          6.7293544,
          6.990918,
          6.741854,
          7.0825377,
          7.089948,
          7.0734015,
          7.0597973,
          8.580598,
          7.039601,
          6.3076973,
          7.071536,
          7.094972,
          6.842481,
          6.933035,
          6.7419877,
          6.8573933,
          4.8616247,
          7.0934515,
          6.3828044,
          7.558947,
          6.792162,
          6.8496504,
          6.3824644
         ]
        },
        {
         "hoverinfo": "text",
         "hovertext": [
          "anything else it wouldn't be able to do probably isn't important to my day-to-day life\n\nand therefore for the personal device i want to live the rest of my life using i don't see why i couldn't use this one other than the fact that the provider won't give me one because they say it won't be useful for as you said every possible job\n\ni guess this resource is very specifically about getting a job but i thought part of it was also about living independently which this would apply to\n\nand i could look for jobs i could do with it\n\nif a blind person i'm already used to be idea that there are certain jobs i won't be able to do because of me being blind and me using advice that couldn't do a certain thing i'll just add to the list of reasons why i couldn't do a certain job\n\nbut you'd think if they weren't going to let people use these devices they wouldn't actually provide them and raise kids on them their entire lives",
          "(yes, my colleagues can now leave handwritten post-it notes on my desk). and just this week, we’ve sent our daughter off on a school trip and i am actually looking forward to the photos she’ll send back from her phone, because of the descriptive abilities of the large language models we now have access to.",
          "and personal preference and mental health aren't just excuses i mean it's so much more than that \n\n\nif the position was reversed and they you were told you could only ever use a braille note and couldn't use a computer you wouldn't be thrilled is that just a preference or would you learn to adapt\n\n\n\nit's one thing if there's a reason to adapt like i said i've gone through about five different stages of device through my lifetime\n\n\nbut it's another thing to switch all together notice those five different devices i'll use a perkins keyboard all you similar systems all you similar operating\n\n\nlord adapt means to alter something to fit a new environment not to throw away everything for something completely new that has nothing to do with anything else and no connection to the previous anything whatsoever that's more than adapting\n\n\nlooks like expecting someone to go straight from a landline to a smartphone without something in between or sometime to get the hang of it",
          "for os control there's a new app called cephable you might want to check out. just a week and a half i attended a conference where cephable presented, and it looks like the software could fill in the gaps not address by jaws and nvda. during a short chat with the founder i asked if the software could be adapted to find and dismiss modal dialogs, and he said it could, though it's unclear to me whether that would entail additional work. in the presentation he mostly emphasized accessibility for people with limited mobility. at some point i'll create a post about it. \n\nmight i try to convince you to reconsider coding? software management and project management are options, but ticket trackers are a mixed bag when it comes to accessibility. my team and i settled on jira but needed to tweak it. if the key barrier to keeping and maintaining an interest in coding is accessibility, then that's something we could discuss.",
          "but the google pixel phones on the android side of things, and pretty much all the iphones on the apple side of things are super accessible when it comes to accessibility and their screen readers.",
          "looks like expecting someone to go straight from a landline to a smartphone without something in between or sometime to get the hang of it\n\n\n\nwhat is it exactly that you think this device can't do that's so important that i need to change everything to get it instead",
          "i’m completely blind, i live by myself, i use my phone as a calendar, and my alexa, because i also have to set reminders in my alexa, so i can make sure i call from my transportation for pair of transit, for my doctors appointment, on the days i’m supposed to call for them. it’s really wonderful. i am  years young.",
          "you can probably bury your head in the sand and pass at college or whatever because , people may feel you can't move to something new and, , they'll believe humanware's marketing that the braillenote is a modern, powerful and all-in-one solution for productivity.  but i've never seen a respected colleague using one exclusively. sure, some people use them for noettaking, some even check their emails now and then, and a very few people browse the web with them.  but everyone with whom i work as an adult who is blind can also use an ipad, or a phone, or a computer of some sort to do the things where the braillenote falls down.",
          "perhaps we just see things. differently.\ni’m no voc rehab teacher or anything, but you’re going to need jaws to be successful in college and in the workplace. i would recommend having a laptop with jaws and a braille display so you still have tactile feedback. you may need further training to use the computer if you’re not used to it. if you can get a braille display funded, i would go for one that’s a hybrid like the brailliant, because i assume you’re quicker at typing with a perkins keyboard rather than a computer keyboard and if that’s the case, that’ll be really beneficial during lectures.\ni don't see what's wrong with humanware system",
          "as for job it's not about john specifically it's about the idea of a computer without any access to braille\n\ni can do some basic job enough that i can use the computer and probably an emergency if i need to but i don't want it to be my main device for the rest of my life\n\nespecially not for anything important i might want to do they say i might not be able to use the device i want for every job but ... well the field i want to go in i i probably be a better writer if i could use braille and not a computer that made me uncomfortable so if i want to be a writer braille would be more beneficial than a computer\nand if i want to be a voice actor which is another career path i've been considering since people have scared me into not wanting to write anymore i don't see how a computer would change me being able to record myself i could do that just if easily on the braille device",
          "what i meant by the layout is the form factor of the board. having the function layer but missing out on all the less useful parts of the full sized keyboards like a numpad and other such things. i use the laptop layout on nvda even with a full board because i just prefer most hotkeys to be within arms reach. so i am basically saying that i prefer the % layout of the apple keyboard over other layouts like %, full sized, tkl, %, etc. it is also very lightweight and easy to transport. sure, i probably could have found something cheaper that does the same task fairly well, but this board was right there and so i just didn’t see much of a need to do something like that is all.",
          "i know it's pathetic but yeah the specific devices actually important to my mental health it always gets worse on summer break when i have to use my phone and don't have access to braille\n\ncall me a dinosaur if you'd like but i do think that device is relatively modern and in fact i'm pretty sure it's a lot newer than windows computers or the jaws program\ni did use double lines\n\n\nand there's plenty they can do\n\n\ni've been on one for years trust me there's a lot you can do with them if you know how to use them correctly plus they might have changed it a bit since whenever you did did it since they do adapt\n\n\n\n\nand there's a difference between learning to adapt and completely changing your entire system for no real reason\n\n\n\nand personal preference and mental health aren't just excuses i mean it's so much more than that",
          "besides there's workplace life and then there's personal life isn't there\n\n\n\ni could still use one for my all my personal everything and maybe have a backup that i could use for a workplace job if i really needed one\n\n\n\n\nand i'm sure i could work around jobs that would make it completely non-viable i already will have to ask for accommodations anyway  lots of people don't take jobs where they have to do something they aren't comfortable with\n\n\nthere's a whole wide world out there i'm sure i could work with something \n\n\nthere's got to be something out there i can do\nthe braille note touch plus has full internet connectivity\n\nit can access pretty much any app my phone can\n\ni'm sorry i thought i was facing i guess i forgot to press the line twice every time most reddit posts seem to have everything they write in spaced out when my reader reads them\n\nas for job it's not about john specifically it's about the idea of a computer without any access to braille",
          "braille displays also have their own word processors so i’m hoping that will help me as i edit a novel i wrote.\n\ni get what you’re saying, though. i too have a job that was more interesting to me when i could just sail through it. now i think about quitting every day. i find it so stressful to use screenreaders on a laptop, but i find voiceover with an ipad to be ok for somethings. i like how i can use gestures instead of memorizing a million key combinations that you can‘t even perform properly with fingers at home position. (for example, control and the letter “q“ at the same time to exit nvda, when both of these buttons are used with the left pinkie finger. if only i had two left pinkie fingers, i guess.)\n\nanyway, a lot of  blind coders use braille to code. i find that braille activates my visual cortex and i sort of see the words i’m reading. maybe that would be more rewarding for you.",
          "cuz it can access the internet and work with a good amount of speed it can send emails it can access any app on the android play store and it has a really good keyword editor that allows me to save and monitor and access all my files that i have on my flash drive\nit has braille and an accessible and easy to learn system with the thumb keys and the cursor routing keys and the e chords and everything else that another device from another system wouldn't know wouldn't have\nit's faster and more convenient and doesn't have a slow robot voice\nit has a neat screen under the keys that a fighter person could look at or that you could use touch braille with if you needed to so it wouldn't cut you off from any sighted people\nit can connect to a large monitor if absolutely necessary if the screen is too small",
          "with a braillenote, you won't be able to collaborate with sighted colleagues on a presentation or a document in real time.  you won't be able to access the vast majority of online training materials an employer might require you to undertake. you'll struggle to react to suggestions from colleagues on your own documents or to track changes and make comments or suggestions in theirs. you'll find almost any online platform - for timesheets, tech support tickets, live chat, knowledge-base work or any number of other things difficult and, unless you're going to lug around a computer monitor, nobody's going to see what you're doing as you do it or work side-by-side with you on something.",
          "what is it about the life-eyed lead that would be so impossible that i have to change and get a computer that give me anxiety\n\n\nplease i'm very curious to know if these people who say i'm living in the past have a legitimate argument or not because so far i haven't heard one that actually made sense\n\n\nand if you had brio you could probably read at a different pace and not have to deal with your screen reader apparently not being able to read spaced out lines maybe something's wrong with your screen reader because i am using double lines as you requested seems like your screen reader is not great\n\nbut go on please tell me why your screen reader is better than being able to read what's on screen so you can tell where the punctuation is and how the words are spelled and which words are being used",
          "as someone who loves languages, math, and puzzles, i’ve found learning braille to be really rewarding (after a learning curve at the start). i had a bit of vision left and was able to memorize the characters visually very quickly, but it took a while for my fingertips to re-wire. anyway, i think just having something that i’m gaining, instead of everything that i’m losing or that’s getting harder, has helped lift a bit of depression that had the world and all my goals cast in a shadow.\n\nbraille displays also have their own word processors so i’m hoping that will help me as i edit a novel i wrote.",
          "i'm very curious and would love to know since i haven't found any major problems in my life that i think i need to fix and so far there's nothing really big missing from it other than the fact that some fighting things i can't do like look at pictures and play video games but i don't think that's something that can be solved by changing devices\nit's not childish\n\n\ni don't like my mom then anytime you get sick or upset i'm just making it up in my head\n\n\nokay i'm not making up the fact that whenever i have to use the computer i start getting nervous and my chest hurts tightening and i breathe faster\n\n\n\nhuge screen gives me trust issues before anyone's even near me\n\n\n\ni'm not making up the fact that i'm faster trail or feel safer with a braillenote\n\n\njust because i know my limits and i've considered them and i'm going to try and work around them like how any disabled person works around any form of their disability doesn't mean i'm being childish",
          "you can modify all screen readers to do things similarly to the braillenote.  for example the students i teach who come from the touch like to check their power with enterandp, their time with enterandt and so on. they're familiar commands that let them move to windows or whatever with less of a jarring change.\r\n\r\nunfortunately a braillenote won't get you terribly far in many workplaces. i'm afraid you do need to consider moving to some more mainstream tech.  for all the braillenote is a neat idea, they are not a one-stop solution for life. every app in keysoft is so cut down as to make it useless for adults who need to lead fulfilling, productive, employed lives. the evidence for this is simple; they had to move from keyweb, a cut-down web browser, to something more mainstream to keep up.",
          "i'm not saying give up braille by any means, but learn to use it with hardware that the rest of the world uses too. that way, if your phone or computer dies, you can connect your braille to another one.  if there's a necessary upgrade or change, everyone else will be going through it too. and if the braille device itself dies, you can rely temporarily on using braille screen input, or 6key entry on a qwerty keyboard. so many more options if you untie yourself from humanwares handholding, expensive, underpowered, inefficient and dumbed-down system.\r\nperhaps we just see things. differently.",
          "oh, [access to work]( will probably pay for a screenreader like jaws at the very least. i think you have to apply for it rather than your employer but they’ll suggest accessibility related tools and provide the money for it. sorry if you have already gone down this route.",
          "it's hardly a slate and chisel as mentioned it connects to the internet and runs every other app just fine it's not as if i'm deciding i'd rather run on a perkins or even a mountbatten or even an apex or even a braille note touch all of which are somewhat outdated \n\nthe brown note touch plus is a perfectly usable modern device that they don't want to give me because and i swear i'm not making this up\n\ni won't be able to change the font on powerpoints i'll need to do for college presentations\n\nat least that was the argument the use for switching me to job mid-school year\n\njust about the only important thing that that device wouldn't be able to do we have to place a phone call and i do have a phone for that\n\nanything else it wouldn't be able to do probably isn't important to my day-to-day life",
          "but you'd think if they weren't going to let people use these devices they wouldn't actually provide them and raise kids on them their entire lives\n\ni need to have a physical connection with my words in order to write and feel comfortable with it audio only doesn't really work with me even now i'm using my microphone on my phone to dictate what i'm saying and i'm worried that it's not working because it has a history of sucking but going back to edit it would be a pain i'd have to go line by line word by word character by character with individual little swipes if i was using braille i probably could have written and posted this comment minutes ago i'm much faster at it it's more convenient it works better and i feel more comfortable with it and safer it\n\nif i was stuck on a computer for the rest of my life it would pretty much destroy my sense of independence and make every interaction with technology uncomfortable which isn't what i want for the rest of my life",
          "it provides fast neat and convenient editing you can move through lines quickly or jump straight to whatever word you're looking for pop the cursive around wherever you need to and don't have to swipe character by character up and down with a fingernail or by pressing the arrow keys\ni could go on but seriously what is it lacking but so important that means it's a device i can never use for the rest of my life?",
          "this burning desire has faded as my daughter has grown older. the more i’ve done with her, the more independent i have become and the more ability and understanding she has developed, the need has become less pressing. i was already very happy to use technology to aid me, and that’s only gotten better with time. when we left college as a couple, reading print letters required a flatbed scanner and desktop computer arrangement, taking up half our living room and minutes to read a sheet of paper. now, i can flip through a handful of letters, point them at the camera poking out of my shirt pocket, and have them sorted by recipient before i’ve finished walking through my house. the ability to read handwriting came next, smashing the barrier of identifying who sent us christmas cards and bringing a major upswing to my efficiency in the office (yes, my colleagues can now leave handwritten post-it notes on my desk). and just this week, we’ve sent our daughter off on a school trip and i am",
          "maybe it's because i've been raised on it but i kind of love the way the humanware devices work and none of the other screen readers have the three metal buttons that the brown notes have which are the most convenient things ever when paired with a thumb keys and everything i can navigate it so quickly\n\n\n\nyou brought up key web and how that's proof that they don't advance but i think it's proof they do advance because they did switch over to chrome and a whole bunch of other things and it works really good on chrome i've used it so they can catch up and keep up with other technology\n\n\n\nwhat is it exactly that would leave me out of most workplaces honestly someone mentioned the example of needing to play a disc or something but i don't think most workplace is used those\n\n\n\nand i'm not really looking for a job in corporate america anyway as i'd rather do something more creative\n\n\n\nbesides there's workplace life and then there's personal life isn't there",
          "it can connect to a large monitor if absolutely necessary if the screen is too small\nyou can use apps like google sheets for when you need to make powerpoints although i admit it not great with pdf but a pdf is kind of recited people anyway and i can just get it changed to a keyword document if i need the information\nit can download attachment from emails easily\nit comes with a neat book reader and you can install any others that you want to get a hold of\nyou can turn speech on and off and still use braille if you don't want there to be any sound so you're not locked to audio only and you can actually multitask and listen to music or something while writing which with any device that wouldn't let you use braille you wouldn't be able to do because you'd have to have the audio"
         ],
         "marker": {
          "opacity": 0.5,
          "size": 5
         },
         "mode": "markers+text",
         "name": "4_braille_use_computer",
         "text": [
          "",
          "",
          "",
          "",
          "",
          "",
          "",
          "",
          "",
          "",
          "",
          "",
          "",
          "",
          "",
          "",
          "",
          "",
          "",
          "",
          "",
          "",
          "",
          "",
          "",
          "",
          "",
          ""
         ],
         "textfont": {
          "size": 12
         },
         "type": "scattergl",
         "x": [
          6.816387,
          6.7215915,
          6.782378,
          7.044521,
          6.8436255,
          6.627504,
          6.839249,
          6.834003,
          6.9398456,
          6.9004693,
          6.649936,
          6.7651305,
          6.805643,
          6.9502516,
          6.6609764,
          6.868536,
          6.8104024,
          6.91576,
          6.793048,
          6.902101,
          6.9352117,
          7.049309,
          6.647653,
          6.763694,
          6.6125546,
          6.7388015,
          6.7711377,
          6.704841
         ],
         "y": [
          5.308274,
          5.332551,
          5.2556143,
          5.546787,
          5.5274506,
          5.366639,
          5.250823,
          5.521311,
          5.519479,
          5.377762,
          5.403356,
          5.275638,
          5.2942286,
          5.5811076,
          5.4251623,
          5.6219344,
          5.2539544,
          5.608322,
          5.2458253,
          5.608613,
          5.561486,
          5.5204153,
          5.3796153,
          5.309418,
          5.3965063,
          5.352341,
          5.3962383,
          5.4167976
         ]
        },
        {
         "hoverinfo": "text",
         "hovertext": [
          "so there's a lot of \"we can choose to mask, we should 'try to be normal', why do you get special language and recognitions and supports?!\" kind of lashing out without understanding the parallels that exist there. for  instance: my sibling is just starting to pick up on spoon theory for autism and anxiety. and mobility aids aren't very different from stimming aids, and both are discriminated against. \n\ni'd also argue there's a huge lack of recognition about how physical disabilities were fought for and still are constantly because they see the effects of the ada every single day. but a lot of people don't understand that autism wasn't recognized - years ago and the supports they have now were not the norm - that is to say that we are all *still* fighting.  and there's half a dozen posts every week that talk about invisible disabilities being ignored because the media portrays them as being easy to take care of.",
          "adhd takes over the entire brain and body. it makes life harder and puts those of us with it at a disadvantage. that's honestly just a few reasons why it's a disability. \n\ni have ehlers-danlos syndrome, congenital heart disease, autism, and other physical and mental disabilities but my adhd is still one that i struggle with the most even though it was my first diagnosis. \n\ni hope that helped.\ndiagnosed with adhd last year, did last year, and bipolar  the year before. my adhd was the last thing to be diagnosed to treated and being on medication has changed it from disabling my life to being manageable. there are a lot of factors. it was making treatment or commitment to any of my other mental health issues impossible.",
          "i’m also autistic and have severe chronic migraines. they got really bad when i turned  (literally had my first full blown vestibular migraine on my birthday.) i had to put my whole life on hold. i had to pretty quickly go onto shots as a treatment option too because of medications for my mental health. they shots definitely helped a lot. i’m now on an infusion every three months instead which is a stronger version of the shots. \n\nmigraine is a lot to deal with. i definitely understand where you’re coming from.",
          "a “disability” can be anything that makes a specific task harder, and does not need to actually limit your ability to live. \nfor example dyslexia is a disability, if you’re in work or education you might need extra support or equipment, but the vast majority of people with dyslexia will not classify as disabled.\nsomeone who’s elderly might be perfectly able day to day but would struggle with a big trip so might use a wheelchair or scooter temporarily. they aren’t disabled, but the use of mobility equipment can still enable them in certain contexts.",
          "well if i have adhd, it hasn't been diagnosed yet, and i've been through a lot of mental health specialists during the last  years.  i've also googled adhd and at least the description in the featured snippet doesn't sound like me at all.  i'm not impulsive, don't struggle with paying attention, attempt to predict the outcome of all my actions, and am not very energetic.  the reason why i used to play games was twofold: i liked to immerse myself in another reality and be the hero in single-player games and i liked to help others achieve their objectives in cooperative multi-player games.",
          "these are my definitions for them.\n\nmy autism is an impairment in some regards, but i do not consider it a disability (to me).\n\ni am a disability advocate that helps push my policymakers to work better.",
          "well apparently adhd and autism are both cases of being \"mentally younger\" which is about what could be expected from neurodevelopmental disorders... however mental age doesn't say much about anything. mental age merely means that my abilities may be comparable with someone who is younger. it doesn't mean i am incapable of consent or other things related to children. i would only accept the concept under the clause that people understood kids are far smarter than they realise.",
          "a really good example of the flawed concept of intelligence and mental age... i bet the average 8th grader is more proficient in general or complex mathematics than the average  years old. obviously this doesn't account for the average  year old who works in a field which requires complex mathematics... it just comes down to the good old fashioned... \"this maths wont help us in the real world\". the human brain is a sponge, not a hard drive. sponges dry out eventually without constant practice. this is why elderly people are typically seen as less intelligent... it's literally because they have been retired for - years. lol\n\nso mental age is merely a comparison metric, otherwise we would be saying certain ethnicities are mentally children compared to their peers. and i merely point it out because the link between ableism and racism is pretty solid. what else would all of the bullshit about race and iq be about?",
          "not to come at you, but you consider your autism as a mental health thing? i'm also autistic- i can understand arguing it's not a disability, but arguing it's a mental health problem sounds like you're expecting your autism to be \"cured\".",
          "i have diagnosed adhd and dyslexia.    \n\nwe can make a discord channel under r/blind discord for mental health if you like.  let me know.\nthank you so much for your feedback. i was diagnosed last year at the age of . so i know the feeling. \n\ni think you are on to something about the techniques working for blind people also benefit adhd. before getting my diagnosis, i spent a lot of time reorganizing my kitchen. basically, made sure everything was within reach and in a good place. i bought kitchen equipment that was easy, fast and fun to use (air fryers and multi cookers) and it helped change my eating habits. \n\ni later realized that i was creating a very adhd friendly kitchen too! i need to think carefully about how i can take that concept to the rest of my house (and workplace)",
          "so i think compounded with any other mental health issues or physical health issues then yeah it makes a persons disabled.\ntechnically, i guess that's right. sometimes it's used often incorrectly as an umbrella term for learning disabilities though a lot of times it seems to fit. i have a strong diagnosed case of it myself, but i never considered it a disability in of itself. there are several ways to work with it (at least in my case), but i can see where some people will struggle no matter the method used. if nothing else, i have empathy with genuine cases, but it makes me cringe when people casually blame their imaginary adhd for a rare small mistake or minor lapse in attention. like, \"oops, i forgot my laptop for the first time in  years, must be the ol' adhd kicking in, hyuck, hyuck!\" now i know this can differ immensely, but my experience goes something like this:",
          "however, on both sides, there is a long history of disabilities being segregated from each other - charities work that focuses on one disability only. this is in line with the charity and medical model of disability, which wants society to view disabilities as individual medical conditions that need to be cured. disability people have been taught from the beginning to separate ourselves by \"medical condition\" or individual disability. \n\n\nwe all need to work on cross-disability solidarity for sure. some folks with mental health issues need to shed there internalized ableism and not shy away from the disability label. and some visibly physically disabled people need to expand their own definition of disability to include and support folks with invisible disabilities.\n\n\nit's tough. we've all be taught a bunch of ableism garbage that we need to unlearn. but everyone is at a different stage of unlearning.\nsort of?",
          "on the other hand, disabilities like being deaf or having autism are more complicated in their challenges. i’ve met many folks with these disabilities who say that the most difficult part is access - living in a world that is unprepared and unwilling to meet their needs, even though it’s possible to do so. so, they view the core difficulties as being more external. a sort of, “my disability is only labelled that because the world doesn’t want to accept anything that isn’t cookie-cutter,” and i totally understand that mentality!\n\nobviously not everyone with those specific disabilities feels that way, but it’s a sentiment that’s there. these are also really big differences in the lived experience that different folks with disabilities have.",
          "as we move forward and we start becoming more organised... we need to remember, what makes us strong is our differences, our experiences are all different, and we have so many unique perspectives. we would be a swiss army knife of an active movement. i hope one day we will be recognised alongside lgbt pride and other large movements. because if we don't, we won't see the world we want to create.\n* condition: we all have them. nature of life, biodiversity and neurodiversity.\n* impairment: if a condition cannot be treated and it leads to limitations in function.\n* disability: when a condition or impairment reaches a barrier in home, society, workplace, and it prevents access to services, opportunity, and equity. the barrier in question is often there because of poor design or thoughtlessness of the functional authorities.\n\nthese are my definitions for them.\n\nmy autism is an impairment in some regards, but i do not consider it a disability (to me).",
          "you're wrong about one assumption, and that's the assumption that adhd is a mental health disorder. it's not. it's a developmental disability that's also neurological. and physically disabling someone isn't the only way to disable someone. \n\ncombined type adhd is typically the type that makes someone unable to work and require disability, but the other two types can do this as well. adhd impacts basic functioning and can prevent you from doing tasks. adhd causes \"time blindness,\" which is when someone can't feel the passage of time. two hours could pass, but the person with time blindness would think that only  minutes had passed, so adhd literally takes away our sense of time. there's also adhd paralysis, where the body is paralyzed and can't move because the brain is too overwhelmed with stress, the environment (a messy room, for example), or exhaustion.",
          "i consider the terms 'condition', 'impairment, and 'disability to be very different.  as an advocate for accessibility and accommodation in the workplace, i help the members of my grassroots community to speak with the policymakers and ensure their concerns are heard. i am not always confident that progress will happen, but we persevere.\ndepends on the disability. \n\npersonally, my adhd is something where the problems i face are largely societal. i don’t want a “cure” for myself because i honestly don’t want to be nt. the best thing would be to build systems which are more inclusive. i’m lucky enough to be in a field and in a workplace which suits me well and can capitalize on that difference.",
          "i’m the middle i’ve got allergies to fragrances (including vapes) and weed. that makes lots of situations around other people potentially deadly. if we as a society didn’t think creating a cloud of fragrance or smoke around you in public spaces was acceptable since it gets into other peoples bodies in potentially harmful ways, i wouldn’t have this issue. but so many people are allergic to different things that i accept eliminating everything that releases compounds into the air is not a reasonable ask. a few hundred years ago, i’d be able to breathe just fine so it’s technically created by society, and many of the issues i face are because of the way different situations are designed. so i need more thought out into how we design airflow in different spaces, but won’t go so far as to claim that my disability there is only based on how disability is treated.",
          "some people may have “mild” adhd and not consider it disabling. when i can’t get up to go to the bathroom, get to a therapy appointment, or take my meds because of executive dysfunction it impacts my entire body/life. my focus used to be all over the place and i’d fall asleep constantly.",
          "perhaps poverty and lack of access to early interventions or supports increases the risk of being \"less intelligent\". at least that's the conclusion made when public education was found to be a huge success for development of core skills. perhaps many disabled people just haven't been properly included in that system? 🤔\n\ndoes this mean the person who cut you off in traffic isn't less intelligent or childish? correct! that's a result of workplace stress! which is a separate topic i will spare others for now. my biggest problem is seeing that intersectionality has literally no borders and stretches into all fields! :p",
          "that's just my professional life, but obviously some days are better than others and adhd can vary widely in severity. i wouldn't discount it as a disability, still, people seem to think i'm forgetful, quirky, a fast worker, and (ironically) laser focused all at once.\ndisclaimer: *i don't have adhd, but i do have mental health disorders that contribute to my disability*\n\nin my opinion, i really think the term \"disability\" should be used as liberally as people would like. if they feel they are disabled, then they're disabled. i think gatekeeping the term really isn't helpful for disability rights () , and can cause a lot of unintentional harm ().",
          "i consider the terms 'condition', 'impairment, and 'disability to be very different.  as an advocate for accessibility and accommodation in the workplace, i help the members of my grassroots community to speak with the policymakers and ensure their concerns are heard. i am not always confident that progress will happen, but we persevere.\ndepends on the disability. \n\npersonally, my adhd is something where the problems i face are largely societal. i don’t want a “cure” for myself because i honestly don’t want to be nt. the best thing would be to build systems which are more inclusive. i’m lucky enough to be in a field and in a workplace which suits me well and can capitalize on that difference.",
          "there's no disability fairy that comes and waves a magic wand and all of a sudden someone is branded \"officially disabled\". for some, yes, there is a defining singular moment. maybe they became disabled after a traumatic injury, or were disabled at birth. but for a lot of us, we have a gradual decline in health and then have to figure out where we stand and how we feel about it. and it can be a hard thing to wrap our heads around because it's something we have to decide for ourselves.",
          "so i think these ideas would also port over to down syndrome as well in some ways. but only folks with it could really give a fully applicable answer, but i honestly am starting to believe that intelligence is a misunderstood concept in general. someone with an intellectual disability is not someone who lacks intelligence but merely lacks the ability to make as efficient use of a tool of intelligence. intelligence is relative to the subject in question and intelligence is an unmeasurable statistic. we can only measure intelligence in regards to subject matter, such as core skills like english, literacy, maths, science, etc.\n\nperhaps core skills are more useful generally, but i doubt that my inability to do maths in a timely manner means i am incapable of maths, merely my clock time efficiency is lower than it should be because of less working memory as a result of adhd.",
          "i’m the middle i’ve got allergies to fragrances (including vapes) and weed. that makes lots of situations around other people potentially deadly. if we as a society didn’t think creating a cloud of fragrance or smoke around you in public spaces was acceptable since it gets into other peoples bodies in potentially harmful ways, i wouldn’t have this issue. but so many people are allergic to different things that i accept eliminating everything that releases compounds into the air is not a reasonable ask. a few hundred years ago, i’d be able to breathe just fine so it’s technically created by society, and many of the issues i face are because of the way different situations are designed. so i need more thought out into how we design airflow in different spaces, but won’t go so far as to claim that my disability there is only based on how disability is treated.",
          "as we move forward and we start becoming more organised... we need to remember, what makes us strong is our differences, our experiences are all different, and we have so many unique perspectives. we would be a swiss army knife of an active movement. i hope one day we will be recognised alongside lgbt pride and other large movements. because if we don't, we won't see the world we want to create.\n* condition: we all have them. nature of life, biodiversity and neurodiversity.\n* impairment: if a condition cannot be treated and it leads to limitations in function.\n* disability: when a condition or impairment reaches a barrier in home, society, workplace, and it prevents access to services, opportunity, and equity. the barrier in question is often there because of poor design or thoughtlessness of the functional authorities.\n\nthese are my definitions for them.\n\nmy autism is an impairment in some regards, but i do not consider it a disability (to me).",
          ") i can't begin to tell you the number of people (myself included) who i've met/heard of be terrified of using the term \"disabled\" because they don't feel their condition is \"bad enough\". (especially people who don't have stereotypical/visible disabilities) for me, the term was liberating and validating and invaluable in getting the help i need. not using the term meant years in delayed treatment and care that i could have been using sooner. i just wouldn't want to deny anyone else that experience.\nhow is adhd by itself not a primary mental health disorder it's literally a mental health disorder\ncontext is important. untreated adhd in an educational or workplace setting can be a huge barrier and have a major impact on your life and wellbeing.",
          "these are my definitions for them.\n\nmy autism is an impairment in some regards, but i do not consider it a disability (to me).\n\ni am a disability advocate that helps push my policymakers to work better."
         ],
         "marker": {
          "opacity": 0.5,
          "size": 5
         },
         "mode": "markers+text",
         "name": "5_adhd_disability_impairment",
         "text": [
          "",
          "",
          "",
          "",
          "",
          "",
          "",
          "",
          "",
          "",
          "",
          "",
          "",
          "",
          "",
          "",
          "",
          "",
          "",
          "",
          "",
          "",
          "",
          "",
          "",
          "",
          ""
         ],
         "textfont": {
          "size": 12
         },
         "type": "scattergl",
         "x": [
          11.65743,
          11.13492,
          11.1097145,
          11.589059,
          11.104707,
          11.588319,
          11.321757,
          11.291903,
          11.703735,
          11.250523,
          11.201796,
          11.67408,
          11.527351,
          11.567527,
          11.123239,
          11.395575,
          11.518127,
          11.147064,
          11.294093,
          11.150844,
          11.338004,
          11.576368,
          11.325439,
          11.53954,
          11.601165,
          11.213706,
          11.614633
         ],
         "y": [
          9.120413,
          9.936333,
          7.072617,
          9.466768,
          9.968683,
          9.526771,
          9.662451,
          9.528652,
          9.640635,
          9.75867,
          9.856632,
          9.00461,
          9.24365,
          9.46753,
          9.950246,
          9.692243,
          9.37172,
          9.916946,
          9.538043,
          9.908201,
          9.678443,
          9.41879,
          9.568974,
          9.379885,
          9.495455,
          9.749291,
          9.520857
         ]
        },
        {
         "hoverinfo": "text",
         "hovertext": [
          "that sounds about accurate. \n\nbed in dv shelters are at a premium - last i knew, my city's dv shelter had a waitlist and they only accept women (and young children) abused by a male partner. \n\nwaitlists for public housing are very long. prior to the pandemic, i briefly dated a man who works with hud in public housing and he said (out of frustration) that people had better odds of winning the lottery than in getting into public housing. some cities have a pipeline for supportive housing through the shelter system, but that does require entering into the generally homeless shelter system, not the dv one. (this can be a real concern as the shelter system is often quite dangerous, especially to women, people with physical disabilities, and people with mental health disabilities.)",
          "my husband and i are both on ssdi, me for mental health issues and him for a severe tbi he obtained from a high elevation fall. we applied and got benefits  years apart, both approved at the first stage (so that should tell you how severe our disabilities are; that is, how serious the documentation was).\n\nthis was not our plan. we couldn’t believe it when i started failing at my job (he was already on ssdi) and it began looking like i would have to go on disability also, because i was on the fast track to being fired. we never intended for neither of us to be working. we had a small child to raise, suddenly on fixed incomes, at % what our family’s previous salary had been.",
          "you should qualify for medicaid since your on your own and have no income, although some states have a work requirement. same with snap. \n\nget your disability application in now. they can take years to get approved but once you do you get backpay to the date you filed. it took me over  years to qualify, with a lawyer, and i got 20k in backpay. i am hemipalegic, a wheelchair user, and have difficulty speaking and mental health issues severe enough to hospitalized me several times and i got denied and had to appeal twice. i couldnt even push my own wheelchair, dress or bathe myself, or communicate effectivly verbally and i still got denied. make sure all your doctors are on board with you getting on disability or it likely won't happen.",
          "this is great!\nhave you had or will you get orientation and mobility lessons?",
          "trying to do. i became my own payee at end of january  and since i started my payment march 1st and it’s more stressful being my own payee but i’m managing i’m getting my back pay from  nov  all the way to february . what i’m basically what i’m trying to say even though it’s hard out here i have a faith everything will work out in your favor. talk with your doctor counselor case manager. try to get low income housing and stuff like that. try renting a room from someone in the mean time so u won’t be in the street and you have a roof over your head and so you can shower as well try to be able to get any type of government help like food and cash assistance if you’re able these will help a-lot and best of luck",
          "preface: my resources and understanding are us based.\n\n[askjan]( can help you figure out job accommodation. your local office of vocational rehabilitation can also help you out in figuring out work that you can do with your disabilities. \n\nif you want to apply for ssi/ssdi, that's with [the social security administration]( there is a page on their website where you can calculate what you might be paid if you are awarded disability. marriage can affect ssi payments.\n\nif you need health insurance, you can see what you might be eligible for under the affordable care act in your state. you may or may not need to pay for it. some states, like pennsylvania, have carve outs for medical assistance for worker's with disabilities. health insurance includes behavioral health coverage. while you wait for health insurance, you may be able to find a therapist who works with a sliding scale or in community health centers.",
          "finding roommates is likely the path of least resistance. lots of people live with roommates and if you find people you get along with, it can be a long term situation. you would need to share your space, but i personally prefer not to live alone.",
          "hello sorry you are going through this. but i can tell you a story. i (f) on ssi live with my bf and his family. when i was in high school i left and went to a shelter it was ok for a while until i wa falsely accused of assault mind u i’m in florida. i got out went to another shelter and then a program for mental health and substance abuse or rehab. i was still  at the time. my case worker got me approved for ssi(disability) october  and started nov . mind you i couldn’t access payment or nothing i met my bf december  and we started dating on his birthday december 8th . so it was a lot of back and forth jumping place to place went to a shelter january to february  and i left again. i been traveling all over my state. and then move with my bf and his family at the end of march and everything was fine but i’m still here but it’s not what i’m trying to do. i became my own payee at end of january  and since i started my payment march 1st and it’s more stressful being my own payee but i’m",
          "i have pots, heds narcolepsy (shows up with those more frequently than in the general population).\n\ni don't have much advice here, but i do on finding drs and applying for disability.   i got it without having to appeal. \n\ni'm , and i don't think i could live on my own, and not with my family, and i need out of my marriage as it is a disaster and my spouse wont do counseling. \n\ni plan to call around to social services and see if i can get a case worker to help me find resources.  sometimes they can help with remote jobs. \n\nmy other thought for me is to post a roommate ad looking to offer low rent in exchange for help, or another person on disability where we can compensate for each other. \n\nsadly, you probably need to move to a new location.   i had to move from seattle. \n\ni would call the ssa too, and find out if you qualify for ssi or ssdi.\n\nyou are young, but you might have enough credits for ssdi.",
          "the chances of getting a section  voucher as a single adult are rough. the waitlists where i'm at take years to get on. if you can try to get a social worker who can help you get an emergency section  voucher to avoid homelessness vs an abusive situation. this may be hard if you never pressed charges against your parents for abuse. otherwise i'd say start preparing to be homeless.\n\nif you can find even the most part time of part time jobs that you can do so you can get your car signed over to you that would be ideal so you can live out of your car. ots much nicer than living on the street. \n\nyou should qualify for medicaid since your on your own and have no income, although some states have a work requirement. same with snap.",
          "if you are talking about social security disability, there are two different programs.  the first is ssdi - social security disability insurance.  this is the disability coverage your fica taxes go toward.   generally, an adult who has never worked or paid into the social security system (and thus never earned work credits) is not eligible for ssdi.  there is a limited exception called dac (disabled adult child) benefits, where someone who became disabled before age  can draw ssdi based on a parent's earning record.  however, dac benefits can only be paid if the parent is already drawing ss disability or retirement benefits, or is deceased.  so even if it were established that david became disabled before the age cutoff, he still would not receive benefits until you start drawing retirement or disability benefits yourself, or you predecease him.",
          "if you have a local center for independent living i'd check them out too. if your on medicaid and ssi there are some alternative housing arrangements for disabled younger people some places. mostly for id but you never know unless you ask.",
          "you might be able to ask your case worker at social security or your insurance company if there are any resources that could help you, like you may be eligible for an in-home carer or help getting groceries delivered. i'd also like to say that i'm in the same boat. i'm  as well, mostly house bound and rely on my mom for housing and transportation. i know how isolating it all is and i'm sorry you're going through this.",
          "do you have any idea what type of way you can go about getting an attorney? my husband has suggested it when it first happened.\n\ni can't say that this wouldn't have happened if i didn't have the surgery. my surgeon said he's never seen this before. he didn't think it was related to the surgery. i was healing great for  days or so.\n\nthe pain comes in waves. my mental health is great. but i'm allowing myself to grieve. the thing that hurts the most is not being able to walk my dogs. even with a chair, i can't walk my dogs. people walk around my house all day. and i have to sit here watching them.\n\ni don't feel like i'm going to wake up better tomorrow. it's only been a month. but i had to quit my job and i'm now excited for a wheelchair. im just baffled. absolutely dumbstruck.\n\ni know i'm going to be okay. i want as much independence as i can get. but without my husband, id need to be in a nursing home.\n\na fucking nursing home. because i can't fucking take care of myself.",
          "good luck!\nif you are interested in mobility aids, braces, etc, mention those specifically too",
          "group home. try your local mental health agencies. they may have emergency housing.\ni was in your ex situation unfortunately. i definitely understand that especially financially and emotionally \n\nas taking care of a disabled person is very mentally draining \n\nand society is individualistic and ableist so it makes it no better \n\ni tried to help my situation. i reached out to every organization for help\n\ni have invisible disabilities as well so people can't see it so therefore i look abled bodied \n\ni worked jobs lifting 300lbs 400lbs barrels of water and fruit and vegetables \n\ncrowded job had panic attacks blurred vision lightheadedness and dizziness \n\neveryday at the jobs\n\ntill the fact my body couldn't handle feeling like that everyday \n\nplus it was messing with my mental health \n\ni felt like a burden on family for a issue i didn't ask to have.\n\nlike i understand people houses and if i can't keep a job \n\nwhich i couldn't i tried but always quitted",
          "maybe you can try an airbnb in a few different cities and see if you like any of them? i don’t know what the lower age limit is, but there are pretty awesome bus tours set up for retirees that take you all around the country. might be a way to travel and meet new people. i can appreciate that it might feel too hard to leave given how many animals you have, but maypbe you can use that money to hire someone you trust to look after them.",
          "i would call the ssa too, and find out if you qualify for ssi or ssdi.\n\nyou are young, but you might have enough credits for ssdi.\n\ni would add to your list of hopes in a job for one that has disability insurance and buy it up, if you can.\n\nif you aren't eligible for ssdi, trying to get enough credits, if you can push yourself enough to get them, is going to help you long term. i went on disability at .\n\nif you lost your last job due to your disability, i would talk to an employment lawyer.   did they offer a disability policy?  maybe you can still qualify.\n\nhere is info on finding a good dr for heds and dysautonomia. if you live in nc, i can make recommendations.\n\ni would also consider talking to a sleep specialit, if you are having any sleep problems. they can get masked or exacerbate or get mistaken for mental health, though i an not discounting your mental health.",
          "work on finding resources now, like where the local homeless shelters are and how to navigate them. once your on medicaid and if your disabled enough you could also move into a nursing home environment, but you have to be pretty sick to get into those. \n\ni'd honestly move back in with abusive parents and go back in the closet to avoid being homeless somewhere it gets cold, but that's just me. i can ignore a lot of shit. ymmv. if you get ssi while living woth your parents the amount will be reduced because you aren't paying rent but will go up to $900ish once you move out. \n\nyou could also try and find a job as a live in nanny if you think you could handle taking care of some kids or as a caregiver to another disabled person. my mom has a room she \"rents\" for free just to have someone around to take care of the house amd cook meals amd her last caregiver was disabled just not as disabled as my mom.",
          "you may have a federally qualified health center near you. they can provide health care (including mental health) if you are uninsured. they will likely have resources to help you access insurance coverage.",
          "please consider when and where these comments are appropriate. i did not ask for wfh jobs because i am aware that i can't work, and trying to add work to this mix will take me from a position of extremely volatile mental health to a position of active danger to myself and others. \n\nwork is the answer for some. it is not the answer for me.\ni don't have the paperwork on hand, i'd have to look at it. iirc since i can use a computer there seems to be the impression that i could do call center work, data entry, stuff like that. those things are also out of the question due to my mental health and fibro, i can't keep to a schedule, meet deadlines/quotas etc, i am extremely forgetful and can't focus on work, i struggle to keep up even with video games more complex than shooters. \n\ni simply don't understand how it's been denied so many times, i have multiple letters from doctors verifying that i'm disabled and can't work.\ni don’t know anything about michigan’s geography but here we go:",
          "i hope this helps or at least puts some ideas out there….",
          "given the complexity of david's situation, i would highly recommend that you consult with an attorney knowledgeable about disability issues, especially about estate/life care planning for the needs of a disabled adult child.  \n\nhave you talked to david about whether he wants to come to live with you, or to live in the u.s.?  it seems like this would be the most important first step to take.  as david would be considered an adult in the u.s., you would not have the right to make decisions on his behalf.  if you believe he is unable to make his own medical, financial and legal decisions, you may need to consider seeking guardianship or conservatorship.  at minimum, you would need to hold his power of attorney and health care proxy in order to apply for services on his behalf or be involved in medical decision making.",
          "list of subsidized housing for disabled adults by county:  \n\naffordable housing for disabled adults, focus appears to be on neurodivergent adults, offers various support services - \n\ncil/ilc list for michigan by county - \n\nresources for disabled adults from the state - \n\nmental health organization, also provides case management -  - appears to have resources focused on neurodivergence.  \n\ni will keep looking around and if i find anything that looks promising i will add it in.",
          "what about ssi and ssdi? i think you can get both in the us. i’m so sorry that you’re going through this.\nbeing lonely is awful. i wish i could give you the biggest hug right now. is there any way at all that you’d be able to come back to the us and find housing; even section  or something? i know there are programs for disabled people, including food stamps and medicaid. also this sound stupid but i’m praying for you, for your safety and for your health and mental health and to find good, trustworthy friends. im sending you the biggest hugs",
          "the other disability program is ssi - supplemental security income for the blind, elderly and disabled.  it is a means-tested program with very strict income and asset limits for eligibility, and the most it pays is currently less than $ per month.   he will not be eligible for ssi unless he was actually living in the u.s.  \n\ni'm unsure of the answer to your question about disability evaluations conducted by a non u.s. physician, but i suspect the answer is they would not be enough for social security purposes.   to qualify for social security disability, the claimant needs very complete, compelling medical documentation.  this is especially true for mental health issues.  \n\nthere are other programs such as medicaid for which david might become eligible if he lived in the u.s., but these programs vary a lot by state, so you would need to look at what's available specifically in your state."
         ],
         "marker": {
          "opacity": 0.5,
          "size": 5
         },
         "mode": "markers+text",
         "name": "6_ssdi_housing_ssi",
         "text": [
          "",
          "",
          "",
          "",
          "",
          "",
          "",
          "",
          "",
          "",
          "",
          "",
          "",
          "",
          "",
          "",
          "",
          "",
          "",
          "",
          "",
          "",
          "",
          "",
          "",
          ""
         ],
         "textfont": {
          "size": 12
         },
         "type": "scattergl",
         "x": [
          12.456417,
          12.27945,
          12.287921,
          8.815061,
          12.336481,
          12.154883,
          12.446438,
          12.40663,
          12.266174,
          12.340949,
          12.199789,
          12.381486,
          12.336881,
          11.939057,
          9.135645,
          12.428806,
          12.353786,
          12.230441,
          12.358408,
          12.20952,
          12.061617,
          9.088697,
          12.123703,
          12.361265,
          12.274111,
          12.155768
         ],
         "y": [
          4.600533,
          5.326382,
          4.5915213,
          7.9473248,
          4.5544796,
          4.6068525,
          4.414231,
          4.4970117,
          4.619152,
          4.5097,
          4.7513914,
          4.4473553,
          4.505106,
          5.50982,
          7.740941,
          4.565642,
          4.4427404,
          4.755332,
          4.4768095,
          4.762143,
          5.567126,
          7.7645907,
          4.7016983,
          4.4692492,
          4.540502,
          4.6906104
         ]
        },
        {
         "hoverinfo": "text",
         "hovertext": [
          "that's customized to be colors you like/to fit your aesthetic will help a lot in making other people less awkward and weird about it and in improving your confidence/willingness to use it. and again, i'm speaking from own experience of being a monocular my whole life, though i didn't start wearing an eye patch and using a cane till last year since my family refused to ever acknowledge and help me accommodate my disability. and i haven't gone to college yet so i can't speak on how adjusting to and attending college would be like with your disability, and i can't speak on how it might affect your mental health. and i also, obviously, can't really speak on the mental health impact of going from fully sighted to a monocular and how the adjustment to that might be like since i obviously never went through that adjustment period.",
          "and all of this to circle back to complaining. biting my tongue is a skill i have learned, at least when it comes to my blindness and how i feel, when talking to sighted people. i know that i use the term sighted people very loosely. i am sorry if i offend anyone; i understand that there are many people who try, very hard, to understand. please forgive me.\nmy original point was simply to say, please, feel free to pm me, whether it is to complain, to revisit a past that people are telling you to move on from... i am always here to listen, perhaps because i know what it is to repress everything, and when it comes out, that feeling of being a burden. \ni am sorry if this was a disjointed compilation of too many words and too little sense.",
          "another pivotal moment came during my child’s toddler days. she was an articulate child – she had to be, pointing at things and making noises didn’t get her anywhere. we walked into a fast-food restaurant during the school holidays. i remember vividly the flood of warm air as we crossed the threshold, the roar of noisy voices, the clangor of diners ordering and eating and playing, kids screaming, parents shouting. and us waiting to be seated in all that, and me knowing intellectually that my daughter was only a few small footsteps away from me yet utterly cut off, aurally, from my senses.   this was the point at which i really began to want vision. getting on or off the right bus, knowing precisely if i was about to walk into the correct building or room, being assured of my place in line – these had all been things i’d previously struggled with whilst out-and-about with my child, where just a little bit of vision could have helped.  i’d grumbled a little about them internally, but",
          "for me, blindness is an inextricable part of who i am. i work in the field of visual impairment. i play adapted sports. i read on a braille display rather than an eink kindle, although i am always careful to point out that the source material i read is now the same as everyone else’s, just on a different screen. this is a far cry from my own school days, when putting a book into braille meant physical, mechanical  labour. being a computer programmer has undeniably helped me through life – i’ve written dozens of tools for my own edification over the years.  and it is that comfort with and power of technology that i think is my mental life line. i am fortunate beyond my wildest imaginings as a teen. if you’d told my -year-old self that he would be able to access handwritten notes at work, or comprehend pictures from holiday snaps, he would have laughed at you. ‘no way’, i’d have said. ‘blind people can’t access that sort of thing.’",
          "to make a venn diagram and show my parents, people in general, that they don't get it. people think it simple jealousy, petty lack of willingness to accept reality. you know those times where you set something down and can't find it? you know it's right there. or when something, like a sheaf of papers, falls, and you wonder if you have gotten all of them, but if you haven't you should keep feeling, and if you have you are wasting your time...",
          "i’d have been right, of course. but things change. and the pace of change has never been greater. and this is what keeps me going. the time i’d spend wallowing in misery would be time i could miss these potential breakthroughs. and so for every little niggle of inaccessibility, for every bump along the road, i think about the road ahead. if i can hop over that bump or smoothen out that wrinkle, what might lie over the horizon?  i could no more have predicted the things i can do now back then than i can predict what access i will have a decade from now. but i do know that, if i persist in living a happy and healthy life, engaged with the blind community, using my technological skills to help other people whilst earning a living and bringing up my child to appreciate that a disability isn’t a lack of ability in other areas, i can cope.",
          "my next real shock came when i moved from school to college. i’d had regular access to a sighted assistant up to this point: i’d not needed it often, particularly as i grew more confident in my own use of technology, and the fact that i was left alone by them much of the time served me well in bonding with my sighted peers. still, the safety net of them being there, plus their ability to fight for accessible work or to adapt it ready for lessons, was a crutch i didn’t know i needed. the  years at college without such a level of support was grueling. being handed print textbooks at the start of a lesson and told to use them like everyone else was … eye-openingly impossible, and began to make me realise just how ablest the word could be, although that word didn’t really enter my vocabulary at that point.",
          "as for my motivation, i lose it because i can't perform as well as i like.  for example i just bought another raspberry pi along with its official touchscreen despite being totally blind because i want to play around with computer graphics on linux and want to dedicate my first pi to serve content on the internet, however i will most likely get demotivated once the project for which i bought it is near completion because little things that i cannot pay attention to due to being blind will affect the final experience and i will only learn about them too late.  i've been through this before, but keep acting like i still have sight or this time it will be different.",
          "my personal policy, to preserve mental health, is blind friends online, sighted friends offline.  there are a lot of really wonderful blindness communities online, like this one.  however, as soon as you bring these communities into the \"real world\", you get nothing but drama.  plus, the fact that most sighted folks post nothing but images online these days means that interacting with them over the internet is not rewarding.  so i'd rather spend the time strengthening my sighted friendships offline.",
          "what made me recover from the darkest times of my life was the realization that i could still code blind as well as the normalization of my current condition. i can still remember how great life was back then, and would love to return to those days, but for some reason, the more time passes, the more i tend to think of my former sighted days as dreams. able and healthy people don't even realize how incredibly lucky they are, and to be honest i get a little infuriated with the fact that so many healthy people waste away their lifes with futility instead of investing into self development and into making the world a better place.\ni’m . a lot of issues have been piling up over the last few weeks that affected my mental health mentally. a lot of these issues come from the visual impairment and i feel a little defeated\ni’m  and was just recently diagnosed as legally blind. the disease is progressive and there’s nothing to be done.",
          "it's really great how you described the way you feel and what your experiences are.  that is a really good skill.  you raise a lot of really good points; maybe consider showing or sharing this post with one of your parental figures as a starting point?  it sounds like you underwent a lot of sight loss in a relatively short time; having gone through less sight loss than you, i found my brainpower took a big hit because all the formerly visual pathways needed to reroute the circuitry for the change in conditions.  if your school has learning support services, i would expect this is something they are trained to work with.",
          "so how about we stop shoving mental health aside like it doesn't matter and treat it like it's just as valid as the any physical disability\n\n\nthanks\nthis is a sighted world. how a document looks makes it easier to read which is very important in the workplace. actually, it’s very important everywhere. i hear your various arguments but the bottom line is if you’re planning on being a successful adult you are going to have to make some changes. it is not easy learning things that we have no interest in but, if you’re planning on joining the workforce , knowing jaws is a necessary step to getting a decent job in an office environment for most visually impaired people. you don’t have to do it. but don’t expect the world to adjust to your stubbornness. we all like to use the devices we like to use, but if circumstances call for us to change we have to adapt. \nas far as making a living in the arts, very few people make enough money at it to support themselves without other income.",
          "mental health wasn’t on my radar at that point. my own health had never brought up any questions in that regard: i’d fallen out of trees and smashed my head on rocks, sprained things and pulled muscles, but nothing other than the physical. the first time i ever really felt that my blindness was a problem was a day when my sighted friends began to take off on their bikes, leaving me behind. i’d been involved in everything else up to that point, and standing outside school, hearing the tick tick tick of their bicycles fading into the distance was the first time i had a bitter upswelling of envy for those who could do what i couldn’t.",
          "i think the thing to keep in mind here is that being disabled doesn't have to mean it's now impossible for you to do x or y, but that maybe you'll need to find a different way to still do x or y. that sounds easier said than done, i know, and that mountain looks super high from where you're standing. but you've already started that process by reaching out for advice.\n\nlife skills and oandm don't sound like much on their own, but think of it like this. you've already got life and oandm training. but you got it as a sighted person. it's not that you don't know where you're going or what you're doing. it's that you don't know how to do it without relying on sight. the life skills training and the oandm training is there to teach you how to do it without site--which, yes absolutely, will help you to regain your confidence and in turn help improve your mental health.",
          "well, i’d say my mental health is stable now, but i’ve had my ups and downs not only because of my blindness, but also because of my upbringing, and the fact that i have been moving from country to country beginning my teenage years, which has left me with no physical friends, and a bunch of good long-distance friends.  i am definitely successful academically, but the isolation that comes with blindness really sucks. now   years old in college i have managed to come to terms with it by reading a lot and playing video games when accessible. recently, after a long search, just found a quasi job and will use part of the money that i will be making there to travel around to meet up with my lomg-distance friends to see if i can find life a little more enjoyable lol\nmental health? in this economy?!\nwait you guys have good mental health\nwho had a great metaphor bench, pressing mental health",
          "or is it childish truth refused to get surgery to get their your eyesight back rather than staying blind\n\n\nshould we all just get cured and change our entire life because i'd be more convenient for everybody else right\n\n\ncontrol no one's going to hire a blind truck driver so if you want that job you better go get eyesight back\n\n\nand if that's not the job you want for your life that doesn't matter you should do it anyway\n\n\n\ndo you hear how dumb that sounds\n\n\n\nthis is the same thing okay\n\n\n\nit's not being childish to take the few steps necessary to preserve some of my mental health when i'm definitely not going to be getting therapy because it's too expensive and probably won't do anything anyway\n\n\nbut instead i can work on it myself and try to take the stuff to necessary to make sure i'm actually happy\n\n\n\ni can work with or around what i need to i've been doing that my entire life\n\n\nwhy should i stop now",
          "they were getting into. i know, i was wanted. a strange thing for which to harbor any other emotions save gratitude and happiness. they knew that adjustments would have to be made; they were aware of the logistic challenges. but as i grapple with watching my sighted sister spread her wings and fly, while i remain grounded by limitations that i cannot change, and a splintering mental health, i always wonder, did they really know what they were getting into? i wonder how many blind people are unhappy, but refuse to recognize or attribute it to being blind for some reason or another. we are given canes and taught to cross streets. we are taught daily living skills while feeling inferior for having to be specifically instructed. we watch people drive, run independently, make eye contact, and there is a part, of me at any rate, that wants to make a venn diagram and show my parents, people in general, that they don't get it. people think it simple jealousy, petty lack of willingness to",
          "i have seen some amazing people in this world and i don't think any career ambitions are necessarily out of the question simply because you are blind. i'm not sure what your career ambitions are but you should definitely do your research and try to connect with blind people that have been where you want to go. i think having examples and finding a mentor would be greatly beneficial to you. if you do have a vision itinerant or whatever they are called in your area definitely ask then for help finding a mentor, they have access to resources and can help you make connections / network.\n\nbest of luck and don't give up. you need your right now.\ni'm so sorry that this has happened to you.\n\nnone of this is your fault, and there is nothing lacking within yourself. people behave this way when they lack the ability to empathise, and/or refuse to educate themselves properly. as a teacher, they definitely ought to be doing so.",
          "i'm a creative person, and attention to detail used to characterize me.  my goal in life used to be to provide memorable experiences that people could feel unconsciously even if they couldn't appreciate.  i feel good not when people compliment me but rather when they try the same kind of product made by someone else and complain about things they hadn't even thought about while using my creations, and to that end i don't mind to put more effort into making things than most would, but i also expect quality as a result.  the problem is that right now my extra effort is only compensating for my disability, and in addition i think i've reached a plateau from which i cannot progress no matter how hard i work.",
          "this pattern was to repeat itself throughout my life. for every one job interview i attended in hope, perhaps five or six people turned me away with legitimate-sounding reasons for not employing me, thinly veiling the fact that the real reason was my blindness. legally, they couldn’t say it, but as a practical matter, if two people apply for the same job and one requires less adaptations or changes to existing working systems, most of the time, the disabled person loses.\r\n\r\ndespite all this, i was resolute in my blind happiness. i’d known no different, after all. seeing was a concept to me, not a way of life. i would have happily given away physical parts of my eyes to help other people see more clearly if medically feasible.  and then we had a child.",
          "for a decade and a half, this worked well. i grew. i learned. i found ways of understanding things i couldn’t interpret. proving the existence of clouds to my satisfaction meant a trip in a hot air balloon, because i couldn’t see them and other empirical tests – like covering the sun with another object – didn’t satisfy me. i was curious, polite, inquisitive and excited by the potentials offered by technology to improve my own lot in life, and happy to use my blindness as a teaching tool for others. it became a true part of me, rather than something apart from me. i embraced it.",
          "i was born blind, premature by a number of months. the oxygen needed to keep my brain going was fatal to my retinas, and so i have had no useful vision all my life.\r\n\r\ni was very lucky apart from that, though. despite an apathetic set of parents who didn’t care to get involved with any blind adaptations or organisations and indeed who made it quite clear they didn’t intend to have me and it was my younger, sighted siblings who were the wanted children, i thrived as a child. i was well-supported in education, i made friends. yes, i became one of the nerds, but the nerds were a group of their own. i didn’t need respect from the whole student body, i was used to not having it from my own parents, after all. i found my niche and settled in, and learning became my thing, backed by technology.",
          "i, also, do not have many friends. or more accurately, i do not have many friends outside of the blind community. and of course, even within the community, there is this, fear, of saying too much. i recognize that i am one of the luckier ones, in the sense that all i have known is blindness. i never lost something. for me, one of the most difficult aspects of it all is the mystery of my diagnosis. i am an adopted child, and the director of the orphanage created a fake record for me less than a year before the adoption. it is strange, i know many blind children who were adopted from china at an older age. for me, it comes with a different sort of... pressure to withhold my complaints. my mother told me that the director of the orphanage questioned her for a long time, asking why she really wanted a blind child. they knew exactly what they were getting into. i know, i was wanted. a strange thing for which to harbor any other emotions save gratitude and happiness. they knew that",
          "with whilst out-and-about with my child, where just a little bit of vision could have helped.  i’d grumbled a little about them internally, but accepted it as part of my life. and this entry into the furor of the restaurant tipped me into thinking that, even the smallest chance of some vision, medically, mechanically, computationally or however, would be something to jump at.",
          "..i can relate to a lot of what you said. having aniridia, especially when i was younger and my vision was much better than it is now, my visual impairmenr/legal blindness was largely invisible to people, and in a way i never really fit in and was somewhere alone in between the sighted and non sighted worlds. honestly it kinda fucking sucks and certainly didn't help my mental health lol.\n\nhave you gotten the chance to meet other visually impaired and blind people your age? i remember going to summer camps that were just for those groups and it being fun and a good learning experience. i also got to go to space camp when i was little with other kids like me and it was really cool."
         ],
         "marker": {
          "opacity": 0.5,
          "size": 5
         },
         "mode": "markers+text",
         "name": "7_sighted_blind_blindness",
         "text": [
          "",
          "",
          "",
          "",
          "",
          "",
          "",
          "",
          "",
          "",
          "",
          "",
          "",
          "",
          "",
          "",
          "",
          "",
          "",
          "",
          "",
          "",
          "",
          "",
          ""
         ],
         "textfont": {
          "size": 12
         },
         "type": "scattergl",
         "x": [
          8.527387,
          8.29814,
          8.29061,
          7.804556,
          9.7080965,
          8.295032,
          8.120285,
          8.018866,
          8.287149,
          8.406372,
          8.398777,
          7.7843194,
          8.610932,
          8.562507,
          8.497754,
          9.157991,
          8.314465,
          8.266935,
          8.0479145,
          8.250246,
          7.9662976,
          8.210708,
          8.328704,
          8.403907,
          8.338619
         ],
         "y": [
          5.230789,
          5.1904144,
          5.0179553,
          5.3369474,
          5.2475133,
          5.10645,
          5.143114,
          5.312955,
          5.508777,
          5.2729173,
          5.347841,
          5.1137595,
          5.137672,
          5.4947877,
          5.329621,
          5.1756644,
          5.0700216,
          5.356448,
          5.318214,
          5.1464863,
          5.376224,
          5.1505294,
          5.2002916,
          4.952415,
          5.24833
         ]
        },
        {
         "hoverinfo": "text",
         "hovertext": [
          "can relate to this so much. i have mental health issues after trauma and since being out of crisis state from my ptsd, my family think i’m ’ok now’.",
          "good on you for volunteering with the helpline, too - i think there’s a depth of compassion some people develop after these experiences, and if that’s you, then that’s so valuable. it’s good to hear you’ve got support, too - wishing you all the best. :)",
          "and then, my thoughts are naturally drawn to my ex-wife again. despite  months of intensive dating app usage, i haven't been on a single date and i've had longer conversations with maybe  women. it's so indescribably depressing. and so, naturally, i think to myself: \"god, if i still had her, i wouldn't need to talk to all these clowns on these dating apps.\" but i can't even talk to her in a regular fashion because she has completely broken off contact with me. after my wife left me, i asked her if we could at least remain friends but she said: \"no, you'll just use the friendship to ask me for help with something and i don't want to help you with anything anymore.\"",
          "six years late, i’m still trying to put myself together. \n\nif it wasn’t for my partner and our kids, i wouldn’t be here. \n\nhe has made me fall in love with him even more,  a hundred fold more than i ever thought possible for being the most amazing human being and helping me recover. funding thousands of pounds worth of therapy and never once judging me. i thank the stars every day for this man. \n\ni don’t think we will ever be the same again hun. but we can rebuild as better versions of ourselves. \n\nthe only good thing to come from it all was, for me, it humbled me. \n\ni’ve always tried to be a kind person, it’s probably my biggest value i hold but i did used to be judgy of people in my head. i remember thinking about someone i knew who said they had anxiety and thinking ‘what the hell have you got to be anxious about’. \n\ni’m so ashamed to admit that i thought that. i had no idea what hidden battle they were fighting. no idea the depth of damage mental health could cause.",
          "i’m sorry for what you’ve been through - it’s a lot, even for one lifetime. i wish more people could read this and understand. especially when it comes to mental health, i wonder if people think ‘i get depressed sometimes too, where’s my money’ without having any idea of the havoc severe mental illness (especially psychosis/mania) can wreak on your life.",
          "so... unfortunately, i don't have much advice to give. as you can tell, my mental health is still miserable. i've been suffering immensely from this break-up. but at least i can empathize with you %. and just one recommendation: try to find something that gives you joy. i started participating in a theater ensemble. it's not quite easy with my disability but the people in the group are very nice about it. i've always wanted to perform a theater play and now i get to do that this year. they even gave me a lead role, which i'm very proud of. the new hobby hasn't made the pain go away but it has made it at least a little more bearable. i practice at home almost every day and at least during that hour that i practice, i forget about my wife and i focus completely on the material. so... if there's some kind of hobby you can do that would give you joy, maybe you should consider trying that out.\n\nobviously, i'm incredibly sorry this happened to you. you've got no idea how much i feel you.",
          "the best advice he ever gave me came during one of my lowest moments. after listening to me complain and cry for as long as i needed, pete finally looked at me and said, \"embrace the suck.\" at the time, i didn’t fully understand it. he explained what he meant, but i took it as a way to bandage up the pain and move on.\n\nit wasn’t until my mental health worsened—after several suicide attempts, years of hospitalizations, therapy, and constant recovery—that i began to truly grasp the meaning of pete's words. i realized i had been bottling up emotions i wasn’t even aware of. simply dealing with the pain only made it come back tenfold, eventually leading me to the brink of taking my own life.",
          "another edit: please feel free to message me if you have any questions! i'd be happy to offer some kind of advice or point you in some directions for help.\npersonally, i don't you ever stop completely grieving for what could have been. \n\nbut i think what's helped me the most is one simple prayer.\n\n god grant me the serenity to accept the things i cannot change, the strength to change the things i can, and the wisdom to know the difference. \n\ni don't consider myself religious and also learned that this is basically a philosophy called stoicism. \"stoicism teaches us to focus on the things we can control—our thoughts, emotions, and actions—while accepting the things we cannot, such as the actions of others or the natural course of events going on in the world around us.\"",
          "my daughter has recently been diagnosed with severe ocd and i think maybe what happened to me happened to prepare me to help and understand my daughter’s battle and to help me grow as a person.",
          "with that said, please don’t think you’re not worthy of love. i’m now in a loving relationship with someone i was friends with for years and who has more experience with disabilities given that he is neurodiverse himself. everyone is different and just because your ex-wife couldn’t handle it doesn’t mean no one else can. lots of good wishes to you. 💜\nyour story is a reminder to me that i should be mindful of how my life and my behavior affects my partner.  i'm disabled and also deal with mental health issues, but he's been immensely supportive.  we've been together for  years, so it's easy to take them for granted and assume that they'll always be here for us.   this is a reminder that this is not the case - they can become overwhelmed and can leave us.",
          "omg are you me?? seriously, i've gone through exactly the same ordeal one year ago. the only difference in my case was that my wife also moved out right away (literally the next morning after telling me she'd leave me) and moved in with another guy  weeks later. turns out they had already been seeing each other for a while. but i don't think he was the main reason she left me. her main reason was my disability, which has gotten significantly worse during the past - years. just like in your case, my wife didn't talk to me about her struggles and when she finally dumped me, she refused to give our marriage another chance. i begged her to go to therapy with me. i made a million different suggestions. i told her she could move out but we could stay married, so she'd feel more free. it was very painful to make these suggestions but i made them anyway. but she just said no to everything.",
          "now i struggle dealing with the aftermath after  years of being emotionally, mentally and physically abused. my wife has childhood trauma of her own, but no physical impairments. we make it work, but just barely. i am on % disability and do bi-weekly psychological therapy. i am in to see my specialists once a month for my physical issues.\n\nwe have gone through couples therapy multiple times and barely managed to avoid divorce twice in just over  years of being together and married for . if it wasn't for being lucky and getting approved for full disability we wouldn't have made it past our fifth year of marriage no matter how much we love and care for each other. it's just too much.",
          "i’m really impressed by the thoughtful series of answers you received to your question, op.",
          "anyone who can say something like that can fuck right off.     \n\nsorry.   hits me right in the feels.\n\n\none of the most influential people in my life was eric gallegos, though i called him pete. i met him when we both worked at a movie theater called krikorian theaters in redlands, california. pete was ten years older than me, and he played a significant role in bringing out the musical artist and writer within me.\n\nat the time, i was a clean-cut, plain kid with no radical style. pete, on the other hand, was the original goth-emo type—dark and poetic, yet incredibly down-to-earth, intelligent, fit, and usually happy-go-lucky. despite the age difference, we became close friends, and even ten years later, we remained in touch.",
          "then, during the covid- pandemic, my world fell apart again. the social security administration terminated my benefits, leaving me homeless. i ended up living in my car on the streets of seattle, a city that had become lawless during the pandemic. every day was a struggle just to stay alive, and i was constantly on edge, fearing for my safety.\n\nduring this time, pete’s first daughter, whom i had met when she was eight years old and had reconnected with over facebook, reached out to me. i’ll never forget the message she sent. i was dealing with the daily challenges of living in my car, battling despair and uncertainty, when she told me, \"daddy died.\" pete, my friend since i was , the person who had been a guiding light in my life, had passed away from a heart attack at the age of . i hadn’t seen him since i was , and now he was gone.",
          "i, too, was very scared of the practicalities. but looking back from  year in the future, i can promise you that the practicalities will be figured out. i was very stressed about them in the beginning but i'm now doing pretty well in this department. i'm living a very independent life and i'm proud of that.\n\nwhat hasn't gone away is the pain and lovesickness. still today, i think of my ex-wife every single day and i dream of her most nights. i miss her so, so, so much. when i masturbate, i think of having sex with her rather than other women. i know it's not a healthy behavior but i can't help it. it's humiliating, knowing that she's living and having sex with some other guy now but i can't help it. i'd do absolutely anything to get her back. just like your wife has done, my wife told me some extremely painful things right after she left me. still, i'd take her back in a heartbeat.",
          "i, too, wanted to have kids really badly. and although i'm a bit younger than you (), i'm not sure i'll ever get that chance. i don't even know i'll ever find a new partner. i definitely won't ever find a woman like her... she was the love of my life and perfect in absolutely every way.\n\ni, too, have indescribable regret and i, too, feel a lot of anger. towards myself, towards her, towards others. i've been seeing a therapist for several years and after my wife left me, my therapist said: \"i saw this coming a long time ago, i should've told you to do something about it before it's too late\". yet, she didn't. no one told me anything. and i wasn't able to feel it because i was too busy with my disability wrecking my body and soul.",
          "i hope some if this helps. i know exactly what it feels like to be loosing hope and even how scary it feels to accept that there might be hope. you can % live a happy life despite all that seems in your way.\n\nedit: i want to add that i don't mean by this we should be able to do everything or that we all have equal access to all resources or that this stuff is really easy. i mean that, if the end goal is happiness, accepting that we cant do some things can be the preparation we sometimes need to make in order to get there. it's ok to grieve those lost options, but don't let grief cover up other paths you can take. i have grieved who i could have been with better support, but dwelling on that doesn't really help. we live in the now, and who we are now definitely deserves our love and attention ❤️",
          "although several years on i have a stable living situation i still can't do the job i loved and as i couldn't get home i ended up living in a different area away from much of my support network at the time. since then i've started to build my life back up. i have friends who really care about me and still see some of my family. that's what matters the most to me.",
          "i went home. i dialed up to the online bulletin board systems and multi-user dungeons i’d played for years and marauded my high-level characters through dangerous areas, the thrill of being good at something i’d worked hard for counterbalancing the emotions dredged up by being abandoned. after i’d cooled down, i realized that, for every trip they took out on their bikes, there’d still be more to the cinema, or shops, or bowling alley, just like all the other times. cross-country biking was an extra to the things they did, not a replacement for the things we did.",
          "i acquired my physical and mental health conditions in my teens and 20s and it was hard knowing my life would be more limited than most. i'm  now can i can't say i don't grieve for who i might have been from time to time.\n\ni think it is very much a grieving process. i found looking at advice on losing a loved one helped. obvs it's not the same but there's still the same sort of emotions to work through.\n\ni battled a lot in my head in my 20s i had nearly made it. i had gotten a job i loved and although financial things were not great i felt i was finally on the way up. a year later i'd been in hospital so long i'd lost my home and didn't even have enough to buy a drink in my bank account let alone public transport to my home town. life had really reached rock bottom. but that experience taught me something. relationships, friendships and the interactions we have with others and the world around us are so valuable.",
          "i don't honestly miss being busy, as my mental health recovers and i'm not dealing with a long term traumatic situation anymore i don't mind having the few hours when i'm not sick or sleeping open to just be and to do the things i want.\n\nwhat i *do* miss is the *ability* to do things. i miss not only taking a full college courseload and learning but also being able to read more than one book in a week. i miss not just being able to run a 5k in  minutes but also being able to walk around the mall for however long i wanted without having serious repercussions the next few days. hell, i miss when playing sims or going to the library or practicing flute wasn't an uphill battle just to *start*.",
          "oh bless you hun. it’s so hard when our self esteem has been chipped away so much that there is so little left to support ourselves. thank god for your wonderful husband, just having one person in your corner can sometimes be a huge difference."
         ],
         "marker": {
          "opacity": 0.5,
          "size": 5
         },
         "mode": "markers+text",
         "name": "8_wife_pete_years",
         "text": [
          "",
          "",
          "",
          "",
          "",
          "",
          "",
          "",
          "",
          "",
          "",
          "",
          "",
          "",
          "",
          "",
          "",
          "",
          "",
          "",
          "",
          "",
          ""
         ],
         "textfont": {
          "size": 12
         },
         "type": "scattergl",
         "x": [
          11.111716,
          11.2662115,
          10.437565,
          11.070963,
          11.059259,
          10.446112,
          11.0848055,
          10.678945,
          11.014786,
          10.385478,
          10.267876,
          10.543032,
          11.271155,
          11.064396,
          11.010252,
          10.39436,
          10.396935,
          10.695446,
          10.824391,
          10.8408785,
          10.753776,
          10.81033,
          10.609039
         ],
         "y": [
          5.79707,
          5.567019,
          5.848777,
          5.4654956,
          5.4851933,
          5.844686,
          5.364554,
          5.326532,
          5.747668,
          6.4883747,
          5.7515745,
          5.8604684,
          5.5622272,
          5.265144,
          5.3580513,
          5.8165145,
          5.7829795,
          5.208486,
          5.1282163,
          5.172996,
          5.078232,
          5.1403284,
          5.806316
         ]
        },
        {
         "hoverinfo": "text",
         "hovertext": [
          "ugh, i so feel you. i remember that post and it didn’t sit well with me either. i’m so sorry people are telling you essentially that you shouldn’t have been born, even if they don’t mean you directly. i can relate in a way. even though i quite often struggle with my mental health and finding meaning in life, being told directly or indirectly that people like me shouldn’t live, triggers me intensely.",
          "not trying to get emotional \n\njust your post resonated with my life \n\nbought up bad memories i guess \n\nlike people think because i workout \n\nwhich is at home by the way \n\ni can't handle public commercial gyms by the way \n\nbut people assume because i'm trying to use a coping mechanism \n\nto cope with my disability \n\nthat means i'm faking it \n\nor using reddit as a journal like now \n\nwhich i'm anxious as well typing this \n\njust people don't understand disabilities effect people differently \n\njust ableism in society \n\nmight not be to abled body person that has no problems leaving their house \n\nor a person that doesn't feel like a lion is being chased after him for just talking or talking on a phone \n\nlike i live alone but my with my disability i couldn't live with people that would make my condition worse \n\ni had anxiety just living with family members \n\njust because i live alone people think my mental health is not severe \n\nthat really makes me upset",
          "not trying to get emotional \n\njust your post resonated with my life \n\nbought up bad memories i guess \n\nlike people think because i workout \n\nwhich is at home by the way \n\ni can't handle public commercial gyms by the way \n\nbut people assume because i'm trying to use a coping mechanism \n\nto cope with my disability \n\nthat means i'm faking it \n\nor using reddit as a journal like now \n\nwhich i'm anxious as well typing this \n\njust people don't understand disabilities effect people differently \n\njust ableism in society \n\nmight not be to abled body person that has no problems leaving their house \n\nor a person that doesn't feel like a lion is being chased after him for just talking or talking on a phone \n\nlike i live alone but my with my disability i couldn't live with people that would make my condition worse \n\ni had anxiety just living with family members \n\njust because i live alone people think my mental health is not severe \n\nthat really makes me upset",
          "before my disability got really bad, i used to be a teacher and i was forgetting things constantly, and when i asked for more time to get grading done (because i would literally forget it was there) they told me that no one else has a hard time so i just needed to buckle down and do it. this came from the same vice principal who asked me what having accommodations would do for me in the job 🙄 not to mention my chronic fatigue and insomnia would lead to me having micro naps sometimes, or the one time where i passed out in front of the students.\n\nwhile i’m glad i don’t have to worry about that any more, some people act like i’m happy that my college degree is going to waste",
          "or tell a job to get me accomodations that actually benefits me and not the business \n\nit's so easy to go to jail than actually trying survive in society\n\nbut i understand my family and friends kicking me out \n\nwasn't anything personal it's capitalism \n\nif i can't bring in a profit or benefit individually to a household or someone life.\n\ni'm a burden and i understand that. can't force nobody to help you \n\nand i understand people mental health just taking someone else in \n\nor caring for a disabled person \n\neven though i didn't ask to have a disability \n\nbut if it's making you comfortable evict them don't feel guilty \n\ni understand taking care of people with a disability or just anyone is difficult as well \n\natleast for me i didn't get evicted like that \n\natleast in the black community we don't do all that legal stuff \n\nthey just put a gun out on you or make physical threats to you \n\nfrom my experience \n\ni left the same day \n\nremember my uncle making a threat",
          "like i understand people houses and if i can't keep a job \n\nwhich i couldn't i tried but always quitted \n\nso i got kicked out a lot by family and friends of the family \n\nwhich i understand and stuff \n\nreally don't agree with the \"learned helplessness\" thing \n\ni understand it has some valid points \n\nbut i just personally feel like it's a individualistic approach or judgement \n\nto someone that is trying to get their situation atleast for my situation \n\ni was trying to work jobs getting headaches and panic attacks just being on the phone \n\nand i worked a lot of public open jobs \n\nwhich i wished people seem my disabilities so they wouldn't call me lazy or such\n\nor say things like \"learned helplessness\" and stuff \n\nbecause i actually was trying to help myself \n\njust i can't control the disability process \n\ni can't put a gun to nobody head and say approve me for disability in less than a year \n\nor tell a job to get me accomodations that actually benefits me and not the business",
          "and that affects my studies and job seeking, which are the factors that could let me emancipate. it's an ouroboros situation.\n\n​\n\ni think the ssi benefits should fill the economical needs we disabled people need without having to relay on relatives: rent, energy, food, medical bills, special education, and maybe some basic leisure like sports, outings, books, etc.\n\ni mean... it's not a whim, right? we didn't choose to be disabled. i think we have the right to get help to live peacefully. we already have it very difficult because of our disabilities, isn't it?\n\nof course, if we improve and become able to study and work, we will immediately want to try and do our best! because nobody feels good being neet and getting excluded from everything in life...\n\n​\n\ni'm sorry about what i'm going to say, but sometimes...\n\n...it feels like it's not worth to live like this, always being escrutinized by rude people, like poor op has felt today, even with all the titanic efforts they do everyday.",
          ". do you know why i \"generalized\"? because i cannot write a whole thesis on a reddit page. i expect educated people to understand why i generalized by being able to extrapolate prior point of views and use creative thinking and abstract reasoning abilities to obtain new thoughts and ideas. if you had to accuse me of generalized statements, that only goes to prove that you cannot broaden your own horizon by your own efforts, thus defending your own status quo by making accusations towards people like me who can create those kinds of broad ways of thinking. \n. in fact, here is an example of being able to extrapolate. is the fact that you socialize with people that can think on a broader horizon because you're unable to do it on your own and need to depend on others to do it for you?",
          "lmao fuck that ableist, saneist nonsense.\n\npeople can be unable to work bc of mental health diagnoses, hi hello, as well as physical reasons. i have both. even if my physical issues were magically cured i still would not be able to work bc i have meltdowns and crashes daily.\n\nso no, how about we not gatekeep the miserable benefits available more than we already are?\nso you don't think any mental health issues can be debilitating? you don't think people need their minds to work?\n\nmental illnesses are \"physical disabilities\". your brain and body are a single organism.\n\nalso, if we removed the cap on ss contributions then the program would have zero funding issues.",
          "that doesn't even cover a full month of rent \n\nis a luxury.\n\nwhich the lowest paying minimum wage job pays more than disability pays people.\n\nlike this effected me for a long time \n\nmy whole life \n\njust because it gets me emotional knowing because you don't see me walking in a cane or wheelchair \n\nor a down syndrome or something more visible \n\nlike i don't have those conditions i'm still disabled as them \n\nautism you can't see, learning disabilities you can't see\n\neven some physical illnesses are invisible \n\nsuch as sickle cell and lupus \n\neverything is not visible like blindness \n\nbut my mental illness effects my life as much as any other disability effects people lives in society \n\njust because i have muscle or tall black and '\"\n\nkeep myself groomed \n\ni guess i have to look unhoused to for people to understand how my disability effects me seriously \n\nit's so flawed \n\ninvisible disabilities doesn't work like that unfortunately",
          "that doesn't even cover a full month of rent \n\nis a luxury.\n\nwhich the lowest paying minimum wage job pays more than disability pays people.\n\nlike this effected me for a long time \n\nmy whole life \n\njust because it gets me emotional knowing because you don't see me walking in a cane or wheelchair \n\nor a down syndrome or something more visible \n\nlike i don't have those conditions i'm still disabled as them \n\nautism you can't see, learning disabilities you can't see\n\neven some physical illnesses are invisible \n\nsuch as sickle cell and lupus \n\neverything is not visible like blindness \n\nbut my mental illness effects my life as much as any other disability effects people lives in society \n\njust because i have muscle or tall black and '\"\n\nkeep myself groomed \n\ni guess i have to look unhoused to for people to understand how my disability effects me seriously \n\nit's so flawed \n\ninvisible disabilities doesn't work like that unfortunately",
          "i guess i got triggered by you quoting ableist people that said that to you \n\n\nbut hate people feel like mental illness is not taking seriously \n\nwhich i'm not physically disabled which i definitely respect and understand \n\nbut speaking from a ableist person perspective \n\nlike they think people with mental illness or other invisible disabilities \n\nshould not be considered for disability \n\nand they always say we lazy or faking because we lazy \n\nwhich i would love to keep a stable job \n\nbut capitalism doesn't value that capitalism values efficiency and profit \n\nand doesn't value disabled people fitting in \n\nnot trying to rant on capitalism because i know everyone opinions is different \n\ni would love to work it's just hard with my conditions\n\nbecause due to ableism they really think people getting disability checks \n\nthat doesn't even cover a full month of rent \n\nis a luxury.\n\nwhich the lowest paying minimum wage job pays more than disability pays people.",
          "\"in psychology, learned helplessness is a state that occurs after a person has experienced a stressful situation repeatedly. they believe that they are unable to control or change the situation, so they do not try, even when opportunities for change are available.\"",
          "if only that knew they wouldn't be saying that \n\nand by the way disability payments can't even cover rent payments \n\na  bedroom apartment in my area is over $ for the worst area \n\nso probably pushing $+ for a good area\n\njust make me upset and triggered \n\nbecause i have no reason to make up how my disability effects my life daily \n\npeople are so ignorant with mental illness \n\nthey assume because i'm laughing at a movie \n\nor taking a selfie \n\ni'm faking a mental illness \n\nwhich makes me upset \n\nlike my therapist tells me to watch television using coping mechanisms to distract \n\nlike they don't know people with disabilities don't always have bad days \n\nhave a bunch of bad days \n\nwhich i do but \n\ni like doing the coping mechanisms my therapist taught me \n\njust make me cry a little \n\nbecause disabilities people can't understand what they can't see\n\nnot trying to get emotional \n\njust your post resonated with my life \n\nbought up bad memories i guess \n\nlike people think because i workout",
          "i have a pretty bad relationship with my mother, but she sometimes says useful things like this exact thing you said.\n\ni always feel guilty about being disabled and getting ssi benefits thanks to people who pay taxes in my country.\n\nit's like i want to prove that the economical effort people do for my sake is not going to waste.\n\nthis leads to getting burnt out because of trying arduously to get a job or study and just not being able to.\n\n​\n\nthat day, i told her my feelings and she said:\n\n\"your job is surviving. that ssi benefits you're getting are your monthly pay for your survival task.\"\n\n(it's a mental health issue, but i think physical disabled folks feel like this too)\n\n​\n\nmy mother and i are in a pretty abusive love-hate relationship and i want to emancipate so we can't hurt each other anymore, but the ssi benefits are not enough for that and the more time i spend in this house, the worse my condition gets.",
          "if only that knew they wouldn't be saying that \n\nand by the way disability payments can't even cover rent payments \n\na  bedroom apartment in my area is over $ for the worst area \n\nso probably pushing $+ for a good area\n\njust make me upset and triggered \n\nbecause i have no reason to make up how my disability effects my life daily \n\npeople are so ignorant with mental illness \n\nthey assume because i'm laughing at a movie \n\nor taking a selfie \n\ni'm faking a mental illness \n\nwhich makes me upset \n\nlike my therapist tells me to watch television using coping mechanisms to distract \n\nlike they don't know people with disabilities don't always have bad days \n\nhave a bunch of bad days \n\nwhich i do but \n\ni like doing the coping mechanisms my therapist taught me \n\njust make me cry a little \n\nbecause disabilities people can't understand what they can't see\n\nnot trying to get emotional \n\njust your post resonated with my life \n\nbought up bad memories i guess \n\nlike people think because i workout",
          "i guess i got triggered by you quoting ableist people that said that to you \n\n\nbut hate people feel like mental illness is not taking seriously \n\nwhich i'm not physically disabled which i definitely respect and understand \n\nbut speaking from a ableist person perspective \n\nlike they think people with mental illness or other invisible disabilities \n\nshould not be considered for disability \n\nand they always say we lazy or faking because we lazy \n\nwhich i would love to keep a stable job \n\nbut capitalism doesn't value that capitalism values efficiency and profit \n\nand doesn't value disabled people fitting in \n\nnot trying to rant on capitalism because i know everyone opinions is different \n\ni would love to work it's just hard with my conditions\n\nbecause due to ableism they really think people getting disability checks \n\nthat doesn't even cover a full month of rent \n\nis a luxury.\n\nwhich the lowest paying minimum wage job pays more than disability pays people.",
          "long story short, that is not what anyone sees or cares about. we have had pure hatred and vitriol thrown in our faces because we “sit around all day and do nothing.” all people see is a pair of people who look very much like we could be working, home all day every day. what people don’t realize is that we each wish we could be working desperately. we lost our house, both car, most of our belongings, etc, when i was declared disabled. even worse, i fell into a deep depression upon the loss of my career, one that led to my husband actually leaving me.",
          "it is also funny that hardly anyone commenting the hateful small minded things says that they were once a welfare recipient themselves.. it comes from those who do not have any direct knowledge or experience with it.",
          "i am disabled for mental health reasons and reading this kind of stuff and hearing people say it, tends to make my panic/anxiety and depression issues worse! i have enough trouble going out of the house to get food as it is, i would like to not have to feel like i am being judged by the people in line or the cashiers when i slide the ebt card. it complicates my well being in other ways too…i constantly feel like i am some kind of worthless piece of crap and i just wish that feeling would stop. i wish i could stop caring what ignorant masses on the internet think but when you see so many people saying so many hurtful things, you start to become affected. i used to put people (politely) in their place but no more of that. not anymore.. too draining. i even hate commenting on this post though i am glad to see someone else feels the same about this topic.",
          "it makes me very sad too, and i am glad to see i am not the only one that feels this way. exactly on point you are! i do not know what the solution is but  was growing up, i remember things not being as hostile. people cared more. this whole idea of the “welfare queen” with an escalade and designer handbags is what gets stuck in peoples heads."
         ],
         "marker": {
          "opacity": 0.5,
          "size": 5
         },
         "mode": "markers+text",
         "name": "9_people_like_just",
         "text": [
          "",
          "",
          "",
          "",
          "",
          "",
          "",
          "",
          "",
          "",
          "",
          "",
          "",
          "",
          "",
          "",
          "",
          "",
          "",
          "",
          ""
         ],
         "textfont": {
          "size": 12
         },
         "type": "scattergl",
         "x": [
          11.771357,
          11.853137,
          11.837745,
          11.95948,
          11.946033,
          11.869111,
          12.157868,
          11.88805,
          12.22067,
          12.103727,
          12.116562,
          12.155043,
          11.753499,
          11.914972,
          10.869174,
          11.864812,
          12.096789,
          12.229951,
          12.191374,
          11.975835,
          12.234803
         ],
         "y": [
          7.610526,
          7.535307,
          7.576401,
          7.336733,
          7.3164463,
          7.414223,
          7.2412977,
          7.6442275,
          7.811439,
          7.6871734,
          7.6636605,
          7.798064,
          7.396827,
          7.536857,
          6.6312556,
          7.5099316,
          7.8344727,
          7.625613,
          7.5815883,
          7.695262,
          7.650641
         ]
        },
        {
         "hoverinfo": "text",
         "hovertext": [
          "* are you able to get a cart service at your college if you are still in college? the cart service made a huge difference on my end. i always had asl interpreters in my college classes, but it did not help me because i had to focus on the interpreters. i didn't have time to translate from asl to english. so, i couldn't write down any notes at all. the cart service exceeded my note taking needs. \n* please let your professor know the benefits of wearing a microphone / transmitter. hopefully, he will change his mind. \n* as for the internship, were you able to get your retraining at this time with your accommodation needs being fulfilled? how long are you staying at this internship? are you getting paid at this internship? \n   * if yes, you are entitled to reasonable accommodations at internships and jobs in order to thrive in this workplace. there is no way for employers to decline your reasonable accommodations. please don't be afraid to stand up for yourself.",
          "i did a bout of inpatient in high school, and i still wore hearing aids at that age. i can confirm that they will let you keep them. it's medically necessary both for your physical and mental health. taking it from you would only add more anguish to the situation, which would not even be conducive to helping you in a critical moment like this.",
          "so, definitely recommend therapy for anyone who struggles (hearing related or not). a mental health pro can be the level-headed person that helps you get through your emotions to get through whatever's blocking you from living your life.",
          "have you spoken to a mental health professional about your troubles hearing? i'm a hearing person working with a research group who look at what it's like being dhh in a hearing world from a psychological perspective, and i have learned a lot about how hearing loss effects mental well-being, though i am by absolutely no means an expert.\n\nfor example, you may experience more social anxiety symptoms, like say, after situations where people laugh after you say something that you thought was the appropriate response because you misheard the question, or more mental fatigue from having to cognitively 'work' harder to make up for the information that is missing about your environment.\n\nit's something that i think you should think about, and don't leave it too long before you get your hearing assessed - at least then you can take charge of it and figure out what's going to be the best for you going forward.",
          "i’m not going to pretend being deaf isn’t a disability though. it does disable you from interacting with the world without at least some accommodation. that does make life hard. i’m not downplaying that. i’m just saying that it doesn’t have to be the end of your life being happy or good. life can still be beautiful and happy without your hearing. it’s of course a big adjustment and doesn’t feel fair and it’s normal for it to be a lot to process but it’s possible to make the adjustment and live a good life. it’s normal to have anxiety or even panic at the loss of a sense and it’s possible to work through the emotions and find comfort in your other senses.\ni'm .  i've been hoh since i was  years old and wearing hearing aids.  i'm profoundly deaf now as speech comprehension is greatly diminished and retired.  \n\nfirst of all, don't beat yourself up.  it's not your fault.  you aren't a liability.",
          "* please make a list of your reasonable accommodations in a professional manner and email the hr department (copy this email to your personal email address too). work email addresses can be deleted permanently. so, you could have enough paper trails for future lawsuits, in case they turn down your reasonable accommodations. \n* getting cis is up to you. it's all about you. it's your decision. it will be part of your life permanently. you just need to ensure that you will not have any regrets in the end. i'm deaf and ineligible for getting cis. i have a couple of friends who have cis. they say both good and bad things about having the cis. \n   * cons \n      * cis giving static background (they can be corrected by your audiologist specialized in cis) \n      * hearing fatigue (you can just release your transmitter from your head whenever you take a break)",
          "i really relate to a lot of what you said. i'm  years old, just about to finish college, and i can't help but wonder how different my college life would've been if i could hear normally, both socially and academically. i've also had my fair share of times when i've felt like crying in public, because i can't hear anything that's going on around me. i think i know what you mean when you say you feel like you're in denial almost. for the longest time, and a little bit still today, i've pretended that my deafness wasn't a big deal and that i could hear fine enough, because i couldn't stand the thought that i was deaf and that i needed help. this internal struggle hurt my mental health, and i'm finding out that i have to accept the fact that deafness is a part of who i am, and that it's okay to not be okay sometimes. it's okay to ask for help when you need it, and you should ask for help so that you can be on the same playing field as everyone else.",
          "**op, keep your head up and make peace with this new normal. lean on this community and know that you're not alone.** i'm sorry about your parents, just chuck it up to ignorance. they can't comprehend your experience without having lived it. just focus on looking forward. it takes time for your brain to adjust to all the sound coming from your hearing aid, but if you feel that some things are too loud that's definitely worth talking to your audiologist about, they can adjust everything to a reasonable level. once you start feeling comfortable with your hearing aids, concerts shouldn't be an issue although i'd think about getting some hearing protection of some kind (i read eargasm is a good brand for that).",
          "* hearing fatigue (you can just release your transmitter from your head whenever you take a break) \n      * cis failed, they were not functioning at all (you can just see your audiologist to fix this issue. if your audiologist recommends removing cis, you would spend money again for the surgery) \n      * insurance might not cover the ci costs (keep looking for different insurances until you find one) \n   * pros\n      * able to hear sounds that you never heard when you wore hearing aids\n      * able to listen to music if you are a big fan of music (connect via bluetooth)\n      * able to swim with cis (hearing aids don't work in water if it stays submerged too long)\n      * able to hear your voice better when you speak. adjust your voice.",
          "you’ll just stress yourself out if you keep dwelling on how it makes you feel. find an outlet that allows you to feel included and involved, not as easy to do as it is to type that, but that’s a method that’s helped me a lot.\n\ni’ve been deaf for  years now, and i’m still finding stuff out on how to deal with situations or people and how it affects my mental health. if it’s causing you that much emotional turmoil, then i would recommend going to a therapist/counselor to vent to so you aren’t carrying that burden around all the time.",
          "honestly it's not a bad thing to go talk to a psychiatrist or counselor.  mental health is important and it looks so different for different people.  it's not like they're going to immediately say you need medication or you're weird, or you're going to get thrown into / mental unit or whatever.  it's just to help you sort things out in a safe, educated way.\nit's hard to admit to oneself that you have a disability. at most, you want to look at it as an inconvenience or annoyance that you can just cope with. because, for it to be a real thing, feels like an admission of weakness.\n\nand also, a lot of people just don't know what to do about their deafness. they just think they're broken. and it's easy to get stuck in that rut.\n\nsometimes you need someone else to help you see past the immediate problems and find whatever the right path forward is. deafness can be a big barrier, and a lot of people need help knowing what to do next.",
          "first of all, don't beat yourself up.  it's not your fault.  you aren't a liability.  \n\ni can relate to your anxiety of losing your hearing.  it's frightening and you feel very alone.  \nbelieve me, things will get better.  a lot better.  it helps to have local support and i would  \nencourage you to attempt to make friends with others who are hoh / deaf.  \n\nif you have an iphone, i use group transcribe that turns speech to text.  it's quite useful  \nin noisy environments where hearing aids are pretty much useless.  it's very good at  \npicking up conversations.\n\nalso keep your mental health in check.  depression will over-take you if you wallow in  \nyour despair.  i had to start taking anti-depressants once i went profoundly deaf and  \nhad to quit my career that i loved.  it's important to keep those dark thoughts away.  \ndon't give up.",
          "now that being said.  i had my ci surgery on my 30s. i love it but there are still some downsides.  group conversations and nose encircled are easier but it's not perfect.  in many ways, you'll still rely on old habits because they are so ingrained.   getting my ci did make me more comfortable and accepting of being deaf. it helped me advocate for myself, and it made coworkers really understand just how deaf i am.  i became more confident in demanding others do their share of the communication burden.   that may or may not be what happens for you.  i still use oral speech as my primary communication tool.  a ci is a tool to help you reach your goals. nobody can tell you what your communicating goals are and who you have to be.",
          "when you turn off your cis, you are still deaf, right? i treat cis as one of the most effective communication tools for people with hearing loss. \n\ni wish all the best to you!",
          "my hearing aids are bluetooth and i can stream all phone calls and music directly into  \nmy hearing aid.  this alone has been a life saver for me.  also, if you want to feel the   \nmusic -- look into skullcandy's crusher evo headset.  it has haptics so there's no   \ndamage to your ears, but the bass will rattle your skull and you'll love it.  \n\nyeah, it sucks, but you'll be fine.  lots of people out there with some type of disability,  \nso you're not alone.  the advancements in finding a cure for deafness is improving, so  \nkeep your fingers crossed.\n\nstay strong.\nare you able to wear the headphones over your hearing aids??? the haptics alone sound interesting so i definitely would love to give them a try.\n\ni agree with keeping your mental health in check.. for years i could get by normally with my limited hearing until the day came where i couldn't. when you realize you can't go about your life the same as you once did, it's a hard adjustment.",
          "hey op the other comment left here is super negative and i’m sorry that person feels that way but it is not the outlook that you also have to have if you don’t want to. totally normal and okay to have a lot of big and negative emotions about your hearing but it doesn’t have to be so black and white like the other comment made it seem. i’m not going to say suddenly losing your hearing at a young age is easy. i suddenly lost a good chunk in one ear when i was  and it has progressed slowly until that ear has lost all hearing, im now . there are things that i face due to my deafness sometimes that will make me sad but over time those have become less as i’ve learned about how to accomodate and the things i can’t do anything about i’m getting better at just accepting. because not everyone can do everything, we all have limitations that we have to accept. and having a good support system is helpful because a good support system is the type to learn sign language with you or find other ways",
          "member. it’s also super common for deaf kids to have been told they were faking and not received any accommodation as a result. people who have healthy support systems are lucky even if they don’t realize it. eta: obviously based on what you shared you are experiencing both. your parents aren’t being the best support system currently and are adding to your feelings. have you tried talking to them directly about it though? maybe things are being misinterpreted or maybe they need to be talked to to even understand the struggles that come with losing your hearing. and you also have your good support system that’s there for you but you struggle to depend on. also normal. the more you can accommodate yourself the better it often is for your mental health and it’s also good to remind yourself that everyone needs help with things sometimes.",
          "i have been hoh my whole life (28f) and got hearing aids two years ago. it did change my life. for a long time, i just didn’t think i “needed” them. but it was very isolating and anxiety-inducing being left out of conversations at home and in public, not to mention how exhausting it was to try and keep up with conversations i couldn’t hear. there’s also a lot of research on has and brain health (minimizes risk of dementia), so that alone is a big factor for me too since my hearing is progressively getting worse.",
          "what about trying to look into hearing aids/cochlea implants? someone else who is way more knowledgeable on this has already mentioned stuff here so that’s all i’ll  say on that.\n\nas hard as it is, we’ve got to get off our arses and advocate for ourselves because no one else wi do it for us.\n\nso look into hearing aids and see if you can get some grants or something and then maybe you could look into mobility/ o and m training to get outside more.",
          "as for the internalized ableism, your family, and the stubbornness: i’m sorry your family hasn’t been supportive of your other disabilities. i had to learn how to be my own advocate over the years. i feel that i am still learning too. after i got has, i followed a bunch of deaf advocates online. you can have has and still continue learning asl.they have really nice ones that are very discreet. i work with children and families as a mental health therapist, and almost all of my families have never noticed my has.",
          "i also have ptsd so certain sounds (especially if they're sudden or i'm uncertain of where they're coming from) really weigh on my anxiety. when i get back to my mental health clinic i'll mention it to the doctor and see what advice they have going further. i have no doubt that the hearing loss plays a part in my mental health in some ways. i hope i didn't come off as if i don't think it's important. \nthank you so much! this is kind of where i'm at. i recognize that my fears aren't necessarily \"real\" and i'm slowly but surely building my way up to dealing with the problem in my own way. a huge factor in my ocd is anxiety so it sounds like you get where i'm coming from, i really appreciate that. i think in posting here i was hoping someone had a similar experience? i wonder if any of my mental health issues would be alleviated any if i addressed my hearing issues now. obviously not all of them but could help with the anxiety stuff!"
         ],
         "marker": {
          "opacity": 0.5,
          "size": 5
         },
         "mode": "markers+text",
         "name": "10_hearing_cis_hearing aids",
         "text": [
          "",
          "",
          "",
          "",
          "",
          "",
          "",
          "",
          "",
          "",
          "",
          "",
          "",
          "",
          "",
          "",
          "",
          "",
          "",
          "",
          ""
         ],
         "textfont": {
          "size": 12
         },
         "type": "scattergl",
         "x": [
          8.079066,
          7.5615344,
          8.316925,
          7.7040944,
          7.650346,
          7.9093533,
          7.756907,
          7.628741,
          7.7921243,
          7.7741766,
          7.8751054,
          7.71569,
          7.8819857,
          7.839609,
          7.5989833,
          7.785076,
          7.804444,
          7.634971,
          7.7136188,
          7.8819885,
          7.6673846
         ],
         "y": [
          9.370237,
          9.557562,
          9.670372,
          9.634433,
          9.630524,
          9.427271,
          9.759795,
          9.55825,
          9.414118,
          9.720937,
          9.724758,
          9.6576605,
          9.416312,
          9.434577,
          9.56745,
          9.704645,
          9.669665,
          9.523304,
          9.635852,
          9.707804,
          9.574016
         ]
        },
        {
         "hoverinfo": "text",
         "hovertext": [
          "god that is so fucking awful! yeah, they really don't know shit about mental health. i was diagnosed with cptsd when i was put on an involuntary hold, and they didn't try to help me at all?  like i got  sessions of therapy, and they were like, \"that's probably enough to combat the years of abuse!\" i want to be hospitalized, but it is so hit or miss, and the chances of me actually getting help are soooooo low.",
          "good to know. my son is on ssdi and we are asked to list all providers he’s seen. \ni just thought it best to move on to another provider rather than have something negative he might write in the medical record. \nmental health services in this country are very lacking and advocating for yourself can be very difficult. i wish him well.\nit was just my take. you asked people if you should have reported him? i didn’t think you should. you will most  likely receive a letter dismissing you as a patient. \ni realize you no plan to see him again but it’s in your medical record now. wish you the best. i understand how difficult it is to get good mental health care.",
          "husband here.\n\nthe man was an absolute ass. he kept making the point that he had a list of questions to answer with limited time so he derided ren constantly about explanations that he determined were irrelevant to the question being asked. he made jokes from his own perspective and when called out on for using the term shrink for mental health professionals (which we found to be grossly unprofessional compared to his strict timetable), he doubled down saying that he is one and its a term that gets used between them. \"i have thick skin so it doesn't bother me. i don't see why you're offended by that word.\"\n\ni was floored by his inability to speak alongside us in the conversation. it's one thing to stick to a protocol for government work, but this was demanding my spouse be quieted and carved into the correct shape to fit the box while he prattled on about what he found amusing between questions.",
          "verbally abusive to the staff. they yell, scream, and curse at them. they will shout out their demands over and over instead of hitting their call light and waiting their turn. the staff here are not trained to deal withse types of patients. then there are the physically abusive ones who hit the staff and throw things. and the staff are basically told to put up with it. it's disgusting. and they are way understaffed. + patients for  cna sometimes. i've thought about contacting someone, but it needs to be through email as i don't want anyone to hear what i have to say.",
          "that said, theodore roosevelt once said \"speak softly, and carry a big stick.\" i have the capacity to be ruthless if i have to be. (insurance comes to mind.) i may never use it, but i like having information and i like planning ahead for possible unpleasant scenarios so i can make them, at the very least, equally unpleasant for the other parties involved. one of the best ways i've found to do this is to make yourself increasingly unpleasant to deal with, by steps so the ratcheting effect is less noticeable, all the while signaling how much easier the other person will have it if they just lay off already. for instance, it seems like the state of arkansas is freaking the fuck out because i take opipd pain meds and an anti-anxiety medication, and now it looks like i'm going to have to do separate consultation each with my psych, my pain specialist, and my pharmacist. the psych and pain doctors, i've been seeing for years now; they know i have not been abusing either medication, nor",
          "i feel like it's possible to be ruth-neutral in this regard. at least, that's what i aim for. i am not usually a dick, but i will do everything i have to do to make sure my situation is understood. for example, making sure everyone in hr knows my diagnoses and their symptoms, in appropriate medical terminology so as to be polite, even when they can't ask about them and don't want to know anyway (and they really, really don't want to know, but i need them to know, you know?). like, if i need some sudden pto due to needing to see my doctor, then i'll mention what type of doctor it is and what's being treated. (if any of them ask me not to be so detailed because it makes them uncomfortable, then i make sure i know who doesn't like it and won't do it again if i talk to them, but they can't unknow it after i've already spoiled the beans.) same with the employee calendar -- i'll mark myself out-of-office and explain the same way in the \"reason\" field.",
          "i see you have bpd too op, dealing with the lowest common denominator of mental health professionals while borderline is fucking horrific. i was fortunate to be able to access dbt while i still could, but these days i feel like a robot that hasn't been tuned up in forever. now all that ever happens is i get treated like a drug-seeker or outright abused if i seek help. my most recent inpatient stays i was there both times because i wanted to die because my mom passed away in  and then my house burned down a couple of months later, and both times i had the same psychiatrist assigned to me, who completely ignored that i show serious signs of ptsd from being a caregiver to a cancer patient and surviving a fire, tried to diagnose me with autism and accused me of being addicted to whatever meds i happened to be using for anxiety at the time. now i'm permanently banned from benzos when i have absolutely debilitating anxiety (and despite that i only took my klonopin like twice a week tops, i",
          "they can help you find and trial strategies to protect your mental health, build resilience, and get stuff done. they can help you process trauma and heal, help you learn how to build healthy relationships etc. \n\n\nthey probably can't help you with paperwork unrelated to therapy or navigating the system, advise your decisions or advocate for you. \n\n\nbut they can help you work out what decision you want to make, and some therapists do have lived experience navigating these systems and can tell you what worked for them.\ni apologize if this is untoward, but i do not understand this question.",
          "he proceeded to say in this report that dyslexia wasn’t real and it didn’t apply to me. i have documented proof of + years  of many multiple people giving me an unquestioned dyslexia diagnosis. he said my mom (who wasn’t there) and i were trying to “convince” him i was disabled. he fucked up my whole evaluation and got me denied. i’ve got a stack of documents, inches thick, documenting over + years of various learning disabilities, mental health problems, and physical health issues. \n\nthese people are wild.\nthere are a lot of crap professionals in the mental health field.  sorry you got a bad one.  i was so impressed with mine, that i looked to see if my insurance covered him.\nindiana. mental health services are piss poor around here.",
          "and aaahhh!!!!! i love swimming, that was my fav sport they made me try but i couldn't keep up with my peers and had to drop out for other reasons as well, my school used to have a pool but they shut it down due to lack of finances for upkeep 😔\nmy ot had to google what hypotonia was (which is funny because it's not really a common thing?) and my last attempt at pt had me leaving in tears because i felt like i wasn't really being understood/taken seriously and that feeling activated the trauma from my child abuse/medical neglect, so yeah that didn't go well",
          "the constant stress kf being in never ending severe pain is enough to driving anybody over the edge...i get angry too...it's like being tortured non stop...my mental health has deminished greatly ...if i didn't the help i needed i would definitely be dead again or in prison.",
          "first therapist in years i’ve ever made any genuine progress with towards a better quality of life.\n\nit reminds me of all my past ones and makes me quite sad, the old ones were always the quite ones who sat there and waited for me to say something or just go “how are you today?” and never try leading anything to make the conversation easier and more natural. they also rarely bothered to learn about my disabilities and how they effected me so i never really opened up to those ones about me and my stuff and what effects me what works and what doesn’t etc.",
          "i don't think most of these people necessarily need a therapist, often a friend can help them just as much. but therapists are there to help you if you feel like you need someone, and it doesn't make you crazy or mentally ill. unfortunately these are still existing stigmas arround therapy, especially in the asian countries. it is not wrong to seek help if you need it, it's a sign of strength not weakness",
          "trying to get help for prolonged abuse is honestly really difficult, and not just in america. my partner's from the uk and while the nhs exists, some areas are just total shit for mental health. almost every time he started a new therapy and told me what they were doing, they were doing it completely wrong. not just differently from what i know, straight up wrong. they would end emdr sessions without going through the safe space thing. they didn't even set up a mental safe space for him if i remember correctly, which is crucial if a session ends in the middle of processing a high stress situation.  \nthe first time i did a few asshole moves to get assigned to a different doctor, and the same asshole moves put me on suicide watch. she just wasn't listening to me and i have issues with that because i was medically abused by a psychiatrist as a teen.",
          "first, i am so very, very sorry you were treated so horribly.  therapy is supposed to be a safe place that supports, not causing more issues.  second, your story is almost identical to mine.  i am a veteran and thought it was just the va, but obviously, that’s not the case.  i have ptsd from a few sources, but the main one is literally from the way i am treated by medical staff.  i once had a dr fold her arms in front of her chest while listening to me beg for help with the pain, and she and her nurse laughed at me.  my new psych told me that the reason i’m not getting mental health help is because of my attitude and the way i treat people.  i have been begging for therapy since i lost my therapist in october.  i was supposedly starting with a new therapist today, only to find out it’s just an intake, to see if/what i might qualify for.  i’ve had one of these at least  times in the past  months.  i could go on and on.  i understand😢. that said, never see this person again.  you are",
          "last year they did a switch and thankfully have not been removed from this therapist as they happen to understand me on both the adhd front (we both have that and i’ve got autism too) but on my physical health stuff and how it’s impacted parts of my mental health and vice versa. she’s helped me make a lot of progress and really work on advocating for myself more as well as not getting so stuck in doom brain mode like i used to whenever something bad happens.\n\nfirst therapist in years i’ve ever made any genuine progress with towards a better quality of life.",
          "i’ve had one of these at least  times in the past  months.  i could go on and on.  i understand😢. that said, never see this person again.  you are supposed to be comfortable with your therapist, that will never happen with this person.  report them, contact the advocate, and keep looking for real help.  you did not do anything wrong, and you did not deserve this treatment.  i’m so very, very sorry you were traumatized by the very person who is supposed to be helping.",
          "oh okay i'm glad you have professionals you can talk to and trust. the first five years of my mental health treatment was categorized by incompetent doctors. it's not really until this last one that things started changing for me.\n\ntexas... ouch. yeah i have never been and will never go there. i don't want anti everything conservatives making a kick back off of me. i hated texas since i started doing more research on how they overuse the death penalty so much that it should really be in a failed state type setting. they fought like hell to not do dna testing on death row inmates even though everyone knows what a texas trial means. this was for people that were already on death row and they thought dna would clear them, many were freed... don't get me started on the new open carry, i might have to take out my ar- and 'shoot you in self defense with my nra approved hollow point bullets that pierce kevlar' jk jk but really...",
          "the only good things to come out of this are a completed form and the confirmation of diagnoses. and yes, i was very tempted to become violent at his dismissal of the beginnings of a panic attack from ren. the complete lack of human empathy and the underlying expectation of power and obedience to him was disgusting.\ni had a guy who did my evaluation be not only somewhat dismissive but when i got denied and appealed, i looked at his report… he said i had a hair color i don’t, ruddy skin, and my mom was physically with me. at the appointment. i think he was hallucinating because i have a very different hair color, very clear skin, and my mom never left her car. how was she in the office with me?!",
          "this makes me so mad!\nwriting something down should always be a possibility. not allowing it isn't beneficial for anyone.\nand the therapist should not be telling you to try harder in a situation that you have a solution for! it's pointless to force his way of doing something onto you. remembering it isn't better or than writing it down as long as you can acsess the information it is fine. that he continued treating you like this after you  disclosed your disability and explained that memory issues are a part of it is disgusting! he should not be treating you like this especially as a mental health professional, who should understand the impact of public shameing and discrimination!\ndefinitely discusses this situation with your therapist and explore if their is a way to report this situation. depending on the setting there might be a supervisor you can report his behavior to!"
         ],
         "marker": {
          "opacity": 0.5,
          "size": 5
         },
         "mode": "markers+text",
         "name": "11_help_therapist_like",
         "text": [
          "",
          "",
          "",
          "",
          "",
          "",
          "",
          "",
          "",
          "",
          "",
          "",
          "",
          "",
          "",
          "",
          "",
          "",
          "",
          ""
         ],
         "textfont": {
          "size": 12
         },
         "type": "scattergl",
         "x": [
          13.293341,
          13.062793,
          12.842782,
          12.914773,
          12.777175,
          12.779527,
          13.211283,
          13.221793,
          13.149393,
          9.287556,
          12.648286,
          13.150073,
          13.414769,
          13.353125,
          13.266796,
          13.163808,
          13.254376,
          13.4458885,
          13.161067,
          13.191611
         ],
         "y": [
          5.9655933,
          6.0667086,
          6.939518,
          6.8477287,
          6.7288055,
          7.086848,
          6.1078067,
          6.0576153,
          6.0938745,
          7.2058825,
          6.669946,
          6.02184,
          5.9883575,
          5.912095,
          6.001413,
          6.0356812,
          6.0211053,
          5.9666996,
          6.0585103,
          6.1022263
         ]
        },
        {
         "hoverinfo": "text",
         "hovertext": [
          "my hm chair has been an actual life changer. i have so much less pain and neuropathy now. there was a period in the first two months where it was much worse as my body slowly readapted to being in the correct posture and i was convinced i'd made a horrible mistake but it's actually given me a lot of mobility back. that said a lot of those clearance sites are scams. what you can do if find them often in used office supply stores and the parts are readily available\ni have eds and hypermobility and i mostly sit on a mat or cushion on the floor.",
          "have you been diagnosed with a medical condition? this sounds very much like the autoimmune neuromuscular disease that i have (myasthenia gravis). it took me a very long time to get diagnosed because i am seronegative (don't have the antibodies for it). being undiagnosed and very ill also took a big toll on my mental health, but i am doing much better now! please don't give up!",
          "and when it comes to you going to the gym and pt but never having it feel \"easier\", have you always experienced this at all ages when it comes to any type of exercise, where it feels like you should be building muscle but you haven't? have you ever been evaluated by a neurologist? do you have an abnormal walking gait/do you waddle when you walk? do you have abnormally large calf muscles? do you experience scapular winging (where your shoulder blades stick out from your back when you hold your arms straight out in front of you), have had problems in your childhood/teens with getting down to/up from a sitting position on the ground (and especially if you've never been able to get up/down like your peers via essentially doing a squat)? have you ever gotten blood results back that came with very high liver enzymes or a high bilirubin? there are a few types of muscular dystrophy that can basically show no/very mild symptoms until around 's-'s, especially ones like limb-girdle, becker, and",
          "pt should defo be better than that, i’d try to find a different person or a diff location if you can. the ones ive kept have listened. had me do the exercises with them to make sure i have correct form and it didn’t hurt and would listen to what parts of it hurt me or not\nmany pts don't know how to work with hypermobility. your experience is not uncommon but it shouldn't be standard. hypermobility is a complex issues because building strength is super important but you need to limit stretching because the movements that feel natural aren't usually within a healthy range. my old pt was constantly telling me to make smaller movements.",
          "yes dominant gene. we're just discovering it now but it seems noone else in the family has exhibited any traits.   my dad has just been telling me how he used to have to do ankle exercises as a child to straighten out his legs...hmm!  i don't think it's anything like eds but it's weird that we have these little things. i could live in high heels they're must easier than flats! \n\nsorry for the essay!",
          "i also have congenital hypotonia for me my issues were caused by a connective tissue disorder (hypermobility spectrum disorder).\ni had a pretty bad bout of influenza once but that was so long ago i couldn't say whether or not that was the trigger, i also have generalized joint issues + generalized hypermobility but any pain/other problems related to that have virtually disappeared since taking continuous birth control so seeking evaluation for possible hypermobile eds (i was denied genetic testing due to lacking certain clinical criteria so monogenic eds is unlikely i guess) or generalized hsd isn't as high a priority on my list as all the stuff i have that sometimes occurs alongside it (on top of the fact there's no medical professionals around me who know enough about that stuff), for the pots getting testing for potential sfsn/other nerve problems is something i'd seek out before anything to do with heds or ghsd",
          "i'm willing to try pt again at some point (hopefully before i lose my medicaid) but i really want a better picture of what's going on at first so i can stop telling people these vague things and \"maybe's\" and maybe also find a pt familiar with what my issues are instead of just any old pt, i might see about it over the summer depending on what happens between now and then since it wouldn't work well with my class schedule right now\n\ni have hard time with coordinating different muscle groups at the same time to properly do some exercises though (potential chiari has been dismissed so maybe undx'd dyspraxia), they had to cue me on stuff up until i was discharged so there was minimal improvement in that area and that's something that gets in the way of doing stuff on my own which is kinda what's necessary for pt, very annoying",
          "hopefully a neurologist will be amenable to looking into the muscle stuff and my nerves being shitty (lifelong paresthesias) but we'll see - i appreciate your input! also yeah, i recently learned cmt- was even a thing, let alone there being like  of them lmao\ni also have congenital hypotonia for me my issues were caused by a connective tissue disorder (hypermobility spectrum disorder).",
          "fwiw i’ve always had mildly lower core muscle tone and i was in ot for something sort of related. we tried starting to work on it but i didn’t tolerate it well and my ot said it would be very long term/slow. it’s not so bad that i felt up to that at the time haha (it’s more that i can’t do stuff like rock climbing or treading water, doesn’t affect my posture like yours does), but i have been slowly trying some yoga that focuses on that. but yeah maybe getting into pt/ot could help even if it is slow going like mine said. \na few things about your post really stand out to me. if you have pots, it's extremely common to also have some form of ehlers-danlos syndrome (eds). that usually presents with hypermobility, joint and/or tendon pain, frequent joint dislocations or subluxations, things like that. only a few types of eds have been genetically sequenced so getting gene testing isn't necessarily guaranteed to produce an answer for you on that disorder.",
          "i wish my parents got me pt as a kid 😔\ni have generalized symptomatic hypermobility but any joint instability has stopped being an issue since i started taking continuous birth control so while i think heds (if not ghsd, i was denied for genetic testing but the only genetic form i fit the symptom profile of is pretty rare - cleds - so unlikely) is a possibility getting that exact dx isn't a priority for me atm, and no, to my knowledge i've never seen a neurologist, though i plan to",
          "yeah i agree, it’s possibly your hypotonia kind of “catching up” to you or something else underlying. healthy sedentary people might have some temporary pain from increased exercise or be more at risk of injury from not warming up/escalating exercise correctly but not to this extreme? i’m glad your doctor seems on top of referrals to specialists.",
          "general physiotherapists seem uniquely terrible at dealing with hypermobility, although its slowly changing. don't give up!\nyoure not exagerrating, hypermobility sucks. you need to find a pt who specifically knows a lot about hypermobility. most don't have a clue about it. \n\n\nhowever even with a hypermobility informed pt, you likely will be expected to self-advocate, and the main focus will be exercises. unfortunately we have to teach ourselves a lot and fight for ourselves\n\n\ntry your best to figure out what your personal goals are (ex. more support with mobility day-to-day to increase function, self-care, etc, and preserve energy so you can actually do the exercises), and practice asking for help with them, and write questions up ahead of time. also write down your limitations (ex. can't stand with your knees bent). the more prepared you are the better it goes. it sucks because it's a lot of effort and i wish theyd take more initiative, but they don't, so we have to :(",
          "i usually don't like to do the whole \"armchair diagnosis\" thing, but i have limb-girdle md type 2i and your post sounds almost exactly like something i would have wrote like  years ago lol. let me know if you have any questions and i hope you find the answers you're looking for ❤\ni figure the hypotonia is catching up with me, the neurosurgeon and his pa i spoke to about potential chiari (i have slightly low cerebellar tonsils but apparently whether something counts as cm- depends on the diagnostician) and spine problems didn't seem to be a concerned much at all about hypotonia that doesn't seem to have gone away since childhood, pcp is willing to refer me to a neurologist once i get other more pressing stuff out of the way first which i agree with since i'm a full-time student and this stuff isn't as concerning as the gynecological disorder doing things like causing me very severe leg pain, worse than anything the low muscle tons has ever led to",
          "it’s nothing to do with your weight, though weight does put extra strain on your organs which can be exacerbated by eds/hypermobility.\n\ni have hypermobility, i am obese, i’ve also been underweight, i had no difference in pain levels(all over 35yrs old).\n\nhormones can affect pain so it’s worthwhile trying to see an eds specialist to go over your pain and body and lifestyle.\n\ni manage my condition in the gym, many edsers dont. i use splints and braces. i do this for my mental health as inactivity aggravates my mood (i don’t have depression).\n\ncurrently my ankle is not working, so i’m swimming without using my legs and using splints/braces on the gym equipment. this is reducing my weight. but not my pain levels.\n\ni would recommend pressing for physio and pain management. \n\nhope that helps a bit",
          "have you ever been tested for hypermobility?\ni have a feeling it's eds but i haven't been through the hyper mobility test. my mom has eds too so it wouldn't be shocking.",
          "if you can find a pt in your area that is experienced with hypermobility, you are likely to have a better experience, but they are hard to find, i still haven't found one.\ni have had similar experiences with physiotherapy, but also some good ones. physiotherapy with a focus on pain management worked better for me than a focus on mobility. that's because it was almost impossible to do difficult but helpful exercises until i learnt to manage my pain more (although pain and mobility are connected). i also had the experience of being basically told \"stop doing that and move like a normal person\" like it had just never occurred to me to try?! but now its extremely obvious i can't do that. \n\ni don't understand their comment about range of movement. if you're hyperextending your knees, it sounds like your range of movement is *too much -* it can go the other way.",
          "are a few types of muscular dystrophy that can basically show no/very mild symptoms until around 's-'s, especially ones like limb-girdle, becker, and charcot-marie-tooth (all forms of muscular dystrophy). there are a lot of subtypes for these specific types of md, and even people with the same subtype can vary wildly in their symptom onset, disease progression, and severity of symptoms, but these diseases are very rare, so definitely don't freak out if any of this sounds familiar, just be sure to bring it up to your doctor as soon as you can.",
          "fnd and conversion disorder are both very real and the symptoms can be very disabling. have you seen a neuro pt at all? i'd highly recommend getting in to see one. they are pretty amazing and the one i got to shadow could pretty quickly work out if it was something organic or if it was something functional. she also has an awesome success rate with her fnd patients.\n\ni'd also highly suggest seeing a psychologist. dealing with unexplained symptoms is tough and you need to look after your mental health as much as your physical health. poor mental health can make your symptoms a whole lot worse no matter what the diagnosis turns out to be, but if it is fnd or conversion disorder then it'll really make things a lot harder to recover from.",
          "i'm  and have several of the conditions you do, though i wasn't diagnosed until recently. i have adhd, gad, heds, pots, probably cptsd, plus some other stuff with my heart and eyes.",
          "- i think i waddle but only contextually, like depending on how i'm feeling, most days i don't think i do, according to my first pt session i have some mild gait abnormalities like bilateral trendelenberg, neurosurgeon i recently saw said i had a normal gait and no signs of muscle atrophy\n- no clue about the scapular winging (edit: took a look, doesn't seem like it, not when i hold my arms out)\n- afaik my calf muscles are normal, i don't know what would qualify as too big but they seem normal to me\n- as for getting up, i've always had some level of difficulty/preference for using my hands or the support of something else to give up, i forgot the name for the specific \"sign\" that is getting up in a certain way that indicates some type of weakness, is that what you're referring to? squats in the gym are really hard on me, i know that, and if i deep squat i risk my muscles not letting me go up immediately, i don't think that's what you mean though"
         ],
         "marker": {
          "opacity": 0.5,
          "size": 5
         },
         "mode": "markers+text",
         "name": "12_pt_eds_pain",
         "text": [
          "",
          "",
          "",
          "",
          "",
          "",
          "",
          "",
          "",
          "",
          "",
          "",
          "",
          "",
          "",
          "",
          "",
          "",
          "",
          ""
         ],
         "textfont": {
          "size": 12
         },
         "type": "scattergl",
         "x": [
          9.168356,
          9.054465,
          8.740554,
          8.772814,
          8.844646,
          8.916973,
          8.764089,
          8.987145,
          8.75922,
          8.806906,
          8.794141,
          8.825446,
          8.845236,
          8.800918,
          8.836509,
          8.81892,
          8.782462,
          9.139501,
          9.09147,
          8.694992
         ],
         "y": [
          7.617438,
          7.1930814,
          7.3762107,
          7.3916125,
          7.4292636,
          7.26507,
          7.368556,
          7.2356834,
          7.356373,
          7.341981,
          7.4078937,
          7.422923,
          7.326998,
          7.421519,
          7.374104,
          7.3963094,
          7.3496294,
          7.1300707,
          7.165959,
          7.3354263
         ]
        },
        {
         "hoverinfo": "text",
         "hovertext": [
          "it's a little messed up, isn't it? we're handed a life changing diagnosis and just assumed to take it in stride.\n\nthe truth is i'd be more worried about someone who didn't have a gut wrenching emotional reaction to learning they're going blind. anybody who can lose their job and their driver's license and their hope for the future and not need a therapist to discuss the turning of their world upside down is scary.\n\nmental health counseling should be part of the diagnosis. it's unreasonable to expect us to not get messed up when we hear it. but it's not. we have to bring it up to our eye doctors to get a referral or we have to find a therapist ourselves.\n\ni guess this is my way of saying i sympathize, i get it, and you're not alone.\n\nthere are counselors who specialize in disabilities and in grief. hopefully someone in this thread recommends a good one in south carolina to you,",
          "i already had mental health challenges. now i am going through the five stages of grief as i lose my vision. i hate losing my independence. i’m hoping to find group therapy to talk to other people about this.",
          "the wikipedia article on scintillating scotoma has some reasonable artistic renderings of what they look like, although none of them are exactly what i see. check it out and see if they look familiar:",
          "i did not mean to scare you by suggesting genetic testing but i also know how different these things can present and my son only got a doctor who is his advocate and listens to me once i had genetic tests done because as you said “must be faking there is no damage”.\n\nso ruling that part out might show a path to understanding and proper care. once he started seeing doctors at chop in philly i legitimately wanted to go beat the shit out of everyone in my state my son has been seen by who called themselves a fucking doctor. \n\nthe difference in treatment was staggering. \n\nperhaps reach out to them? even though they are a children’s hospital they see adults because of how much research they do on visual impairments. it felt a lot more comfortable to deal with doctors being so open to how much they don’t know about the eye. so the team there would not be the type to say “you are faking” and just dismiss you.\n\nhe also had his vision tested in an intensive way you might benefit from.",
          "i wanted to mention, though, that what you describe sounds somewhat like the visual aura that can accompany migraine in a couple of key ways:\n- visual aura often begin with the peripheral vision, and can be accompanied by other peripheral effects like tunnel vision.\n- mine typically progress to what i can only describe as flashy light worms that dance around my central vision.\n- it’s fairly common for migraine sufferers to wake up with the symptoms. they can also be triggered by the whole long list of migraine triggers, from smells and foods to hormonal shifts, sleep deprivation, or stress.\n- they aren’t always accompanied by migraine pain. i had weird (and upsetting) aural symptoms for a few years before ever experiencing my first migraine headache. they did, however, respond to migraine medication or sleep.",
          "he also had his vision tested in an intensive way you might benefit from. \n\nover the course of a week (and now once a year since) he had mri, cat scans, ultrasounds, macular photographs, retinal imaging, orientation  and mobility aptitude tests where a sort of “safe” obstacle course is traversed by the patient at different times in their day and different light settings,a bunch of other stuff too. \n\nthe results are then all combined and looked at over the course of a month or two after you leave then they speak to you about findings and recommendations. then you continue to have this stuff monitored. \n\nthere was a woman there who actually had never known it was not typical to have clouded depth perception and had assumed everyone had the same experience until she brought her child in for issues w his eyes. \n\nit broke my heart to hear how dismissed she had been most of her life when she ever did bring it up with a doctor.",
          "ooh op as a mom my heart feels so much for you, i wish i could give you a big long hug. \n\nthis is going to be long and please forgive me if you have been there done that but maybe if i share it will help if not just disregard it 😊\n\nhave you had genetic testing? i assume you have because you are soo frustrated with testing but at the same time in my experience i thought all the tests had been done but at the same time there is more value to having the right people interpret those tests. i’ll share my experience with my son and if you’ve done all this i still think you are valid and i don’t want to give unsolicited advice or disregard your frustration.\n\nbut it might help if you have not?",
          "but it might help if you have not?\n\nmy son has a disease that is so rare they call it an orphan disease. even though it is genetic it is recessive and there is no family history on his father or my side of the family because it is recessive. it also wasn’t even properly correlated to a gene until one year before my son was tested at  so  years! meaning if you had genetic testing more than  years ago there may be newly discovered things to test for.\n\nmy sons disease causes the retina to “not work” but the retinal imaging shows as you said “immaculate” retinas. \n\nthere is no evidence of any damage or dysfunction in his eyes and the disease actual is more dangerous to his kidneys though they are stable now and also not damaged.\n\ni’m not sayin you have the same thing as him but some of the “best” eye specialists were the most pompous dismissive assholes when he was a baby and i was trying to find out what was goin on.",
          "there are counselors who specialize in disabilities and in grief. hopefully someone in this thread recommends a good one in south carolina to you,\n\nin the meantime my dms are always open and i'll link you to the blog posts where i write about figuring my own way through the grief and loss.\nothers have addressed things well i just wanted to mention that you may be experiencing charles bonette syndrome, a form of hallucinations created by the eye itself when vision is changing. it was first noticed in cataract patients but it can happen to anyone with enough vision loss. i have it and it took two retinal specialists to tell me what it was; it flares up worse when i'm sick or stressed. if the things you're seeing in the periphery of your vision are consistent, always in the same spot, and it's been going on for awhile, it may be charles bonett syndrome, which isn't dangerous but it is annoying as hell heh.",
          "usually it seems in the cases they have studied about this disease, kids are born with normal vision and there is no indication of an issue. it’s degenerative in nature so everyone they have on record before my kid usually starts to have issues with one eye onset anywhere from - years of age on average and it usually presents in one eye first and the other much much later. so obviously they don’t know shit about it if my son presents totally different.\n\nso real long way of sayin as someone whose gone through the doctors gaslighting me about what “i know” because they can’t or won’t accept how little “they know” about is excruciating. \n\ni can’t imagine dealin with it from the perspective of being the one with vision issue. \n\ni am so so sorry. you are not in the wrong to be at your wits end. i hope you know your experience is valid no matter what some jerk who is also a doctor says to you.",
          "have you already checked out the r/blind discord?\n\nmental health, i'd say, is a struggle for all of us who had vision and lost it. i know my first year, maybe two years was the lowest point i had after almost a decade of becoming healthier, mentally and emotionally.\n\ni lucked out a bit and found a reddit stranger that helped me through it. hope that you find one too and you're welcome to reach out over pm. i don't use reddit chat because it lacks notifications on the browser so i may go days before realizing there are waiting chats.",
          "i've often said going blind is hard but being blind is easy.\n\nday to day life as a blind man has been way better than i expected but going through all the emotions and grieving that comes with the diagnosis was hell.\n\nand nobody helped. nobody explained the profound sense of loss i was about to experience. nobody warned me how much it hurt to realize some of my dreams would never come true. nobody told me about the jealousy and the anger and the depression in store.\n\nall they told me was \"call this number for a free white cane.\"\n\nit turns out most ophthalmologists don't understand the grief we go through. they aren't trained to deal with it and if we don't bring it up they don't bring it up, either.\n\nit's a little messed up, isn't it? we're handed a life changing diagnosis and just assumed to take it in stride.",
          "that is not ok and you don’t deserve that type of “non” treatment. wishing you the best of outcomes as you seek answers, and don’t let some jerks who happen to have a medical degree stop you from demanding proper care and an answer to what is happening with your vision.\n\n❤️🤗\n\nedited: missin paragraph\ni've had them before, but it's been a while. i was supposed to see an optaneurologist in a city an hour away, but never made it in because of transportation issues. i'm getting another referral to the doctor next month, and i'll hike there if i have to.",
          "so to start with, i am  and became legally blind two years ago. so much of this resonates with me. i am not at all trying to judge your father because this is brutal and i get how he feels.",
          "i hope you can figure out what is going on with your vision and wish you the best on your journey. i don’t know if any of this has been helpful with your condition, but i hope it’s given you some ideas and hope that you can get through it. know you aren’t alone.",
          "not sure if you have other symptoms as well, but when i was tested for ms i was asked about double vision and eye issues. hopefully it’s not that, but something to look into if your doctors haven’t already.\n\ni have keratoconus and have had issues with my vision progressively degrading since my late teens. i was finally diagnosed in my late 20s and it was devastating knowing my eyes would continue to get worse as i aged and that i would likely need surgical procedures in the future. up until i was able to start seeing doctors who understood the disease, eye exams always resulted in emotional breakdowns from frustration and a feeling of loss.",
          "thank you, i've spent all day stressing about going out tonight and what it might mean for my future. i'm not so worried about me but about other peoples reactions. i've had drs blame some very obvious problems on my mental health before like i was told my continence issues were unrelated to the organ falling outside my body. i'm worrying this will be another thing they choose to build into something it's not. i'm doing all this while at the same time knowing that it might not even be an issue, maybe these glasses have done the trick. but hopefully by the time i tuck myself into bed tonight i'll have the experience/information i need to decide what i need to do going forward. i just want to feel safe and have a reference point of where i am being that a sliver of curb or a drain cover catching the light or that be a cane telling me where the edge of the path is. in myself i don't really care as long as i can still go out when i need to. it's the worrying about other people that's",
          "in fact i knew he was blind when i gave birth to him i just knew even though his eyes “looked” typical.\n\ni stupidly assumed doctors would be interested and yet i was totally lied to and in fact made to feel crazy the first year of his life because there was no “evidence” even his dad didn’t believe me til he wasn’t making eye contact at  months and still maintained that “maybe it’s cataracts but he looked at me when he was born” \nmy ex was caught up in himself and ego. so no he didn’t look at him or me (the mom who he would have look at the most when born) he even had trouble breastfeeding because of it…because he can’t fuckin see!\n\ni was blamed for this as well ! doctors can be so divorced from their patients experiences.\n\n he has light perception that is it nothing else he has never seen my face.\n\nhowever when we did get the genetic results he ended up being recorded into the nih as being the “first recorded” to have this who is also blind from birth."
         ],
         "marker": {
          "opacity": 0.5,
          "size": 5
         },
         "mode": "markers+text",
         "name": "13_vision_eye_migraine",
         "text": [
          "",
          "",
          "",
          "",
          "",
          "",
          "",
          "",
          "",
          "",
          "",
          "",
          "",
          "",
          "",
          "",
          "",
          ""
         ],
         "textfont": {
          "size": 12
         },
         "type": "scattergl",
         "x": [
          8.739824,
          8.741325,
          8.671537,
          8.661365,
          8.670892,
          8.646016,
          8.742292,
          8.680854,
          8.663241,
          8.670352,
          8.719448,
          8.542805,
          8.669239,
          8.253375,
          8.615607,
          8.64884,
          8.500634,
          8.626878
         ],
         "y": [
          4.910967,
          5.2034044,
          4.7606997,
          4.759844,
          4.764012,
          4.7889075,
          4.692768,
          4.7005806,
          4.823089,
          4.7512894,
          5.2218695,
          4.9573646,
          4.7646794,
          5.417934,
          4.8606663,
          4.77907,
          5.0075693,
          4.7895856
         ]
        },
        {
         "hoverinfo": "text",
         "hovertext": [
          "hi there, no you aren't overreacting.\n\nyou recently just started using a wheelchair and that can take a while to get used to, both physically and mentally.\n\nit's normal to feel a certain type of way.\n\nhave you considered speaking with a mental health therapist?\n\nyou are currently going through a big change in your life and talking to one may be helpful if not for anything else, you get to have a neutral person with who you can pour out your emotions and feelings without feeling like you are troubling them.",
          "sure you’re gonna have stares and you’re gonna have people make stupid comment but the best thing you can do is just go about your business. you could say “ have the day you deserve “ and continue on your way. don’t give them the opportunity to get engaged with their daily bullshit. being constantly worried about what people think isn’t really good for your mental health. please ignore them. i know it’s hard but you have to try.\n   \n\nit’s not worth it for your mental health.\ni can relate, op, as a white cane user who isn’t totally blind and thus gets judged and stared at all the time. hell, even if i was totally blind, i would likely still constantly get stared at / talked about just for virtue of being different.",
          "this is the unfortunate reality of using mobility devices. people are going to stare and make awful or unnecessary comments. it really fucking sucks that a requirement in order for us to function outside is to have to fully be in idgaf mode all the time and constantly force ourselves to ignore people’s very plain and obvious judgement.\n\nlike we have to do the extra mental health work in order to be in that headspace of “i don’t give a shit about what other people think of me right now”. i’m still trying to work my way up to it. :( i know it’s possible, i know one day i can feel more comfortable outside, but fuck it’s taking a while to get there.",
          "i do know what it's like. the first time i was approached and judged for using a disabled space, i went home and cried the rest of the night. i've grown a very thick skin since. they don't know you or what you're going through. it sounds like you'd qualify just for your ankle issue alone, let alone dealing with your son. so go ahead and use the space. as long as the person has a placard, that's all i care about. it's all the people parking there without one that i take issue with.",
          "no cheating. sex is off the table. i think his partner has mental health issues and that is probably the reason.\n\nhe had recently completed training with an orientation and mobility trainer but he grew up in a wealthier family and i think he is a bit used to people being at his service. i do not intend on doing that.\ni understand the feeling of not wanting to be a burden but the world is changing and a lot of people are trying to learn to be more understanding and supportive of people with disabilities. i see this in academia and at the workplace and also among discussions with friends. for me, if i am hanging out with a blind person at a restaurant i don't mind helping get to the sit, reading you the menu (i actually like discussing the menu), walking you to the restroom or getting a glass of water for you. those are simple things that are more or less basic needs.",
          "no! this is absolutely normal and something we all go through and have to come to terms with. it's a real mind f*ck at first, but i promise you it will get easier day by day as it becomes your new norm. do not feel insecure if people stare at you either! in a lot of people's minds, they invision disability with elderly and seem (are) surprised to see anyone under the age of  with a mobility aid... ignore them or simply make eye contact, and they will look immediately look away, lol",
          "that's not the only situation in which i feel like it helps, but employment is a good example of needing to cover your ass as much as possible when you have a life-upending condition. i call it \"belligerent disability\", if only for the reason that other people seem to find it rude or downright hostile to discuss health, be it physical or mental health, out in the open and with total candor. there are people (essentially, everyone) who are going to make assumptions about you based on what you do or what you don't do without regard to your illness, because they won't consider it a possibility; the default state is to be well. i gave up being embarrassed or shy some years ago now in matters of health for that very reason: everyone needs to understand the true nature of disability, how any random person could have a disability, and how expectations of a person's limitations due to disability can be both confirmed and thwarted, even between two people with the same disabiling condition(s).",
          "i'm a wheelchair user with mtm1 and am also overweight because of medications i take for nerve pain and mental health issues. it makes people wildly uncomfortable when my partner shows me affection in public. when he kisses me, rubs my back, etc, people look at him like he's some kind of pervert. it's really disheartening because i always feel like if i wasn't disabled, people wouldn't give us a second look, but because i am, it's like he's breaking some kind of social rules or something by treating me like a person that also feels love and sexual desires.\ni'm /m with cp. the last intimate contact i had with a member of the opposite sex was at the age of .",
          "lots of us when first starting on a disability journey, truly believe that everyone is staring at us and being disapproving when using aids to help us such as wheelchairs canes, rollators etc.\n\nthat being said we all have to have a pretty thick skin . \n\nis there anything you can do about this type of behavior from others? yes and no, you need to consider the fact that because they’re not disabled, they don’t get it and just move on. i think the first couple years i was disabled was the hardest.\n  however, spending more than a few minutes w\n worrying about these ignorant clods should never be done. what these people think truly isn’t important however,  what you do with your time is the most important thing.",
          "i can’t go anywhere without getting stared at, glared at, harassed, stereotyped, yelled at, etc. especially about my disabilities. worst part: everyone loves her! you only see the real her when you’ve lived with her for a month. the she slowly lets her real self slip out.",
          "and i see it all the time with my friend who uses a wheelchair. they'll talk to me instead of her. of course i say 'i don't know, ask her' thing even if i do know the answer. occasionally she will lose her voice because of her throat condition so i'll ask if she wants me to speak on her behalf. there are a few benefits though like people moving out of her way - if i'm on the bike and she's next to me in the chair people will always move towards me in order to make me change direction instead of her. i joke and say they must have seen her driving or about me being second best.\n\nit's useful on days when my mental health is bad because she lets me use her as a sort of person shield 😂 i'll walk directly behind her if i don't have the ability to navigate crowds.\n\nbut yeah, we just want to be treated with the same dignity and respect as anyone else.",
          "so many red flags.\nthat makes a lot of sense and is more context than just being in a park, thanks for the clarification!\n\n  \ni live in a city and often suggest parks as a first date option because it lowers cost, either of us can bail immediately (no waiting for a check from waitstaff) and unless we are going deep into the trails on the bigger parks, they are popular spots often filled with families with children, crafting and language groups, and exercise groups doing stuff like crossfit and tai chi, so they generally feel safe.\n\n  \ngood luck on the dating front!\ni never know what to say, though when we “go for a walk” my roommate says we “tootle”. we need more mobility words!",
          "best safety tips are ones that apply regardless if you are disabled or not. simply because they are the most basic things people can do. if you have to, go into a store or building, avoid confrontation. go towards a crowd, safety in numbers. make a statement about are you going to calling the police or asking others to do this, as long as they are not the \"karen\" types they generally will go away fairly fast. if they won't leave you alone. that is absolutely when you call for emergency services, ideally with much distance as possible.\nhappens to me a lot… especially towards my mental health and psychiatric disabilities. i’m in an urban area but that two faced social butterfly leaked my whole history and list of conditions and disabilities after i called her out and left. now everyone knows everything :(",
          "why did he want to go to a park? \n\npersonally i'm immunocompromised in addition to my mobility impairment so i will only do the first - dates outdoors for safety reasons. \n\nthere's no reason for him to be rude or pushy regardless but i'm wondering if it was a case of opposing access needs.\nhonestly, as someone whose not in a wheelchair / and occasionally uses a cane for mobility assistance..\n\nhell i wouldn't meet someone in a park when i was (more) able bodied for a first date unless i already knew them really really well. \n\nfirst date out of the blue which is also first time meeting someone in person? i ain't meeting that person in a park. i ain't going on a hike as a first date. \n\nand hell, if they're doing that much pushback on something as simple and unthreatening as where our first (0date) date is gonna be at, my hackles are raised. i'd begin thinking dating this person was actually a bad idea and seriously consider unmatching and blocking the person.",
          "or stare or whisper so makes me even more anxious so just avoid going out altogether because this causes anxiety just thinking about having to go out and most of the time it causes so much distress i can’t go out and end up cancelling appointments because of other people’s actions. it seems if you’re in a wheelchair your incapable of doing anything and if you aren’t in a wheelchair it’s your very capable as can’t see your inner pain and struggling with it. because of some peoples lack of understanding and actions and thought processes around disability we have these problems so until they stuffer them selves they will never know. i really appreciate all the help for us but it’s the people who don’t understand need to be educated more.",
          "i'm really trying to change my reaction to these bs social norms but it's not easy when it's ubiquitous in every facet of life and relationships with other people, so it's always a neverending and severely draining battle on top of all of the shame, guilt, disappointed, lonelyness,  depression and more endless misery it entails.",
          "a placard let’s you park in a handicapped spot, period. if your doctor signed off, you are deemed disabled. don’t overthink this. it’s commendable to think of others but using your logic, you should never use your placard because someone with more severe mobility issues would always “need” it more. just park where you need to, to keep you and your child safe.\nas someone with a placard for my mostly invisible disability, (which i always need mobility aids for, sometimes a wheelchair,) ignore the haters and do what you feel is best. if you need the space, use the space. no need to feel guilty about it, or rationalize to yourself how to use it. do what you need to do to keep your kid safe! where i am, there are also spaces for moms with kids. if you have similar, you could always use those if you can't make yourself use the disabled spaces. they're also right up front."
         ],
         "marker": {
          "opacity": 0.5,
          "size": 5
         },
         "mode": "markers+text",
         "name": "14_park_people_wheelchair",
         "text": [
          "",
          "",
          "",
          "",
          "",
          "",
          "",
          "",
          "",
          "",
          "",
          "",
          "",
          "",
          "",
          "",
          ""
         ],
         "textfont": {
          "size": 12
         },
         "type": "scattergl",
         "x": [
          10.56556,
          10.548881,
          10.679907,
          10.731789,
          10.674424,
          10.601273,
          11.377854,
          10.83882,
          10.790485,
          10.936557,
          10.947468,
          10.714112,
          10.889793,
          10.707312,
          10.832324,
          10.985728,
          10.734076
         ],
         "y": [
          7.4325404,
          7.894007,
          7.94067,
          8.05752,
          7.7389665,
          7.8269224,
          7.429173,
          7.81825,
          7.920864,
          7.54549,
          8.044433,
          7.9681263,
          7.9561467,
          7.9536595,
          7.939171,
          7.5791254,
          8.069927
         ]
        },
        {
         "hoverinfo": "text",
         "hovertext": [
          "for example, one day, i was having more difficulty than usual with focusing and was fidgeting a lot. she came up to me and started bitching at me about not working as much as i \"should,\" despite the fact that i was ahead of my classmates in terms of overall progress for the year because i pushed myself to complete as many lessons as i could every day. i apologized and told her that i have adhd and that i was still in the process of figuring out what meds help me manage my symptoms. she told me, \"no, you're just being insubordinate and don't want to work. if you can't control your adhd, that's your problem. i should just expell you right now.\" she fucking threatened to expell me, which she didn't even have the power to do, because i have adhd.",
          "position to do, only for me to not be able to graduate anyway. i sent the hs principal an email stating that i was officially dropping out and told him exactly what the program administrator said. apparently, she got in trouble for it because when i came back to turn in my school laptop, she tried to say she \"didn't mean i actually wasn't allowed to graduate\" and \"was just trying to 'motivate' me.\" telling a student that you'll take away their ability to graduate because they were in a life threatening car wreck which happened to cause them to fall behind on schoolwork is not motivating in any way, it's just fucked up.",
          "it is not reasonable to allow a disabled employee to harass, bully, or physically strike out at other employees.  this also ignores the duty of care you have to other employees.   it is not reasonable to basically allow one employee to run roughshod over everyone else and not face consequences.  it is ableist to assume she is incapable of controlling her behavior or shouldn't have consequences.\n\nyou are sending mixed signals when you don't correct her firmly every time her behavior is unacceptable or she uses physical violence, because you're afraid of making her mad or hurting her feelings.   \"rarely\" addressing her behavior, letting her hit at all, or backing down because she throws a tantrum just sends the message that she can get away with doing these things.  she doesn't know where the boundaries are because you keep redrawing the lines.",
          "she always tried to frame how she treated us as \"giving us motivation\" and \"making sure that we worked to the best of our ability,\" but instead of doing any of that, she just treated us like we were supposed to be robots, working nonstop not only in class, but at home as well, with no life apart from schoolwork.",
          ") report the issue to the teachers and staff. part of their job is to keep you safe. \n) work on building your confidence and poise. if your body language screams “victim” you will be victimized. if you can, participate in a sport or marshal arts. it will improve the way you carry yourself and balance.",
          "i experienced this a lot in highschool. i was in an online program that my school provided due to issues with anxiety adhd that made it nearly impossible to learn in a traditional classroom setting. basically, instead of attending normal classes, we went to a small building on the school property and worked independently online, having teachers there to help if we needed it. the administrator of this program who also worked as one of the teachers was such a bitch to me about me having adhd, and when i became severely anorexic which caused even more learning issues due to malnourishment, it got even worse. she had this mindset that anyone who didn't work to her standards just \"wasn't trying,\" no matter what their situation was, and treated people with mental health and/or learning issues like we were being actively malicious and defiant. she always tried to frame how she treated us as \"giving us motivation\" and \"making sure that we worked to the best of our ability,\" but instead of",
          "her behavior continued, despite all the teachers defending me and trying to explain that i not only had a learning disability but was dealing with an eating disorder that caused severe malnourishment. i had learned to ignore her for the most part until my senior year. the shit she said to me made me immediately walk out of class and drop out. a couple weeks before school started, i was in a severe wreck that nearly took my life. the two biggest injuries that impacted my schoolwork was my back being broken in  places (can't sit up for very long without severe pain) and a brain hemorrhage (caused cognitive and functional issues). because of the wreck, i was in the hospital when school started and couldn't go back to school for a few months, which meant i was quite a bit behind on my classwork. when i did finally get back to school, i worked my ass off to get caught up, though it was pretty much impossible when i started so far behind and was still dealing with my injuries, which caused",
          "the people who are mean and enjoy punching down on others, they are a vocal minority, do your best to tune them out, they are really unimportant.  you will meet plenty of people who are impressed with your strength and resilience.  you also may grab the attention of the adult version of the folks who like punching down on others; let your expeirences with them in school help further temper your risk assessment.\n) you need to confront the people responsible head-on. i was bullied in grade school (for something other than blindness). i finally “snapped” one day and shouted “stop it!  you think it’s cool to pick on me because i can’t defend myself?!”  i said it loud. everyone in the cafeteria stopped talking and looked over. it definitely got the teachers’ attention and they had to acknowledge there was a problem. \n) report the issue to the teachers and staff. part of their job is to keep you safe.",
          "develop an employee code of conduct.  put clear expectations in writing and have everyone sign it so she isn't singled out.  then enforce it, consistently, every single time.\n\nand some things should be zero tolerance regardless of her level of cognitive ability.  treating an animal or child roughly; hitting or striking another employee; threatening physical violence.  that behavior would not be accepted in any other employee - stop accepting it from her.   if your boss is unwilling to make the hard choices here, point out to him that he's been lucky not to have been sued already, and at some point, his luck is going to run out.\n\ni assume you are in the u.s. - in which case you're very lucky not to have been investigated for osha violations if the amputated digit was a workplace incident.   if this employee has the cognitive level of a child and her employers know this, allowing her anywhere near dangerous equipment is reckless at best, and willful endangerment at worst.",
          "i do not think you are mentally unstable, i think you are a human being struggling with circumstances most cannot understand. school is hard enough without extra needs and challenges to overcome, but i do worry about the impact this could have on your mental health.\n\nis there someone you can trust and talk to? and does your school have any support for students with extra needs? ideally there would be a way to report all of this and have it dealt with, but i am unsure about how the school system where you are operates.\n\nfor what it's worth you have talent, and you are capable of seeing the world very clearly (so to speak, i apologise). i hope that things improve for you!",
          "my ass off to get caught up, though it was pretty much impossible when i started so far behind and was still dealing with my injuries, which caused me to need to go home early a lot of days. one day, she came up to me as soon as i got there and immediately started her bullshit. i told her that she couldn't reasonably expect me to have made the same amount of progress as my classmates given my situation. she told me that if i didn't finish my remaining work, at least half a year's worth, in the next  months, she wouldn't even allow me to come back next year and finish my classes, and that she would make sure i would never have a chance to graduate from highschool at all. i just gathered my stuff and left because there's no reason i should destroy my mental and physical health to do something that was basically impossible for someone in my position to do, only for me to not be able to graduate anyway. i sent the hs principal an email stating that i was officially dropping out and told",
          "she will crush your soul at some point,  i’ve been there and i divorced her. \nthere’s only so much judgement and gaslighting a person can take. \n\nthe work thing i understand,  it’s exhausting.\n\nat night i use a mobility cane and i’m at the point, maybe beyond the point where i want to roar with anger at people interrupting me, turning their cars around to see if i need help.  i’ve been followed in my neighbourhood by a woman yelling at me i was walking the wrong way, when i was walking to a friends house. she was yelling and yelling at me.  she obviously knew where i lived.   \ni have had a cop damage my retinas and accuse me of lying about my vision and refusing to take a spotlight out of my eyes, and getting hostile i was covering my eyes. \ni had a security car pull up on the footpath in front of me and demanding to know why i was walking alone on a street.  i wasn’t even near their business.  \n\nit sucks… people don’t know when to bite their tongues.",
          "you never have to accept abuse just because somebody doesn't know better. \n\nthem having cognitive issues gives them the accommodation of you not hitting them back, not of you keeping on accepting their abuse. \n\n\ni would talk to your boss and tell them the same thing. that they don't have to continue employing somebody who is abusing their staff and creating a hostile work environment. and actually that they shouldn't. because by trying to accommodate this one person they are entirely neglecting the rest of their employees.",
          "disability isn't a free pass to be abusive and get away with it giggling. - year olds know that hurting people and animals is wrong. even toddlers know that it's wrong. if she truly doesn't understand that, she shouldn't be in a work environment putting people in danger, or driving a car. but it sounds like she does know, and just wants to take advantage of the fact that she gets to enjoy a double standard. this is an incredible disservice to all the other people who have to suffer the owner's failure to grow a backbone and protect the workers from an abusive colleague.\nthis isn't a safe working situation for you and it doesn't sound like it's a safe one for her either. \n\nyou should not be abused in your workplace, regardless of who is doing it. teachers have every right to refuse actual children who are attacking them. heck if somehow a literal baby was abusing a staff member and hurting them they would also be booted from the nursery.",
          "why....would a grown woman...of any age...talk to another person...regardless of physical or mental health..that way....🫠\nit's really sad how little societal support we have for people with mental health issues like those described above.\nit's pretty tricky in workplace settings in particular...while it's harassment and shouldn't be allowed, actually reporting it and getting hr/management to care/do something about it will depend on the culture of workplace, and people's personal whims and biases (if it's employee that's been there longer they are more likely to back them up) and punish you for being a \"troublemaker\" passive-aggressively- giving fewer hours/sticking you in undesirable shifts, or bad times/sections if you're a waiter, not giving you special projects, opportunities for advancement etc.",
          "aw you are really going through it.  some crappy people are doing a very good job of making you feel like a laughingstock, which by the way you are not.  i know the school has responsibilities to encourage you to be independent, but they don't seem to have the full picture."
         ],
         "marker": {
          "opacity": 0.5,
          "size": 5
         },
         "mode": "markers+text",
         "name": "15_school_teachers_employee",
         "text": [
          "",
          "",
          "",
          "",
          "",
          "",
          "",
          "",
          "",
          "",
          "",
          "",
          "",
          "",
          "",
          ""
         ],
         "textfont": {
          "size": 12
         },
         "type": "scattergl",
         "x": [
          10.221175,
          10.218221,
          13.150204,
          10.209539,
          10.097963,
          10.211771,
          10.184825,
          10.118858,
          13.168479,
          10.126198,
          10.227656,
          10.280383,
          13.10606,
          13.152724,
          13.05201,
          10.167628
         ],
         "y": [
          4.5783463,
          4.601905,
          7.766576,
          4.567609,
          4.706202,
          4.5815525,
          4.5712004,
          4.703048,
          7.7900743,
          4.669511,
          4.573807,
          4.624866,
          7.708514,
          7.787806,
          7.5665426,
          4.6420937
         ]
        },
        {
         "hoverinfo": "text",
         "hovertext": [
          "i would go rollerblading immediately. followed by cave diving, followed by running, followed by cliff diving. (i used to be an extreme sports athlete before my disability got bad.)\ni would be freaked out for a full day and then i would sign up for a marathon. or bungee jumping or go get a passport and go to every country i can.\nthat happened to me once. i have a brain injury plus a brain stem injury so i have various mobility and cognitive impairments.  \n  \nso like in your post, when i suddenly was \"able-bodied\" in every way, it absolutely freaked me out and i was scared but then started to get happy when my hands and arms worked and i could walk well without losing my balance and needing supports. as an aside, i have always considered myself lucky because with my regular testing and hospital visits, i see people far worse than me.",
          "my bugbear is people who are self diagnosing based off of stuff like \"i watched some tiktoks and they convinced me i have adhd/bipolar/ocd but no dr will sign me off so i cant get benefits.\"\ni make myself feel weird bc society (social services, mental health professionals, peers) think my disabilities can be cured or are just a rough patch in life.\nfor me it’s hard to not envy other physically disabled people because of how much my physical symptoms are shrugged off as being in my head. a friend of mine was in the same boat; physically and mentally disabled but having her physical symptoms shrugged off and her concerns ignored while being accused of being a hypochondriac. then one day about a year ago she had a grand mal seizure. finally they couldn’t ignore her anymore and she’s got specialists for her physical and mental health assigned to her now.",
          "i'm quite the opposite i can't stay with people i would have a panic attack unfortunately \n\nit's hard to just check in a hospital for a crisis \n\nlike they force you to share rooms which aggravates my disabilities.\n\nand aggravates my anxiety ptsd symptoms as well \n\njust everyones disability effects people differently \n\nmines kinda severe to me \n\nlike hate the competition thing abled body people created \n\nsound like people have to compete with each other like freaking capitalism \n\njust for disability payments \n\ni hate that \n\ni wouldn't apply for disability if i didn't need it \n\ni felt so much guilt younger\n\npeople saying my disability is not severe because they can't see it \n\nor people always assume you faking it \n\nsince mental illness they quote you can fake \n\nwhich makes me very upset \n\nbecause they will never know how i feel in my body and mind \n\nif only that knew they wouldn't be saying that \n\nand by the way disability payments can't even cover rent payments",
          "i'm , and my mental health was great until i went totally blind  years ago, because as long as i had sight, and even though i only had % acuity, there were still things, like playing video-games and coding, that i could still do completely unhindered and where i could feel normal. i also led a fully independent life where my only annoyance was that my employer only let me work from home on thursdays (this was  years before covid made remote work more prevalent). then i went blind and had a  year long dark period in which all i wanted was to die, and even went through a single psychotic break which ended up with me locked up in a psychiatric hospital for  weeks due to being considered a danger to myself. while i never actually tried to kill myself, because i was always afraid of surviving a suicide attempt and ending up with even more disabilities, if there was such a thing as a pill that i could take to end my life i would have taken it back then and would still take it right now.",
          "i had anxiety just living with family members \n\njust because i live alone people think my mental health is not severe \n\nthat really makes me upset \n\nbecause disabilities effects people differently \n\nmines just as severe or life altering as anyone else \n\njust because i live alone doesn't mean i'm independent \n\ni still can't keep a job and stuff \n\ni don't think being independent is until i can live a functioning life \n\nand people that have jobs still have disabilities \n\ndisability effects everyone differently \n\ni hate this grade scale stuff \n\nthat ableist people use to say you not deserving of help\n\njust ableism sigh\n\nwhich i tell distant family and ableist strangers on social media sites \n\ni don't have to live in a group home unfortunately \n\nbecause my anxiety would get worse and turn to a crisis \n\njust i really relate to your post op \n\ni guess i got triggered by you quoting ableist people that said that to you \n\n\nbut hate people feel like mental illness is not taking seriously",
          "i feel this. i can’t stand for basically any period of time without assistance (from mobility aids or walls/people) and i have massive brain fog issues. i also have an amnesia disorder so i have a really hard time remembering things. i can’t have a job where i need to stand (so most retail) or take orders and things. i worked retail for a while, but i had to call out a lot for pain or other chronically ill things. luckily for that job they let me sit down, but i hated strict cashier days.",
          "i went out of work  years ago and it still drives me crazy but there’s no way i could ever do the work again, or anything productive in the work force again.",
          "work day, business hours, the rat race, hustle and bustle, etc. something happened to me over time. this society seems to have very little tolerance for debilitating mental health. it's only helped by ssi or ssdi, which people can barely survive off of without help from loved ones and friends. that's only if you win disability. i hate being like this, but i have contributed to society and want to live a good rest of my life. i'm . fear keeps me at home, and that depresses me. i didn't used to be like this, but i've had massive, traumatic life changes over the last  years.",
          "even when people are getting paid (i have a mobility disability and home health aides), still it is the responsibility of the disabled person to have depth of care and be responsive to the stated and unspoken needs of their caregivers. that way, everyone avoids burnout and resentment.",
          "the worst part is that i love working and really rather work than sit in bed in pain on a bad day. time, and the pain, just pass faster when you have something to do.\nhonestly i was just about to make a post about a similar sentiment. a lot of my family friends/family are disabled but can work and they are so sure that i should be able to push through what im going through to make it work. that pain is better than being reliant on other people. the reality is i can barely walk, i have several other physical health issues at any given time, and my mental health is so fragile that i just cant handle pressure. there isnt a job that exists for someone like me and of there did id love to have it just so people would stop looking down on me so much.\n\nnot to mention, most of those folks are barely holding it together and throw their health into chaos by constantly pushing themselves. some people have to but a lot of the people i know are too proud even just to lighten their workload.",
          "aww 🥰 it’s very worrying with what is going on, yeah i try not to read the news. i’m glad you have an out let that works for you. my fear is other peoples opinions and thoughts of how i come across because of my mother always criticising my appearance, my weight or hair style or clothing so i cut ties with my family. my husband is my safety net he understands. my agoraphobia came from work when they accusing me for using my mental health as to get time off to go on holiday, it made it worse as now i can’t go out as i think people are judging me for going out and having fun when i have mental health like we are supposed to be miserable looking all the time and also in case i bump into my family i’m constantly looking over my shoulder even though moved far away.",
          "we don’t just sit around all day. i volunteer as a crisis counselor for two helplines, while my husband, who has more limitations than i do, takes majority care of our home (a small apartment that we are blessed to be able to rent) and our son (who is now ). i have gotten used to people ghosting us as friends when they find out we’re disabled. locally, we have my mil and my parents are out of state but very financially and emotionally supportive. it’s fine - we don’t need anybody else, especially if they’re going to be jealous of how we live without knowing the first thing about it. i have learned to stay in my own lane and count my blessings that we have landed on our feet.",
          "or always depending on a relative and not having anywhere to go or anything to do, in my case, while every non-disabled friend or classmate is doing much better.\n\nyou are awesome, op and everyone here.\ni feel you. my physical limitations are pretty mild, but my mental health disabilities make things very challenging. \n\n\n\nmost days are a struggle to get out of bed. my dog helps a lot with this, and he physically forces me out of the bed if it's a really bad day. each day i track my adls to review with my counselor each week. if i comb my hair and brush my teeth every day, it's a really good week. \n\n\n\nin addition to the daily grind, each week i have a ketamine treatment. i have to find transportation to and from because i can't drive for the rest of the day. i spend  hours at the doctor's office under medical supervision after they give me the meds. i also have counseling every week.",
          "anyway, my initial shock or worry was replaced with joy and i became more and more ecstatic until i fell over into a pool or river of smelly gel or poop and then woke up.  \n  \nyup, it was all a dream for me. however, i think that is how i would likely feel in real life.",
          "i'm quite the opposite i can't stay with people i would have a panic attack unfortunately \n\nit's hard to just check in a hospital for a crisis \n\nlike they force you to share rooms which aggravates my disabilities.\n\nand aggravates my anxiety ptsd symptoms as well \n\njust everyones disability effects people differently \n\nmines kinda severe to me \n\nlike hate the competition thing abled body people created \n\nsound like people have to compete with each other like freaking capitalism \n\njust for disability payments \n\ni hate that \n\ni wouldn't apply for disability if i didn't need it \n\ni felt so much guilt younger\n\npeople saying my disability is not severe because they can't see it \n\nor people always assume you faking it \n\nsince mental illness they quote you can fake \n\nwhich makes me very upset \n\nbecause they will never know how i feel in my body and mind \n\nif only that knew they wouldn't be saying that \n\nand by the way disability payments can't even cover rent payments",
          "i had anxiety just living with family members \n\njust because i live alone people think my mental health is not severe \n\nthat really makes me upset \n\nbecause disabilities effects people differently \n\nmines just as severe or life altering as anyone else \n\njust because i live alone doesn't mean i'm independent \n\ni still can't keep a job and stuff \n\ni don't think being independent is until i can live a functioning life \n\nand people that have jobs still have disabilities \n\ndisability effects everyone differently \n\ni hate this grade scale stuff \n\nthat ableist people use to say you not deserving of help\n\njust ableism sigh\n\nwhich i tell distant family and ableist strangers on social media sites \n\ni don't have to live in a group home unfortunately \n\nbecause my anxiety would get worse and turn to a crisis \n\njust i really relate to your post op \n\ni guess i got triggered by you quoting ableist people that said that to you \n\n\nbut hate people feel like mental illness is not taking seriously"
         ],
         "marker": {
          "opacity": 0.5,
          "size": 5
         },
         "mode": "markers+text",
         "name": "16_people_just_hate",
         "text": [
          "",
          "",
          "",
          "",
          "",
          "",
          "",
          "",
          "",
          "",
          "",
          "",
          "",
          "",
          "",
          ""
         ],
         "textfont": {
          "size": 12
         },
         "type": "scattergl",
         "x": [
          11.77444,
          11.599189,
          11.63156,
          11.742692,
          11.573883,
          11.854735,
          12.1280775,
          12.008739,
          12.186767,
          12.154524,
          11.34491,
          10.573983,
          11.987496,
          11.864173,
          11.72472,
          11.63855
         ],
         "y": [
          7.124466,
          7.417115,
          7.2224283,
          6.9054585,
          7.236479,
          6.937143,
          6.7512174,
          6.3898697,
          7.610961,
          7.043133,
          7.1730523,
          6.976722,
          6.751051,
          6.969889,
          7.1629553,
          7.2477355
         ]
        },
        {
         "hoverinfo": "text",
         "hovertext": [
          "sandy hook shooter adam lanza had major untreated mental health issues. his mother, child protective services, and the school system failed him.",
          "here is a major problem no one wants to look at regarding these mental health issues.  \na. we don't have enough mental health professionals to begin with for non-emergency issues.  \nb. there isn't enough incentive or pay to attract people with the training to law enforcement.  \nc. current law enforcement is not setup to deal with the issue.  \nd. in many locations even an ambulance will not approach or provide help until law enforcement has confirmed an area is clear.  \nthis is all adding to the problems we have right now. none of this makes it acceptable for law enforcement to be stepping on peoples rights, or killing innocents. and it's the people suffering and in need of help most who are the victims because of it. but until we really look at the most basic building blocks causing the problems, nothing is going to change. even if we get rid of things like qualified immunity.",
          "[here's his speech]( this sentence is at :.\nas a nurse that spent  years as a prison nurse, i will say that many mentally ill people should be locked up for their own safety and for the safety of others and they are at great expense in our jails. mentally ill people are in need of help. one of the saddest stories i ever heard was a new inmate telling me that the reason he held up a mcd's was he was hungry and couldn't figure out any other way to get food. when he had eaten his fill he told them that they could call the cops. others that could not on their own take their medication correctly. saw one guy trying to renew his meds two weeks early at the drugstore because he had already taken them all.",
          "well obviously no one has ever considered trumps mental health issues either.",
          "fun fact, the conservative paradise switzerland(not as conservative as americans think) requires all insurance, to cover mental health treatment.\n\nnot trying to be political. just saying the people who say we “need better mental health care” don’t care and that’s depresssing",
          "for new patients and sometimes - month waits for current patients with psychiatrists or even several month wait for counselors. many who reach out for help do so at the lowest point and are turned away because provider shortages/unable to meet demand of the public. address the underlying issue, it might not fully stop it but it certainly can't hurt anything at this point.",
          "the parkland shooter also had some serious untreated issues.\nwhen: monday,  august .   \nwhere: white house in an address to the nation after a weekend of unprecedented violence.  \nto who: the nation in a public media address  \n\n\nsources: [  \n\n\nvideo of speech: [  \nexact moment he transitions to this ideal: : - racism and white supremacy are addressed. : - identify early warning signs. : - stop violent video games. : - mental health  laws/treatment/involuntary confinement when necessary. : - remove access to firearms for those who pose extreme risk / remove firearms through rapid due process. : death penalty - quickly - for mass murders.",
          "for what it is worth, over the last year (aug -aug ), there were  notable mass shootings (defined as those which have made national news, resulted in multiple casualties in the same location, and firearm related). there is no universal criteria for what is considered a mass shooting. of those ,  were committed by individuals reported as being mentally ill or having some sort of mental disturbance.  were committed with racism/political goals/white supremacy motives/ideologies. crime, domestic violence, workplace violence, and drug raid make up the remaining . with a staggering number having mental health crisis / disturbances as a contributing factor, a change of some sort needs to happen with mental health. i am not saying trump is right. he's actually far from it. what we need is access to mental health treatment instead of - month waits for new patients and sometimes - month waits for current patients with psychiatrists or even several month wait for counselors. many who reach out",
          "many mentally ill people are locked up 'involuntarily' and it is the jails that they are in where they get basically no mental health care and when they have served their time, they are released back onto the streets to yet again \"lather, rinse and repeat\". one of our nurses left for a community health position and where she met up again with one of our ex-inmates, and he had been going for his care. he had stayed in jail without parole - his choice - served his whole sentence. one day they found him with a blood sugar reading of a  and for those that don't know, the normal range is around - or thereabouts. these people can not take care of themselves. the guy that held up the mcds for food, i'm sure that the corporation would have rather given him food that he needed, rather than the possibilities of the tragic outcomes that could have happened. our mental health system in the usa is a disaster and we should be ashamed that these sick people are left to try and function on their own.",
          "america has so many problems with mental health care that it actually worsens my depression.",
          "our mental health system in the usa is a disaster and we should be ashamed that these sick people are left to try and function on their own.",
          "i see a guy wandering around our town also an ex-inmate that sexually molested his niece and nephew when they were way little. now he hangs out at the local grocery store or wandering around town. apparently doesn't have to register as a sexual predator. he has his problems but every time i see him hanging around little children makes me cringe, however, nothing i can do about it. \n\nmental health is not the sole purview of any president and reading trump's post in total shows that he acknowledges that there is a problem and something needs to be done but no one has had the guts to do it yet.",
          "saying that all republicans should be locked up is even more inflammatory than anything else here. we all have the right to follow our convictions about politics in our own way and i get so tired of democrats thinking that they are the only ones  allowed to have opinions or be allowed to function according to their own convictions is doing more to destabilize our country than anything our current, former, and/or next president can do. if you look to the right, one of reddit rules is decency and civility and statements like that from jeffe333 is certain against the rules.\nnot technically during the holocaust since that process is used for describing the systematic killing of jews.\nbut you're generally right. hitler wanted to get rid of all people with physical or mental disabilities and people with mental health problems. he organized camps for those people where many of them died.",
          "i mean, i don't like the guy, but this is outrage fodder. here is exactly what he said: \"we must reform our mental health laws to better identify mentally\ndisturbed individuals who may commit acts of violence and make sure those people not only get treatment, but when necessary, involuntary confinement.\" we already have laws that allow for the involuntary confinement of people who pose an imminent danger to themselves or others. this has nothing to do with \"mental health disabilities\" since the vast majority of the mentally ill never commit a violent act.",
          "i think this might be overstating it a bit, but i also happen to live in one of the most liberal regions of the country, so maybe i'm just spoiled. we definitely suck compared to other developed nations on healthcare coverage, especially mental healthcare. it's still so stigmatized that people i work with who come to me at the independent living center are often very reluctant to share their disability when it's part of what we ask after (they're entitled to not disclose and i respect that right fully, just wish people hadn't become so conditioned to treat behavioral health as this weird taboo.)"
         ],
         "marker": {
          "opacity": 0.5,
          "size": 5
         },
         "mode": "markers+text",
         "name": "17_mental_health_mental health",
         "text": [
          "",
          "",
          "",
          "",
          "",
          "",
          "",
          "",
          "",
          "",
          "",
          "",
          "",
          "",
          ""
         ],
         "textfont": {
          "size": 12
         },
         "type": "scattergl",
         "x": [
          14.232697,
          14.203109,
          14.260445,
          14.215189,
          13.8243065,
          13.996965,
          14.257522,
          14.21517,
          14.221349,
          13.87583,
          14.058295,
          14.25831,
          12.026186,
          14.297834,
          13.7637205
         ],
         "y": [
          5.919532,
          5.946054,
          5.9342933,
          5.9250803,
          5.946489,
          5.9724092,
          5.955793,
          5.902082,
          5.9247193,
          5.941733,
          5.9247956,
          5.950661,
          8.502061,
          5.9056787,
          5.959858
         ]
        },
        {
         "hoverinfo": "text",
         "hovertext": [
          "paratransit in some progressive cities are getting better when they utilize the micro transit services sometimes offered by third-party, subcontracted programs that are not the clunky short buses they pick you up within a  minute window and then you can be on the bus for up to  minutes each way. again, the micro transit would be a city where uzurv or via transportation operates.\nthis is a deeply personal decision! i am totally blind and have had made every choice about where i live based on public transportation. i live in a big city and bought a condo less than a block walking from the nearest subway stop. for me, paratransit is not really a functional option because it is so unreliable and can take so long   also, for what it's worth i find it easier to make friends in big cities because there are just so many people around\nwhere are these places y’all live with public transportation and walkable places? i’m in the same position and trying to move.",
          "obviously anyone who’s using equipment unnecessarily because they want attention or to be part of a protected group is completely in the wrong. \nhowever, it’s an extremely small minority of people who might do this. evidence suggests that people under report disability and equipment is used less than it should be. stigma against people using equipment is huge, and equipment is cumbersome, it’s not some fun ride and anyone who doesn’t need it and doesn’t have significant mental health issues is unlikely to keep using it long.",
          "i am in my 40s and have never been able to drive. since becoming an adult i have spent half my time in a large suburban town with no public transport and half my time in a small rural town with no public transport. if i had to choose i would say the rural town was better. it was walkable and had bike lanes and sidewalks and people i knew that would give me a lift in the pouring rain. the suburan town had no sidewalks, no bike lanes, and everything was miles apart.\n\nfor the first time in my life i have access to public transit and i still want to cry with happiness everytime i can choose to go somewhere and really be independent but it's still a limited service that doesn't give me the same freedom as a large metropolitan transit service.\n\ni think that we are less limited by geography an more limited by car centric locations and lack of full services and lack of connected communities.",
          "to be fair though, i couldn't say i really *fully* enjoyed living in the us because, y'know, i was never going to be able to live independently.\nfollowing this thread, wondering the same thing as i plan to move soon due to vision loss and want to maintain independence through public transportation \ni also have rp, and post-undergraduate degree have lived multiple places where having public transportation/walkability was one of my top priorities. my position is different than yours, as i was legally blind by  and had to make these decisions as a young adult rather than an established adult with working vision, but from my experience, i would absolutely recommend moving somewhere/living somewhere with public transportation that  allows you to be as autonomous as possible. i would never consider moving somewhere where i can’t be independent and navigate, at this point in my life",
          "ugh you get it. it doesn't get easier but it's just...annoying? i am not powerchair yet but not far off, how did it help your mobility? is it easier to get to shops and the like or harder because of the need to transport the chair? hope it's not rude to ask! just hoping to find good recs for when that day comes. because it will. \n\n  \nalso thanks for just being honest and saying it won't get better. it won't. i know that. you know that. platitudes don't make it better, but someone being real with you...that makes it better. :)\npowerchair basically made the difference between being trapped in the flat, completely dependent on others (usually strangers) and a reasonable amount of self sufficiency.",
          "i was resistant to starting to use a mobility cane myself, i was already anxious being in public and the cane made that feeling worse.  like you, i've walked into things and smacked my head into immovable objects.  that ghot me thinking about the kinds of risks i now face in terms of personal injuries.  this became a more pressing concern after i hurt my shoulder walking into a bike i didn't know was there.    if i keep hitting my head, there's the possibility i could break my nose.  i personally like my nose the way it is, so i started making changes that dropped the opportunity for injuries.  mishaps i was having one out of every ten times i did something, i worked to drop that to one out of every hundred times, or once every thousand times.  if i'm walking at speed and miss a curb, that can result in dental damage i'm similarly not interested in experiencing, same as with breaking my nose.",
          "i teach kids how to use canes for a living. i can’t imagine anyone using one for attention or anyone thinking you’d do that. if someone accuses you of doing that i would assume that they are seriously struggling with their mental health and that has more to do with them than you. so try not to worry about that too much. but i know it’s a big adjustment and just another thing to be self conscious about…my advice to you is to embrace it. rock the cane! people will be jealous of your confidence. anyone who gives you shit for it or makes you feel bad doesn’t deserve to be in your life. hope this helps.",
          "i'd get a mobility scooter if i could, but even second hand they're over £ (wtf?!)",
          "if you would like to talk about how to use a cane before, you actually get orientation and mobility training, send me a private message, and i can try and help you out.",
          "if at all possible, look into the ottobock selection of powerchairs. you can choose standard rear wheel drive, or get front wheel drive (or even middle!) and they look good while being built like tanks. almost indestructible.\n\ndirect honesty is the least you deserve. i just hope you’re spared the path my progression chose to take. i turn  soon, but my heart is so damaged that i repeatedly get warnings from medical professionals that i’m on borrowed time. ugh! stupid fucking bodies! *hugs*\n\ndm me anytime you need to vent or anything.",
          "where i live, within  minutes walking distance, there’s about  drugstores,  huge groceries and another small one,  discounters, multiple cafés and bakeries not counting those in the grocery stores,  butchers, a very high quality perfume and makeup and such store, multiple pharmacies,  hairdressers and  parks. and iirc  or  are not accessible to me. every other store i can go in, look around, get assistance as needed for articles on high or low shelves, check out, pay, pack my purchases all by myself if i want to.\n\nyes, it complicates transit somewhat. i use public transit as much as possible, and a disabled transport taxi service. when dh and i want to go somewhere in a car, we’re stuck with an uncomfortable old folding manual chair, but we’ve managed to make do.",
          "i have rp and so does my cousin. i strictly live in large cities with public transport and would never live anywhere i couldn’t get around myself. i am comfortable with the cane at night when needed. i am very much happy being independent but do rely on others for certain things. \n\nconversely, my cousin also has rp and lives in a rural area close to family. he is not happy and often finds himself frustrated by having to rely on others for almost everything. he doesn’t seem as happy and doesn’t know how to use the cane.\ni fully moved countries for the public transportation.  although originally i was interested in the country i'm living in for other reasons, what changed my mind about staying permanently rather than come for short visits was the freedom i found here that i had never experienced before.",
          "do what you need to do to feel safe when walking.  that's it.  there's really no other consideration needed.  doctor recommended it?  that's always a pretty good indicator of what mobility equipment you need. \n\nget training to use it properly and to get the correct length and tip.",
          "so for the most part telling people “if you think it’d help you live your life then you’re the judge” is not likely to be problematic. gatekeeping equipment is far more likely to cause issues. most people don’t act they luxury of waiting for mobility equipment to be prescribed either. it took me  years to get a wheelchair prescribed, and i’ll still have to self fund most of it. those  years after years of being housebound i’ve been able to live a full life and get back to work because i went ahead and got myself a small mobility scooter.",
          "say you have  trip per day with a client, could be drs, shopping, etc....\n\n£ each way is £.\n\nsay you have  staff members that can't drive (not just because of blindness), that's potentially £/day or £/week just on taxi/uber.\n\ndue to low mental health funding, money is often pretty tight.\n\nin the uk we have fairly decent public transport but managers would still complain about bus/train ticket costs."
         ],
         "marker": {
          "opacity": 0.5,
          "size": 5
         },
         "mode": "markers+text",
         "name": "18_public_equipment_transit",
         "text": [
          "",
          "",
          "",
          "",
          "",
          "",
          "",
          "",
          "",
          "",
          "",
          "",
          "",
          "",
          ""
         ],
         "textfont": {
          "size": 12
         },
         "type": "scattergl",
         "x": [
          8.462608,
          10.28921,
          8.581223,
          8.396292,
          9.581844,
          9.764645,
          9.822089,
          9.590945,
          9.745654,
          9.57804,
          9.595598,
          9.519518,
          9.82125,
          10.096557,
          9.614599
         ],
         "y": [
          6.342944,
          8.002596,
          6.4131303,
          6.3249993,
          7.487796,
          7.8143687,
          7.925936,
          7.5080323,
          7.8549757,
          7.52097,
          7.3733263,
          7.4489202,
          7.8936124,
          7.8377156,
          7.262326
         ]
        },
        {
         "hoverinfo": "text",
         "hovertext": [
          "where are these places y’all live with public transportation and walkable places? i’m in the same position and trying to move.\nhave you reached out to a local blind organization? maybe they will have strict strategies in orientation and mobility for navigating your specific area. i cannot promise you strategies will work for you/be affective but they would be the best people to ask. especially because i bet you are not the only blind person in your area to have that same kind of issue",
          "hope this helps.\nhi, hope you are doing well, i have lived in india my entire life, recently moved to australia, but i can tell you that i shared same sentiments as you while i was there.",
          "i’ve been completely blind, my entire life, might i suggest learning to do things non-visually, because i feel like you’re limiting yourself by the small amount of vision that you do have. i know you mentioned you don’t like gardening, but have you thought of doing things like, making your own jams? i do think some therapy might help, just to help out with the grieving. i too lost a parent. the reason why i say learn to do things non-visually is because i am completely blind, and i have done plenty of sports in my life, as well as dance, and a few other things that you mentioned that you said blind people couldn’t do.   a change of location might do you some good. it will give you a fresh start, and it certainly helped me when i lost my parent at the age of . perhaps take up some thing like cooking or baking? origami is also very interesting, you can get into lego building, all these things are accessible for blind people nowadays. in fact, there’s a whole world of accessible things",
          "i agree with everybody else. i am blind, i have no usable vision whatsoever in my eyes. the right eyesight is gone, from a stroke when i was but say about seven years ago, i’m . i have a four multiple brain aneurysms, my eyesight has slowly been going for over  years. i am now i am blind, i live by myself, i take mobility lessons to walk back-and-forth to the stores, i can walk back-and-forth to the post office. your best bet is to contact the division of blind service, make sure you have paperwork from the eye doctor, and they will start helping you, look for places that you can go for independent living, braille, most of all mobility training. whether i’m blind or not, i love my life. i wouldn’t change it for a minute.",
          "move to a city. you say you got the money for it so go for it, buy a place, then you can perhaps look into these blind organisations in america, then maybe sports, you could try rock climbing, cooking, force yourself to go to events youmay not  want to, put it this way, you can sit and be sad  in your house, or you can get out off of  your arse and try and live.",
          "as i'm sure you've realized, lots of blind people do have some functional sight! so perhaps you've been in proximity with a blind/vi person and never knew it ☺️\n\nadditionally, regardless of if you pursue surgery, i'd look to see if there are any low vision services even remotely in your area. orientation and mobility, vision rehab, any sort of adaptive tech services. that will introduce you to lots of strategies and resources. those professionals - i'm one of them, and i'm blind! - will probably have suggestions for in person networking, even if it's a bit of a drive, or only once a month, or over zoom, etc.",
          "you can get into lego building, all these things are accessible for blind people nowadays. in fact, there’s a whole world of accessible things for blind people nowadays.  you’re never too old to go back to school.   also, what’s this about having a rich man to support you? i want one of those? ha ha… seriously was that  something your parents told you you needed?",
          "first of all, are you here in the united states; if so, i might know a job that you could do from home, that does not take up a lot of time, and would be i believe a perfect fit for you. i work at this company, myself, and i know the ins and outs as to what is going on with the campaign that i’m working. and everyone here where i work are either low vision, or blind. and we have a very very good community of people who help each other and are aware of each other’s needs in assistive technology, throughout the workplace. if you are very interested in this, please send me a private message and i can tell you more about it.",
          "i lost a significant portion of my vision at  after a medical emergency.  has your mom seen a low vision specialist?  if not, then she definitely should.  mine hooked me up with all types of resources.  \n\nhas she contacted her state's (assuming you are in the us) organization for the blind and visually impaired?  our's is wonderful and offered orientation and mobility training and assistance with training on and accessing assistive tech.\n\nios and android both offer a ton of accessibility features for the visually impaired.  however, there is a learning curve, and i think it is additionally frustrating if you over-rely on your remaining vision.  i learned a lot by looking up youtube videos on talkback for android and i'm sure there are similar content available for ios.",
          "if you are patient and enjoy teaching, you could look into joining an assistive tech service (probably state occupational services) for the blind. then you’d have motivation to learn the tools since you’d be teaching them to others. as i’ve met more and more older blind people, i find that there are many who haven’t gotten very far with learning to use phones or computers and could really get some functionality back just learning and practicing the basics like emailing and texting and being able to chagne the speaking rate and turn the screen reader off and on. i enjoy teaching an older friend how to use voiceover on her phone, but it does take a lot of patience and repetition. \n\ni love exercise and i’m looking to get a guide dog that the trainer has agreed to teach to run. it‘s a small company though, and they might not have all the dogs for the demand.",
          "for context i have rop and amblyopia and extreme myopia i don't know if it's as bad as your situation but i pretty much can't see from one eye and have very bad vision in my working eye.  \nnow with the issues.  \ncolleges in india are absolutely crap when it comes to accessibility and i realised it now after coming to australia, one semester i spent at college in india  years ago was nightmare and i pretty much had to drop out cause i couldn’t understand anything in class i often got bored and left the class cause i couldn’t see the board or projector and teachers never uploaded lecture files on the learning platform, same problem with books as well i didn’t know much about screen readers back then so never used them.",
          "if you were declared legally blind by your state. your first step should be contact department of blind services in your county, they will then turn you case to let’s say maybe lighthouse or something similar like that where they do classes to teach independence for the blind, and they could assist you with mobility training, the way that you specifically would need it. that’s where i suggest you start. it is just my opinion. i’ll be praying.",
          "the content will still likely be visual, but there are alternates to learning those or try and gain understanding through context/ other books materials.\n\n​\n\nstudying offline is always a better idea, there's a slight chance you'll end up making friends there which will help a lot, but again a greater chance of you just ending up alone and ignored.\n\nexpecting accessibility accommodation's from any uni in india is like expecting politicians to be saints, so you have to have work arounds for most things and most expenses are out of pocket for any and all assistive tech/ help that you might need/ require.\n\nthey do allow you writers for exams though, people who read the questions to you and will write what you say( don't get me started on how horrifyingly bad and or wrong this can and does go at times), although now they might also allow you to take your exams on a pc with a screen reader and or magnifier.\n\n​\n\nwhen it comes to mobility and going anywhere alone in india,",
          "​\n\nwhen it comes to mobility and going anywhere alone in india,\n\nforget walking on the roads, it mostly consists of walking about and asking for help from people to get to where you want to go. to be fair the people in mumbai are lovely, but asking for help of any kind has always been very difficult for me, at least.\n\nuber and such help a bit with mobility though, as long as you can afford it.\n\n​\n\norganizations in india to help the visually impaired or those going through vision loss do exist, but they are most often than not toxic, very rude and very likely of not much help unless you can politic with the best of them, in which case there might be some hope.\n\nthere's nab (has different state branches), tti( in pune), aicb and so on.\n\n[eyeway.org]( is a decent resource for a list of organizations and a number where you can call and take help? from a counselor for the type of questions you have.",
          "just like you i always felt very lonely in india most of my adult life cause most of my existing friends moved out and making friends was really difficult, i couldn’t find any local groups or anything either, i did make an discord server before but that server is now dead but you can join discord server of this sub reddit of which i am a part of as well and it’s a chill place.   \nfor physical activity since my doctor told me not to lift heavy weights i resorted to walking that too mostly inside my house cause i can’t see much in night time.  \nnow about going out and stuff i used uber and ola a lot but i know it’s not the most affordable options.  \nin recent years right before i moved here i used swiggy for pretty much everything from ordering groceries to send stuff to people’s houses again depends on availability, i used urban company for getting haircuts etc.  \nif you don’t already have udid get one it’s important.  \nnow the job part,"
         ],
         "marker": {
          "opacity": 0.5,
          "size": 5
         },
         "mode": "markers+text",
         "name": "19_blind_india_vision",
         "text": [
          "",
          "",
          "",
          "",
          "",
          "",
          "",
          "",
          "",
          "",
          "",
          "",
          "",
          "",
          ""
         ],
         "textfont": {
          "size": 12
         },
         "type": "scattergl",
         "x": [
          8.04568,
          8.357438,
          8.05697,
          8.054128,
          8.251396,
          8.076668,
          7.9518046,
          7.8543744,
          8.002125,
          7.760592,
          8.160085,
          7.98473,
          8.240874,
          8.197899,
          8.571074
         ],
         "y": [
          6.1265063,
          6.0325418,
          5.9966574,
          6.0237103,
          5.896242,
          6.010899,
          5.9448743,
          6.0701647,
          5.998439,
          6.0399256,
          5.984345,
          6.1425185,
          6.0263762,
          6.089486,
          5.967724
         ]
        },
        {
         "hoverinfo": "text",
         "hovertext": [
          "drug seeking for seeking non\\-controlled medication to help them. until we start taking mental health seriously, we have no right to complain about suicide.",
          "i’m trying to be realistic, especially when it comes to my mental health treatment and protocol. i always say to my doctors - please be realistic, don’t lie to me, i know that some things will probably stay forever. like, you can’t just do lobotomy and forget about trauma or get rid of effect it has on your brain, because it’s permanent. still - there are things i’m able to change, so i should focus on them.",
          "i do not live in a state with any form of death with dignity or assisted suicide, and the thought of how painful my life may become both physically and mentally (i have tried almost every medication available for bipolar disorder, severe anxiety, ptsd, etc and have been told we may be near the point where there are no other options to try) terrifies me. i have had to live within this broken body, i fight daily for quality of life, it should be my right to decide when it’s enough and i no longer want to live in constant pain.",
          "you don't get to decide for another person if their life is or is not worth living.  you don't get to decide for another person if they should or should not pursue other \"options\".\ni have significant mental health issues as well as a rare, life limiting, often terminal genetic disease and i think people deserve the right to decide when the pain of living, be it physical or mental pain, outweighs any quality of life. of course this needs to be done with qualified physician guidance and oversight, as well as documented attempts at treatments that have failed, but in the end it’s far better to allow someone to die with dignity than to force them to resort to far more painful options that can end up increasing suffering if they fail or to suffer far longer than necessary. if we respect someone’s autonomy over their body, that really needs to include their right to decide (under the mentioned circumstances) whether or not to continue their life.",
          "and you or some journalist or anyone not directly involved with a patients treatment extensively, with access to all their private information, records, and everything else, and with the appropriate training and knowledge, have zero right to decide if a person with mental health problems should or shouldn't seek assisted death.  it is as absurd as people who tell someone suffering from mental health issues to \"just exercise and you'll cheer up\".  you're not that person, you're in no position to make a judgement about anything.  no one but that patient and the professionals involved have any right to make that decision for them.",
          "dying isn't the only way to end the suffering. it is the most permanent one, though, and in the depths of depression or other mental health crises, it may seem like the best option.",
          "on one hand, i’d accept it in a heartbeat. after three suicide attempts, that sounds like a dream come true. i have treatment resistant depression and over  years of treatment hasn’t done much. on the other hand, i am poor af and can’t really afford all the snazzy new treatments that they’re offering now so maybe that’s why. which brings up the point… desperate people (like me) will die when they don’t actually need to. regardless of my severe mental health issues, many people will say that it’s a bad thing when people who could have lived healthy lives are instead killed because they are part of a specific bracket like poor. canada might not go down that path, i don’t know. but if they start offering this in usa, very specific demographics will % be targeted.\ni am all for the right to die. doctor assisted suicide. but there is a slippery slope. is there a link that i can read up on it? the mental health aspect of it?",
          "well low and behold there are proven studies about the effects of improper hormone levels on mental health and i feel that there will be people like me who will qualify for maid when all they need is a simple shot and follow up therapy to come to terms with the suffering they had under mental health. \nwhat we need is a mental health overhaul and update!\nno.  you're not those people, claims about \"other options\" are wild speculation from people not actually involved with the treatment of the patients.  wherever it's been made legal it's a long complicated process with tons of checks in place, not just someone ticking off a box.  the idea a \"cranky burned out doctor\" is going to go through the massive complicated effort involved in approval just isn't a real concern.  following the idea of denying something because of the remote off chance it might be used inappropriately can be used to justify not allowing anything.",
          "there is a debate on whether suicide is selfish. i do think suicide is selfish, but i don't think being selfish is a bad thing. we're all selfish to an extent. when a person is committing suicide they are in a place of hell and want to escape. the people who don't want them to commit suicide are usually concerned about their own feelings around death rather than the persons suffering. yes there is mental health treatment, but it's hard to access. there aren't many good psychiatrists available, especially those that take insurance. even then you get comments like \"what do you have to be depressed about. you're in a 1st world country.\" \"everyone is a little bit ocd\" \"medication should be a last resort.\" \"she's bipolar. one minute she's happy the next minute she's angry.\" \"you look fine to me.\" \"every teen does that.\" heck people are called drug seeking for seeking non\\-controlled medication to help them. until we start taking mental health seriously, we have no right to complain about",
          "i’m conflicted. as some have said, the medical community can be very patronizing and short-sighted in their definition of “quality of life.” but for some patients…it does really seem like this might work out?\nus mental health facilities are atrocious.  “therapeutic environment” my ass.\nnot saying it shouldn’t be an option. but it feels like the way it is implemented says more about the intent. i’d much rather someone who wants to die do it in a safe and supportive environment rather than improvising at home where it’s going to cause more trauma to other people. i’d also much rather the request start a general mental health conversation rather than someone going it alone in a bad headspace. that’s not what this feels like to me.",
          "my issue with doctors is: say i've been diagnosed with a terminal illness, and the doctors push and push me to undergo surgeries, chemo, radiation, whatever to extend my life...the doctors never ask a person, \"do you want to live?\"\ni don't think it should be allowed for mental health. unless it's treatment resistant depression, i see no reason. it just stigmatizes getting mental health treatment and working on it, people just will choose this path.\n\ni have pathological depression that's not treatable with anto depressants, pretty much the term isn't used, but it's because my depression was caused by a tbi. \n\nit's different than depression that's caused by a chemical imbalance that can be treatable.",
          "i'm permanently banned from benzos when i have absolutely debilitating anxiety (and despite that i only took my klonopin like twice a week tops, i feel much better just knowing i have the option), and all that does now is force me to self-medicate, which just leads me to being accused of drug seeking again!",
          "i also think this sets a slippery slope because at what point does it go and become physician assisted homicide when a person pushes the individual to do it.\nfor me i feel the current treatment of mental health is impaired to pharmaceutical companies pushing meds.\nfor me i met the criteria for maid under mental health that was non-treatable! however, a few years ago i started receiving testosterone treatment for fertility and low and behold my chronic depression/bipolar cleared up and i'm successfully \"cured\" of my previous condition.\nwhat i'm trying to get at is when i told my psychiatrist and dr. about the changes they said it doesn't work that way here try these meds! i have been off my meds for over a year now and i am doing better now than anytime in the last  years of treatment for my \"treatment resistance\" depression"
         ],
         "marker": {
          "opacity": 0.5,
          "size": 5
         },
         "mode": "markers+text",
         "name": "20_treatment_suicide_decide",
         "text": [
          "",
          "",
          "",
          "",
          "",
          "",
          "",
          "",
          "",
          "",
          "",
          "",
          ""
         ],
         "textfont": {
          "size": 12
         },
         "type": "scattergl",
         "x": [
          14.1133995,
          12.742995,
          14.164183,
          14.14861,
          14.137967,
          14.156938,
          14.144352,
          13.8982935,
          14.142823,
          14.1366415,
          13.9974575,
          13.461046,
          14.000274
         ],
         "y": [
          6.3288093,
          6.610932,
          6.4376345,
          6.4102683,
          6.372983,
          6.430973,
          6.4094133,
          5.733794,
          6.4048634,
          6.3768063,
          6.4073143,
          6.279589,
          6.2699356
         ]
        },
        {
         "hoverinfo": "text",
         "hovertext": [
          "when you are in the workforce as a blind person, unless you are working  from home, you need a good amount of determination.\n\nbetween having to make adjustments any time something changes in the place, staying on top of transportation, and all the other bs, there is a lot of extra effort we make.\n\nunless you got the determination and a set of clear goals that you want for yourself, a sustained career of any sort is pretty unlikely.\n\nyou and your mom are talking about your brother like you are discussing how to place the new couch in the living room.\n\ni am sorry to say that if you are at the point of asking others for help with your brother's direction in life and it does not occur to you to think of his opinion one time while writing  the post, then neither piece of advice is gonna do anything for him.",
          "so yes, from afar, those are the two major things you can do for him is just make sure he has a decent, smart phone and he knows how to use it and it’s very proficient at using it and also he has access to a cane that he can use to travel and learn to become more independent one just being able to walk around on his own.  there are a few videos on youtube, which you can listen to on teaching somebody how to use a white cane to help navigate but again the best thing to do is get them somebody in person to teach him.",
          "the nfb or the national federation for the blind, will give them a free cane once a year, so you might want to get him signed up for one of those. that way he can learn to use it and become way more independent and be able just to walk outside safely and efficiently, if you so desires,.  normally your state agency for the blind or the lighthouse for the blind can assigned a orientation and mobility specialist to teach you how to use a cane, but i do know and rule situations it’s kind of hard to get one of those people out there.  if he manages to attend the school for the blind, which we pretty much all would recommend he does, they would teach him orientation and mobility skills there.",
          "if your boyfriend's blindness does become severe enough that he can't work then there's several variables in the relationship that need to be addressed:     \n)  can he be considered for disability which may offset some financial stresses?    \n)  can you two still connect on an emotional/personal level even if he's blind or severely visually impaired?    \n) does he have meaningful hobbies or secondary interest that could occupy his time if he cannot work?  this is important for him because otherwise he could become depressed and reclusive.    \n) can you assist him/ or you willing to assist him in certain task?    \n) are you or him willing to redefine not only your relationship but your future lifestyle together?    \n\n\nalso, not to offend you at all,  but please keep his personal well being in mind and make sure he's not going to slip into a depressive or self-destructive funk.  it's important you both be honest and realistic but also open to change.",
          "i think that’s a good starting point and please let us know if you have any further questions.  finding work as a visually impaired or blind person is very very very very difficult but it’s doable with a bit of effort.  he should just make sure he’s fully comfortable with using a computer blind\nmy  yo is well aware she will have to leave our rural location once she's finished school. even if she moved to our nearest town it would be a help. she's always known she will need to live somewhere with public transport",
          "now, there is a whole other aspect to this that is also worth investigating, because it sounds like your father needs to cultivate some blind life skills that will help him regain his independence and self identity that he so badly needs right now. i believe that at a certain level of visual impairment you need to develop blind skills or spend the rest of your life thinking everything is closed off to you. i have pretty good acuity for a legally blind person but enough problems to make me have to do almost everything the blind way, as much as possible, so that i can use my little bit of vision for the things it is still good for. i can’t read long text, get very little out of screens and can’t do any fine work visually. i have to use screen readers for everything tech-related and other assistive tech and alternative techniques for everything else. using these tools is what helps me keep working, keep paying bills, be on the web and every kind of self fulfillment. without them i would",
          "i can't help you much with most of your questions, except to wish you well and all the best, and it's a tough slog ahead.\n\na few things/ tips, might be totally wrong, so take them with a grain of sault.\n\ndon't rely on your vision, use it as an extra pare of hands as it were when necessary, and instead of using read aloud, start using screen readers for both the pc and mobile. the sooner you do this, the better off you will be in the long run, could also give magnifiers a go, should they be of any help with the amount of vision you have.\n\nunfortunately, whilst screen readers do work with pdfs, and do not necessarily need to be converted to word, the flowcharts and tabular information is often screwed up. don't rely on what your uni is teaching you, just see the topics they have, and learn them online through edx, khan acadimy and so on.",
          "he also is very resistant to using technology. i have mentioned screen readers before and he mentions how embarrassing that would be (but shoving your face into your phone to read a text is not? lol) \nhe is just resistant to all of it. we downloaded a magnifying glass app to help him read menus at restaurants and he was telling my husband how embarrassed he is to use it - even though, in reality, no one is paying attention",
          "my guess would be that he is a bit resistant to these things and is trying to do everything like he would as a fully sighted person, which is probably really holding him back. a lot of people our age would try to deny how visually impaired they really are and stay away from all the assistive tech that could free them. this is something that talking to other low vision people could help with, as i’m pretty sure the results are fairly self evident. you just can’t be successful at life as a blind person if you keep on denying that you’re blind.\n\n(i am doing a lot of guessing at he state of his vision here, but even if he is not legally blind he may have enough of a visual impairment that a lot of these things could help him. canes, for example, aren’t only for the blind. there are quite a few people who are not legally blind but can still benefit from using a cane in situations that require it.)",
          "get with his local state agency for the blind or his lighthouse for the blind and they can help get him the services he needs to become a successful independent visually impaired adult.  depending on his state, he might have a school for the blind that he can attend where they will teach him independent life, skills, and orientation and mobility skills plus things like reading, braille, and accessible technology for the visually impaired.  if you get a referral from your state agency for the blind, or the lighthouse for the blind, most of the schools for blind individuals are free.",
          "how good is he at using a computer, a tablet and a phone on his own knowing that he’s fully blind?  for all those devices, the screen, reader, software is free and built-in to the phone in the tablet and for the computer it’s also free and offers a lot of support for visually impaired and blind people.  getting used to the screen reader on his phone is key because that’ll help him understand and be able to navigate screen readers, and what he would want to do for the future is get very comfortable with using the screen reader on a computer.  i know i mentioned the tablet and i don’t think the tablets too important, but just keep in mind that’s gonna be pretty much the same experience as using the screen reader on his phone so that’s not necessarily important as long as he has a decent phone, that’s he can use.  just being honest here, but the google pixel phones on the android side of things, and pretty much all the iphones on the apple side of things are super accessible when it",
          "else. using these tools is what helps me keep working, keep paying bills, be on the web and every kind of self fulfillment. without them i would probably be in exactly the same place as your dad. so, is he using any assistive tech and learning blind life skills? has he had any kind of assistance from vocational rehab? besb? is he using a cane or screen readers?"
         ],
         "marker": {
          "opacity": 0.5,
          "size": 5
         },
         "mode": "markers+text",
         "name": "21_blind_using_screen",
         "text": [
          "",
          "",
          "",
          "",
          "",
          "",
          "",
          "",
          "",
          "",
          "",
          ""
         ],
         "textfont": {
          "size": 12
         },
         "type": "scattergl",
         "x": [
          7.7509093,
          7.6624637,
          7.6937246,
          7.729098,
          7.708538,
          7.727618,
          7.434732,
          7.4798493,
          7.681933,
          7.721697,
          7.437297,
          7.495247
         ],
         "y": [
          5.759687,
          5.836533,
          5.800767,
          5.72685,
          5.780705,
          5.720826,
          5.7689013,
          5.6809354,
          5.8293138,
          5.8206606,
          5.7335653,
          5.6579275
         ]
        },
        {
         "hoverinfo": "text",
         "hovertext": [
          "personally, i don't believe that comparison works well - coming from both a physically disabled person, and as someone who worked in accessibility for a number of years. whether we like it or not, the organisation is placed in power over the individual in these situations, therefore it's less about the principle and more about what they will accept as an argument.",
          "there have provided no access measures at all to tackle the issue. it’s not an issue with the department or what will happen at the appointment. it’s an issue with the building. so don’t know how that would be considered reasonable.",
          "is it possible to talk to the clinic manager/head of office where you get mental healthcare services and have a meeting where you can talk about your concerns re: diagnostic changes? this seems like something that should have an administrative explanation.",
          "private organisations on the other hand does have a few things in place. but they are only for their own employees.\n\nfor most companies based out of india, making the workplace inclusive is all about making it inclusive as long as it doesn't cost them anything extra.",
          "that is why i would advise to avoid the comparison, as the easy retort is \"this isn't a physical accessibility issue\" because it isn't, and that can stop the discussion there and then.\n\nwhat you have outlined above about danger is way more in line with what they may accept. they are unlikely to accept the building being the issue - as the issue is the building may add to a certain response, the response is what is denying access.",
          "hopefully pals can help you find a solution though!\ni am in the us so i'm not talking about uk law, although we share a common legal ancestry and sometimes share precedent. i am only sharing my experiences and what can be, in my country, considered undue burden. your legal system also uses the same \"reasonable\" terminology as the us and your equality act explicitly states that discrimination is unlawful *unless there is good reason*.\n\nmy husband died in a hospital in my city. it was deeply traumatizing. i need to receive a specific medical treatment there every quarter. when i asked it be moved to a different hospital in my city, in the same hospital system, i was denied. my provider doesn't work at the hospital and the treatment i receive isn't provided there - i need to go to the specific specialty clinic to receive my treatment. i worked with my therapist at the time to develop coping strategies to learn to manage being in the same hospital where he died.",
          "and to be honest, i didn't get far with that criteria. it's easy to find professionals that can understand how racism is deeply tangled with other stuff or even how lgbt+ identities can be tangled with other stuff, but it's extremely rare to find someone with minimal knowledge of not only the culture, but as well the disability history, and all the subtleties of the disabled/deaf/deaf/hoh identity.",
          "i think the comparison to physical disabilities is a tricky one, personally, i think they are often taken more seriously than mental disabilities and it helps me get the point across that in the eyes of the law they should be the same.\ni’m way past the point of grounding techniques helping. being there with someone does not help, we have tried. i have suffered a psychotic break trying to get into that building supported by two mental health nurses. it’s inaccessible for me. i also know an ecg can be done at almost any hospital around here, it’s not a specialised test.\nthank you so much. it absolutely sucks that things like this happen and i’m sorry you were in such an awful situation. i’m the same with not being able to drive past the building. unfortunately as i’m in wales i don’t have ‘right to choose’ so i have any right to swap my cars to another place without extremely good reason. i just really hope pals helps me in advocating that my mental health condition is good reason.",
          "i don't know what they may argue back, but they'd probably say that the support of mental health professionals constitutes a reasonable adjustment. regardless, i stand by my point that i don't think comparison to physical impairment is helpful - and in the eyes of the law, it's not about the nature of the impairment, it's about what the organisation deem \"reasonable\" and that does change based on accessibility needs.\nif you don't get anywhere with the cardiologists, it might help to talk to your mental health team about the issue, since they seem to be very involved in your care. (i didn't want to assume - from my understanding it can be very difficult to get mental health care with the nhs.) they are going to be infinitely more informed about your challenges and what has and has not worked for you in the past than me, an internet stranger.",
          "if they're in the same hospital system, perhaps your mental health team could advocate on your behalf to have your testing moved to a different building?",
          "i am unsure if it's discrimination, but comparing a non physical access need to a physical access need doesn't help your case. i'm not saying ptsd is easy, or not an impairment - but you are able to physically access the building, and a physically impaired person is simply not.\n\nit'd work better to frame this entirely within a mental health accessibility context, as these are simply different problems with different managements.\n\ni'll also say under uk law, it's about whether or not your access requirement is deemed \"reasonable\" by the organisation providing the access. they'll argue that they have provided reasonable access measures most likely, so going forward with discrimination is unlikely to get you anywhere.",
          "i think it's worthwhile to ask if there is a reason it needs to be at this specific hospital, but i also think it's important to be aware of hierarchies of power, whether we find them just or unjust, and function accordingly. if you need this medical care and the people with the power to provide you the medical care will only provide it at this singular location, it might be an option to work with your mental health care team to develop coping strategies around this specific trigger (grounding techniques, emdr, being accompanied by someone to support and guide you through the current moment, etc).\ni don’t think you fully understand, and to be fair that’s my fault for making not making it clear. i have tried to access the building with support of mental health professionals and suffered a psychotic break in the process, harming myself and trying to harm others. the building is not only inaccessible for me, it’s dangerous to myself and others."
         ],
         "marker": {
          "opacity": 0.5,
          "size": 5
         },
         "mode": "markers+text",
         "name": "22_building_hospital_access",
         "text": [
          "",
          "",
          "",
          "",
          "",
          "",
          "",
          "",
          "",
          "",
          "",
          ""
         ],
         "textfont": {
          "size": 12
         },
         "type": "scattergl",
         "x": [
          13.234353,
          13.308302,
          13.081157,
          12.92292,
          13.308224,
          13.272854,
          10.076718,
          13.243296,
          12.819093,
          13.174813,
          13.30614,
          13.30092
         ],
         "y": [
          7.0747795,
          6.8967834,
          6.203031,
          7.381404,
          6.9225574,
          6.555702,
          8.9837265,
          6.7010326,
          6.4299636,
          6.310835,
          6.8544674,
          6.4820914
         ]
        },
        {
         "hoverinfo": "text",
         "hovertext": [
          "furthermore, would you really like a caretaker / assistant to not assist but rather influence your life to the point you feel lost and helpless when you are without them? wouldn’t it be much better if you would let an assistant help you with your daily tasks while being as self sufficient as possible? having real friends of your own? if you feel blue and don’t know what to do with yourself, wouldn’t you want to talk to a professional about it and work on it with them? we are not psychologists or social workers and not only may we not provide such help because we aren’t trained in it, it is highly unadvised to do all this, we simply lack the expertise.",
          "able to forgo the / day notice of breaking your tenancy at the group home (or however many days your state mandates/whatever your lease or contract with the group home mandates). go online to look up the number for reporting vulnerable adult abuse by a dhs provider, and call asap to get the ball rolling on a proper report of the abuses and mistreatment you are suffering from. especially the suddenly watching you bathing thing, which sounds really sexual assault/harassment-y to me! if it was not on your cares sheet that you saw and signed at the beginning of your stay in the home that you needed to be supervised for your safety in the bathroom/tub, there is zero excuse why a staff member should be watching you bathe! make sure you voice your discomfort with this situation especially with both the dhs reporting line and your social worker! (i have to be supervised in the shower due to my epilepsy having nearly killed me in the shower more than once, but even that doesn’t mean someone",
          "they just put a gun out on you or make physical threats to you \n\nfrom my experience \n\ni left the same day \n\nremember my uncle making a threat \n\nthat \"my shit better be in the garage by saturday\" it was a thursday that week in \n\nhad to leave unfortunately \n\nwhich i did plus living with people that doesn't want you there \n\nis very mentally draining \n\ni was scared to leave my room\n\nbecause i got threats violent threats \n\nbecause i couldn't keep a job \n\njust disability takes years for people \n\nespecially non invisible disabilities \n\nso it took years \n\ni was seeing my mental health workers \n\nwhich i was in georgia so i didn't have insurance \n\nso they kept supplying me with the same medicine that didn't work \n\nand i couldn't afford to get the new medicine my doctor prescribed \n\ni understand you have to do what's best for you \n\ni know i was trying \n\nlike i felt like i was a burden and unaliving myself at. that time \n\nbecause i didn't want to be a burden \n\ni hate being a burden on people",
          "i think even in the craziest area it would be hard to put me there against my will because to do this they would need to prove my home is a danger (it's not) or i need / nursing (don't even qualify for a cleaning service to come in once a week which is one of the reasons my mom and i moved in together, which is great because she struggles with chores due to depression, together it's only half the load for each with me taking a little less of the physical load and the full mental load which works okay for us) and me being incapable to make sound decisions for myself. and they can't prove the latter with a person who's fully there, highly intelligent, can hold conversations, informs themselves and understands the information, has a history of making the right decisions and has a team of medical professionals who can testify both the nessecary cognitive abilities and medical compliance. there's simply not a single point to attack my ability to make decisions for myself. thanks to my",
          "it has been working pretty well so far, though inevitably when a friendship adds in a caretaking and business aspect to it, there are always going to be some growing pains. lol. obviously you probably don’t just randomly have a friend who happens to provide the exact type of care that you need at the exact moment that you need in, which i really wish you did so that you could get out of there right away! but, i tell you all of this to tell you that it sounds like medical adult foster care sounds like it is exactly where you should have been placed instead of the hellscape you are currently in. so please call your social worker immediately to report the abuses you have been subjected to and demand to be moved immediately, and that you will only accept a foster care/family setting. because of the fact that you are being abused, you should be able to forgo the / day notice of breaking your tenancy at the group home (or however many days your state mandates/whatever your lease or contract",
          "(i have to be supervised in the shower due to my epilepsy having nearly killed me in the shower more than once, but even that doesn’t mean someone stares at me while i shower!!! wtf?! my friend just sits on my wheelchair reading articles about gaming and stuff like that while i shower with the shower curtain fully closed. he’s there close enough to hear if i start having a seizure and act quickly enough to hopefully prevent me from hurting myself, or if i need help with something i can call out to him and ask him to grab a thing and give it to me, or something like that. i never would’ve signed my care contract if it had said that i needed to be watched with eyeballs the whole time i bathed! no way!) you may have some mental health struggles, but you sound more than competent to make decisions as to how you wish to have your cares completed and as to where you’d desire to be placed while you get better. (because, let’s face it, no one gets better while being abused and underfed!",
          "you need to reach out to your social worker and demand to be moved! i am currently living in medical foster care as a charge of the state (i have a significant tbi that left me with a significant cognitive impairment and anger control issues, i’m also a paraplegic, i have refractory [uncontrolled despite being on  meds at once] epilepsy which is how i became paralyzed and got my tbi in the first place, i have severe agoraphobia and anxiety disorders along with ocd and depression, i’ve also got autism and severe adhd.), and when i finally decided to relieve my family of the burden of caring for me by leaving the family home and going into the custody of the state, i made it very clear that i was not going to go into a group home setting or a “facility” of any kind. i told her that i would only accept a medical foster care situation (because the point of the foster care setting is that it is a home based setting. you literally move into a regular family home, where a family or an",
          "i assume your case worker is through community mental health? they should have someone filling in while she is off. also, report rights violations to their recipients right attorney. group homes can be a great option, but this one sounds terrible.",
          "and as to where you’d desire to be placed while you get better. (because, let’s face it, no one gets better while being abused and underfed! honestly, your lunchtime looks worse than the slop we got in the school cafeteria!!! yuck!) there is absolutely zero reason, based on how you’ve presented yourself and your living situation here, as to why you should be left to continue suffering in that madness! i wish you all the best, and i really hope that you are able to get out of there quickly! hopefully i was able to help, at least a little…. if you have any questions about how to present your arguments to your social worker, or if your social worker doesn’t listen to you, feel free to reach out to me, and i’ll do what i can to help! i can also ask my friend who is my foster guardian what steps you could take and who else to contact if you’d like me to! good luck, friend!",
          "(because the point of the foster care setting is that it is a home based setting. you literally move into a regular family home, where a family or an individual who has gone through all of the necessary medical and foster care training and continuing education is supposed to treat you like part of the family, albeit one with whatever special needs that the social workers have asked them to manage, assist with, or simply observe.), and that i even had already picked out the foster home and foster guardian i wanted to move in with. i was lucky enough timing wise, that one of my close friends who runs a medical/cognitive health foster home had just kicked out his last client a few months before, so he held off on accepting any new clients until my social worker could place me in his foster home all by myself. no other clients with me here! it has been working pretty well so far, though inevitably when a friendship adds in a caretaking and business aspect to it, there are always going to",
          "cognitive abilities and medical compliance. there's simply not a single point to attack my ability to make decisions for myself. thanks to my father's and brother's claims i'm insane and hallucinating the abuse (they switch between this and i'm an evil master manipulator making it up and convincing around a dozen doctors and psychologists most of which specialise in mental health) i have made sure to be as untouchable as possible including not even enjoying a joint and keeping a law insurance no matter what else i can't afford. so good luck with any attempt. but karen is just a shit stirrer that tried to hurt me. guess who just planned making the balcony \"her\" stray cats love (she's insanely jealous about them and wants us to make it impossible for them to get onto our balcony) a little more cat friendly and considers to take the friendship the cats offered besides her allergy? if you guessed my mom and me for the first and just me for the second you hit bullseye and won a cookie."
         ],
         "marker": {
          "opacity": 0.5,
          "size": 5
         },
         "mode": "markers+text",
         "name": "23_home_shower_worker",
         "text": [
          "",
          "",
          "",
          "",
          "",
          "",
          "",
          "",
          "",
          "",
          ""
         ],
         "textfont": {
          "size": 12
         },
         "type": "scattergl",
         "x": [
          13.120897,
          13.265961,
          13.119844,
          13.219738,
          13.257724,
          13.3701515,
          13.244398,
          13.250746,
          13.242971,
          13.285825,
          12.870148
         ],
         "y": [
          5.1556654,
          5.072629,
          5.0965137,
          5.107656,
          5.064287,
          5.1881638,
          5.057187,
          5.031051,
          5.0900507,
          5.104154,
          5.581146
         ]
        }
       ],
       "layout": {
        "annotations": [
         {
          "showarrow": false,
          "text": "D1",
          "x": 5.620671367645263,
          "y": 7.608040964603425,
          "yshift": 10
         },
         {
          "showarrow": false,
          "text": "D2",
          "x": 11.031590461730957,
          "xshift": 10,
          "y": 11.46398572921753
         }
        ],
        "height": 750,
        "shapes": [
         {
          "line": {
           "color": "#CFD8DC",
           "width": 2
          },
          "type": "line",
          "x0": 11.031590461730957,
          "x1": 11.031590461730957,
          "y0": 3.7520961999893188,
          "y1": 11.46398572921753
         },
         {
          "line": {
           "color": "#9E9E9E",
           "width": 2
          },
          "type": "line",
          "x0": 5.620671367645263,
          "x1": 16.44250955581665,
          "y0": 7.608040964603425,
          "y1": 7.608040964603425
         }
        ],
        "template": {
         "data": {
          "bar": [
           {
            "error_x": {
             "color": "rgb(36,36,36)"
            },
            "error_y": {
             "color": "rgb(36,36,36)"
            },
            "marker": {
             "line": {
              "color": "white",
              "width": 0.5
             },
             "pattern": {
              "fillmode": "overlay",
              "size": 10,
              "solidity": 0.2
             }
            },
            "type": "bar"
           }
          ],
          "barpolar": [
           {
            "marker": {
             "line": {
              "color": "white",
              "width": 0.5
             },
             "pattern": {
              "fillmode": "overlay",
              "size": 10,
              "solidity": 0.2
             }
            },
            "type": "barpolar"
           }
          ],
          "carpet": [
           {
            "aaxis": {
             "endlinecolor": "rgb(36,36,36)",
             "gridcolor": "white",
             "linecolor": "white",
             "minorgridcolor": "white",
             "startlinecolor": "rgb(36,36,36)"
            },
            "baxis": {
             "endlinecolor": "rgb(36,36,36)",
             "gridcolor": "white",
             "linecolor": "white",
             "minorgridcolor": "white",
             "startlinecolor": "rgb(36,36,36)"
            },
            "type": "carpet"
           }
          ],
          "choropleth": [
           {
            "colorbar": {
             "outlinewidth": 1,
             "tickcolor": "rgb(36,36,36)",
             "ticks": "outside"
            },
            "type": "choropleth"
           }
          ],
          "contour": [
           {
            "colorbar": {
             "outlinewidth": 1,
             "tickcolor": "rgb(36,36,36)",
             "ticks": "outside"
            },
            "colorscale": [
             [
              0,
              "#440154"
             ],
             [
              0.1111111111111111,
              "#482878"
             ],
             [
              0.2222222222222222,
              "#3e4989"
             ],
             [
              0.3333333333333333,
              "#31688e"
             ],
             [
              0.4444444444444444,
              "#26828e"
             ],
             [
              0.5555555555555556,
              "#1f9e89"
             ],
             [
              0.6666666666666666,
              "#35b779"
             ],
             [
              0.7777777777777778,
              "#6ece58"
             ],
             [
              0.8888888888888888,
              "#b5de2b"
             ],
             [
              1,
              "#fde725"
             ]
            ],
            "type": "contour"
           }
          ],
          "contourcarpet": [
           {
            "colorbar": {
             "outlinewidth": 1,
             "tickcolor": "rgb(36,36,36)",
             "ticks": "outside"
            },
            "type": "contourcarpet"
           }
          ],
          "heatmap": [
           {
            "colorbar": {
             "outlinewidth": 1,
             "tickcolor": "rgb(36,36,36)",
             "ticks": "outside"
            },
            "colorscale": [
             [
              0,
              "#440154"
             ],
             [
              0.1111111111111111,
              "#482878"
             ],
             [
              0.2222222222222222,
              "#3e4989"
             ],
             [
              0.3333333333333333,
              "#31688e"
             ],
             [
              0.4444444444444444,
              "#26828e"
             ],
             [
              0.5555555555555556,
              "#1f9e89"
             ],
             [
              0.6666666666666666,
              "#35b779"
             ],
             [
              0.7777777777777778,
              "#6ece58"
             ],
             [
              0.8888888888888888,
              "#b5de2b"
             ],
             [
              1,
              "#fde725"
             ]
            ],
            "type": "heatmap"
           }
          ],
          "heatmapgl": [
           {
            "colorbar": {
             "outlinewidth": 1,
             "tickcolor": "rgb(36,36,36)",
             "ticks": "outside"
            },
            "colorscale": [
             [
              0,
              "#440154"
             ],
             [
              0.1111111111111111,
              "#482878"
             ],
             [
              0.2222222222222222,
              "#3e4989"
             ],
             [
              0.3333333333333333,
              "#31688e"
             ],
             [
              0.4444444444444444,
              "#26828e"
             ],
             [
              0.5555555555555556,
              "#1f9e89"
             ],
             [
              0.6666666666666666,
              "#35b779"
             ],
             [
              0.7777777777777778,
              "#6ece58"
             ],
             [
              0.8888888888888888,
              "#b5de2b"
             ],
             [
              1,
              "#fde725"
             ]
            ],
            "type": "heatmapgl"
           }
          ],
          "histogram": [
           {
            "marker": {
             "line": {
              "color": "white",
              "width": 0.6
             }
            },
            "type": "histogram"
           }
          ],
          "histogram2d": [
           {
            "colorbar": {
             "outlinewidth": 1,
             "tickcolor": "rgb(36,36,36)",
             "ticks": "outside"
            },
            "colorscale": [
             [
              0,
              "#440154"
             ],
             [
              0.1111111111111111,
              "#482878"
             ],
             [
              0.2222222222222222,
              "#3e4989"
             ],
             [
              0.3333333333333333,
              "#31688e"
             ],
             [
              0.4444444444444444,
              "#26828e"
             ],
             [
              0.5555555555555556,
              "#1f9e89"
             ],
             [
              0.6666666666666666,
              "#35b779"
             ],
             [
              0.7777777777777778,
              "#6ece58"
             ],
             [
              0.8888888888888888,
              "#b5de2b"
             ],
             [
              1,
              "#fde725"
             ]
            ],
            "type": "histogram2d"
           }
          ],
          "histogram2dcontour": [
           {
            "colorbar": {
             "outlinewidth": 1,
             "tickcolor": "rgb(36,36,36)",
             "ticks": "outside"
            },
            "colorscale": [
             [
              0,
              "#440154"
             ],
             [
              0.1111111111111111,
              "#482878"
             ],
             [
              0.2222222222222222,
              "#3e4989"
             ],
             [
              0.3333333333333333,
              "#31688e"
             ],
             [
              0.4444444444444444,
              "#26828e"
             ],
             [
              0.5555555555555556,
              "#1f9e89"
             ],
             [
              0.6666666666666666,
              "#35b779"
             ],
             [
              0.7777777777777778,
              "#6ece58"
             ],
             [
              0.8888888888888888,
              "#b5de2b"
             ],
             [
              1,
              "#fde725"
             ]
            ],
            "type": "histogram2dcontour"
           }
          ],
          "mesh3d": [
           {
            "colorbar": {
             "outlinewidth": 1,
             "tickcolor": "rgb(36,36,36)",
             "ticks": "outside"
            },
            "type": "mesh3d"
           }
          ],
          "parcoords": [
           {
            "line": {
             "colorbar": {
              "outlinewidth": 1,
              "tickcolor": "rgb(36,36,36)",
              "ticks": "outside"
             }
            },
            "type": "parcoords"
           }
          ],
          "pie": [
           {
            "automargin": true,
            "type": "pie"
           }
          ],
          "scatter": [
           {
            "fillpattern": {
             "fillmode": "overlay",
             "size": 10,
             "solidity": 0.2
            },
            "type": "scatter"
           }
          ],
          "scatter3d": [
           {
            "line": {
             "colorbar": {
              "outlinewidth": 1,
              "tickcolor": "rgb(36,36,36)",
              "ticks": "outside"
             }
            },
            "marker": {
             "colorbar": {
              "outlinewidth": 1,
              "tickcolor": "rgb(36,36,36)",
              "ticks": "outside"
             }
            },
            "type": "scatter3d"
           }
          ],
          "scattercarpet": [
           {
            "marker": {
             "colorbar": {
              "outlinewidth": 1,
              "tickcolor": "rgb(36,36,36)",
              "ticks": "outside"
             }
            },
            "type": "scattercarpet"
           }
          ],
          "scattergeo": [
           {
            "marker": {
             "colorbar": {
              "outlinewidth": 1,
              "tickcolor": "rgb(36,36,36)",
              "ticks": "outside"
             }
            },
            "type": "scattergeo"
           }
          ],
          "scattergl": [
           {
            "marker": {
             "colorbar": {
              "outlinewidth": 1,
              "tickcolor": "rgb(36,36,36)",
              "ticks": "outside"
             }
            },
            "type": "scattergl"
           }
          ],
          "scattermapbox": [
           {
            "marker": {
             "colorbar": {
              "outlinewidth": 1,
              "tickcolor": "rgb(36,36,36)",
              "ticks": "outside"
             }
            },
            "type": "scattermapbox"
           }
          ],
          "scatterpolar": [
           {
            "marker": {
             "colorbar": {
              "outlinewidth": 1,
              "tickcolor": "rgb(36,36,36)",
              "ticks": "outside"
             }
            },
            "type": "scatterpolar"
           }
          ],
          "scatterpolargl": [
           {
            "marker": {
             "colorbar": {
              "outlinewidth": 1,
              "tickcolor": "rgb(36,36,36)",
              "ticks": "outside"
             }
            },
            "type": "scatterpolargl"
           }
          ],
          "scatterternary": [
           {
            "marker": {
             "colorbar": {
              "outlinewidth": 1,
              "tickcolor": "rgb(36,36,36)",
              "ticks": "outside"
             }
            },
            "type": "scatterternary"
           }
          ],
          "surface": [
           {
            "colorbar": {
             "outlinewidth": 1,
             "tickcolor": "rgb(36,36,36)",
             "ticks": "outside"
            },
            "colorscale": [
             [
              0,
              "#440154"
             ],
             [
              0.1111111111111111,
              "#482878"
             ],
             [
              0.2222222222222222,
              "#3e4989"
             ],
             [
              0.3333333333333333,
              "#31688e"
             ],
             [
              0.4444444444444444,
              "#26828e"
             ],
             [
              0.5555555555555556,
              "#1f9e89"
             ],
             [
              0.6666666666666666,
              "#35b779"
             ],
             [
              0.7777777777777778,
              "#6ece58"
             ],
             [
              0.8888888888888888,
              "#b5de2b"
             ],
             [
              1,
              "#fde725"
             ]
            ],
            "type": "surface"
           }
          ],
          "table": [
           {
            "cells": {
             "fill": {
              "color": "rgb(237,237,237)"
             },
             "line": {
              "color": "white"
             }
            },
            "header": {
             "fill": {
              "color": "rgb(217,217,217)"
             },
             "line": {
              "color": "white"
             }
            },
            "type": "table"
           }
          ]
         },
         "layout": {
          "annotationdefaults": {
           "arrowhead": 0,
           "arrowwidth": 1
          },
          "autotypenumbers": "strict",
          "coloraxis": {
           "colorbar": {
            "outlinewidth": 1,
            "tickcolor": "rgb(36,36,36)",
            "ticks": "outside"
           }
          },
          "colorscale": {
           "diverging": [
            [
             0,
             "rgb(103,0,31)"
            ],
            [
             0.1,
             "rgb(178,24,43)"
            ],
            [
             0.2,
             "rgb(214,96,77)"
            ],
            [
             0.3,
             "rgb(244,165,130)"
            ],
            [
             0.4,
             "rgb(253,219,199)"
            ],
            [
             0.5,
             "rgb(247,247,247)"
            ],
            [
             0.6,
             "rgb(209,229,240)"
            ],
            [
             0.7,
             "rgb(146,197,222)"
            ],
            [
             0.8,
             "rgb(67,147,195)"
            ],
            [
             0.9,
             "rgb(33,102,172)"
            ],
            [
             1,
             "rgb(5,48,97)"
            ]
           ],
           "sequential": [
            [
             0,
             "#440154"
            ],
            [
             0.1111111111111111,
             "#482878"
            ],
            [
             0.2222222222222222,
             "#3e4989"
            ],
            [
             0.3333333333333333,
             "#31688e"
            ],
            [
             0.4444444444444444,
             "#26828e"
            ],
            [
             0.5555555555555556,
             "#1f9e89"
            ],
            [
             0.6666666666666666,
             "#35b779"
            ],
            [
             0.7777777777777778,
             "#6ece58"
            ],
            [
             0.8888888888888888,
             "#b5de2b"
            ],
            [
             1,
             "#fde725"
            ]
           ],
           "sequentialminus": [
            [
             0,
             "#440154"
            ],
            [
             0.1111111111111111,
             "#482878"
            ],
            [
             0.2222222222222222,
             "#3e4989"
            ],
            [
             0.3333333333333333,
             "#31688e"
            ],
            [
             0.4444444444444444,
             "#26828e"
            ],
            [
             0.5555555555555556,
             "#1f9e89"
            ],
            [
             0.6666666666666666,
             "#35b779"
            ],
            [
             0.7777777777777778,
             "#6ece58"
            ],
            [
             0.8888888888888888,
             "#b5de2b"
            ],
            [
             1,
             "#fde725"
            ]
           ]
          },
          "colorway": [
           "#1F77B4",
           "#FF7F0E",
           "#2CA02C",
           "#D62728",
           "#9467BD",
           "#8C564B",
           "#E377C2",
           "#7F7F7F",
           "#BCBD22",
           "#17BECF"
          ],
          "font": {
           "color": "rgb(36,36,36)"
          },
          "geo": {
           "bgcolor": "white",
           "lakecolor": "white",
           "landcolor": "white",
           "showlakes": true,
           "showland": true,
           "subunitcolor": "white"
          },
          "hoverlabel": {
           "align": "left"
          },
          "hovermode": "closest",
          "mapbox": {
           "style": "light"
          },
          "paper_bgcolor": "white",
          "plot_bgcolor": "white",
          "polar": {
           "angularaxis": {
            "gridcolor": "rgb(232,232,232)",
            "linecolor": "rgb(36,36,36)",
            "showgrid": false,
            "showline": true,
            "ticks": "outside"
           },
           "bgcolor": "white",
           "radialaxis": {
            "gridcolor": "rgb(232,232,232)",
            "linecolor": "rgb(36,36,36)",
            "showgrid": false,
            "showline": true,
            "ticks": "outside"
           }
          },
          "scene": {
           "xaxis": {
            "backgroundcolor": "white",
            "gridcolor": "rgb(232,232,232)",
            "gridwidth": 2,
            "linecolor": "rgb(36,36,36)",
            "showbackground": true,
            "showgrid": false,
            "showline": true,
            "ticks": "outside",
            "zeroline": false,
            "zerolinecolor": "rgb(36,36,36)"
           },
           "yaxis": {
            "backgroundcolor": "white",
            "gridcolor": "rgb(232,232,232)",
            "gridwidth": 2,
            "linecolor": "rgb(36,36,36)",
            "showbackground": true,
            "showgrid": false,
            "showline": true,
            "ticks": "outside",
            "zeroline": false,
            "zerolinecolor": "rgb(36,36,36)"
           },
           "zaxis": {
            "backgroundcolor": "white",
            "gridcolor": "rgb(232,232,232)",
            "gridwidth": 2,
            "linecolor": "rgb(36,36,36)",
            "showbackground": true,
            "showgrid": false,
            "showline": true,
            "ticks": "outside",
            "zeroline": false,
            "zerolinecolor": "rgb(36,36,36)"
           }
          },
          "shapedefaults": {
           "fillcolor": "black",
           "line": {
            "width": 0
           },
           "opacity": 0.3
          },
          "ternary": {
           "aaxis": {
            "gridcolor": "rgb(232,232,232)",
            "linecolor": "rgb(36,36,36)",
            "showgrid": false,
            "showline": true,
            "ticks": "outside"
           },
           "baxis": {
            "gridcolor": "rgb(232,232,232)",
            "linecolor": "rgb(36,36,36)",
            "showgrid": false,
            "showline": true,
            "ticks": "outside"
           },
           "bgcolor": "white",
           "caxis": {
            "gridcolor": "rgb(232,232,232)",
            "linecolor": "rgb(36,36,36)",
            "showgrid": false,
            "showline": true,
            "ticks": "outside"
           }
          },
          "title": {
           "x": 0.05
          },
          "xaxis": {
           "automargin": true,
           "gridcolor": "rgb(232,232,232)",
           "linecolor": "rgb(36,36,36)",
           "showgrid": false,
           "showline": true,
           "ticks": "outside",
           "title": {
            "standoff": 15
           },
           "zeroline": false,
           "zerolinecolor": "rgb(36,36,36)"
          },
          "yaxis": {
           "automargin": true,
           "gridcolor": "rgb(232,232,232)",
           "linecolor": "rgb(36,36,36)",
           "showgrid": false,
           "showline": true,
           "ticks": "outside",
           "title": {
            "standoff": 15
           },
           "zeroline": false,
           "zerolinecolor": "rgb(36,36,36)"
          }
         }
        },
        "title": {
         "font": {
          "color": "Black",
          "size": 22
         },
         "text": "<b>Documents and Topics</b>",
         "x": 0.5,
         "xanchor": "center",
         "yanchor": "top"
        },
        "width": 1200,
        "xaxis": {
         "visible": false
        },
        "yaxis": {
         "visible": false
        }
       }
      }
     },
     "metadata": {},
     "output_type": "display_data"
    }
   ],
   "source": [
    "topic_model.visualize_documents(split_texts, reduced_embeddings=reduced_embeddings, hide_annotations=True, hide_document_hover=False, custom_labels=True)"
   ]
  },
  {
   "cell_type": "code",
   "execution_count": 96,
   "metadata": {},
   "outputs": [
    {
     "data": {
      "text/html": [
       "<div>\n",
       "<style scoped>\n",
       "    .dataframe tbody tr th:only-of-type {\n",
       "        vertical-align: middle;\n",
       "    }\n",
       "\n",
       "    .dataframe tbody tr th {\n",
       "        vertical-align: top;\n",
       "    }\n",
       "\n",
       "    .dataframe thead th {\n",
       "        text-align: right;\n",
       "    }\n",
       "</style>\n",
       "<table border=\"1\" class=\"dataframe\">\n",
       "  <thead>\n",
       "    <tr style=\"text-align: right;\">\n",
       "      <th></th>\n",
       "      <th>Document</th>\n",
       "      <th>Topic</th>\n",
       "      <th>Name</th>\n",
       "      <th>Representation</th>\n",
       "      <th>KeyBERT</th>\n",
       "      <th>OpenAI</th>\n",
       "      <th>MMR</th>\n",
       "      <th>Representative_Docs</th>\n",
       "      <th>Top_n_words</th>\n",
       "      <th>Probability</th>\n",
       "      <th>Representative_document</th>\n",
       "    </tr>\n",
       "  </thead>\n",
       "  <tbody>\n",
       "    <tr>\n",
       "      <th>0</th>\n",
       "      <td>this is absolutely unacceptable.  i am an inte...</td>\n",
       "      <td>0</td>\n",
       "      <td>0_deaf_hearing_asl_language</td>\n",
       "      <td>[deaf, hearing, asl, language, community, heal...</td>\n",
       "      <td>[deaf, hearing world, hearing people, hearing,...</td>\n",
       "      <td>[Deaf Mental Health Services Oppression]</td>\n",
       "      <td>[deaf, hearing, asl, language, community, heal...</td>\n",
       "      <td>[yes deaf community need more mental health th...</td>\n",
       "      <td>deaf - hearing - asl - language - community - ...</td>\n",
       "      <td>0.908218</td>\n",
       "      <td>False</td>\n",
       "    </tr>\n",
       "    <tr>\n",
       "      <th>1</th>\n",
       "      <td>my wife is a deaf therapist, and we live in a ...</td>\n",
       "      <td>0</td>\n",
       "      <td>0_deaf_hearing_asl_language</td>\n",
       "      <td>[deaf, hearing, asl, language, community, heal...</td>\n",
       "      <td>[deaf, hearing world, hearing people, hearing,...</td>\n",
       "      <td>[Deaf Mental Health Services Oppression]</td>\n",
       "      <td>[deaf, hearing, asl, language, community, heal...</td>\n",
       "      <td>[yes deaf community need more mental health th...</td>\n",
       "      <td>deaf - hearing - asl - language - community - ...</td>\n",
       "      <td>0.838924</td>\n",
       "      <td>True</td>\n",
       "    </tr>\n",
       "    <tr>\n",
       "      <th>2</th>\n",
       "      <td>the dmv? i would not have guessed that would b...</td>\n",
       "      <td>0</td>\n",
       "      <td>0_deaf_hearing_asl_language</td>\n",
       "      <td>[deaf, hearing, asl, language, community, heal...</td>\n",
       "      <td>[deaf, hearing world, hearing people, hearing,...</td>\n",
       "      <td>[Deaf Mental Health Services Oppression]</td>\n",
       "      <td>[deaf, hearing, asl, language, community, heal...</td>\n",
       "      <td>[yes deaf community need more mental health th...</td>\n",
       "      <td>deaf - hearing - asl - language - community - ...</td>\n",
       "      <td>0.752872</td>\n",
       "      <td>False</td>\n",
       "    </tr>\n",
       "    <tr>\n",
       "      <th>3</th>\n",
       "      <td>i'm so sorry you received so much negative ene...</td>\n",
       "      <td>-1</td>\n",
       "      <td>-1_health_just_like_mental</td>\n",
       "      <td>[health, just, like, mental, mental health, pe...</td>\n",
       "      <td>[disability, disabilities, disabled, mental he...</td>\n",
       "      <td>[Challenges of Living with Disabilities]</td>\n",
       "      <td>[health, just, like, mental, mental health, pe...</td>\n",
       "      <td>[yeah your reasons for being on disability is ...</td>\n",
       "      <td>health - just - like - mental - mental health ...</td>\n",
       "      <td>0.000000</td>\n",
       "      <td>False</td>\n",
       "    </tr>\n",
       "    <tr>\n",
       "      <th>4</th>\n",
       "      <td>cart is basically someone typing out every sin...</td>\n",
       "      <td>-1</td>\n",
       "      <td>-1_health_just_like_mental</td>\n",
       "      <td>[health, just, like, mental, mental health, pe...</td>\n",
       "      <td>[disability, disabilities, disabled, mental he...</td>\n",
       "      <td>[Challenges of Living with Disabilities]</td>\n",
       "      <td>[health, just, like, mental, mental health, pe...</td>\n",
       "      <td>[yeah your reasons for being on disability is ...</td>\n",
       "      <td>health - just - like - mental - mental health ...</td>\n",
       "      <td>0.000000</td>\n",
       "      <td>False</td>\n",
       "    </tr>\n",
       "    <tr>\n",
       "      <th>...</th>\n",
       "      <td>...</td>\n",
       "      <td>...</td>\n",
       "      <td>...</td>\n",
       "      <td>...</td>\n",
       "      <td>...</td>\n",
       "      <td>...</td>\n",
       "      <td>...</td>\n",
       "      <td>...</td>\n",
       "      <td>...</td>\n",
       "      <td>...</td>\n",
       "      <td>...</td>\n",
       "    </tr>\n",
       "    <tr>\n",
       "      <th>794</th>\n",
       "      <td>feel free to reach out if you ever want a budd...</td>\n",
       "      <td>3</td>\n",
       "      <td>3_exercise_blind_gym_workout</td>\n",
       "      <td>[exercise, blind, gym, workout, accessible, bi...</td>\n",
       "      <td>[visually impaired, accessible, sighted, blind...</td>\n",
       "      <td>[Blind Friendly Exercise Activities]</td>\n",
       "      <td>[exercise, blind, gym, workout, accessible, bi...</td>\n",
       "      <td>[in the pool, i often do water jogging with on...</td>\n",
       "      <td>exercise - blind - gym - workout - accessible ...</td>\n",
       "      <td>0.500517</td>\n",
       "      <td>False</td>\n",
       "    </tr>\n",
       "    <tr>\n",
       "      <th>795</th>\n",
       "      <td>most adaptive sports organizations began with ...</td>\n",
       "      <td>3</td>\n",
       "      <td>3_exercise_blind_gym_workout</td>\n",
       "      <td>[exercise, blind, gym, workout, accessible, bi...</td>\n",
       "      <td>[visually impaired, accessible, sighted, blind...</td>\n",
       "      <td>[Blind Friendly Exercise Activities]</td>\n",
       "      <td>[exercise, blind, gym, workout, accessible, bi...</td>\n",
       "      <td>[in the pool, i often do water jogging with on...</td>\n",
       "      <td>exercise - blind - gym - workout - accessible ...</td>\n",
       "      <td>1.000000</td>\n",
       "      <td>False</td>\n",
       "    </tr>\n",
       "    <tr>\n",
       "      <th>796</th>\n",
       "      <td>i feel this. i can’t stand for basically any p...</td>\n",
       "      <td>16</td>\n",
       "      <td>16_people_just_hate_payments</td>\n",
       "      <td>[people, just, hate, payments, disability, liv...</td>\n",
       "      <td>[disability effects people, disabilities effec...</td>\n",
       "      <td>[Challenges of Living with Disabilities]</td>\n",
       "      <td>[people, just, hate, payments, disability, liv...</td>\n",
       "      <td>[i'm quite the opposite i can't stay with peop...</td>\n",
       "      <td>people - just - hate - payments - disability -...</td>\n",
       "      <td>1.000000</td>\n",
       "      <td>False</td>\n",
       "    </tr>\n",
       "    <tr>\n",
       "      <th>797</th>\n",
       "      <td>before my disability got really bad, i used to...</td>\n",
       "      <td>9</td>\n",
       "      <td>9_people_like_just_disability</td>\n",
       "      <td>[people, like, just, disability, understand, p...</td>\n",
       "      <td>[invisible disabilities, disability, people di...</td>\n",
       "      <td>[Struggles of Living with Disabilities]</td>\n",
       "      <td>[people, like, just, disability, understand, p...</td>\n",
       "      <td>[if only that knew they wouldn't be saying tha...</td>\n",
       "      <td>people - like - just - disability - understand...</td>\n",
       "      <td>1.000000</td>\n",
       "      <td>False</td>\n",
       "    </tr>\n",
       "    <tr>\n",
       "      <th>798</th>\n",
       "      <td>my hm chair has been an actual life changer. i...</td>\n",
       "      <td>12</td>\n",
       "      <td>12_pt_eds_pain_disorder</td>\n",
       "      <td>[pt, eds, pain, disorder, muscle, like, stuff,...</td>\n",
       "      <td>[hypotonia, squat, diagnosed, posture, spectru...</td>\n",
       "      <td>[Hypotonia and Hypermobile EDS]</td>\n",
       "      <td>[pt, eds, pain, disorder, muscle, like, stuff,...</td>\n",
       "      <td>[i'm willing to try pt again at some point (ho...</td>\n",
       "      <td>pt - eds - pain - disorder - muscle - like - s...</td>\n",
       "      <td>1.000000</td>\n",
       "      <td>False</td>\n",
       "    </tr>\n",
       "  </tbody>\n",
       "</table>\n",
       "<p>799 rows × 11 columns</p>\n",
       "</div>"
      ],
      "text/plain": [
       "                                              Document  Topic  \\\n",
       "0    this is absolutely unacceptable.  i am an inte...      0   \n",
       "1    my wife is a deaf therapist, and we live in a ...      0   \n",
       "2    the dmv? i would not have guessed that would b...      0   \n",
       "3    i'm so sorry you received so much negative ene...     -1   \n",
       "4    cart is basically someone typing out every sin...     -1   \n",
       "..                                                 ...    ...   \n",
       "794  feel free to reach out if you ever want a budd...      3   \n",
       "795  most adaptive sports organizations began with ...      3   \n",
       "796  i feel this. i can’t stand for basically any p...     16   \n",
       "797  before my disability got really bad, i used to...      9   \n",
       "798  my hm chair has been an actual life changer. i...     12   \n",
       "\n",
       "                              Name  \\\n",
       "0      0_deaf_hearing_asl_language   \n",
       "1      0_deaf_hearing_asl_language   \n",
       "2      0_deaf_hearing_asl_language   \n",
       "3       -1_health_just_like_mental   \n",
       "4       -1_health_just_like_mental   \n",
       "..                             ...   \n",
       "794   3_exercise_blind_gym_workout   \n",
       "795   3_exercise_blind_gym_workout   \n",
       "796   16_people_just_hate_payments   \n",
       "797  9_people_like_just_disability   \n",
       "798        12_pt_eds_pain_disorder   \n",
       "\n",
       "                                        Representation  \\\n",
       "0    [deaf, hearing, asl, language, community, heal...   \n",
       "1    [deaf, hearing, asl, language, community, heal...   \n",
       "2    [deaf, hearing, asl, language, community, heal...   \n",
       "3    [health, just, like, mental, mental health, pe...   \n",
       "4    [health, just, like, mental, mental health, pe...   \n",
       "..                                                 ...   \n",
       "794  [exercise, blind, gym, workout, accessible, bi...   \n",
       "795  [exercise, blind, gym, workout, accessible, bi...   \n",
       "796  [people, just, hate, payments, disability, liv...   \n",
       "797  [people, like, just, disability, understand, p...   \n",
       "798  [pt, eds, pain, disorder, muscle, like, stuff,...   \n",
       "\n",
       "                                               KeyBERT  \\\n",
       "0    [deaf, hearing world, hearing people, hearing,...   \n",
       "1    [deaf, hearing world, hearing people, hearing,...   \n",
       "2    [deaf, hearing world, hearing people, hearing,...   \n",
       "3    [disability, disabilities, disabled, mental he...   \n",
       "4    [disability, disabilities, disabled, mental he...   \n",
       "..                                                 ...   \n",
       "794  [visually impaired, accessible, sighted, blind...   \n",
       "795  [visually impaired, accessible, sighted, blind...   \n",
       "796  [disability effects people, disabilities effec...   \n",
       "797  [invisible disabilities, disability, people di...   \n",
       "798  [hypotonia, squat, diagnosed, posture, spectru...   \n",
       "\n",
       "                                       OpenAI  \\\n",
       "0    [Deaf Mental Health Services Oppression]   \n",
       "1    [Deaf Mental Health Services Oppression]   \n",
       "2    [Deaf Mental Health Services Oppression]   \n",
       "3    [Challenges of Living with Disabilities]   \n",
       "4    [Challenges of Living with Disabilities]   \n",
       "..                                        ...   \n",
       "794      [Blind Friendly Exercise Activities]   \n",
       "795      [Blind Friendly Exercise Activities]   \n",
       "796  [Challenges of Living with Disabilities]   \n",
       "797   [Struggles of Living with Disabilities]   \n",
       "798           [Hypotonia and Hypermobile EDS]   \n",
       "\n",
       "                                                   MMR  \\\n",
       "0    [deaf, hearing, asl, language, community, heal...   \n",
       "1    [deaf, hearing, asl, language, community, heal...   \n",
       "2    [deaf, hearing, asl, language, community, heal...   \n",
       "3    [health, just, like, mental, mental health, pe...   \n",
       "4    [health, just, like, mental, mental health, pe...   \n",
       "..                                                 ...   \n",
       "794  [exercise, blind, gym, workout, accessible, bi...   \n",
       "795  [exercise, blind, gym, workout, accessible, bi...   \n",
       "796  [people, just, hate, payments, disability, liv...   \n",
       "797  [people, like, just, disability, understand, p...   \n",
       "798  [pt, eds, pain, disorder, muscle, like, stuff,...   \n",
       "\n",
       "                                   Representative_Docs  \\\n",
       "0    [yes deaf community need more mental health th...   \n",
       "1    [yes deaf community need more mental health th...   \n",
       "2    [yes deaf community need more mental health th...   \n",
       "3    [yeah your reasons for being on disability is ...   \n",
       "4    [yeah your reasons for being on disability is ...   \n",
       "..                                                 ...   \n",
       "794  [in the pool, i often do water jogging with on...   \n",
       "795  [in the pool, i often do water jogging with on...   \n",
       "796  [i'm quite the opposite i can't stay with peop...   \n",
       "797  [if only that knew they wouldn't be saying tha...   \n",
       "798  [i'm willing to try pt again at some point (ho...   \n",
       "\n",
       "                                           Top_n_words  Probability  \\\n",
       "0    deaf - hearing - asl - language - community - ...     0.908218   \n",
       "1    deaf - hearing - asl - language - community - ...     0.838924   \n",
       "2    deaf - hearing - asl - language - community - ...     0.752872   \n",
       "3    health - just - like - mental - mental health ...     0.000000   \n",
       "4    health - just - like - mental - mental health ...     0.000000   \n",
       "..                                                 ...          ...   \n",
       "794  exercise - blind - gym - workout - accessible ...     0.500517   \n",
       "795  exercise - blind - gym - workout - accessible ...     1.000000   \n",
       "796  people - just - hate - payments - disability -...     1.000000   \n",
       "797  people - like - just - disability - understand...     1.000000   \n",
       "798  pt - eds - pain - disorder - muscle - like - s...     1.000000   \n",
       "\n",
       "     Representative_document  \n",
       "0                      False  \n",
       "1                       True  \n",
       "2                      False  \n",
       "3                      False  \n",
       "4                      False  \n",
       "..                       ...  \n",
       "794                    False  \n",
       "795                    False  \n",
       "796                    False  \n",
       "797                    False  \n",
       "798                    False  \n",
       "\n",
       "[799 rows x 11 columns]"
      ]
     },
     "execution_count": 96,
     "metadata": {},
     "output_type": "execute_result"
    }
   ],
   "source": [
    "df_doc_info = topic_model.get_document_info(split_texts)\n",
    "df_doc_info"
   ]
  },
  {
   "cell_type": "code",
   "execution_count": 98,
   "metadata": {},
   "outputs": [],
   "source": [
    "df_doc_info.to_csv('/Users/eryclisrodrigues/Documents/Eryclis/PhD in Information Science/Courses/IS 597 - HCDS/PROJECT/is-597-hcds/social-media_data/output_sentiment_analysis/topic_modeling_docs_info.csv', index=False)"
   ]
  }
 ],
 "metadata": {
  "kernelspec": {
   "display_name": "base",
   "language": "python",
   "name": "python3"
  },
  "language_info": {
   "codemirror_mode": {
    "name": "ipython",
    "version": 3
   },
   "file_extension": ".py",
   "mimetype": "text/x-python",
   "name": "python",
   "nbconvert_exporter": "python",
   "pygments_lexer": "ipython3",
   "version": "3.11.4"
  }
 },
 "nbformat": 4,
 "nbformat_minor": 2
}
